{
 "cells": [
  {
   "cell_type": "markdown",
   "metadata": {},
   "source": [
    "#### Change model_folder name as where you want to put these embeddings"
   ]
  },
  {
   "cell_type": "code",
   "execution_count": 26,
   "metadata": {},
   "outputs": [],
   "source": [
    "path = os.getcwd()\n",
    "#data_dir = path + '/'\n",
    "data_dir = path +'/umap/' #Uncomment for local system\n",
    "\n",
    "model_folder = 'lstm_unfrozen_model/'\n",
    "model_dir = path + '/' + model_folder"
   ]
  },
  {
   "cell_type": "markdown",
   "metadata": {},
   "source": [
    "### Make embeddings"
   ]
  },
  {
   "cell_type": "code",
   "execution_count": null,
   "metadata": {},
   "outputs": [],
   "source": [
    "# Make embeddings for labelled\n",
    "embed_labelled = []\n",
    "labels_lst = []\n",
    "\n",
    "for i, (tokens, labels, flagged_indices) in enumerate(train_loader_labelled):\n",
    "    model.eval()\n",
    "    tokens = tokens.to(current_device)\n",
    "    labels = labels.to(current_device)\n",
    "    flagged_indices = flagged_indices.to(current_device)\n",
    "\n",
    "    # forward pass and compute loss\n",
    "    sentence_embed = model(tokens,flagged_indices)\n",
    "\n",
    "    embed_labelled+= sentence_embed.tolist()    \n",
    "    labels_lst+=labels.tolist()"
   ]
  },
  {
   "cell_type": "code",
   "execution_count": null,
   "metadata": {},
   "outputs": [],
   "source": [
    "# Make embeddings for labelled\n",
    "embed_unlabelled = []\n",
    "\n",
    "for i, (tokens, labels, flagged_indices) in enumerate(train_loader_unlabelled):\n",
    "    model.eval()\n",
    "    tokens = tokens.to(current_device)\n",
    "    labels = labels.to(current_device)\n",
    "    flagged_indices = flagged_indices.to(current_device)\n",
    "\n",
    "    # forward pass and compute loss\n",
    "    sentence_embed = model(tokens,flagged_indices)\n",
    "\n",
    "    embed_unlabelled+= sentence_embed_labelled.tolist()   "
   ]
  },
  {
   "cell_type": "code",
   "execution_count": null,
   "metadata": {},
   "outputs": [],
   "source": [
    "total_embed = embed_labelled + embed_unlabelled\n",
    "total_labels = labels.tolist() + [2 for i in range(len(embed_unlabelled))]"
   ]
  },
  {
   "cell_type": "code",
   "execution_count": null,
   "metadata": {},
   "outputs": [],
   "source": [
    "# save embed with pickle files\n",
    "pickle_out1 = open(model_dir + \"embed_labelled.pickle\",\"wb\")\n",
    "pickle.dump(embed_labelled, pickle_out1)\n",
    "pickle_out1.close()\n",
    "\n",
    "pickle_out2 = open(model_dir + \"embed_unlabelled.pickle\",\"wb\")\n",
    "pickle.dump(embed_unlabelled, pickle_out2)\n",
    "pickle_out2.close()\n",
    "\n",
    "pickle_out3 = open(model_dir + \"labels.pickle\",\"wb\")\n",
    "pickle.dump(labels_lst, pickle_out3)\n",
    "pickle_out3.close()\n",
    "\n",
    "pickle_out4 = open(data_dir + \"toatl_embed.pickle\",\"wb\")\n",
    "pickle.dump(total_embed, pickle_out4)\n",
    "pickle_out4.close()\n",
    "\n",
    "pickle_out5 = open(data_dir + \"total_labels.pickle\",\"wb\")\n",
    "pickle.dump(total_labels, pickle_out5)\n",
    "pickle_out5.close()"
   ]
  }
 ],
 "metadata": {
  "kernelspec": {
   "display_name": "Python 3",
   "language": "python",
   "name": "python3"
  },
  "language_info": {
   "codemirror_mode": {
    "name": "ipython",
    "version": 3
   },
   "file_extension": ".py",
   "mimetype": "text/x-python",
   "name": "python",
   "nbconvert_exporter": "python",
   "pygments_lexer": "ipython3",
   "version": "3.7.3"
  }
 },
 "nbformat": 4,
 "nbformat_minor": 4
}
