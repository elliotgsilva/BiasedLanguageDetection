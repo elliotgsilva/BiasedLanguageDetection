{
 "cells": [
  {
   "cell_type": "markdown",
   "metadata": {},
   "source": [
    "### Make a dictionary, dataloader"
   ]
  },
  {
   "cell_type": "code",
   "execution_count": 77,
   "metadata": {},
   "outputs": [],
   "source": [
    "import sys\n",
    "from tqdm import tqdm\n",
    "import os\n",
    "import torch\n",
    "import torch.nn as nn\n",
    "from torch.utils.data import DataLoader, random_split, Dataset, RandomSampler, SequentialSampler\n",
    "import pickle\n",
    "import random\n",
    "import numpy as np\n",
    "import pandas as pd\n",
    "from generate_dataloaders import *\n",
    "\n",
    "from ast import literal_eval"
   ]
  },
  {
   "cell_type": "code",
   "execution_count": 78,
   "metadata": {},
   "outputs": [],
   "source": [
    "# Import prepocessed Dataset(already tokenized)\n",
    "with open(\"./data/master_df_labeled.p\", 'rb') as handle:\n",
    "    datasets = pickle.load(handle)"
   ]
  },
  {
   "cell_type": "code",
   "execution_count": 88,
   "metadata": {},
   "outputs": [],
   "source": [
    "datasets = pd.read_excel(\"./data/master_df_labeled.xlsx\",index_col=0)\n",
    "# df = pd.read_csv(\"in.csv\",converters={\"Col3\": lambda x: x.strip(\"[]\").split(\", \")})"
   ]
  },
  {
   "cell_type": "code",
   "execution_count": 89,
   "metadata": {},
   "outputs": [],
   "source": [
    "datasets.review = datasets.review.apply(literal_eval)"
   ]
  },
  {
   "cell_type": "code",
   "execution_count": 90,
   "metadata": {},
   "outputs": [
    {
     "data": {
      "text/plain": [
       "111029"
      ]
     },
     "execution_count": 90,
     "metadata": {},
     "output_type": "execute_result"
    }
   ],
   "source": [
    "len(datasets)"
   ]
  },
  {
   "cell_type": "code",
   "execution_count": 91,
   "metadata": {},
   "outputs": [],
   "source": [
    "datasets = datasets.drop(labels='Unnamed: 0.1', axis=1)"
   ]
  },
  {
   "cell_type": "code",
   "execution_count": 92,
   "metadata": {},
   "outputs": [],
   "source": [
    "datasets=datasets[datasets['review'].apply(lambda x: len(x)<=30)]"
   ]
  },
  {
   "cell_type": "code",
   "execution_count": 93,
   "metadata": {},
   "outputs": [
    {
     "data": {
      "text/html": [
       "<div>\n",
       "<style scoped>\n",
       "    .dataframe tbody tr th:only-of-type {\n",
       "        vertical-align: middle;\n",
       "    }\n",
       "\n",
       "    .dataframe tbody tr th {\n",
       "        vertical-align: top;\n",
       "    }\n",
       "\n",
       "    .dataframe thead th {\n",
       "        text-align: right;\n",
       "    }\n",
       "</style>\n",
       "<table border=\"1\" class=\"dataframe\">\n",
       "  <thead>\n",
       "    <tr style=\"text-align: right;\">\n",
       "      <th></th>\n",
       "      <th>review</th>\n",
       "      <th>flagged_word</th>\n",
       "      <th>flagged_index</th>\n",
       "      <th>problematic</th>\n",
       "      <th>lemmatized</th>\n",
       "      <th>true_pos</th>\n",
       "    </tr>\n",
       "  </thead>\n",
       "  <tbody>\n",
       "    <tr>\n",
       "      <th>0</th>\n",
       "      <td>[thank, you, for, your, help, and, support, !]</td>\n",
       "      <td>support</td>\n",
       "      <td>6</td>\n",
       "      <td>1</td>\n",
       "      <td>support</td>\n",
       "      <td>-1</td>\n",
       "    </tr>\n",
       "    <tr>\n",
       "      <th>1</th>\n",
       "      <td>[excellent, and, professional, -, highly, reco...</td>\n",
       "      <td>excellent</td>\n",
       "      <td>0</td>\n",
       "      <td>1</td>\n",
       "      <td>excellent</td>\n",
       "      <td>-1</td>\n",
       "    </tr>\n",
       "    <tr>\n",
       "      <th>2</th>\n",
       "      <td>[superb, quality, .]</td>\n",
       "      <td>superb</td>\n",
       "      <td>0</td>\n",
       "      <td>1</td>\n",
       "      <td>superb</td>\n",
       "      <td>-1</td>\n",
       "    </tr>\n",
       "    <tr>\n",
       "      <th>3</th>\n",
       "      <td>[outstanding, work, ,, will, definitely, use, ...</td>\n",
       "      <td>outstanding</td>\n",
       "      <td>0</td>\n",
       "      <td>1</td>\n",
       "      <td>outstanding</td>\n",
       "      <td>-1</td>\n",
       "    </tr>\n",
       "    <tr>\n",
       "      <th>4</th>\n",
       "      <td>[good, provider]</td>\n",
       "      <td>provider</td>\n",
       "      <td>1</td>\n",
       "      <td>1</td>\n",
       "      <td>provider</td>\n",
       "      <td>-1</td>\n",
       "    </tr>\n",
       "  </tbody>\n",
       "</table>\n",
       "</div>"
      ],
      "text/plain": [
       "                                              review flagged_word  \\\n",
       "0     [thank, you, for, your, help, and, support, !]      support   \n",
       "1  [excellent, and, professional, -, highly, reco...    excellent   \n",
       "2                               [superb, quality, .]       superb   \n",
       "3  [outstanding, work, ,, will, definitely, use, ...  outstanding   \n",
       "4                                   [good, provider]     provider   \n",
       "\n",
       "   flagged_index  problematic   lemmatized  true_pos  \n",
       "0              6            1      support        -1  \n",
       "1              0            1    excellent        -1  \n",
       "2              0            1       superb        -1  \n",
       "3              0            1  outstanding        -1  \n",
       "4              1            1     provider        -1  "
      ]
     },
     "execution_count": 93,
     "metadata": {},
     "output_type": "execute_result"
    }
   ],
   "source": [
    "datasets.head()"
   ]
  },
  {
   "cell_type": "code",
   "execution_count": 94,
   "metadata": {},
   "outputs": [
    {
     "data": {
      "text/plain": [
       "107271"
      ]
     },
     "execution_count": 94,
     "metadata": {},
     "output_type": "execute_result"
    }
   ],
   "source": [
    "len(datasets)"
   ]
  },
  {
   "cell_type": "code",
   "execution_count": 95,
   "metadata": {},
   "outputs": [],
   "source": [
    "# Divide ground_truth(test) and train/val dataset\n",
    "labeled = datasets.loc[datasets['true_pos'].isin([1,0])]\n",
    "unlabeled = datasets[datasets.true_pos==-1]"
   ]
  },
  {
   "cell_type": "code",
   "execution_count": 96,
   "metadata": {},
   "outputs": [],
   "source": [
    "ground_truth_df = labeled.sample(n=int(len(labeled)/2))"
   ]
  },
  {
   "cell_type": "code",
   "execution_count": 97,
   "metadata": {},
   "outputs": [],
   "source": [
    "ground_truth_idx = ground_truth_df.index.tolist()"
   ]
  },
  {
   "cell_type": "code",
   "execution_count": 98,
   "metadata": {},
   "outputs": [],
   "source": [
    "datasets_wg = datasets.drop(ground_truth_idx, axis=0)"
   ]
  },
  {
   "cell_type": "code",
   "execution_count": 99,
   "metadata": {},
   "outputs": [
    {
     "data": {
      "text/html": [
       "<div>\n",
       "<style scoped>\n",
       "    .dataframe tbody tr th:only-of-type {\n",
       "        vertical-align: middle;\n",
       "    }\n",
       "\n",
       "    .dataframe tbody tr th {\n",
       "        vertical-align: top;\n",
       "    }\n",
       "\n",
       "    .dataframe thead th {\n",
       "        text-align: right;\n",
       "    }\n",
       "</style>\n",
       "<table border=\"1\" class=\"dataframe\">\n",
       "  <thead>\n",
       "    <tr style=\"text-align: right;\">\n",
       "      <th></th>\n",
       "      <th>review</th>\n",
       "      <th>flagged_word</th>\n",
       "      <th>flagged_index</th>\n",
       "      <th>problematic</th>\n",
       "      <th>lemmatized</th>\n",
       "      <th>true_pos</th>\n",
       "    </tr>\n",
       "  </thead>\n",
       "  <tbody>\n",
       "    <tr>\n",
       "      <th>0</th>\n",
       "      <td>[thank, you, for, your, help, and, support, !]</td>\n",
       "      <td>support</td>\n",
       "      <td>6</td>\n",
       "      <td>1</td>\n",
       "      <td>support</td>\n",
       "      <td>-1</td>\n",
       "    </tr>\n",
       "    <tr>\n",
       "      <th>1</th>\n",
       "      <td>[excellent, and, professional, -, highly, reco...</td>\n",
       "      <td>excellent</td>\n",
       "      <td>0</td>\n",
       "      <td>1</td>\n",
       "      <td>excellent</td>\n",
       "      <td>-1</td>\n",
       "    </tr>\n",
       "    <tr>\n",
       "      <th>2</th>\n",
       "      <td>[superb, quality, .]</td>\n",
       "      <td>superb</td>\n",
       "      <td>0</td>\n",
       "      <td>1</td>\n",
       "      <td>superb</td>\n",
       "      <td>-1</td>\n",
       "    </tr>\n",
       "    <tr>\n",
       "      <th>3</th>\n",
       "      <td>[outstanding, work, ,, will, definitely, use, ...</td>\n",
       "      <td>outstanding</td>\n",
       "      <td>0</td>\n",
       "      <td>1</td>\n",
       "      <td>outstanding</td>\n",
       "      <td>-1</td>\n",
       "    </tr>\n",
       "    <tr>\n",
       "      <th>4</th>\n",
       "      <td>[good, provider]</td>\n",
       "      <td>provider</td>\n",
       "      <td>1</td>\n",
       "      <td>1</td>\n",
       "      <td>provider</td>\n",
       "      <td>-1</td>\n",
       "    </tr>\n",
       "  </tbody>\n",
       "</table>\n",
       "</div>"
      ],
      "text/plain": [
       "                                              review flagged_word  \\\n",
       "0     [thank, you, for, your, help, and, support, !]      support   \n",
       "1  [excellent, and, professional, -, highly, reco...    excellent   \n",
       "2                               [superb, quality, .]       superb   \n",
       "3  [outstanding, work, ,, will, definitely, use, ...  outstanding   \n",
       "4                                   [good, provider]     provider   \n",
       "\n",
       "   flagged_index  problematic   lemmatized  true_pos  \n",
       "0              6            1      support        -1  \n",
       "1              0            1    excellent        -1  \n",
       "2              0            1       superb        -1  \n",
       "3              0            1  outstanding        -1  \n",
       "4              1            1     provider        -1  "
      ]
     },
     "execution_count": 99,
     "metadata": {},
     "output_type": "execute_result"
    }
   ],
   "source": [
    "datasets_wg.head()"
   ]
  },
  {
   "cell_type": "code",
   "execution_count": 100,
   "metadata": {},
   "outputs": [
    {
     "name": "stdout",
     "output_type": "stream",
     "text": [
      "True\n"
     ]
    }
   ],
   "source": [
    "print(len(datasets) == len(ground_truth_df) + len(datasets_wg))"
   ]
  },
  {
   "cell_type": "code",
   "execution_count": 101,
   "metadata": {},
   "outputs": [
    {
     "name": "stderr",
     "output_type": "stream",
     "text": [
      "100%|██████████| 107271/107271 [00:17<00:00, 6050.33it/s]\n"
     ]
    }
   ],
   "source": [
    "# Make a dictionary\n",
    "review_dict = Dictionary(datasets, include_valid=False)"
   ]
  },
  {
   "cell_type": "code",
   "execution_count": 102,
   "metadata": {},
   "outputs": [],
   "source": [
    "path = os.getcwd()\n",
    "data_dir = path + '/data/'\n",
    "\n",
    "pickle_dict = open(data_dir + \"dictionary.p\",\"wb\")\n",
    "pickle.dump(review_dict, pickle_dict)\n",
    "pickle_dict.close()"
   ]
  },
  {
   "cell_type": "code",
   "execution_count": 103,
   "metadata": {},
   "outputs": [
    {
     "data": {
      "text/plain": [
       "34"
      ]
     },
     "execution_count": 103,
     "metadata": {},
     "output_type": "execute_result"
    }
   ],
   "source": [
    "review_dict.get_id(\"great\")"
   ]
  },
  {
   "cell_type": "code",
   "execution_count": 104,
   "metadata": {},
   "outputs": [
    {
     "data": {
      "text/plain": [
       "[2, 3, 4, 5, 6, 7, 8, 9]"
      ]
     },
     "execution_count": 104,
     "metadata": {},
     "output_type": "execute_result"
    }
   ],
   "source": [
    "review_dict.encode_token_seq(datasets.iloc[0,0])"
   ]
  },
  {
   "cell_type": "code",
   "execution_count": 105,
   "metadata": {},
   "outputs": [
    {
     "name": "stderr",
     "output_type": "stream",
     "text": [
      "100%|██████████| 107271/107271 [00:00<00:00, 191068.68it/s]\n",
      "100%|██████████| 528/528 [00:00<00:00, 140164.08it/s]\n"
     ]
    }
   ],
   "source": [
    "indexized_datasets = indexize_dataset(datasets, review_dict)\n",
    "indexized_ground_truth = indexize_dataset(ground_truth_df, review_dict)"
   ]
  },
  {
   "cell_type": "code",
   "execution_count": 106,
   "metadata": {},
   "outputs": [],
   "source": [
    "tensor_dataset = TensoredDataset(indexized_datasets,datasets[\"true_pos\"].to_list(), datasets[\"flagged_index\"].to_list())\n",
    "tensor_dataset_ground_truth = TensoredDataset(indexized_ground_truth,ground_truth_df[\"true_pos\"].to_list(), ground_truth_df[\"flagged_index\"].to_list())"
   ]
  },
  {
   "cell_type": "code",
   "execution_count": 107,
   "metadata": {},
   "outputs": [
    {
     "data": {
      "text/plain": [
       "(tensor([[2, 3, 4, 5, 6, 7, 8, 9]]), tensor(-1), tensor(6))"
      ]
     },
     "execution_count": 107,
     "metadata": {},
     "output_type": "execute_result"
    }
   ],
   "source": [
    "# check the first example\n",
    "tensor_dataset[0]"
   ]
  },
  {
   "cell_type": "code",
   "execution_count": 108,
   "metadata": {},
   "outputs": [],
   "source": [
    "# Random seed\n",
    "seed = 1029\n",
    "\n",
    "torch.manual_seed(seed)\n",
    "torch.cuda.manual_seed(seed)\n",
    "torch.cuda.manual_seed_all(seed)  # if you are using multi-GPU.\n",
    "np.random.seed(seed)  # Numpy module.\n",
    "random.seed(seed)  # Python random module.\n",
    "torch.manual_seed(seed)\n",
    "torch.backends.cudnn.enabled = False \n",
    "torch.backends.cudnn.benchmark = False\n",
    "torch.backends.cudnn.deterministic = True\n",
    "\n",
    "if torch.cuda.is_available(): torch.cuda.manual_seed_all(seed)\n",
    "\n",
    "def _init_fn(worker_id):\n",
    "    np.random.seed(int(seed))\n",
    "\n",
    "\n",
    "# Divide into train(95%), valid(5%) dataset\n",
    "batch_size = 32\n",
    "n_train_samples = int(0.95 * len(datasets))\n",
    "n_val_samples = len(datasets) - n_train_samples\n",
    "\n",
    "train_dataset, val_dataset = random_split(tensor_dataset, [n_train_samples, n_val_samples])\n",
    "\n",
    "train_dataloader = DataLoader(train_dataset, batch_size=batch_size, shuffle=True, num_workers=0, collate_fn=pad_collate_fn, worker_init_fn=_init_fn)\n",
    "val_dataloader = DataLoader(val_dataset, batch_size=batch_size, shuffle=True, num_workers=0, collate_fn=pad_collate_fn, worker_init_fn=_init_fn)\n",
    "ground_truth_dataloader = DataLoader(tensor_dataset_ground_truth, batch_size=batch_size, shuffle=True, collate_fn=pad_collate_fn)"
   ]
  },
  {
   "cell_type": "code",
   "execution_count": 109,
   "metadata": {},
   "outputs": [
    {
     "name": "stdout",
     "output_type": "stream",
     "text": [
      "tensor([1, 0, 0, 0, 0, 1, 0, 0, 0, 0, 0, 0, 0, 0, 0, 0, 1, 1, 1, 1, 0, 1, 1, 0,\n",
      "        0, 1, 0, 0, 0, 1, 1, 1]) tensor([ 6,  3,  6,  9,  0,  0,  4,  3,  5,  5, 11,  0,  2,  0,  0,  3,  9,  0,\n",
      "        12,  1,  1,  1,  0,  0,  2,  8,  4,  2, 11,  3,  0,  4])\n"
     ]
    }
   ],
   "source": [
    "for i, x in enumerate(ground_truth_dataloader):\n",
    "    print(x[1],x[2])\n",
    "    break"
   ]
  },
  {
   "cell_type": "code",
   "execution_count": null,
   "metadata": {},
   "outputs": [],
   "source": [
    "path = os.getcwd()\n",
    "data_dir = path + '/data/'\n",
    "\n",
    "pickle_train_dataloader = open(data_dir + \"train_dataloader.p\",\"wb\")\n",
    "pickle.dump(train_dataloader, pickle_train_dataloader)\n",
    "pickle_train_dataloader.close()\n",
    "\n",
    "pickle_val_dataloader = open(data_dir + \"val_dataloader.p\",\"wb\")\n",
    "pickle.dump(val_dataloader, pickle_val_dataloader)\n",
    "pickle_val_dataloader.close()\n",
    "\n",
    "pickle_dataloader = open(data_dir + \"ground_truth_dataloader.p\",\"wb\")\n",
    "pickle.dump(ground_truth_dataloader, pickle_dataloader)\n",
    "pickle_dataloader.close()"
   ]
  },
  {
   "cell_type": "code",
   "execution_count": null,
   "metadata": {},
   "outputs": [],
   "source": []
  }
 ],
 "metadata": {
  "kernelspec": {
   "display_name": "Python 3",
   "language": "python",
   "name": "python3"
  },
  "language_info": {
   "codemirror_mode": {
    "name": "ipython",
    "version": 3
   },
   "file_extension": ".py",
   "mimetype": "text/x-python",
   "name": "python",
   "nbconvert_exporter": "python",
   "pygments_lexer": "ipython3",
   "version": "3.7.3"
  }
 },
 "nbformat": 4,
 "nbformat_minor": 4
}
