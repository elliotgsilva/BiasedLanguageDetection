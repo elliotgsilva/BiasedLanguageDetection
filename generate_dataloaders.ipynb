{
 "cells": [
  {
   "cell_type": "markdown",
   "metadata": {},
   "source": [
    "### Make a dictionary, dataloader"
   ]
  },
  {
   "cell_type": "code",
   "execution_count": 1,
   "metadata": {},
   "outputs": [],
   "source": [
    "import sys\n",
    "from tqdm import tqdm\n",
    "import os\n",
    "import torch\n",
    "import torch.nn as nn\n",
    "from torch.utils.data import DataLoader, random_split, Dataset, RandomSampler, SequentialSampler\n",
    "import pickle\n",
    "import random\n",
    "import numpy as np\n",
    "import pandas as pd\n",
    "from generate_dataloaders import *\n",
    "from sklearn.model_selection import train_test_split\n",
    "from ast import literal_eval\n",
    "\n",
    "import nltk\n",
    "import re\n",
    "from nltk.stem import WordNetLemmatizer\n",
    "wordnet_lemmatizer = WordNetLemmatizer()"
   ]
  },
  {
   "cell_type": "code",
   "execution_count": 2,
   "metadata": {},
   "outputs": [],
   "source": [
    "datasets = pd.read_excel(\"./data/master_df_labeled.xlsx\",index_col=0)"
   ]
  },
  {
   "cell_type": "code",
   "execution_count": 3,
   "metadata": {},
   "outputs": [],
   "source": [
    "datasets.review = datasets.review.apply(literal_eval)"
   ]
  },
  {
   "cell_type": "code",
   "execution_count": 4,
   "metadata": {},
   "outputs": [
    {
     "data": {
      "text/plain": [
       "111029"
      ]
     },
     "execution_count": 4,
     "metadata": {},
     "output_type": "execute_result"
    }
   ],
   "source": [
    "len(datasets)"
   ]
  },
  {
   "cell_type": "code",
   "execution_count": 5,
   "metadata": {},
   "outputs": [],
   "source": [
    "#datasets = datasets.drop(labels='Unnamed: 0.1', axis=1)"
   ]
  },
  {
   "cell_type": "code",
   "execution_count": 6,
   "metadata": {},
   "outputs": [],
   "source": [
    "datasets=datasets[datasets['review'].apply(lambda x: len(x)<=30)]"
   ]
  },
  {
   "cell_type": "code",
   "execution_count": 7,
   "metadata": {},
   "outputs": [
    {
     "data": {
      "text/html": [
       "<div>\n",
       "<style scoped>\n",
       "    .dataframe tbody tr th:only-of-type {\n",
       "        vertical-align: middle;\n",
       "    }\n",
       "\n",
       "    .dataframe tbody tr th {\n",
       "        vertical-align: top;\n",
       "    }\n",
       "\n",
       "    .dataframe thead th {\n",
       "        text-align: right;\n",
       "    }\n",
       "</style>\n",
       "<table border=\"1\" class=\"dataframe\">\n",
       "  <thead>\n",
       "    <tr style=\"text-align: right;\">\n",
       "      <th></th>\n",
       "      <th>review</th>\n",
       "      <th>flagged_word</th>\n",
       "      <th>flagged_index</th>\n",
       "      <th>problematic</th>\n",
       "      <th>lemmatized</th>\n",
       "      <th>true_pos</th>\n",
       "    </tr>\n",
       "  </thead>\n",
       "  <tbody>\n",
       "    <tr>\n",
       "      <td>0</td>\n",
       "      <td>[thank, you, for, your, help, and, support, !]</td>\n",
       "      <td>support</td>\n",
       "      <td>6</td>\n",
       "      <td>1</td>\n",
       "      <td>support</td>\n",
       "      <td>-1</td>\n",
       "    </tr>\n",
       "    <tr>\n",
       "      <td>1</td>\n",
       "      <td>[excellent, and, professional, -, highly, reco...</td>\n",
       "      <td>excellent</td>\n",
       "      <td>0</td>\n",
       "      <td>1</td>\n",
       "      <td>excellent</td>\n",
       "      <td>-1</td>\n",
       "    </tr>\n",
       "    <tr>\n",
       "      <td>3</td>\n",
       "      <td>[superb, quality, .]</td>\n",
       "      <td>superb</td>\n",
       "      <td>0</td>\n",
       "      <td>1</td>\n",
       "      <td>superb</td>\n",
       "      <td>-1</td>\n",
       "    </tr>\n",
       "    <tr>\n",
       "      <td>4</td>\n",
       "      <td>[outstanding, work, ,, will, definitely, use, ...</td>\n",
       "      <td>outstanding</td>\n",
       "      <td>0</td>\n",
       "      <td>1</td>\n",
       "      <td>outstanding</td>\n",
       "      <td>-1</td>\n",
       "    </tr>\n",
       "    <tr>\n",
       "      <td>5</td>\n",
       "      <td>[good, provider]</td>\n",
       "      <td>provider</td>\n",
       "      <td>1</td>\n",
       "      <td>1</td>\n",
       "      <td>provider</td>\n",
       "      <td>-1</td>\n",
       "    </tr>\n",
       "  </tbody>\n",
       "</table>\n",
       "</div>"
      ],
      "text/plain": [
       "                                              review flagged_word  \\\n",
       "0     [thank, you, for, your, help, and, support, !]      support   \n",
       "1  [excellent, and, professional, -, highly, reco...    excellent   \n",
       "3                               [superb, quality, .]       superb   \n",
       "4  [outstanding, work, ,, will, definitely, use, ...  outstanding   \n",
       "5                                   [good, provider]     provider   \n",
       "\n",
       "   flagged_index  problematic   lemmatized  true_pos  \n",
       "0              6            1      support        -1  \n",
       "1              0            1    excellent        -1  \n",
       "3              0            1       superb        -1  \n",
       "4              0            1  outstanding        -1  \n",
       "5              1            1     provider        -1  "
      ]
     },
     "execution_count": 7,
     "metadata": {},
     "output_type": "execute_result"
    }
   ],
   "source": [
    "datasets.head()"
   ]
  },
  {
   "cell_type": "code",
   "execution_count": 8,
   "metadata": {},
   "outputs": [
    {
     "data": {
      "text/plain": [
       "107271"
      ]
     },
     "execution_count": 8,
     "metadata": {},
     "output_type": "execute_result"
    }
   ],
   "source": [
    "len(datasets)"
   ]
  },
  {
   "cell_type": "code",
   "execution_count": 9,
   "metadata": {},
   "outputs": [],
   "source": [
    "# Divide ground_truth(test) and train/val dataset\n",
    "labeled = datasets.loc[datasets['true_pos'].isin([1,0])]\n",
    "unlabeled = datasets[datasets.true_pos==-1]"
   ]
  },
  {
   "cell_type": "code",
   "execution_count": 10,
   "metadata": {},
   "outputs": [],
   "source": [
    "train_labeled_dataset, remains_label_dataset = train_test_split(labeled, test_size=0.2, stratify=labeled['true_pos'])"
   ]
  },
  {
   "cell_type": "code",
   "execution_count": 11,
   "metadata": {},
   "outputs": [],
   "source": [
    "val_dataset, test_dataset = train_test_split(remains_label_dataset, test_size=0.5, stratify=remains_label_dataset['true_pos'])"
   ]
  },
  {
   "cell_type": "code",
   "execution_count": 12,
   "metadata": {},
   "outputs": [
    {
     "data": {
      "text/plain": [
       "True"
      ]
     },
     "execution_count": 12,
     "metadata": {},
     "output_type": "execute_result"
    }
   ],
   "source": [
    "len(labeled) == len(train_labeled_dataset) + len(val_dataset) + len(test_dataset)"
   ]
  },
  {
   "cell_type": "code",
   "execution_count": 13,
   "metadata": {},
   "outputs": [],
   "source": [
    "val_idx = val_dataset.index.tolist()\n",
    "test_idx = test_dataset.index.tolist()\n",
    "\n",
    "remove_idx = val_idx + test_idx"
   ]
  },
  {
   "cell_type": "code",
   "execution_count": 14,
   "metadata": {},
   "outputs": [],
   "source": [
    "train_dataset = datasets.drop(remove_idx, axis=0)"
   ]
  },
  {
   "cell_type": "code",
   "execution_count": 15,
   "metadata": {},
   "outputs": [],
   "source": [
    "train_label_idx = train_labeled_dataset.index.tolist()\n",
    "train_unlabeled_dataset = train_dataset.drop(train_label_idx,axis=0)"
   ]
  },
  {
   "cell_type": "code",
   "execution_count": 16,
   "metadata": {},
   "outputs": [
    {
     "data": {
      "text/html": [
       "<div>\n",
       "<style scoped>\n",
       "    .dataframe tbody tr th:only-of-type {\n",
       "        vertical-align: middle;\n",
       "    }\n",
       "\n",
       "    .dataframe tbody tr th {\n",
       "        vertical-align: top;\n",
       "    }\n",
       "\n",
       "    .dataframe thead th {\n",
       "        text-align: right;\n",
       "    }\n",
       "</style>\n",
       "<table border=\"1\" class=\"dataframe\">\n",
       "  <thead>\n",
       "    <tr style=\"text-align: right;\">\n",
       "      <th></th>\n",
       "      <th>review</th>\n",
       "      <th>flagged_word</th>\n",
       "      <th>flagged_index</th>\n",
       "      <th>problematic</th>\n",
       "      <th>lemmatized</th>\n",
       "      <th>true_pos</th>\n",
       "    </tr>\n",
       "  </thead>\n",
       "  <tbody>\n",
       "    <tr>\n",
       "      <td>21264</td>\n",
       "      <td>[as, usual, ,, jared, did, a, great, work, and...</td>\n",
       "      <td>great</td>\n",
       "      <td>6</td>\n",
       "      <td>1</td>\n",
       "      <td>great</td>\n",
       "      <td>1</td>\n",
       "    </tr>\n",
       "    <tr>\n",
       "      <td>35999</td>\n",
       "      <td>[good, php/db, skills, for, complex, project, ...</td>\n",
       "      <td>skills</td>\n",
       "      <td>2</td>\n",
       "      <td>1</td>\n",
       "      <td>skill</td>\n",
       "      <td>1</td>\n",
       "    </tr>\n",
       "    <tr>\n",
       "      <td>72400</td>\n",
       "      <td>[i, felt, very, trusting, and, had, confidence...</td>\n",
       "      <td>sharing</td>\n",
       "      <td>14</td>\n",
       "      <td>1</td>\n",
       "      <td>sharing</td>\n",
       "      <td>0</td>\n",
       "    </tr>\n",
       "    <tr>\n",
       "      <td>84688</td>\n",
       "      <td>[she, is, an, extremely, creative, and, clever...</td>\n",
       "      <td>creative</td>\n",
       "      <td>4</td>\n",
       "      <td>1</td>\n",
       "      <td>creative</td>\n",
       "      <td>1</td>\n",
       "    </tr>\n",
       "    <tr>\n",
       "      <td>81397</td>\n",
       "      <td>[professional, and, pro, active, freelancer]</td>\n",
       "      <td>active</td>\n",
       "      <td>3</td>\n",
       "      <td>1</td>\n",
       "      <td>active</td>\n",
       "      <td>1</td>\n",
       "    </tr>\n",
       "  </tbody>\n",
       "</table>\n",
       "</div>"
      ],
      "text/plain": [
       "                                                  review flagged_word  \\\n",
       "21264  [as, usual, ,, jared, did, a, great, work, and...        great   \n",
       "35999  [good, php/db, skills, for, complex, project, ...       skills   \n",
       "72400  [i, felt, very, trusting, and, had, confidence...      sharing   \n",
       "84688  [she, is, an, extremely, creative, and, clever...     creative   \n",
       "81397       [professional, and, pro, active, freelancer]       active   \n",
       "\n",
       "       flagged_index  problematic lemmatized  true_pos  \n",
       "21264              6            1      great         1  \n",
       "35999              2            1      skill         1  \n",
       "72400             14            1    sharing         0  \n",
       "84688              4            1   creative         1  \n",
       "81397              3            1     active         1  "
      ]
     },
     "execution_count": 16,
     "metadata": {},
     "output_type": "execute_result"
    }
   ],
   "source": [
    "train_labeled_dataset.head()"
   ]
  },
  {
   "cell_type": "code",
   "execution_count": 17,
   "metadata": {},
   "outputs": [
    {
     "data": {
      "text/plain": [
       "True"
      ]
     },
     "execution_count": 17,
     "metadata": {},
     "output_type": "execute_result"
    }
   ],
   "source": [
    "len(train_dataset) == len(train_labeled_dataset) + len(train_unlabeled_dataset)"
   ]
  },
  {
   "cell_type": "code",
   "execution_count": 18,
   "metadata": {},
   "outputs": [
    {
     "data": {
      "text/plain": [
       "True"
      ]
     },
     "execution_count": 18,
     "metadata": {},
     "output_type": "execute_result"
    }
   ],
   "source": [
    "len(datasets) == len(train_dataset) + len(val_dataset) + len(test_dataset)"
   ]
  },
  {
   "cell_type": "code",
   "execution_count": 19,
   "metadata": {},
   "outputs": [
    {
     "name": "stderr",
     "output_type": "stream",
     "text": [
      "100%|██████████| 107271/107271 [00:11<00:00, 9337.93it/s]\n"
     ]
    }
   ],
   "source": [
    "# Make a dictionary\n",
    "review_dict = Dictionary(datasets, include_valid=False)"
   ]
  },
  {
   "cell_type": "code",
   "execution_count": 20,
   "metadata": {},
   "outputs": [],
   "source": [
    "path = os.getcwd()\n",
    "data_dir = path + '/data/'\n",
    "\n",
    "pickle_dict = open(data_dir + \"dictionary.p\",\"wb\")\n",
    "pickle.dump(review_dict, pickle_dict)\n",
    "pickle_dict.close()"
   ]
  },
  {
   "cell_type": "code",
   "execution_count": 21,
   "metadata": {},
   "outputs": [
    {
     "data": {
      "text/plain": [
       "34"
      ]
     },
     "execution_count": 21,
     "metadata": {},
     "output_type": "execute_result"
    }
   ],
   "source": [
    "review_dict.get_id(\"great\")"
   ]
  },
  {
   "cell_type": "code",
   "execution_count": 22,
   "metadata": {},
   "outputs": [
    {
     "data": {
      "text/plain": [
       "[2, 3, 4, 5, 6, 7, 8, 9]"
      ]
     },
     "execution_count": 22,
     "metadata": {},
     "output_type": "execute_result"
    }
   ],
   "source": [
    "review_dict.encode_token_seq(datasets.iloc[0,0])"
   ]
  },
  {
   "cell_type": "code",
   "execution_count": 23,
   "metadata": {},
   "outputs": [
    {
     "name": "stderr",
     "output_type": "stream",
     "text": [
      "100%|██████████| 4139/4139 [00:00<00:00, 72619.30it/s]\n",
      "100%|██████████| 102097/102097 [00:00<00:00, 233717.76it/s]\n",
      "100%|██████████| 517/517 [00:00<00:00, 191272.40it/s]\n",
      "100%|██████████| 518/518 [00:00<00:00, 214222.98it/s]\n",
      "100%|██████████| 106236/106236 [00:00<00:00, 228126.99it/s]\n"
     ]
    }
   ],
   "source": [
    "indexized_train_dataset_labeled = indexize_dataset(train_labeled_dataset, review_dict)\n",
    "indexized_train_dataset_unlabeled = indexize_dataset(train_unlabeled_dataset, review_dict)\n",
    "indexized_val_datasets = indexize_dataset(val_dataset, review_dict)\n",
    "indexized_test_datasets = indexize_dataset(test_dataset, review_dict)\n",
    "indexized_train_datasets = indexize_dataset(train_dataset, review_dict)"
   ]
  },
  {
   "cell_type": "code",
   "execution_count": 24,
   "metadata": {},
   "outputs": [],
   "source": [
    "tensor_train_dataset_labeled = TensoredDataset(indexized_train_dataset_labeled,train_labeled_dataset[\"true_pos\"].to_list(), train_labeled_dataset[\"flagged_index\"].to_list())\n",
    "tensor_train_dataset_unlabeled = TensoredDataset(indexized_train_dataset_unlabeled,train_unlabeled_dataset[\"true_pos\"].to_list(), train_unlabeled_dataset[\"flagged_index\"].to_list())\n",
    "tensor_val_dataset = TensoredDataset(indexized_val_datasets,val_dataset[\"true_pos\"].to_list(), val_dataset[\"flagged_index\"].to_list())\n",
    "tensor_test_dataset = TensoredDataset(indexized_test_datasets,test_dataset[\"true_pos\"].to_list(), test_dataset[\"flagged_index\"].to_list())\n",
    "tensor_train_dataset = TensoredDataset(indexized_train_datasets,train_dataset[\"true_pos\"].to_list(), train_dataset[\"flagged_index\"].to_list())"
   ]
  },
  {
   "cell_type": "code",
   "execution_count": 25,
   "metadata": {},
   "outputs": [
    {
     "data": {
      "text/plain": [
       "(tensor([[311,  77, 312,  20, 313,  41, 225,   3, 249,  20,   7, 314, 239,  89,\n",
       "            9,   3, 315, 316, 317,   9]]), tensor(-1), tensor(18))"
      ]
     },
     "execution_count": 25,
     "metadata": {},
     "output_type": "execute_result"
    }
   ],
   "source": [
    "# check the first example\n",
    "tensor_train_dataset_unlabeled[100]"
   ]
  },
  {
   "cell_type": "code",
   "execution_count": 26,
   "metadata": {},
   "outputs": [],
   "source": [
    "# Random seed\n",
    "seed = 1029\n",
    "\n",
    "torch.manual_seed(seed)\n",
    "torch.cuda.manual_seed(seed)\n",
    "torch.cuda.manual_seed_all(seed)  # if you are using multi-GPU.\n",
    "np.random.seed(seed)  # Numpy module.\n",
    "random.seed(seed)  # Python random module.\n",
    "torch.manual_seed(seed)\n",
    "torch.backends.cudnn.enabled = False \n",
    "torch.backends.cudnn.benchmark = False\n",
    "torch.backends.cudnn.deterministic = True\n",
    "\n",
    "if torch.cuda.is_available(): torch.cuda.manual_seed_all(seed)\n",
    "\n",
    "def _init_fn(worker_id):\n",
    "    np.random.seed(int(seed))\n",
    "\n",
    "\n",
    "# Divide into train(95%), valid(5%) dataset\n",
    "batch_size = 32\n",
    "\n",
    "train_labeled_dataloader = DataLoader(tensor_train_dataset_labeled, batch_size=batch_size, shuffle=True, num_workers=0, collate_fn=pad_collate_fn, worker_init_fn=_init_fn)\n",
    "train_unlabeld_dataloader = DataLoader(tensor_train_dataset_unlabeled, batch_size=batch_size, shuffle=True, num_workers=0, collate_fn=pad_collate_fn, worker_init_fn=_init_fn)\n",
    "val_dataloader = DataLoader(tensor_val_dataset, batch_size=batch_size, shuffle=True, num_workers=0, collate_fn=pad_collate_fn, worker_init_fn=_init_fn)\n",
    "test_dataloader = DataLoader(tensor_test_dataset, batch_size=batch_size, shuffle=True, num_workers=0, collate_fn=pad_collate_fn, worker_init_fn=_init_fn)\n",
    "train_dataloader = DataLoader(tensor_train_dataset, batch_size=batch_size, shuffle=True, collate_fn=pad_collate_fn, worker_init_fn=_init_fn)"
   ]
  },
  {
   "cell_type": "code",
   "execution_count": 27,
   "metadata": {},
   "outputs": [
    {
     "name": "stdout",
     "output_type": "stream",
     "text": [
      "tensor([-1, -1, -1, -1, -1, -1, -1, -1, -1, -1, -1, -1, -1, -1, -1, -1, -1, -1,\n",
      "         1, -1,  1,  1, -1, -1, -1, -1, -1, -1, -1, -1, -1, -1]) tensor([ 1,  8, 10,  3,  6,  0,  2,  1,  2, 10,  0,  3,  3, 19,  7,  0,  8,  6,\n",
      "         5,  5,  4,  0,  0,  0,  0,  1,  0,  4,  6,  0,  0, 10])\n"
     ]
    }
   ],
   "source": [
    "for i, x in enumerate(train_dataloader):\n",
    "    print(x[1],x[2])\n",
    "    break"
   ]
  },
  {
   "cell_type": "code",
   "execution_count": 28,
   "metadata": {},
   "outputs": [],
   "source": [
    "path = os.getcwd()\n",
    "data_dir = path + '/data/'\n",
    "\n",
    "pickle_train_labelded_dataloader = open(data_dir + \"train_labeled_dataloader.p\",\"wb\")\n",
    "pickle.dump(train_labeled_dataloader, pickle_train_labelded_dataloader)\n",
    "pickle_train_labelded_dataloader.close()\n",
    "\n",
    "pickle_train_unlabeled_dataloader = open(data_dir + \"train_unlabeled_dataloader.p\",\"wb\")\n",
    "pickle.dump(train_unlabeld_dataloader, pickle_train_unlabeled_dataloader)\n",
    "pickle_train_unlabeled_dataloader.close()\n",
    "\n",
    "pickle_val_dataloader = open(data_dir + \"val_dataloader.p\",\"wb\")\n",
    "pickle.dump(val_dataloader, pickle_val_dataloader)\n",
    "pickle_val_dataloader.close()\n",
    "\n",
    "pickle_test_dataloader = open(data_dir + \"test_dataloader.p\",\"wb\")\n",
    "pickle.dump(test_dataloader, pickle_test_dataloader)\n",
    "pickle_test_dataloader.close()\n",
    "\n",
    "pickle_train_dataloader = open(data_dir + \"train_dataloader.p\",\"wb\")\n",
    "pickle.dump(train_dataloader, pickle_train_dataloader)\n",
    "pickle_train_dataloader.close()"
   ]
  },
  {
   "cell_type": "code",
   "execution_count": null,
   "metadata": {},
   "outputs": [],
   "source": []
  }
 ],
 "metadata": {
  "kernelspec": {
   "display_name": "Python 3",
   "language": "python",
   "name": "python3"
  },
  "language_info": {
   "codemirror_mode": {
    "name": "ipython",
    "version": 3
   },
   "file_extension": ".py",
   "mimetype": "text/x-python",
   "name": "python",
   "nbconvert_exporter": "python",
   "pygments_lexer": "ipython3",
   "version": "3.6.7"
  }
 },
 "nbformat": 4,
 "nbformat_minor": 4
}
