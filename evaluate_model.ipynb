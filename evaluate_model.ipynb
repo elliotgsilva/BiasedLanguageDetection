{
 "cells": [
  {
   "cell_type": "code",
   "execution_count": 1,
   "metadata": {
    "colab": {},
    "colab_type": "code",
    "id": "zno22FtJPX9z"
   },
   "outputs": [],
   "source": [
    "import numpy as np\n",
    "import matplotlib.pyplot as plt\n",
    "\n",
    "import torch\n",
    "from torch import nn\n",
    "from torch import optim\n",
    "from torch.utils.data import DataLoader\n",
    "import torch.nn.functional as F\n",
    "\n",
    "#from datasets import get_mnist_dataset, get_data_loader\n",
    "#from utils import *\n",
    "#from models import *\n",
    "\n",
    "import pickle as pkl\n",
    "import os\n",
    "import datetime as dt\n",
    "import pandas as pd\n",
    "import random\n",
    "\n",
    "from generate_dataloaders import *\n",
    "\n",
    "from tqdm import tqdm_notebook as tqdm"
   ]
  },
  {
   "cell_type": "markdown",
   "metadata": {
    "colab_type": "text",
    "id": "oaJEVd0wPX94"
   },
   "source": [
    "## Get Dataloaders"
   ]
  },
  {
   "cell_type": "code",
   "execution_count": 2,
   "metadata": {
    "colab": {},
    "colab_type": "code",
    "id": "vi6hPzadPX95"
   },
   "outputs": [],
   "source": [
    "def get_dataloaders(train_filename,val_filename):\n",
    "    path = os.getcwd()\n",
    "    data_dir = path + '/data/'\n",
    "    train_dataloader = pkl.load(open(data_dir + train_filename,'rb'))\n",
    "    val_dataloader = pkl.load(open(data_dir + val_filename,'rb'))\n",
    "    return train_dataloader,val_dataloader"
   ]
  },
  {
   "cell_type": "code",
   "execution_count": 3,
   "metadata": {},
   "outputs": [],
   "source": [
    "seed = 1029\n",
    "torch.manual_seed(seed)\n",
    "torch.cuda.manual_seed(seed)\n",
    "torch.cuda.manual_seed_all(seed)  # if you are using multi-GPU.\n",
    "np.random.seed(seed)  # Numpy module.\n",
    "random.seed(seed)  # Python random module.\n",
    "torch.manual_seed(seed)\n",
    "torch.backends.cudnn.enabled = False \n",
    "torch.backends.cudnn.benchmark = False\n",
    "torch.backends.cudnn.deterministic = True\n",
    "\n",
    "if torch.cuda.is_available(): torch.cuda.manual_seed_all(seed)\n",
    "\n",
    "def _init_fn(worker_id):\n",
    "    np.random.seed(int(seed))"
   ]
  },
  {
   "cell_type": "code",
   "execution_count": 4,
   "metadata": {
    "colab": {},
    "colab_type": "code",
    "id": "6nLzh007PX98"
   },
   "outputs": [],
   "source": [
    "path = os.getcwd()\n",
    "data_dir = path + '/data/'"
   ]
  },
  {
   "cell_type": "code",
   "execution_count": 5,
   "metadata": {
    "colab": {},
    "colab_type": "code",
    "id": "yq-jDGFIPX99"
   },
   "outputs": [],
   "source": [
    "train_loader,val_loader = get_dataloaders('train_dataloader.p','val_dataloader.p')"
   ]
  },
  {
   "cell_type": "code",
   "execution_count": 6,
   "metadata": {
    "colab": {},
    "colab_type": "code",
    "id": "1tQEhYjtPX-A"
   },
   "outputs": [],
   "source": [
    "ground_truth_dataloader = pkl.load(open(data_dir + 'ground_truth_dataloader.p','rb'))"
   ]
  },
  {
   "cell_type": "code",
   "execution_count": 7,
   "metadata": {},
   "outputs": [],
   "source": [
    "#%conda install pytorch torchvision -c pytorch\n",
    "## if torch.__version__ is not 1.3.1, run this cell then restart kernel"
   ]
  },
  {
   "cell_type": "code",
   "execution_count": 8,
   "metadata": {
    "colab": {},
    "colab_type": "code",
    "id": "Lzz8lwNQPX-B",
    "outputId": "690cb77f-2525-4c5a-ea14-a162716e34d3"
   },
   "outputs": [
    {
     "name": "stdout",
     "output_type": "stream",
     "text": [
      "1.3.1\n"
     ]
    }
   ],
   "source": [
    "print(torch.__version__)"
   ]
  },
  {
   "cell_type": "markdown",
   "metadata": {
    "colab_type": "text",
    "id": "Cvt6N9QCPX-X"
   },
   "source": [
    "## Neural Network Class"
   ]
  },
  {
   "cell_type": "markdown",
   "metadata": {
    "colab_type": "text",
    "id": "puweJhdxPX-Y"
   },
   "source": [
    "NOTE: Data loader is defined as:\n",
    "- tuple: (tokens, flagged_index, problematic)"
   ]
  },
  {
   "cell_type": "code",
   "execution_count": 12,
   "metadata": {
    "colab": {},
    "colab_type": "code",
    "id": "W8BZ-QhNPX-Z"
   },
   "outputs": [],
   "source": [
    "class neuralNetBow(nn.Module):\n",
    "    \"\"\"\n",
    "    BagOfWords classification model\n",
    "    \"\"\"\n",
    "    # NOTE: we can't use linear layer until we take weighted average, otherwise it will\n",
    "    # remember certain positions incorrectly (ie, 4th word has bigger weights vs 7th word)\n",
    "    def __init__(self, vocab_size, emb_dim, upweight=10):\n",
    "        super(neuralNetBow, self).__init__()\n",
    "        self.embed = nn.Embedding(vocab_size, emb_dim, padding_idx=2)\n",
    "        self.upweight = upweight\n",
    "    \n",
    "    def forward(self, tokens, flagged_index):\n",
    "        batch_size, num_tokens = tokens.shape\n",
    "        embedding = self.embed(tokens)\n",
    "#         print(embedding.shape) # below assumes \"batch_size x num_tokens x Emb_dim\" (VERIFY)\n",
    "        \n",
    "        # upweight by flagged_index\n",
    "#         print(type(embedding))\n",
    "        embedding[torch.LongTensor(range(batch_size)),flagged_index.type(torch.LongTensor),:] *= self.upweight\n",
    "        \n",
    "        # average across embeddings\n",
    "        embedding_ave = embedding.sum(1) / (num_tokens + self.upweight - 1)\n",
    "        \n",
    "        return embedding_ave"
   ]
  },
  {
   "cell_type": "markdown",
   "metadata": {
    "colab_type": "text",
    "id": "SGsqcnEtPX-a"
   },
   "source": [
    "### Clustering Stuff (un-tailored)"
   ]
  },
  {
   "cell_type": "code",
   "execution_count": 13,
   "metadata": {
    "colab": {},
    "colab_type": "code",
    "id": "MrgIYm8JPX-b"
   },
   "outputs": [],
   "source": [
    "class KMeansCriterion(nn.Module):\n",
    "    \n",
    "    def __init__(self, lmbda):\n",
    "        super().__init__()\n",
    "        self.lmbda = lmbda\n",
    "    \n",
    "    def forward(self, embeddings, centroids):\n",
    "        distances = torch.sum((embeddings[:, None, :] - centroids)**2, 2)\n",
    "        cluster_distances, cluster_assignments = distances.min(1)\n",
    "        loss = self.lmbda * cluster_distances.sum()\n",
    "        return loss, cluster_assignments"
   ]
  },
  {
   "cell_type": "code",
   "execution_count": 14,
   "metadata": {
    "colab": {},
    "colab_type": "code",
    "id": "-TJohK2aPX-d"
   },
   "outputs": [],
   "source": [
    "def centroid_init(k, d, dataloader, model, current_device):\n",
    "    ## Here we ideally don't want to do randomized/zero initialization\n",
    "    centroid_sums = torch.zeros(k, d).to(current_device)\n",
    "    centroid_counts = torch.zeros(k).to(current_device)\n",
    "    for (tokens, labels, flagged_indices) in dataloader:\n",
    "        # cluster_assignments = torch.LongTensor(tokens.size(0)).random_(k)\n",
    "        cluster_assignments = labels.to(current_device)\n",
    "        \n",
    "        model.eval()\n",
    "        sentence_embed = model(tokens.to(current_device),flagged_indices.to(current_device))\n",
    "    \n",
    "        update_clusters(centroid_sums, centroid_counts,\n",
    "                        cluster_assignments, sentence_embed.to(current_device))\n",
    "    \n",
    "    centroid_means = centroid_sums / centroid_counts[:, None].to(current_device)\n",
    "    return centroid_means.clone()\n",
    "\n",
    "def update_clusters(centroid_sums, centroid_counts,\n",
    "                    cluster_assignments, embeddings):\n",
    "    k = centroid_sums.size(0)\n",
    "\n",
    "    centroid_sums.index_add_(0, cluster_assignments, embeddings)\n",
    "    bin_counts = torch.bincount(cluster_assignments,minlength=k).type(torch.FloatTensor).to(current_device)\n",
    "    centroid_counts.add_(bin_counts)\n",
    "    \n",
    "    #np_cluster_assignments = cluster_assignments.to('cpu')\n",
    "    #np_counts = np.bincount(np_cluster_assignments.data.numpy(), minlength=k)\n",
    "    #centroid_counts.add_(torch.FloatTensor(np_counts))"
   ]
  },
  {
   "cell_type": "markdown",
   "metadata": {},
   "source": [
    "## Load Model Info"
   ]
  },
  {
   "cell_type": "code",
   "execution_count": 17,
   "metadata": {
    "colab": {},
    "colab_type": "code",
    "id": "0pBet75ZPX-m"
   },
   "outputs": [],
   "source": [
    "num_gpus = torch.cuda.device_count()\n",
    "if num_gpus > 0:\n",
    "    current_device = 'cuda'\n",
    "else:\n",
    "    current_device = 'cpu'\n",
    "\n",
    "model = neuralNetBow(opts['vocab_size'], opts['emb_dim']).to(current_device)"
   ]
  },
  {
   "cell_type": "code",
   "execution_count": 18,
   "metadata": {
    "colab": {},
    "colab_type": "code",
    "id": "mTFO2vp-PX-o"
   },
   "outputs": [],
   "source": [
    "criterion = KMeansCriterion(1).to(current_device)"
   ]
  },
  {
   "cell_type": "code",
   "execution_count": 19,
   "metadata": {
    "colab": {
     "base_uri": "https://localhost:8080/",
     "height": 34
    },
    "colab_type": "code",
    "executionInfo": {
     "elapsed": 892,
     "status": "ok",
     "timestamp": 1573355494600,
     "user": {
      "displayName": "Eileen Cho",
      "photoUrl": "",
      "userId": "03381570147993013394"
     },
     "user_tz": 300
    },
    "id": "2It2SvzjPX-s",
    "outputId": "5de6949c-7e9e-4ade-f222-5eb28f5347db"
   },
   "outputs": [
    {
     "data": {
      "text/plain": [
       "'cpu'"
      ]
     },
     "execution_count": 19,
     "metadata": {},
     "output_type": "execute_result"
    }
   ],
   "source": [
    "current_device"
   ]
  },
  {
   "cell_type": "code",
   "execution_count": 20,
   "metadata": {},
   "outputs": [],
   "source": [
    "opts = torch.load('baseline_model'+'_opts')"
   ]
  },
  {
   "cell_type": "code",
   "execution_count": 21,
   "metadata": {},
   "outputs": [
    {
     "data": {
      "text/plain": [
       "<All keys matched successfully>"
      ]
     },
     "execution_count": 21,
     "metadata": {},
     "output_type": "execute_result"
    }
   ],
   "source": [
    "baseline_model = neuralNetBow(opts['vocab_size'], opts['emb_dim'])\n",
    "baseline_model.load_state_dict(torch.load(data_dir+'111419/baseline_model_dict_epoch9.pt',map_location=lambda storage, loc: storage))"
   ]
  },
  {
   "cell_type": "code",
   "execution_count": 22,
   "metadata": {},
   "outputs": [],
   "source": [
    "baseline_centroids = torch.load(data_dir+'111419/baseline_model_centroids_epoch9',map_location=lambda storage, loc: storage)"
   ]
  },
  {
   "cell_type": "markdown",
   "metadata": {},
   "source": [
    "# Evaluate Model"
   ]
  },
  {
   "cell_type": "code",
   "execution_count": 23,
   "metadata": {},
   "outputs": [],
   "source": [
    "def evaluate_model(model, centroids, val_loader, num_examples=None):\n",
    "    model.eval()\n",
    "    token_list = []\n",
    "    cluster_assignment_list = []\n",
    "    flagged_index_list = []\n",
    "    original_label = []\n",
    "    for i, (tokens, labels, flagged_indices) in enumerate(val_loader):\n",
    "            tokens = tokens.to(current_device)\n",
    "            labels = labels.to(current_device)\n",
    "            flagged_indices = flagged_indices.to(current_device)\n",
    "            \n",
    "            # forward pass and compute loss\n",
    "            sentence_embed = model(tokens,flagged_indices)\n",
    "            cluster_loss, cluster_assignments = criterion(sentence_embed, centroids)\n",
    "            \n",
    "            # store in list\n",
    "            token_list+=tokens.tolist()\n",
    "            flagged_index_list+=flagged_indices.tolist()\n",
    "            cluster_assignment_list+=cluster_assignments.tolist()\n",
    "            original_label+=labels.tolist()\n",
    "            \n",
    "    return token_list, flagged_index_list, cluster_assignment_list, original_label"
   ]
  },
  {
   "cell_type": "code",
   "execution_count": 24,
   "metadata": {},
   "outputs": [],
   "source": [
    "token_list, index_list, cluster_assignment_list, original_label = evaluate_model(baseline_model, baseline_centroids,val_loader)"
   ]
  },
  {
   "cell_type": "code",
   "execution_count": 25,
   "metadata": {},
   "outputs": [
    {
     "data": {
      "text/plain": [
       "5364"
      ]
     },
     "execution_count": 25,
     "metadata": {},
     "output_type": "execute_result"
    }
   ],
   "source": [
    "len(index_list)"
   ]
  },
  {
   "cell_type": "code",
   "execution_count": 26,
   "metadata": {},
   "outputs": [
    {
     "data": {
      "text/plain": [
       "130"
      ]
     },
     "execution_count": 26,
     "metadata": {},
     "output_type": "execute_result"
    }
   ],
   "source": [
    "sum(cluster_assignment_list)"
   ]
  },
  {
   "cell_type": "code",
   "execution_count": 27,
   "metadata": {},
   "outputs": [],
   "source": [
    "dictionary = pkl.load(open(data_dir+'dictionary.p','rb'))"
   ]
  },
  {
   "cell_type": "code",
   "execution_count": 28,
   "metadata": {},
   "outputs": [],
   "source": [
    "pd.set_option('max_colwidth',0)"
   ]
  },
  {
   "cell_type": "code",
   "execution_count": 29,
   "metadata": {},
   "outputs": [],
   "source": [
    "def decode_predictions(token_list,index_list,cluster_assignment_list,dictionary,original_label):\n",
    "    decoded_tokens = [' '.join(dictionary.decode_idx_seq(sent)) for sent in token_list]\n",
    "    reviews = [decoded for decoded in decoded_tokens]\n",
    "    flagged_words = [r.split()[i] for (r,i) in zip(reviews,index_list)]\n",
    "    reviews = [review.split('<pad>')[0] for review in reviews]\n",
    "    df_pred = pd.DataFrame({'review':reviews,'index':index_list,'flagged_word':flagged_words,\\\n",
    "                            'assignment':cluster_assignment_list,'original':original_label})\n",
    "    return df_pred"
   ]
  },
  {
   "cell_type": "code",
   "execution_count": 30,
   "metadata": {},
   "outputs": [],
   "source": [
    "df_pred = decode_predictions(token_list,index_list,cluster_assignment_list,dictionary,original_label)\n",
    "pred_pos = df_pred[df_pred.assignment==1]\n",
    "pred_not = df_pred[df_pred.assignment==0]"
   ]
  },
  {
   "cell_type": "code",
   "execution_count": 35,
   "metadata": {},
   "outputs": [],
   "source": [
    "pred_pos.to_excel(\"baseline_pred_pos.xlsx\")"
   ]
  },
  {
   "cell_type": "code",
   "execution_count": 31,
   "metadata": {},
   "outputs": [
    {
     "data": {
      "text/html": [
       "<div>\n",
       "<style scoped>\n",
       "    .dataframe tbody tr th:only-of-type {\n",
       "        vertical-align: middle;\n",
       "    }\n",
       "\n",
       "    .dataframe tbody tr th {\n",
       "        vertical-align: top;\n",
       "    }\n",
       "\n",
       "    .dataframe thead th {\n",
       "        text-align: right;\n",
       "    }\n",
       "</style>\n",
       "<table border=\"1\" class=\"dataframe\">\n",
       "  <thead>\n",
       "    <tr style=\"text-align: right;\">\n",
       "      <th></th>\n",
       "      <th>review</th>\n",
       "      <th>index</th>\n",
       "      <th>flagged_word</th>\n",
       "      <th>assignment</th>\n",
       "      <th>original</th>\n",
       "    </tr>\n",
       "  </thead>\n",
       "  <tbody>\n",
       "    <tr>\n",
       "      <th>19</th>\n",
       "      <td>i am very proud for my logo and my designer dorapol * .just perfect ! !</td>\n",
       "      <td>3</td>\n",
       "      <td>proud</td>\n",
       "      <td>1</td>\n",
       "      <td>-1</td>\n",
       "    </tr>\n",
       "    <tr>\n",
       "      <th>79</th>\n",
       "      <td>alexandra was super responsive to feedback , took great care to understand the brief and review all supplied materials .</td>\n",
       "      <td>8</td>\n",
       "      <td>great</td>\n",
       "      <td>1</td>\n",
       "      <td>-1</td>\n",
       "    </tr>\n",
       "    <tr>\n",
       "      <th>112</th>\n",
       "      <td>very helpful and did n't rush me to make decisions .</td>\n",
       "      <td>9</td>\n",
       "      <td>decisions</td>\n",
       "      <td>1</td>\n",
       "      <td>-1</td>\n",
       "    </tr>\n",
       "    <tr>\n",
       "      <th>130</th>\n",
       "      <td>she created a character portrait of me from reference photographs that i absolutely adore and will be tickled to share with the world .</td>\n",
       "      <td>19</td>\n",
       "      <td>share</td>\n",
       "      <td>1</td>\n",
       "      <td>-1</td>\n",
       "    </tr>\n",
       "    <tr>\n",
       "      <th>312</th>\n",
       "      <td>highly recommended and will use and trusts her with future projects !</td>\n",
       "      <td>6</td>\n",
       "      <td>trusts</td>\n",
       "      <td>1</td>\n",
       "      <td>-1</td>\n",
       "    </tr>\n",
       "    <tr>\n",
       "      <th>422</th>\n",
       "      <td>wendy is awesome [ 11 february , 2018 ] 4th job wendy has done for me - brilliant as usual .</td>\n",
       "      <td>17</td>\n",
       "      <td>brilliant</td>\n",
       "      <td>1</td>\n",
       "      <td>-1</td>\n",
       "    </tr>\n",
       "    <tr>\n",
       "      <th>436</th>\n",
       "      <td>[ 25 june , 2018 ] his work is great .</td>\n",
       "      <td>9</td>\n",
       "      <td>great</td>\n",
       "      <td>1</td>\n",
       "      <td>-1</td>\n",
       "    </tr>\n",
       "    <tr>\n",
       "      <th>482</th>\n",
       "      <td>une excellent comprehension du brief une vraie réactivité</td>\n",
       "      <td>1</td>\n",
       "      <td>excellent</td>\n",
       "      <td>1</td>\n",
       "      <td>-1</td>\n",
       "    </tr>\n",
       "    <tr>\n",
       "      <th>524</th>\n",
       "      <td>she 'll never stir you wrong !</td>\n",
       "      <td>5</td>\n",
       "      <td>wrong</td>\n",
       "      <td>1</td>\n",
       "      <td>-1</td>\n",
       "    </tr>\n",
       "    <tr>\n",
       "      <th>531</th>\n",
       "      <td>ernest was wonderfully patient and supportive in helping me to understand and use spss to undertake basic statistical analysis !</td>\n",
       "      <td>5</td>\n",
       "      <td>supportive</td>\n",
       "      <td>1</td>\n",
       "      <td>-1</td>\n",
       "    </tr>\n",
       "    <tr>\n",
       "      <th>666</th>\n",
       "      <td>very diligent and fast to respond .</td>\n",
       "      <td>1</td>\n",
       "      <td>diligent</td>\n",
       "      <td>1</td>\n",
       "      <td>-1</td>\n",
       "    </tr>\n",
       "    <tr>\n",
       "      <th>697</th>\n",
       "      <td>luke has developed a vr project from the ground up creating a stunning life like model of an historic building set in an historic setting .</td>\n",
       "      <td>15</td>\n",
       "      <td>model</td>\n",
       "      <td>1</td>\n",
       "      <td>-1</td>\n",
       "    </tr>\n",
       "    <tr>\n",
       "      <th>701</th>\n",
       "      <td>working with charlotte was a pleasure , charlotte was able to reproduce random ideas , notes and bullet points into some great web content for us .</td>\n",
       "      <td>9</td>\n",
       "      <td>able</td>\n",
       "      <td>1</td>\n",
       "      <td>-1</td>\n",
       "    </tr>\n",
       "    <tr>\n",
       "      <th>713</th>\n",
       "      <td>excellent work refactoring angular 2 component injection and introducing unit testing</td>\n",
       "      <td>0</td>\n",
       "      <td>excellent</td>\n",
       "      <td>1</td>\n",
       "      <td>-1</td>\n",
       "    </tr>\n",
       "    <tr>\n",
       "      <th>777</th>\n",
       "      <td>however , jee jones was not only able to follow all specifications but was able to extrapolate them into a creative conte ...</td>\n",
       "      <td>20</td>\n",
       "      <td>creative</td>\n",
       "      <td>1</td>\n",
       "      <td>-1</td>\n",
       "    </tr>\n",
       "    <tr>\n",
       "      <th>889</th>\n",
       "      <td>[ 20 june , 2018 ] nice to work with him .</td>\n",
       "      <td>6</td>\n",
       "      <td>nice</td>\n",
       "      <td>1</td>\n",
       "      <td>-1</td>\n",
       "    </tr>\n",
       "    <tr>\n",
       "      <th>904</th>\n",
       "      <td>i really love his humble attitude and the high quality of final work .</td>\n",
       "      <td>4</td>\n",
       "      <td>humble</td>\n",
       "      <td>1</td>\n",
       "      <td>-1</td>\n",
       "    </tr>\n",
       "    <tr>\n",
       "      <th>907</th>\n",
       "      <td>he has experience in mvc [ login to view url ] , c # programming and web developing .</td>\n",
       "      <td>2</td>\n",
       "      <td>experience</td>\n",
       "      <td>1</td>\n",
       "      <td>-1</td>\n",
       "    </tr>\n",
       "    <tr>\n",
       "      <th>989</th>\n",
       "      <td>great work with [ login to view url ] - did exactly what i was expecting and did it quickly .</td>\n",
       "      <td>0</td>\n",
       "      <td>great</td>\n",
       "      <td>1</td>\n",
       "      <td>-1</td>\n",
       "    </tr>\n",
       "    <tr>\n",
       "      <th>1035</th>\n",
       "      <td>very nice to work with and diligent about getting the final design correct .</td>\n",
       "      <td>6</td>\n",
       "      <td>diligent</td>\n",
       "      <td>1</td>\n",
       "      <td>-1</td>\n",
       "    </tr>\n",
       "  </tbody>\n",
       "</table>\n",
       "</div>"
      ],
      "text/plain": [
       "                                                                                                                                                    review  \\\n",
       "19    i am very proud for my logo and my designer dorapol * .just perfect ! !                                                                                \n",
       "79    alexandra was super responsive to feedback , took great care to understand the brief and review all supplied materials .                               \n",
       "112   very helpful and did n't rush me to make decisions .                                                                                                   \n",
       "130   she created a character portrait of me from reference photographs that i absolutely adore and will be tickled to share with the world .                \n",
       "312   highly recommended and will use and trusts her with future projects !                                                                                  \n",
       "422   wendy is awesome [ 11 february , 2018 ] 4th job wendy has done for me - brilliant as usual .                                                           \n",
       "436   [ 25 june , 2018 ] his work is great .                                                                                                                 \n",
       "482   une excellent comprehension du brief une vraie réactivité                                                                                              \n",
       "524   she 'll never stir you wrong !                                                                                                                         \n",
       "531   ernest was wonderfully patient and supportive in helping me to understand and use spss to undertake basic statistical analysis !                       \n",
       "666   very diligent and fast to respond .                                                                                                                    \n",
       "697   luke has developed a vr project from the ground up creating a stunning life like model of an historic building set in an historic setting .            \n",
       "701   working with charlotte was a pleasure , charlotte was able to reproduce random ideas , notes and bullet points into some great web content for us .    \n",
       "713   excellent work refactoring angular 2 component injection and introducing unit testing                                                                  \n",
       "777   however , jee jones was not only able to follow all specifications but was able to extrapolate them into a creative conte ...                          \n",
       "889   [ 20 june , 2018 ] nice to work with him .                                                                                                             \n",
       "904   i really love his humble attitude and the high quality of final work .                                                                                 \n",
       "907   he has experience in mvc [ login to view url ] , c # programming and web developing .                                                                  \n",
       "989   great work with [ login to view url ] - did exactly what i was expecting and did it quickly .                                                          \n",
       "1035  very nice to work with and diligent about getting the final design correct .                                                                           \n",
       "\n",
       "      index flagged_word  assignment  original  \n",
       "19    3      proud        1          -1         \n",
       "79    8      great        1          -1         \n",
       "112   9      decisions    1          -1         \n",
       "130   19     share        1          -1         \n",
       "312   6      trusts       1          -1         \n",
       "422   17     brilliant    1          -1         \n",
       "436   9      great        1          -1         \n",
       "482   1      excellent    1          -1         \n",
       "524   5      wrong        1          -1         \n",
       "531   5      supportive   1          -1         \n",
       "666   1      diligent     1          -1         \n",
       "697   15     model        1          -1         \n",
       "701   9      able         1          -1         \n",
       "713   0      excellent    1          -1         \n",
       "777   20     creative     1          -1         \n",
       "889   6      nice         1          -1         \n",
       "904   4      humble       1          -1         \n",
       "907   2      experience   1          -1         \n",
       "989   0      great        1          -1         \n",
       "1035  6      diligent     1          -1         "
      ]
     },
     "execution_count": 31,
     "metadata": {},
     "output_type": "execute_result"
    }
   ],
   "source": [
    "pred_pos[:20]"
   ]
  },
  {
   "cell_type": "code",
   "execution_count": 36,
   "metadata": {},
   "outputs": [],
   "source": [
    "pred_not.to_excel(\"baseline_pred_neg.xlsx\")"
   ]
  },
  {
   "cell_type": "code",
   "execution_count": 32,
   "metadata": {},
   "outputs": [
    {
     "data": {
      "text/html": [
       "<div>\n",
       "<style scoped>\n",
       "    .dataframe tbody tr th:only-of-type {\n",
       "        vertical-align: middle;\n",
       "    }\n",
       "\n",
       "    .dataframe tbody tr th {\n",
       "        vertical-align: top;\n",
       "    }\n",
       "\n",
       "    .dataframe thead th {\n",
       "        text-align: right;\n",
       "    }\n",
       "</style>\n",
       "<table border=\"1\" class=\"dataframe\">\n",
       "  <thead>\n",
       "    <tr style=\"text-align: right;\">\n",
       "      <th></th>\n",
       "      <th>review</th>\n",
       "      <th>index</th>\n",
       "      <th>flagged_word</th>\n",
       "      <th>assignment</th>\n",
       "      <th>original</th>\n",
       "    </tr>\n",
       "  </thead>\n",
       "  <tbody>\n",
       "    <tr>\n",
       "      <th>0</th>\n",
       "      <td>great work on a details , excellent communication and understanding .</td>\n",
       "      <td>0</td>\n",
       "      <td>great</td>\n",
       "      <td>0</td>\n",
       "      <td>-1</td>\n",
       "    </tr>\n",
       "    <tr>\n",
       "      <th>1</th>\n",
       "      <td>neat , accurate and timely response</td>\n",
       "      <td>0</td>\n",
       "      <td>neat</td>\n",
       "      <td>0</td>\n",
       "      <td>-1</td>\n",
       "    </tr>\n",
       "    <tr>\n",
       "      <th>2</th>\n",
       "      <td>great work as always : )</td>\n",
       "      <td>0</td>\n",
       "      <td>great</td>\n",
       "      <td>0</td>\n",
       "      <td>-1</td>\n",
       "    </tr>\n",
       "    <tr>\n",
       "      <th>3</th>\n",
       "      <td>i am a novice with shopify so it was great to have someone who understands what can be done .</td>\n",
       "      <td>9</td>\n",
       "      <td>great</td>\n",
       "      <td>0</td>\n",
       "      <td>-1</td>\n",
       "    </tr>\n",
       "    <tr>\n",
       "      <th>4</th>\n",
       "      <td>the project ended up in dispute and because i did n't like the work and she was not able to provide me with a revision .</td>\n",
       "      <td>18</td>\n",
       "      <td>able</td>\n",
       "      <td>0</td>\n",
       "      <td>-1</td>\n",
       "    </tr>\n",
       "    <tr>\n",
       "      <th>5</th>\n",
       "      <td>she took all the instructions and requests i made without the slightest hesitation and her responses were always timely .</td>\n",
       "      <td>15</td>\n",
       "      <td>responses</td>\n",
       "      <td>0</td>\n",
       "      <td>-1</td>\n",
       "    </tr>\n",
       "    <tr>\n",
       "      <th>6</th>\n",
       "      <td>he is extremely professional and has a development team to support such an initiative as developing an app from scratch</td>\n",
       "      <td>10</td>\n",
       "      <td>support</td>\n",
       "      <td>0</td>\n",
       "      <td>-1</td>\n",
       "    </tr>\n",
       "    <tr>\n",
       "      <th>7</th>\n",
       "      <td>excellent logo .</td>\n",
       "      <td>0</td>\n",
       "      <td>excellent</td>\n",
       "      <td>0</td>\n",
       "      <td>-1</td>\n",
       "    </tr>\n",
       "    <tr>\n",
       "      <th>8</th>\n",
       "      <td>i went back to her based on my past experience in working with her , and she did not disappoint .</td>\n",
       "      <td>9</td>\n",
       "      <td>experience</td>\n",
       "      <td>0</td>\n",
       "      <td>-1</td>\n",
       "    </tr>\n",
       "    <tr>\n",
       "      <th>9</th>\n",
       "      <td>such a great designer !</td>\n",
       "      <td>2</td>\n",
       "      <td>great</td>\n",
       "      <td>0</td>\n",
       "      <td>-1</td>\n",
       "    </tr>\n",
       "    <tr>\n",
       "      <th>10</th>\n",
       "      <td>very patient with my questions and great tenacity , thanks steve .</td>\n",
       "      <td>6</td>\n",
       "      <td>great</td>\n",
       "      <td>0</td>\n",
       "      <td>-1</td>\n",
       "    </tr>\n",
       "    <tr>\n",
       "      <th>11</th>\n",
       "      <td>great work ethic and very responsible fellow .</td>\n",
       "      <td>5</td>\n",
       "      <td>responsible</td>\n",
       "      <td>0</td>\n",
       "      <td>-1</td>\n",
       "    </tr>\n",
       "    <tr>\n",
       "      <th>12</th>\n",
       "      <td>great communication and fast work , sorted out all issues on my site .</td>\n",
       "      <td>0</td>\n",
       "      <td>great</td>\n",
       "      <td>0</td>\n",
       "      <td>-1</td>\n",
       "    </tr>\n",
       "    <tr>\n",
       "      <th>13</th>\n",
       "      <td>great to work with him .</td>\n",
       "      <td>0</td>\n",
       "      <td>great</td>\n",
       "      <td>0</td>\n",
       "      <td>-1</td>\n",
       "    </tr>\n",
       "    <tr>\n",
       "      <th>14</th>\n",
       "      <td>incredible talent along with great customer service .</td>\n",
       "      <td>4</td>\n",
       "      <td>great</td>\n",
       "      <td>0</td>\n",
       "      <td>-1</td>\n",
       "    </tr>\n",
       "    <tr>\n",
       "      <th>15</th>\n",
       "      <td>excellent designer &amp; a great service , thankyou</td>\n",
       "      <td>0</td>\n",
       "      <td>excellent</td>\n",
       "      <td>0</td>\n",
       "      <td>-1</td>\n",
       "    </tr>\n",
       "    <tr>\n",
       "      <th>16</th>\n",
       "      <td>elmdesign works fast , and he has a great range of talent .</td>\n",
       "      <td>8</td>\n",
       "      <td>great</td>\n",
       "      <td>0</td>\n",
       "      <td>-1</td>\n",
       "    </tr>\n",
       "    <tr>\n",
       "      <th>17</th>\n",
       "      <td>great help and superb knowledge on c programming .</td>\n",
       "      <td>0</td>\n",
       "      <td>great</td>\n",
       "      <td>0</td>\n",
       "      <td>-1</td>\n",
       "    </tr>\n",
       "    <tr>\n",
       "      <th>18</th>\n",
       "      <td>great communication and response time .</td>\n",
       "      <td>0</td>\n",
       "      <td>great</td>\n",
       "      <td>0</td>\n",
       "      <td>-1</td>\n",
       "    </tr>\n",
       "    <tr>\n",
       "      <th>20</th>\n",
       "      <td>patient , honest and detail-oriented .</td>\n",
       "      <td>2</td>\n",
       "      <td>honest</td>\n",
       "      <td>0</td>\n",
       "      <td>-1</td>\n",
       "    </tr>\n",
       "  </tbody>\n",
       "</table>\n",
       "</div>"
      ],
      "text/plain": [
       "                                                                                                                        review  \\\n",
       "0   great work on a details , excellent communication and understanding .                                                        \n",
       "1   neat , accurate and timely response                                                                                          \n",
       "2   great work as always : )                                                                                                     \n",
       "3   i am a novice with shopify so it was great to have someone who understands what can be done .                                \n",
       "4   the project ended up in dispute and because i did n't like the work and she was not able to provide me with a revision .     \n",
       "5   she took all the instructions and requests i made without the slightest hesitation and her responses were always timely .    \n",
       "6   he is extremely professional and has a development team to support such an initiative as developing an app from scratch      \n",
       "7   excellent logo .                                                                                                             \n",
       "8   i went back to her based on my past experience in working with her , and she did not disappoint .                            \n",
       "9   such a great designer !                                                                                                      \n",
       "10  very patient with my questions and great tenacity , thanks steve .                                                           \n",
       "11  great work ethic and very responsible fellow .                                                                               \n",
       "12  great communication and fast work , sorted out all issues on my site .                                                       \n",
       "13  great to work with him .                                                                                                     \n",
       "14  incredible talent along with great customer service .                                                                        \n",
       "15  excellent designer & a great service , thankyou                                                                              \n",
       "16  elmdesign works fast , and he has a great range of talent .                                                                  \n",
       "17  great help and superb knowledge on c programming .                                                                           \n",
       "18  great communication and response time .                                                                                      \n",
       "20  patient , honest and detail-oriented .                                                                                       \n",
       "\n",
       "    index flagged_word  assignment  original  \n",
       "0   0      great        0          -1         \n",
       "1   0      neat         0          -1         \n",
       "2   0      great        0          -1         \n",
       "3   9      great        0          -1         \n",
       "4   18     able         0          -1         \n",
       "5   15     responses    0          -1         \n",
       "6   10     support      0          -1         \n",
       "7   0      excellent    0          -1         \n",
       "8   9      experience   0          -1         \n",
       "9   2      great        0          -1         \n",
       "10  6      great        0          -1         \n",
       "11  5      responsible  0          -1         \n",
       "12  0      great        0          -1         \n",
       "13  0      great        0          -1         \n",
       "14  4      great        0          -1         \n",
       "15  0      excellent    0          -1         \n",
       "16  8      great        0          -1         \n",
       "17  0      great        0          -1         \n",
       "18  0      great        0          -1         \n",
       "20  2      honest       0          -1         "
      ]
     },
     "execution_count": 32,
     "metadata": {},
     "output_type": "execute_result"
    }
   ],
   "source": [
    "pred_not[:20]"
   ]
  },
  {
   "cell_type": "markdown",
   "metadata": {},
   "source": [
    "#### ideally there would be more here lol"
   ]
  },
  {
   "cell_type": "code",
   "execution_count": 33,
   "metadata": {},
   "outputs": [
    {
     "data": {
      "text/html": [
       "<div>\n",
       "<style scoped>\n",
       "    .dataframe tbody tr th:only-of-type {\n",
       "        vertical-align: middle;\n",
       "    }\n",
       "\n",
       "    .dataframe tbody tr th {\n",
       "        vertical-align: top;\n",
       "    }\n",
       "\n",
       "    .dataframe thead th {\n",
       "        text-align: right;\n",
       "    }\n",
       "</style>\n",
       "<table border=\"1\" class=\"dataframe\">\n",
       "  <thead>\n",
       "    <tr style=\"text-align: right;\">\n",
       "      <th></th>\n",
       "      <th>review</th>\n",
       "      <th>index</th>\n",
       "      <th>flagged_word</th>\n",
       "      <th>assignment</th>\n",
       "      <th>original</th>\n",
       "    </tr>\n",
       "  </thead>\n",
       "  <tbody>\n",
       "    <tr>\n",
       "      <th>272</th>\n",
       "      <td>great ideas , perfect work - always willing to do additional corrections and additional files .</td>\n",
       "      <td>0</td>\n",
       "      <td>great</td>\n",
       "      <td>0</td>\n",
       "      <td>0</td>\n",
       "    </tr>\n",
       "    <tr>\n",
       "      <th>1947</th>\n",
       "      <td>thanks for the great work !</td>\n",
       "      <td>3</td>\n",
       "      <td>great</td>\n",
       "      <td>0</td>\n",
       "      <td>0</td>\n",
       "    </tr>\n",
       "    <tr>\n",
       "      <th>2115</th>\n",
       "      <td>systematic chaos was great with my feedback and was always able to come up with new versions and variations that were consistent improvements to what i was looking for .</td>\n",
       "      <td>0</td>\n",
       "      <td>systematic</td>\n",
       "      <td>0</td>\n",
       "      <td>0</td>\n",
       "    </tr>\n",
       "    <tr>\n",
       "      <th>2334</th>\n",
       "      <td>julio is always very pleasant to work with , reliable and returned the translation ahead of schedule - would love to work with again !</td>\n",
       "      <td>4</td>\n",
       "      <td>pleasant</td>\n",
       "      <td>0</td>\n",
       "      <td>1</td>\n",
       "    </tr>\n",
       "    <tr>\n",
       "      <th>4100</th>\n",
       "      <td>great design and great communications .</td>\n",
       "      <td>3</td>\n",
       "      <td>great</td>\n",
       "      <td>0</td>\n",
       "      <td>0</td>\n",
       "    </tr>\n",
       "    <tr>\n",
       "      <th>4584</th>\n",
       "      <td>jiang is an excellent freelancer .</td>\n",
       "      <td>3</td>\n",
       "      <td>excellent</td>\n",
       "      <td>0</td>\n",
       "      <td>1</td>\n",
       "    </tr>\n",
       "  </tbody>\n",
       "</table>\n",
       "</div>"
      ],
      "text/plain": [
       "                                                                                                                                                                         review  \\\n",
       "272   great ideas , perfect work - always willing to do additional corrections and additional files .                                                                             \n",
       "1947  thanks for the great work !                                                                                                                                                 \n",
       "2115  systematic chaos was great with my feedback and was always able to come up with new versions and variations that were consistent improvements to what i was looking for .   \n",
       "2334  julio is always very pleasant to work with , reliable and returned the translation ahead of schedule - would love to work with again !                                      \n",
       "4100  great design and great communications .                                                                                                                                     \n",
       "4584  jiang is an excellent freelancer .                                                                                                                                          \n",
       "\n",
       "      index flagged_word  assignment  original  \n",
       "272   0      great        0           0         \n",
       "1947  3      great        0           0         \n",
       "2115  0      systematic   0           0         \n",
       "2334  4      pleasant     0           1         \n",
       "4100  3      great        0           0         \n",
       "4584  3      excellent    0           1         "
      ]
     },
     "execution_count": 33,
     "metadata": {},
     "output_type": "execute_result"
    }
   ],
   "source": [
    "check=df_pred[df_pred.original!=-1]\n",
    "check"
   ]
  },
  {
   "cell_type": "code",
   "execution_count": null,
   "metadata": {},
   "outputs": [],
   "source": []
  }
 ],
 "metadata": {
  "accelerator": "GPU",
  "colab": {
   "name": "model_tuning.ipynb",
   "provenance": []
  },
  "kernelspec": {
   "display_name": "Python 3",
   "language": "python",
   "name": "python3"
  },
  "language_info": {
   "codemirror_mode": {
    "name": "ipython",
    "version": 3
   },
   "file_extension": ".py",
   "mimetype": "text/x-python",
   "name": "python",
   "nbconvert_exporter": "python",
   "pygments_lexer": "ipython3",
   "version": "3.6.9"
  }
 },
 "nbformat": 4,
 "nbformat_minor": 4
}
