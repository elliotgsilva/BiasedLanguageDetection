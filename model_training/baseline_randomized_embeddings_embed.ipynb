{
 "cells": [
  {
   "cell_type": "code",
   "execution_count": 2,
   "metadata": {},
   "outputs": [],
   "source": [
    "# ## KAGGLE ONLY\n",
    "# from shutil import copyfile\n",
    "# copyfile(src=\"../input/inputs/generate_dataloaders.py\", dst=\"../working/generate_dataloaders.py\")\n",
    "# copyfile(src=\"../input/inputs/train_dataloader.p\", dst=\"../working/train_dataloader.p\")\n",
    "# copyfile(src=\"../input/inputs/val_dataloader.p\", dst=\"../working/val_dataloader.p\")\n",
    "# copyfile(src=\"../input/inputs/centroids_dataloader.p\", dst=\"../working/ground_truth_dataloader.p\")\n",
    "# copyfile(src=\"../input/inputs/dictionary.p\", dst=\"../working/dictionary.p\")\n",
    "\n",
    "# copyfile(src=\"../input/input2/train_unlabeld_dataloader.p\", dst=\"../working/train_unlabelled_dataloader.p\")\n",
    "# copyfile(src=\"../input/input2/train_labeled_dataloader.p\", dst=\"../working/train_labelled_dataloader.p\")"
   ]
  },
  {
   "cell_type": "code",
   "execution_count": 45,
   "metadata": {
    "colab": {},
    "colab_type": "code",
    "id": "zno22FtJPX9z"
   },
   "outputs": [
    {
     "data": {
      "text/plain": [
       "<module 'evaluation' from '/Users/elliotsilva/Desktop/DS-GA-1006/FairFrame/evaluation.py'>"
      ]
     },
     "execution_count": 45,
     "metadata": {},
     "output_type": "execute_result"
    }
   ],
   "source": [
    "import numpy as np\n",
    "import matplotlib.pyplot as plt\n",
    "\n",
    "import torch\n",
    "from torch import nn\n",
    "from torch import optim\n",
    "from torch.utils.data import DataLoader\n",
    "import torch.nn.functional as F\n",
    "\n",
    "#from datasets import get_mnist_dataset, get_data_loader\n",
    "#from utils import *\n",
    "#from models import *\n",
    "\n",
    "import pickle as pkl\n",
    "import os\n",
    "import datetime as dt\n",
    "import pandas as pd\n",
    "import random\n",
    "\n",
    "from generate_dataloaders import *\n",
    "from tqdm import tqdm_notebook as tqdm\n",
    "\n",
    "import evaluation\n",
    "import importlib\n",
    "importlib.reload(evaluation)"
   ]
  },
  {
   "cell_type": "markdown",
   "metadata": {
    "colab_type": "text",
    "id": "oaJEVd0wPX94"
   },
   "source": [
    "## Get Dataloaders"
   ]
  },
  {
   "cell_type": "code",
   "execution_count": 6,
   "metadata": {},
   "outputs": [],
   "source": [
    "seed = 1029\n",
    "torch.manual_seed(seed)\n",
    "torch.cuda.manual_seed(seed)\n",
    "torch.cuda.manual_seed_all(seed)  # if you are using multi-GPU.\n",
    "np.random.seed(seed)  # Numpy module.\n",
    "random.seed(seed)  # Python random module.\n",
    "torch.manual_seed(seed)\n",
    "torch.backends.cudnn.enabled = False \n",
    "torch.backends.cudnn.benchmark = False\n",
    "torch.backends.cudnn.deterministic = True\n",
    "\n",
    "if torch.cuda.is_available(): torch.cuda.manual_seed_all(seed)\n",
    "\n",
    "def _init_fn(worker_id):\n",
    "    np.random.seed(int(seed))"
   ]
  },
  {
   "cell_type": "code",
   "execution_count": 7,
   "metadata": {
    "colab": {},
    "colab_type": "code",
    "id": "6nLzh007PX98"
   },
   "outputs": [],
   "source": [
    "path = os.getcwd()\n",
    "data_dir = path + '/data/'"
   ]
  },
  {
   "cell_type": "code",
   "execution_count": 8,
   "metadata": {
    "colab": {},
    "colab_type": "code",
    "id": "yq-jDGFIPX99"
   },
   "outputs": [],
   "source": [
    "train_loader = pkl.load(open(data_dir + 'train_dataloader.p','rb'))\n",
    "train_loader_labelled = pkl.load(open(data_dir + 'train_labeled_dataloader.p','rb'))\n",
    "train_loader_unlabelled = pkl.load(open(data_dir + 'train_unlabeled_dataloader.p','rb'))\n",
    "val_loader = pkl.load(open(data_dir + 'val_dataloader.p','rb'))"
   ]
  },
  {
   "cell_type": "code",
   "execution_count": 9,
   "metadata": {},
   "outputs": [],
   "source": [
    "#%conda install pytorch torchvision -c pytorch\n",
    "## if torch.__version__ is not 1.3.1, run this cell then restart kernel"
   ]
  },
  {
   "cell_type": "code",
   "execution_count": 10,
   "metadata": {
    "colab": {},
    "colab_type": "code",
    "id": "Lzz8lwNQPX-B",
    "outputId": "690cb77f-2525-4c5a-ea14-a162716e34d3"
   },
   "outputs": [
    {
     "name": "stdout",
     "output_type": "stream",
     "text": [
      "1.3.1\n"
     ]
    }
   ],
   "source": [
    "print(torch.__version__)"
   ]
  },
  {
   "cell_type": "markdown",
   "metadata": {
    "colab_type": "text",
    "id": "Cvt6N9QCPX-X"
   },
   "source": [
    "## Neural Network Class"
   ]
  },
  {
   "cell_type": "markdown",
   "metadata": {
    "colab_type": "text",
    "id": "puweJhdxPX-Y"
   },
   "source": [
    "NOTE: Data loader is defined as:\n",
    "- tuple: (tokens, flagged_index, problematic)"
   ]
  },
  {
   "cell_type": "code",
   "execution_count": 11,
   "metadata": {
    "colab": {},
    "colab_type": "code",
    "id": "W8BZ-QhNPX-Z"
   },
   "outputs": [],
   "source": [
    "class neuralNetBow(nn.Module):\n",
    "    \"\"\"\n",
    "    BagOfWords classification model\n",
    "    \"\"\"\n",
    "    # NOTE: we can't use linear layer until we take weighted average, otherwise it will\n",
    "    # remember certain positions incorrectly (ie, 4th word has bigger weights vs 7th word)\n",
    "    def __init__(self, opts):\n",
    "        super(neuralNetBow, self).__init__()\n",
    "        self.embed = nn.Embedding(opts['vocab_size'], opts['emb_dim'], padding_idx=0)\n",
    "        self.upweight = opts['upweight']\n",
    "    \n",
    "    def forward(self, tokens, flagged_index):\n",
    "        batch_size, num_tokens = tokens.shape\n",
    "        embedding = self.embed(tokens)\n",
    "        \n",
    "        # upweight by flagged_index\n",
    "        embedding[torch.LongTensor(range(batch_size)),flagged_index.type(torch.LongTensor),:] *= self.upweight\n",
    "        \n",
    "        # average across embeddings\n",
    "        embedding_ave = embedding.sum(1) / (num_tokens + self.upweight - 1)\n",
    "        \n",
    "        return embedding_ave"
   ]
  },
  {
   "cell_type": "markdown",
   "metadata": {
    "colab_type": "text",
    "id": "SGsqcnEtPX-a"
   },
   "source": [
    "### Clustering Stuff"
   ]
  },
  {
   "cell_type": "code",
   "execution_count": 12,
   "metadata": {
    "colab": {},
    "colab_type": "code",
    "id": "MrgIYm8JPX-b"
   },
   "outputs": [],
   "source": [
    "class KMeansCriterion(nn.Module):\n",
    "    \n",
    "    def __init__(self):\n",
    "        super().__init__()\n",
    "    \n",
    "    def forward(self, embeddings, centroids):\n",
    "        distances = torch.sum((embeddings[:, None, :] - centroids)**2, 2)\n",
    "        cluster_distances, cluster_assignments = distances.min(1)\n",
    "        loss = cluster_distances.sum()\n",
    "        return loss, cluster_assignments"
   ]
  },
  {
   "cell_type": "code",
   "execution_count": 13,
   "metadata": {
    "colab": {},
    "colab_type": "code",
    "id": "-TJohK2aPX-d"
   },
   "outputs": [],
   "source": [
    "def centroid_init(k, d, dataloader, model, current_device):\n",
    "    ## Here we ideally don't want to do randomized/zero initialization\n",
    "    centroid_sums = torch.zeros(k, d).to(current_device)\n",
    "    centroid_counts = torch.zeros(k).to(current_device)\n",
    "    for (tokens, labels, flagged_indices) in dataloader:\n",
    "        # cluster_assignments = torch.LongTensor(tokens.size(0)).random_(k)\n",
    "        cluster_assignments = labels.to(current_device)\n",
    "        \n",
    "        model.eval()\n",
    "        sentence_embed = model(tokens.to(current_device),flagged_indices.to(current_device))\n",
    "    \n",
    "        update_clusters(centroid_sums, centroid_counts,\n",
    "                        cluster_assignments, sentence_embed.to(current_device))\n",
    "    \n",
    "    centroid_means = centroid_sums / centroid_counts[:, None].to(current_device)\n",
    "    return centroid_means.clone()\n",
    "\n",
    "def update_clusters(centroid_sums, centroid_counts,\n",
    "                    cluster_assignments, embeddings):\n",
    "    k = centroid_sums.size(0)\n",
    "\n",
    "    centroid_sums.index_add_(0, cluster_assignments, embeddings)\n",
    "    bin_counts = torch.bincount(cluster_assignments,minlength=k).type(torch.FloatTensor).to(current_device)\n",
    "    centroid_counts.add_(bin_counts)\n",
    "    \n",
    "    #np_cluster_assignments = cluster_assignments.to('cpu')\n",
    "    #np_counts = np.bincount(np_cluster_assignments.data.numpy(), minlength=k)\n",
    "    #centroid_counts.add_(torch.FloatTensor(np_counts))"
   ]
  },
  {
   "cell_type": "markdown",
   "metadata": {
    "colab_type": "text",
    "id": "u3wynM7fPX-h"
   },
   "source": [
    "## Training Function"
   ]
  },
  {
   "cell_type": "code",
   "execution_count": 26,
   "metadata": {
    "colab": {},
    "colab_type": "code",
    "id": "KglsYxPJPX-i"
   },
   "outputs": [],
   "source": [
    "def train_model(model, centroids, criterion, optimizer, train_loader, valid_loader, num_epochs=10, path_to_save=None, print_every = 1000):\n",
    "\n",
    "    train_losses=[]\n",
    "    val_losses=[]\n",
    "    num_gpus = torch.cuda.device_count()\n",
    "    if num_gpus > 0:\n",
    "        current_device = 'cuda'\n",
    "    else:\n",
    "        current_device = 'cpu'\n",
    "    \n",
    "    for epoch in range(num_epochs):\n",
    "        print('{} | Epoch {}'.format(dt.datetime.now(), epoch))\n",
    "        model.train()\n",
    "        k, d = centroids.size()\n",
    "        centroid_sums = torch.zeros_like(centroids).to(current_device)\n",
    "        centroid_counts = torch.zeros(k).to(current_device)\n",
    "        total_epoch_loss = 0\n",
    "\n",
    "        # run one epoch of gradient descent on autoencoders wrt centroids\n",
    "        for i, (tokens, labels, flagged_indices) in tqdm(enumerate(train_loader)):\n",
    "            tokens = tokens.to(current_device)\n",
    "            labels = labels.to(current_device)\n",
    "            flagged_indices = flagged_indices.to(current_device)\n",
    "\n",
    "            # forward pass and compute loss\n",
    "            sentence_embed = model(tokens,flagged_indices)\n",
    "            cluster_loss, cluster_assignments = criterion(sentence_embed, centroids.detach())\n",
    "\n",
    "            # run update step\n",
    "            optimizer.zero_grad()\n",
    "            cluster_loss.backward()\n",
    "            optimizer.step()\n",
    "            \n",
    "            #Add loss to the epoch loss\n",
    "            total_epoch_loss += cluster_loss.data\n",
    "\n",
    "            # store centroid sums and counts in memory for later centering\n",
    "            update_clusters(centroid_sums, centroid_counts,\n",
    "                            cluster_assignments, sentence_embed)\n",
    "\n",
    "            if i % print_every == 0:\n",
    "                losses = cluster_loss.data/len(tokens)\n",
    "                print('Average training loss at batch ',i,': %.3f' % losses)\n",
    "            \n",
    "        total_epoch_loss /= len(train_loader.dataset)\n",
    "        train_losses.append(total_epoch_loss)\n",
    "        print('Average training loss after epoch ',epoch,': %.3f' % total_epoch_loss)\n",
    "        \n",
    "        # update centroids based on assignments from autoencoders\n",
    "        centroids = centroid_sums / (centroid_counts[:, None] + 1).to(current_device)\n",
    "        \n",
    "        # calculate validation loss after every epoch\n",
    "        total_validation_loss = 0\n",
    "        for i, (tokens, labels, flagged_indices) in enumerate(valid_loader):\n",
    "            model.eval()\n",
    "            tokens = tokens.to(current_device)\n",
    "            labels = labels.to(current_device)\n",
    "            flagged_indices = flagged_indices.to(current_device)\n",
    "            \n",
    "            # forward pass and compute loss\n",
    "            sentence_embed = model(tokens,flagged_indices)\n",
    "            cluster_loss, cluster_assignments = criterion(sentence_embed, centroids)\n",
    "            \n",
    "            #Add loss to the validation loss\n",
    "            total_validation_loss += cluster_loss.data\n",
    "\n",
    "        total_validation_loss /= len(valid_loader.dataset)\n",
    "        val_losses.append(total_validation_loss)\n",
    "        print('Average validation loss after epoch ',epoch,': %.3f' % total_validation_loss)\n",
    "        \n",
    "        if path_to_save == None:\n",
    "            pass\n",
    "        else:\n",
    "            torch.save(model.state_dict(), path_to_save+'model_dict.pt')\n",
    "            torch.save(centroids, path_to_save+'centroids')\n",
    "            torch.save(train_losses, path_to_save+'train_losses')\n",
    "            torch.save(val_losses, path_to_save+'val_losses')\n",
    "            torch.save(opts, path_to_save+'opts') #change options depending on model inputs required\n",
    "        \n",
    "    return model, centroids, train_losses, val_losses"
   ]
  },
  {
   "cell_type": "code",
   "execution_count": 27,
   "metadata": {
    "colab": {},
    "colab_type": "code",
    "id": "0pBet75ZPX-m"
   },
   "outputs": [
    {
     "name": "stdout",
     "output_type": "stream",
     "text": [
      "Current Device: cpu\n"
     ]
    }
   ],
   "source": [
    "num_gpus = torch.cuda.device_count()\n",
    "if num_gpus > 0:\n",
    "    current_device = 'cuda'\n",
    "else:\n",
    "    current_device = 'cpu'\n",
    "print(\"Current Device:\",current_device)"
   ]
  },
  {
   "cell_type": "markdown",
   "metadata": {},
   "source": [
    "## Hyperparameter Tuning Loop"
   ]
  },
  {
   "cell_type": "code",
   "execution_count": 22,
   "metadata": {},
   "outputs": [],
   "source": [
    "def get_save_directory(opts):\n",
    "    path = os.getcwd()\n",
    "    model_folder = 'baseline_randomized_embeddings/'\n",
    "    model_dir = path + '/models/' + model_folder\n",
    "    \n",
    "    # subfolder for each hyperparam config\n",
    "    emb_dim = opts['emb_dim']\n",
    "    upweight = opts['upweight']\n",
    "    subfolder = \"emb_dim=\"+str(emb_dim) + \",upweight=\"+str(upweight) + '/'\n",
    "    \n",
    "    # need to actually create these subfolders lol\n",
    "    try:\n",
    "        os.makedirs(model_dir + subfolder) # will throw error if subfolder already exists\n",
    "    except:\n",
    "        pass\n",
    "    \n",
    "    return model_dir + subfolder"
   ]
  },
  {
   "cell_type": "code",
   "execution_count": 38,
   "metadata": {},
   "outputs": [],
   "source": [
    "def train_config(opts):\n",
    "    model = neuralNetBow(opts).to(current_device)\n",
    "    centroids = centroid_init(2, opts['emb_dim'],train_loader_labelled, model, current_device)\n",
    "    criterion = KMeansCriterion().to(current_device)\n",
    "    optimizer = torch.optim.Adam(model.parameters(), 0.01, amsgrad=True)\n",
    "    path_to_save = get_save_directory(opts)\n",
    "    print(path_to_save)\n",
    "    \n",
    "    train_model(model, centroids, criterion, optimizer, train_loader, val_loader, num_epochs=10, path_to_save=path_to_save)"
   ]
  },
  {
   "cell_type": "code",
   "execution_count": 42,
   "metadata": {
    "colab": {},
    "colab_type": "code",
    "id": "H0kEtvbqPX-k"
   },
   "outputs": [
    {
     "name": "stdout",
     "output_type": "stream",
     "text": [
      "/Users/elliotsilva/Desktop/DS-GA-1006/FairFrame/models/baseline_randomized_embeddings/emb_dim=128,upweight=1/\n",
      "2019-12-05 23:16:18.781605 | Epoch 0\n"
     ]
    },
    {
     "data": {
      "application/vnd.jupyter.widget-view+json": {
       "model_id": "10ef05879a59453d9629f4f36cb111b9",
       "version_major": 2,
       "version_minor": 0
      },
      "text/plain": [
       "HBox(children=(IntProgress(value=1, bar_style='info', max=1), HTML(value='')))"
      ]
     },
     "metadata": {},
     "output_type": "display_data"
    },
    {
     "name": "stdout",
     "output_type": "stream",
     "text": [
      "Average training loss at batch  0 : 1.427\n",
      "Average training loss at batch  1000 : 0.122\n",
      "Average training loss at batch  2000 : 0.082\n",
      "Average training loss at batch  3000 : 0.079\n",
      "\n",
      "Average training loss after epoch  0 : 0.183\n",
      "Average validation loss after epoch  0 : 0.061\n",
      "2019-12-05 23:17:34.991197 | Epoch 1\n"
     ]
    },
    {
     "data": {
      "application/vnd.jupyter.widget-view+json": {
       "model_id": "0f9feb64a9a9403f840f9a279d4822bd",
       "version_major": 2,
       "version_minor": 0
      },
      "text/plain": [
       "HBox(children=(IntProgress(value=1, bar_style='info', max=1), HTML(value='')))"
      ]
     },
     "metadata": {},
     "output_type": "display_data"
    },
    {
     "name": "stdout",
     "output_type": "stream",
     "text": [
      "Average training loss at batch  0 : 0.025\n",
      "Average training loss at batch  1000 : 0.035\n",
      "Average training loss at batch  2000 : 0.065\n",
      "Average training loss at batch  3000 : 0.042\n",
      "\n",
      "Average training loss after epoch  1 : 0.038\n",
      "Average validation loss after epoch  1 : 0.039\n",
      "2019-12-05 23:19:07.386495 | Epoch 2\n"
     ]
    },
    {
     "data": {
      "application/vnd.jupyter.widget-view+json": {
       "model_id": "d20c758170fb492093d24e13eebab219",
       "version_major": 2,
       "version_minor": 0
      },
      "text/plain": [
       "HBox(children=(IntProgress(value=1, bar_style='info', max=1), HTML(value='')))"
      ]
     },
     "metadata": {},
     "output_type": "display_data"
    },
    {
     "name": "stdout",
     "output_type": "stream",
     "text": [
      "Average training loss at batch  0 : 0.029\n",
      "Average training loss at batch  1000 : 0.033\n",
      "Average training loss at batch  2000 : 0.022\n",
      "Average training loss at batch  3000 : 0.012\n",
      "\n",
      "Average training loss after epoch  2 : 0.023\n",
      "Average validation loss after epoch  2 : 0.032\n",
      "2019-12-05 23:20:39.834752 | Epoch 3\n"
     ]
    },
    {
     "data": {
      "application/vnd.jupyter.widget-view+json": {
       "model_id": "05cb3e37dd8f4dfbbf4f27c3c6bd8227",
       "version_major": 2,
       "version_minor": 0
      },
      "text/plain": [
       "HBox(children=(IntProgress(value=1, bar_style='info', max=1), HTML(value='')))"
      ]
     },
     "metadata": {},
     "output_type": "display_data"
    },
    {
     "name": "stdout",
     "output_type": "stream",
     "text": [
      "Average training loss at batch  0 : 0.018\n",
      "Average training loss at batch  1000 : 0.017\n",
      "Average training loss at batch  2000 : 0.011\n",
      "Average training loss at batch  3000 : 0.018\n",
      "\n",
      "Average training loss after epoch  3 : 0.017\n",
      "Average validation loss after epoch  3 : 0.027\n",
      "2019-12-05 23:22:10.936813 | Epoch 4\n"
     ]
    },
    {
     "data": {
      "application/vnd.jupyter.widget-view+json": {
       "model_id": "d6deff841f7f4f158d0838fef2fe2bb1",
       "version_major": 2,
       "version_minor": 0
      },
      "text/plain": [
       "HBox(children=(IntProgress(value=1, bar_style='info', max=1), HTML(value='')))"
      ]
     },
     "metadata": {},
     "output_type": "display_data"
    },
    {
     "name": "stdout",
     "output_type": "stream",
     "text": [
      "Average training loss at batch  0 : 0.016\n",
      "Average training loss at batch  1000 : 0.009\n",
      "Average training loss at batch  2000 : 0.020\n",
      "Average training loss at batch  3000 : 0.037\n",
      "\n",
      "Average training loss after epoch  4 : 0.014\n",
      "Average validation loss after epoch  4 : 0.024\n",
      "2019-12-05 23:23:42.009512 | Epoch 5\n"
     ]
    },
    {
     "data": {
      "application/vnd.jupyter.widget-view+json": {
       "model_id": "5e273ab3a1c546d3b80b1e643dc9d322",
       "version_major": 2,
       "version_minor": 0
      },
      "text/plain": [
       "HBox(children=(IntProgress(value=1, bar_style='info', max=1), HTML(value='')))"
      ]
     },
     "metadata": {},
     "output_type": "display_data"
    },
    {
     "name": "stdout",
     "output_type": "stream",
     "text": [
      "Average training loss at batch  0 : 0.012\n",
      "Average training loss at batch  1000 : 0.012\n",
      "Average training loss at batch  2000 : 0.013\n",
      "Average training loss at batch  3000 : 0.011\n",
      "\n",
      "Average training loss after epoch  5 : 0.011\n",
      "Average validation loss after epoch  5 : 0.022\n",
      "2019-12-05 23:25:13.258699 | Epoch 6\n"
     ]
    },
    {
     "data": {
      "application/vnd.jupyter.widget-view+json": {
       "model_id": "bab904b459d147f6a05be8fb0e1097a7",
       "version_major": 2,
       "version_minor": 0
      },
      "text/plain": [
       "HBox(children=(IntProgress(value=1, bar_style='info', max=1), HTML(value='')))"
      ]
     },
     "metadata": {},
     "output_type": "display_data"
    },
    {
     "name": "stdout",
     "output_type": "stream",
     "text": [
      "Average training loss at batch  0 : 0.008\n",
      "Average training loss at batch  1000 : 0.011\n",
      "Average training loss at batch  2000 : 0.011\n",
      "Average training loss at batch  3000 : 0.012\n",
      "\n",
      "Average training loss after epoch  6 : 0.010\n",
      "Average validation loss after epoch  6 : 0.018\n",
      "2019-12-05 23:26:45.595663 | Epoch 7\n"
     ]
    },
    {
     "data": {
      "application/vnd.jupyter.widget-view+json": {
       "model_id": "17a97d4b54754b3da86006ba1f1a026f",
       "version_major": 2,
       "version_minor": 0
      },
      "text/plain": [
       "HBox(children=(IntProgress(value=1, bar_style='info', max=1), HTML(value='')))"
      ]
     },
     "metadata": {},
     "output_type": "display_data"
    },
    {
     "name": "stdout",
     "output_type": "stream",
     "text": [
      "Average training loss at batch  0 : 0.007\n",
      "Average training loss at batch  1000 : 0.007\n",
      "Average training loss at batch  2000 : 0.004\n",
      "Average training loss at batch  3000 : 0.005\n",
      "\n",
      "Average training loss after epoch  7 : 0.006\n",
      "Average validation loss after epoch  7 : 0.016\n",
      "2019-12-05 23:28:16.775837 | Epoch 8\n"
     ]
    },
    {
     "data": {
      "application/vnd.jupyter.widget-view+json": {
       "model_id": "9b5d2d071b1d4354939fadba3b9e36b1",
       "version_major": 2,
       "version_minor": 0
      },
      "text/plain": [
       "HBox(children=(IntProgress(value=1, bar_style='info', max=1), HTML(value='')))"
      ]
     },
     "metadata": {},
     "output_type": "display_data"
    },
    {
     "name": "stdout",
     "output_type": "stream",
     "text": [
      "Average training loss at batch  0 : 0.007\n",
      "Average training loss at batch  1000 : 0.005\n",
      "Average training loss at batch  2000 : 0.005\n",
      "Average training loss at batch  3000 : 0.005\n",
      "\n",
      "Average training loss after epoch  8 : 0.005\n",
      "Average validation loss after epoch  8 : 0.015\n",
      "2019-12-05 23:29:49.046968 | Epoch 9\n"
     ]
    },
    {
     "data": {
      "application/vnd.jupyter.widget-view+json": {
       "model_id": "0698b6b200f24b6986cef71f250df178",
       "version_major": 2,
       "version_minor": 0
      },
      "text/plain": [
       "HBox(children=(IntProgress(value=1, bar_style='info', max=1), HTML(value='')))"
      ]
     },
     "metadata": {},
     "output_type": "display_data"
    },
    {
     "name": "stdout",
     "output_type": "stream",
     "text": [
      "Average training loss at batch  0 : 0.007\n",
      "Average training loss at batch  1000 : 0.005\n",
      "Average training loss at batch  2000 : 0.006\n",
      "Average training loss at batch  3000 : 0.004\n",
      "\n",
      "Average training loss after epoch  9 : 0.004\n",
      "Average validation loss after epoch  9 : 0.015\n",
      "/Users/elliotsilva/Desktop/DS-GA-1006/FairFrame/models/baseline_randomized_embeddings/emb_dim=128,upweight=5/\n",
      "2019-12-05 23:31:24.273907 | Epoch 0\n"
     ]
    },
    {
     "data": {
      "application/vnd.jupyter.widget-view+json": {
       "model_id": "197b9f1b72aa4114ae5ae1c87d8d3de4",
       "version_major": 2,
       "version_minor": 0
      },
      "text/plain": [
       "HBox(children=(IntProgress(value=1, bar_style='info', max=1), HTML(value='')))"
      ]
     },
     "metadata": {},
     "output_type": "display_data"
    },
    {
     "name": "stdout",
     "output_type": "stream",
     "text": [
      "Average training loss at batch  0 : 3.186\n",
      "Average training loss at batch  1000 : 0.223\n",
      "Average training loss at batch  2000 : 0.106\n",
      "Average training loss at batch  3000 : 0.053\n",
      "\n",
      "Average training loss after epoch  0 : 0.263\n",
      "Average validation loss after epoch  0 : 0.055\n",
      "2019-12-05 23:32:37.034933 | Epoch 1\n"
     ]
    },
    {
     "data": {
      "application/vnd.jupyter.widget-view+json": {
       "model_id": "9a83d0811f1d41b2a6304c053140cbb4",
       "version_major": 2,
       "version_minor": 0
      },
      "text/plain": [
       "HBox(children=(IntProgress(value=1, bar_style='info', max=1), HTML(value='')))"
      ]
     },
     "metadata": {},
     "output_type": "display_data"
    },
    {
     "name": "stdout",
     "output_type": "stream",
     "text": [
      "Average training loss at batch  0 : 0.040\n",
      "Average training loss at batch  1000 : 0.035\n",
      "Average training loss at batch  2000 : 0.052\n",
      "Average training loss at batch  3000 : 0.042\n",
      "\n",
      "Average training loss after epoch  1 : 0.029\n",
      "Average validation loss after epoch  1 : 0.031\n",
      "2019-12-05 23:34:06.456851 | Epoch 2\n"
     ]
    },
    {
     "data": {
      "application/vnd.jupyter.widget-view+json": {
       "model_id": "3601cd3d758b486ab7fe99a3ff2beea7",
       "version_major": 2,
       "version_minor": 0
      },
      "text/plain": [
       "HBox(children=(IntProgress(value=1, bar_style='info', max=1), HTML(value='')))"
      ]
     },
     "metadata": {},
     "output_type": "display_data"
    },
    {
     "name": "stdout",
     "output_type": "stream",
     "text": [
      "Average training loss at batch  0 : 0.015\n",
      "Average training loss at batch  1000 : 0.011\n",
      "Average training loss at batch  2000 : 0.009\n",
      "Average training loss at batch  3000 : 0.014\n",
      "\n",
      "Average training loss after epoch  2 : 0.015\n",
      "Average validation loss after epoch  2 : 0.023\n",
      "2019-12-05 23:35:33.373836 | Epoch 3\n"
     ]
    },
    {
     "data": {
      "application/vnd.jupyter.widget-view+json": {
       "model_id": "01ee0071fc334625b868c77306a648b7",
       "version_major": 2,
       "version_minor": 0
      },
      "text/plain": [
       "HBox(children=(IntProgress(value=1, bar_style='info', max=1), HTML(value='')))"
      ]
     },
     "metadata": {},
     "output_type": "display_data"
    },
    {
     "name": "stdout",
     "output_type": "stream",
     "text": [
      "Average training loss at batch  0 : 0.015\n",
      "Average training loss at batch  1000 : 0.011\n",
      "Average training loss at batch  2000 : 0.010\n",
      "Average training loss at batch  3000 : 0.008\n",
      "\n",
      "Average training loss after epoch  3 : 0.010\n",
      "Average validation loss after epoch  3 : 0.020\n",
      "2019-12-05 23:37:02.706325 | Epoch 4\n"
     ]
    },
    {
     "data": {
      "application/vnd.jupyter.widget-view+json": {
       "model_id": "66d1343693644942b07186f71a0f35d9",
       "version_major": 2,
       "version_minor": 0
      },
      "text/plain": [
       "HBox(children=(IntProgress(value=1, bar_style='info', max=1), HTML(value='')))"
      ]
     },
     "metadata": {},
     "output_type": "display_data"
    },
    {
     "name": "stdout",
     "output_type": "stream",
     "text": [
      "Average training loss at batch  0 : 0.007\n",
      "Average training loss at batch  1000 : 0.010\n",
      "Average training loss at batch  2000 : 0.011\n",
      "Average training loss at batch  3000 : 0.005\n",
      "\n",
      "Average training loss after epoch  4 : 0.008\n",
      "Average validation loss after epoch  4 : 0.018\n",
      "2019-12-05 23:38:31.458399 | Epoch 5\n"
     ]
    },
    {
     "data": {
      "application/vnd.jupyter.widget-view+json": {
       "model_id": "9d7a475248c54b7f87310d5d257db1d1",
       "version_major": 2,
       "version_minor": 0
      },
      "text/plain": [
       "HBox(children=(IntProgress(value=1, bar_style='info', max=1), HTML(value='')))"
      ]
     },
     "metadata": {},
     "output_type": "display_data"
    },
    {
     "name": "stdout",
     "output_type": "stream",
     "text": [
      "Average training loss at batch  0 : 0.007\n",
      "Average training loss at batch  1000 : 0.005\n",
      "Average training loss at batch  2000 : 0.006\n",
      "Average training loss at batch  3000 : 0.007\n",
      "\n",
      "Average training loss after epoch  5 : 0.006\n",
      "Average validation loss after epoch  5 : 0.016\n",
      "2019-12-05 23:40:02.736497 | Epoch 6\n"
     ]
    },
    {
     "data": {
      "application/vnd.jupyter.widget-view+json": {
       "model_id": "e8cf1dfd646147f2adb52b5398b6614e",
       "version_major": 2,
       "version_minor": 0
      },
      "text/plain": [
       "HBox(children=(IntProgress(value=1, bar_style='info', max=1), HTML(value='')))"
      ]
     },
     "metadata": {},
     "output_type": "display_data"
    },
    {
     "name": "stdout",
     "output_type": "stream",
     "text": [
      "Average training loss at batch  0 : 0.004\n",
      "Average training loss at batch  1000 : 0.004\n",
      "Average training loss at batch  2000 : 0.004\n",
      "Average training loss at batch  3000 : 0.005\n",
      "\n",
      "Average training loss after epoch  6 : 0.005\n",
      "Average validation loss after epoch  6 : 0.015\n",
      "2019-12-05 23:41:32.914579 | Epoch 7\n"
     ]
    },
    {
     "data": {
      "application/vnd.jupyter.widget-view+json": {
       "model_id": "8f7f2095a0b24105a468732e8a45c133",
       "version_major": 2,
       "version_minor": 0
      },
      "text/plain": [
       "HBox(children=(IntProgress(value=1, bar_style='info', max=1), HTML(value='')))"
      ]
     },
     "metadata": {},
     "output_type": "display_data"
    },
    {
     "name": "stdout",
     "output_type": "stream",
     "text": [
      "Average training loss at batch  0 : 0.003\n",
      "Average training loss at batch  1000 : 0.003\n",
      "Average training loss at batch  2000 : 0.002\n",
      "Average training loss at batch  3000 : 0.004\n",
      "\n",
      "Average training loss after epoch  7 : 0.005\n",
      "Average validation loss after epoch  7 : 0.015\n",
      "2019-12-05 23:43:02.190070 | Epoch 8\n"
     ]
    },
    {
     "data": {
      "application/vnd.jupyter.widget-view+json": {
       "model_id": "4fa8142a3e1b4c6b9a29a1b8ce379890",
       "version_major": 2,
       "version_minor": 0
      },
      "text/plain": [
       "HBox(children=(IntProgress(value=1, bar_style='info', max=1), HTML(value='')))"
      ]
     },
     "metadata": {},
     "output_type": "display_data"
    },
    {
     "name": "stdout",
     "output_type": "stream",
     "text": [
      "Average training loss at batch  0 : 0.004\n",
      "Average training loss at batch  1000 : 0.005\n",
      "Average training loss at batch  2000 : 0.007\n",
      "Average training loss at batch  3000 : 0.004\n",
      "\n",
      "Average training loss after epoch  8 : 0.004\n",
      "Average validation loss after epoch  8 : 0.014\n",
      "2019-12-05 23:44:29.969430 | Epoch 9\n"
     ]
    },
    {
     "data": {
      "application/vnd.jupyter.widget-view+json": {
       "model_id": "86310d4e245a489e8f48e99b1600f1d4",
       "version_major": 2,
       "version_minor": 0
      },
      "text/plain": [
       "HBox(children=(IntProgress(value=1, bar_style='info', max=1), HTML(value='')))"
      ]
     },
     "metadata": {},
     "output_type": "display_data"
    },
    {
     "name": "stdout",
     "output_type": "stream",
     "text": [
      "Average training loss at batch  0 : 0.004\n",
      "Average training loss at batch  1000 : 0.005\n",
      "Average training loss at batch  2000 : 0.003\n",
      "Average training loss at batch  3000 : 0.003\n",
      "\n",
      "Average training loss after epoch  9 : 0.004\n",
      "Average validation loss after epoch  9 : 0.014\n",
      "/Users/elliotsilva/Desktop/DS-GA-1006/FairFrame/models/baseline_randomized_embeddings/emb_dim=128,upweight=10/\n",
      "2019-12-05 23:45:59.683326 | Epoch 0\n"
     ]
    },
    {
     "data": {
      "application/vnd.jupyter.widget-view+json": {
       "model_id": "1a1d54e4b2f94483968a2c893ab04de1",
       "version_major": 2,
       "version_minor": 0
      },
      "text/plain": [
       "HBox(children=(IntProgress(value=1, bar_style='info', max=1), HTML(value='')))"
      ]
     },
     "metadata": {},
     "output_type": "display_data"
    },
    {
     "name": "stdout",
     "output_type": "stream",
     "text": [
      "Average training loss at batch  0 : 7.558\n",
      "Average training loss at batch  1000 : 0.336\n",
      "Average training loss at batch  2000 : 0.205\n",
      "Average training loss at batch  3000 : 0.048\n",
      "\n",
      "Average training loss after epoch  0 : 0.492\n",
      "Average validation loss after epoch  0 : 0.070\n",
      "2019-12-05 23:47:10.701858 | Epoch 1\n"
     ]
    },
    {
     "data": {
      "application/vnd.jupyter.widget-view+json": {
       "model_id": "d6cef66469244ac696873ee9bca245c5",
       "version_major": 2,
       "version_minor": 0
      },
      "text/plain": [
       "HBox(children=(IntProgress(value=1, bar_style='info', max=1), HTML(value='')))"
      ]
     },
     "metadata": {},
     "output_type": "display_data"
    },
    {
     "name": "stdout",
     "output_type": "stream",
     "text": [
      "Average training loss at batch  0 : 0.051\n",
      "Average training loss at batch  1000 : 0.025\n",
      "Average training loss at batch  2000 : 0.018\n",
      "Average training loss at batch  3000 : 0.012\n",
      "\n",
      "Average training loss after epoch  1 : 0.037\n",
      "Average validation loss after epoch  1 : 0.035\n",
      "2019-12-05 23:48:39.520133 | Epoch 2\n"
     ]
    },
    {
     "data": {
      "application/vnd.jupyter.widget-view+json": {
       "model_id": "05f2e1665f434c5ba83b04dc8c1696d5",
       "version_major": 2,
       "version_minor": 0
      },
      "text/plain": [
       "HBox(children=(IntProgress(value=1, bar_style='info', max=1), HTML(value='')))"
      ]
     },
     "metadata": {},
     "output_type": "display_data"
    },
    {
     "name": "stdout",
     "output_type": "stream",
     "text": [
      "Average training loss at batch  0 : 0.014\n",
      "Average training loss at batch  1000 : 0.017\n",
      "Average training loss at batch  2000 : 0.016\n",
      "Average training loss at batch  3000 : 0.012\n",
      "\n",
      "Average training loss after epoch  2 : 0.017\n",
      "Average validation loss after epoch  2 : 0.025\n",
      "2019-12-05 23:50:09.659534 | Epoch 3\n"
     ]
    },
    {
     "data": {
      "application/vnd.jupyter.widget-view+json": {
       "model_id": "56eb5917627c4f7290c35abdcbcd9332",
       "version_major": 2,
       "version_minor": 0
      },
      "text/plain": [
       "HBox(children=(IntProgress(value=1, bar_style='info', max=1), HTML(value='')))"
      ]
     },
     "metadata": {},
     "output_type": "display_data"
    },
    {
     "name": "stdout",
     "output_type": "stream",
     "text": [
      "Average training loss at batch  0 : 0.008\n",
      "Average training loss at batch  1000 : 0.008\n",
      "Average training loss at batch  2000 : 0.011\n",
      "Average training loss at batch  3000 : 0.007\n",
      "\n",
      "Average training loss after epoch  3 : 0.011\n",
      "Average validation loss after epoch  3 : 0.021\n",
      "2019-12-05 23:51:40.020133 | Epoch 4\n"
     ]
    },
    {
     "data": {
      "application/vnd.jupyter.widget-view+json": {
       "model_id": "f25a47bc529044089c353a1d2e79cd17",
       "version_major": 2,
       "version_minor": 0
      },
      "text/plain": [
       "HBox(children=(IntProgress(value=1, bar_style='info', max=1), HTML(value='')))"
      ]
     },
     "metadata": {},
     "output_type": "display_data"
    },
    {
     "name": "stdout",
     "output_type": "stream",
     "text": [
      "Average training loss at batch  0 : 0.004\n",
      "Average training loss at batch  1000 : 0.010\n",
      "Average training loss at batch  2000 : 0.004\n",
      "Average training loss at batch  3000 : 0.006\n",
      "\n",
      "Average training loss after epoch  4 : 0.008\n",
      "Average validation loss after epoch  4 : 0.019\n",
      "2019-12-05 23:53:26.789986 | Epoch 5\n"
     ]
    },
    {
     "data": {
      "application/vnd.jupyter.widget-view+json": {
       "model_id": "62367d7a27ff48e28a036d0a7bc62aaf",
       "version_major": 2,
       "version_minor": 0
      },
      "text/plain": [
       "HBox(children=(IntProgress(value=1, bar_style='info', max=1), HTML(value='')))"
      ]
     },
     "metadata": {},
     "output_type": "display_data"
    },
    {
     "name": "stdout",
     "output_type": "stream",
     "text": [
      "Average training loss at batch  0 : 0.006\n",
      "Average training loss at batch  1000 : 0.009\n",
      "Average training loss at batch  2000 : 0.004\n",
      "Average training loss at batch  3000 : 0.005\n",
      "\n",
      "Average training loss after epoch  5 : 0.006\n",
      "Average validation loss after epoch  5 : 0.017\n",
      "2019-12-05 23:55:01.028511 | Epoch 6\n"
     ]
    },
    {
     "data": {
      "application/vnd.jupyter.widget-view+json": {
       "model_id": "7ab794e974ba484b88ee1eebd6d7bcf7",
       "version_major": 2,
       "version_minor": 0
      },
      "text/plain": [
       "HBox(children=(IntProgress(value=1, bar_style='info', max=1), HTML(value='')))"
      ]
     },
     "metadata": {},
     "output_type": "display_data"
    },
    {
     "name": "stdout",
     "output_type": "stream",
     "text": [
      "Average training loss at batch  0 : 0.004\n",
      "Average training loss at batch  1000 : 0.005\n",
      "Average training loss at batch  2000 : 0.004\n",
      "Average training loss at batch  3000 : 0.004\n",
      "\n",
      "Average training loss after epoch  6 : 0.005\n",
      "Average validation loss after epoch  6 : 0.016\n",
      "2019-12-05 23:56:31.806807 | Epoch 7\n"
     ]
    },
    {
     "data": {
      "application/vnd.jupyter.widget-view+json": {
       "model_id": "d86bd56a7ab84347a57ddd51ba376c01",
       "version_major": 2,
       "version_minor": 0
      },
      "text/plain": [
       "HBox(children=(IntProgress(value=1, bar_style='info', max=1), HTML(value='')))"
      ]
     },
     "metadata": {},
     "output_type": "display_data"
    },
    {
     "name": "stdout",
     "output_type": "stream",
     "text": [
      "Average training loss at batch  0 : 0.005\n",
      "Average training loss at batch  1000 : 0.003\n",
      "Average training loss at batch  2000 : 0.004\n",
      "Average training loss at batch  3000 : 0.004\n",
      "\n",
      "Average training loss after epoch  7 : 0.004\n",
      "Average validation loss after epoch  7 : 0.015\n",
      "2019-12-05 23:58:00.238654 | Epoch 8\n"
     ]
    },
    {
     "data": {
      "application/vnd.jupyter.widget-view+json": {
       "model_id": "09013445681f48b6bab1a779b4f431be",
       "version_major": 2,
       "version_minor": 0
      },
      "text/plain": [
       "HBox(children=(IntProgress(value=1, bar_style='info', max=1), HTML(value='')))"
      ]
     },
     "metadata": {},
     "output_type": "display_data"
    },
    {
     "name": "stdout",
     "output_type": "stream",
     "text": [
      "Average training loss at batch  0 : 0.003\n",
      "Average training loss at batch  1000 : 0.003\n",
      "Average training loss at batch  2000 : 0.003\n",
      "Average training loss at batch  3000 : 0.003\n",
      "\n",
      "Average training loss after epoch  8 : 0.004\n",
      "Average validation loss after epoch  8 : 0.015\n",
      "2019-12-05 23:59:30.458972 | Epoch 9\n"
     ]
    },
    {
     "data": {
      "application/vnd.jupyter.widget-view+json": {
       "model_id": "d35e19fbc48141c481654fcb9347da75",
       "version_major": 2,
       "version_minor": 0
      },
      "text/plain": [
       "HBox(children=(IntProgress(value=1, bar_style='info', max=1), HTML(value='')))"
      ]
     },
     "metadata": {},
     "output_type": "display_data"
    },
    {
     "name": "stdout",
     "output_type": "stream",
     "text": [
      "Average training loss at batch  0 : 0.003\n",
      "Average training loss at batch  1000 : 0.003\n",
      "Average training loss at batch  2000 : 0.002\n",
      "Average training loss at batch  3000 : 0.003\n",
      "\n",
      "Average training loss after epoch  9 : 0.003\n",
      "Average validation loss after epoch  9 : 0.014\n",
      "/Users/elliotsilva/Desktop/DS-GA-1006/FairFrame/models/baseline_randomized_embeddings/emb_dim=128,upweight=25/\n",
      "2019-12-06 00:01:00.472386 | Epoch 0\n"
     ]
    },
    {
     "data": {
      "application/vnd.jupyter.widget-view+json": {
       "model_id": "fbcf82cb9c8c46d8ab2e654ad32e9bf6",
       "version_major": 2,
       "version_minor": 0
      },
      "text/plain": [
       "HBox(children=(IntProgress(value=1, bar_style='info', max=1), HTML(value='')))"
      ]
     },
     "metadata": {},
     "output_type": "display_data"
    },
    {
     "name": "stdout",
     "output_type": "stream",
     "text": [
      "Average training loss at batch  0 : 20.350\n",
      "Average training loss at batch  1000 : 0.554\n",
      "Average training loss at batch  2000 : 0.064\n",
      "Average training loss at batch  3000 : 0.050\n",
      "\n",
      "Average training loss after epoch  0 : 1.289\n",
      "Average validation loss after epoch  0 : 0.174\n",
      "2019-12-06 00:02:11.605809 | Epoch 1\n"
     ]
    },
    {
     "data": {
      "application/vnd.jupyter.widget-view+json": {
       "model_id": "fa610bb97ab949479a8a59a6a6133c3e",
       "version_major": 2,
       "version_minor": 0
      },
      "text/plain": [
       "HBox(children=(IntProgress(value=1, bar_style='info', max=1), HTML(value='')))"
      ]
     },
     "metadata": {},
     "output_type": "display_data"
    },
    {
     "name": "stdout",
     "output_type": "stream",
     "text": [
      "Average training loss at batch  0 : 0.106\n",
      "Average training loss at batch  1000 : 0.036\n",
      "Average training loss at batch  2000 : 0.019\n",
      "Average training loss at batch  3000 : 0.016\n",
      "\n",
      "Average training loss after epoch  1 : 0.066\n",
      "Average validation loss after epoch  1 : 0.092\n",
      "2019-12-06 00:03:42.154046 | Epoch 2\n"
     ]
    },
    {
     "data": {
      "application/vnd.jupyter.widget-view+json": {
       "model_id": "33c9c87d36bf4a34baad3f1df83d3c53",
       "version_major": 2,
       "version_minor": 0
      },
      "text/plain": [
       "HBox(children=(IntProgress(value=1, bar_style='info', max=1), HTML(value='')))"
      ]
     },
     "metadata": {},
     "output_type": "display_data"
    },
    {
     "name": "stdout",
     "output_type": "stream",
     "text": [
      "Average training loss at batch  0 : 0.016\n",
      "Average training loss at batch  1000 : 0.011\n",
      "Average training loss at batch  2000 : 0.012\n",
      "Average training loss at batch  3000 : 0.017\n",
      "\n",
      "Average training loss after epoch  2 : 0.028\n",
      "Average validation loss after epoch  2 : 0.069\n",
      "2019-12-06 00:05:10.859954 | Epoch 3\n"
     ]
    },
    {
     "data": {
      "application/vnd.jupyter.widget-view+json": {
       "model_id": "bd3e7279ac1b49ef87fdba19d9565267",
       "version_major": 2,
       "version_minor": 0
      },
      "text/plain": [
       "HBox(children=(IntProgress(value=1, bar_style='info', max=1), HTML(value='')))"
      ]
     },
     "metadata": {},
     "output_type": "display_data"
    },
    {
     "name": "stdout",
     "output_type": "stream",
     "text": [
      "Average training loss at batch  0 : 0.009\n",
      "Average training loss at batch  1000 : 0.008\n",
      "Average training loss at batch  2000 : 0.009\n",
      "Average training loss at batch  3000 : 0.012\n",
      "\n",
      "Average training loss after epoch  3 : 0.016\n",
      "Average validation loss after epoch  3 : 0.059\n",
      "2019-12-06 00:06:39.311327 | Epoch 4\n"
     ]
    },
    {
     "data": {
      "application/vnd.jupyter.widget-view+json": {
       "model_id": "ab15e4fe14b7467ca5c08ae87fcaa2a3",
       "version_major": 2,
       "version_minor": 0
      },
      "text/plain": [
       "HBox(children=(IntProgress(value=1, bar_style='info', max=1), HTML(value='')))"
      ]
     },
     "metadata": {},
     "output_type": "display_data"
    },
    {
     "name": "stdout",
     "output_type": "stream",
     "text": [
      "Average training loss at batch  0 : 0.007\n",
      "Average training loss at batch  1000 : 0.013\n",
      "Average training loss at batch  2000 : 0.005\n",
      "Average training loss at batch  3000 : 0.006\n",
      "\n",
      "Average training loss after epoch  4 : 0.011\n",
      "Average validation loss after epoch  4 : 0.052\n",
      "2019-12-06 00:08:08.191991 | Epoch 5\n"
     ]
    },
    {
     "data": {
      "application/vnd.jupyter.widget-view+json": {
       "model_id": "8da67bbdbefc4c608d83577f437ec422",
       "version_major": 2,
       "version_minor": 0
      },
      "text/plain": [
       "HBox(children=(IntProgress(value=1, bar_style='info', max=1), HTML(value='')))"
      ]
     },
     "metadata": {},
     "output_type": "display_data"
    },
    {
     "name": "stdout",
     "output_type": "stream",
     "text": [
      "Average training loss at batch  0 : 0.005\n",
      "Average training loss at batch  1000 : 0.005\n",
      "Average training loss at batch  2000 : 0.049\n",
      "Average training loss at batch  3000 : 0.003\n",
      "\n",
      "Average training loss after epoch  5 : 0.008\n",
      "Average validation loss after epoch  5 : 0.048\n",
      "2019-12-06 00:09:40.164021 | Epoch 6\n"
     ]
    },
    {
     "data": {
      "application/vnd.jupyter.widget-view+json": {
       "model_id": "1240af80cac7415083dd1d761a355d20",
       "version_major": 2,
       "version_minor": 0
      },
      "text/plain": [
       "HBox(children=(IntProgress(value=1, bar_style='info', max=1), HTML(value='')))"
      ]
     },
     "metadata": {},
     "output_type": "display_data"
    },
    {
     "name": "stdout",
     "output_type": "stream",
     "text": [
      "Average training loss at batch  0 : 0.006\n",
      "Average training loss at batch  1000 : 0.005\n",
      "Average training loss at batch  2000 : 0.003\n",
      "Average training loss at batch  3000 : 0.003\n",
      "\n",
      "Average training loss after epoch  6 : 0.006\n",
      "Average validation loss after epoch  6 : 0.046\n",
      "2019-12-06 00:11:08.347090 | Epoch 7\n"
     ]
    },
    {
     "data": {
      "application/vnd.jupyter.widget-view+json": {
       "model_id": "be69a63c814c4afca24a3984a919d3a1",
       "version_major": 2,
       "version_minor": 0
      },
      "text/plain": [
       "HBox(children=(IntProgress(value=1, bar_style='info', max=1), HTML(value='')))"
      ]
     },
     "metadata": {},
     "output_type": "display_data"
    },
    {
     "name": "stdout",
     "output_type": "stream",
     "text": [
      "Average training loss at batch  0 : 0.002\n",
      "Average training loss at batch  1000 : 0.003\n",
      "Average training loss at batch  2000 : 0.003\n",
      "Average training loss at batch  3000 : 0.003\n",
      "\n",
      "Average training loss after epoch  7 : 0.005\n",
      "Average validation loss after epoch  7 : 0.043\n",
      "2019-12-06 00:12:38.277840 | Epoch 8\n"
     ]
    },
    {
     "data": {
      "application/vnd.jupyter.widget-view+json": {
       "model_id": "27e4eb577f394a8b8c0dd1eeb5f6debe",
       "version_major": 2,
       "version_minor": 0
      },
      "text/plain": [
       "HBox(children=(IntProgress(value=1, bar_style='info', max=1), HTML(value='')))"
      ]
     },
     "metadata": {},
     "output_type": "display_data"
    },
    {
     "name": "stdout",
     "output_type": "stream",
     "text": [
      "Average training loss at batch  0 : 0.002\n",
      "Average training loss at batch  1000 : 0.049\n",
      "Average training loss at batch  2000 : 0.004\n",
      "Average training loss at batch  3000 : 0.002\n",
      "\n",
      "Average training loss after epoch  8 : 0.004\n",
      "Average validation loss after epoch  8 : 0.040\n",
      "2019-12-06 00:14:07.619510 | Epoch 9\n"
     ]
    },
    {
     "data": {
      "application/vnd.jupyter.widget-view+json": {
       "model_id": "7ec4873725cf4822ab01ef4b9bf856d1",
       "version_major": 2,
       "version_minor": 0
      },
      "text/plain": [
       "HBox(children=(IntProgress(value=1, bar_style='info', max=1), HTML(value='')))"
      ]
     },
     "metadata": {},
     "output_type": "display_data"
    },
    {
     "name": "stdout",
     "output_type": "stream",
     "text": [
      "Average training loss at batch  0 : 0.002\n",
      "Average training loss at batch  1000 : 0.002\n",
      "Average training loss at batch  2000 : 0.003\n",
      "Average training loss at batch  3000 : 0.003\n",
      "\n",
      "Average training loss after epoch  9 : 0.003\n",
      "Average validation loss after epoch  9 : 0.038\n"
     ]
    }
   ],
   "source": [
    "#emb_dims = [128, 256, 512]\n",
    "emb_dims = [128]\n",
    "upweights = [1, 5, 10, 25]\n",
    "## TO-DO: 512 @ 5, 10, 25\n",
    "\n",
    "for emb_dim in emb_dims:\n",
    "    for upweight in upweights:\n",
    "        opts = {\n",
    "            'vocab_size': 20000,\n",
    "            'emb_dim': emb_dim,\n",
    "            'upweight': upweight\n",
    "        }\n",
    "        train_config(opts)"
   ]
  },
  {
   "cell_type": "markdown",
   "metadata": {},
   "source": [
    "## Evaluation"
   ]
  },
  {
   "cell_type": "code",
   "execution_count": 14,
   "metadata": {},
   "outputs": [],
   "source": [
    "num_gpus = torch.cuda.device_count()\n",
    "if num_gpus > 0:\n",
    "    current_device = 'cuda'\n",
    "else:\n",
    "    current_device = 'cpu'"
   ]
  },
  {
   "cell_type": "code",
   "execution_count": 62,
   "metadata": {},
   "outputs": [],
   "source": [
    "def evaluate_config(opts,verbose=True):\n",
    "    path_to_save = get_save_directory(opts)\n",
    "    print(path_to_save)\n",
    "    \n",
    "    model = neuralNetBow(opts) #change according to model inputs\n",
    "    model.load_state_dict(torch.load(path_to_save+'model_dict.pt',map_location=lambda storage, loc: storage))\n",
    "    model = model.to(current_device)\n",
    "    criterion = KMeansCriterion().to(current_device)\n",
    "    centroids = torch.load(path_to_save+'centroids',map_location=lambda storage, loc: storage)\n",
    "    \n",
    "    TP_cluster, FP_cluster, results_dict = evaluation.main(model, centroids, val_loader, criterion, data_dir, current_device, verbose)\n",
    "    results_dict.update(opts)\n",
    "    return TP_cluster, FP_cluster, results_dict"
   ]
  },
  {
   "cell_type": "code",
   "execution_count": 64,
   "metadata": {},
   "outputs": [
    {
     "name": "stdout",
     "output_type": "stream",
     "text": [
      "/Users/elliotsilva/Desktop/DS-GA-1006/FairFrame/models/baseline_randomized_embeddings/emb_dim=128,upweight=1/\n",
      "/Users/elliotsilva/Desktop/DS-GA-1006/FairFrame/models/baseline_randomized_embeddings/emb_dim=128,upweight=5/\n",
      "/Users/elliotsilva/Desktop/DS-GA-1006/FairFrame/models/baseline_randomized_embeddings/emb_dim=128,upweight=10/\n",
      "/Users/elliotsilva/Desktop/DS-GA-1006/FairFrame/models/baseline_randomized_embeddings/emb_dim=128,upweight=25/\n",
      "/Users/elliotsilva/Desktop/DS-GA-1006/FairFrame/models/baseline_randomized_embeddings/emb_dim=256,upweight=1/\n",
      "/Users/elliotsilva/Desktop/DS-GA-1006/FairFrame/models/baseline_randomized_embeddings/emb_dim=256,upweight=5/\n",
      "/Users/elliotsilva/Desktop/DS-GA-1006/FairFrame/models/baseline_randomized_embeddings/emb_dim=256,upweight=10/\n",
      "/Users/elliotsilva/Desktop/DS-GA-1006/FairFrame/models/baseline_randomized_embeddings/emb_dim=256,upweight=25/\n",
      "/Users/elliotsilva/Desktop/DS-GA-1006/FairFrame/models/baseline_randomized_embeddings/emb_dim=512,upweight=1/\n",
      "/Users/elliotsilva/Desktop/DS-GA-1006/FairFrame/models/baseline_randomized_embeddings/emb_dim=512,upweight=5/\n",
      "/Users/elliotsilva/Desktop/DS-GA-1006/FairFrame/models/baseline_randomized_embeddings/emb_dim=512,upweight=10/\n",
      "/Users/elliotsilva/Desktop/DS-GA-1006/FairFrame/models/baseline_randomized_embeddings/emb_dim=512,upweight=25/\n"
     ]
    }
   ],
   "source": [
    "emb_dims = [128, 256, 512]\n",
    "upweights = [1, 5, 10, 25]\n",
    "\n",
    "results_df = pd.DataFrame()\n",
    "for emb_dim in emb_dims:\n",
    "    for upweight in upweights:\n",
    "        opts = {\n",
    "            'vocab_size': 20000,\n",
    "            'emb_dim': emb_dim,\n",
    "            'upweight': upweight\n",
    "        }\n",
    "        _, _, results_dict = evaluate_config(opts,False)\n",
    "        results_df = results_df.append(results_dict,ignore_index=True)\n",
    "        \n",
    "results_df = results_df[['emb_dim','upweight','Accuracy','F1 score','Precision','Recall',\n",
    "                        'TP_rate','FP_rate','FN_rate','TN_rate']]"
   ]
  },
  {
   "cell_type": "code",
   "execution_count": 65,
   "metadata": {},
   "outputs": [
    {
     "data": {
      "text/html": [
       "<div>\n",
       "<style scoped>\n",
       "    .dataframe tbody tr th:only-of-type {\n",
       "        vertical-align: middle;\n",
       "    }\n",
       "\n",
       "    .dataframe tbody tr th {\n",
       "        vertical-align: top;\n",
       "    }\n",
       "\n",
       "    .dataframe thead th {\n",
       "        text-align: right;\n",
       "    }\n",
       "</style>\n",
       "<table border=\"1\" class=\"dataframe\">\n",
       "  <thead>\n",
       "    <tr style=\"text-align: right;\">\n",
       "      <th></th>\n",
       "      <th>emb_dim</th>\n",
       "      <th>upweight</th>\n",
       "      <th>Accuracy</th>\n",
       "      <th>F1 score</th>\n",
       "      <th>Precision</th>\n",
       "      <th>Recall</th>\n",
       "      <th>TP_rate</th>\n",
       "      <th>FP_rate</th>\n",
       "      <th>FN_rate</th>\n",
       "      <th>TN_rate</th>\n",
       "    </tr>\n",
       "  </thead>\n",
       "  <tbody>\n",
       "    <tr>\n",
       "      <th>0</th>\n",
       "      <td>128.0</td>\n",
       "      <td>1.0</td>\n",
       "      <td>0.510688</td>\n",
       "      <td>0.645160</td>\n",
       "      <td>0.889655</td>\n",
       "      <td>0.506080</td>\n",
       "      <td>0.889655</td>\n",
       "      <td>0.110345</td>\n",
       "      <td>0.868280</td>\n",
       "      <td>0.131720</td>\n",
       "    </tr>\n",
       "    <tr>\n",
       "      <th>1</th>\n",
       "      <td>128.0</td>\n",
       "      <td>5.0</td>\n",
       "      <td>0.583729</td>\n",
       "      <td>0.700171</td>\n",
       "      <td>0.972093</td>\n",
       "      <td>0.547125</td>\n",
       "      <td>0.972093</td>\n",
       "      <td>0.027907</td>\n",
       "      <td>0.804636</td>\n",
       "      <td>0.195364</td>\n",
       "    </tr>\n",
       "    <tr>\n",
       "      <th>2</th>\n",
       "      <td>128.0</td>\n",
       "      <td>10.0</td>\n",
       "      <td>0.577325</td>\n",
       "      <td>0.696435</td>\n",
       "      <td>0.969697</td>\n",
       "      <td>0.543326</td>\n",
       "      <td>0.969697</td>\n",
       "      <td>0.030303</td>\n",
       "      <td>0.815047</td>\n",
       "      <td>0.184953</td>\n",
       "    </tr>\n",
       "    <tr>\n",
       "      <th>3</th>\n",
       "      <td>128.0</td>\n",
       "      <td>25.0</td>\n",
       "      <td>0.578963</td>\n",
       "      <td>0.696697</td>\n",
       "      <td>0.967136</td>\n",
       "      <td>0.544452</td>\n",
       "      <td>0.967136</td>\n",
       "      <td>0.032864</td>\n",
       "      <td>0.809211</td>\n",
       "      <td>0.190789</td>\n",
       "    </tr>\n",
       "    <tr>\n",
       "      <th>4</th>\n",
       "      <td>256.0</td>\n",
       "      <td>1.0</td>\n",
       "      <td>0.517739</td>\n",
       "      <td>0.651300</td>\n",
       "      <td>0.900763</td>\n",
       "      <td>0.510045</td>\n",
       "      <td>0.900763</td>\n",
       "      <td>0.099237</td>\n",
       "      <td>0.865285</td>\n",
       "      <td>0.134715</td>\n",
       "    </tr>\n",
       "    <tr>\n",
       "      <th>5</th>\n",
       "      <td>256.0</td>\n",
       "      <td>5.0</td>\n",
       "      <td>0.576230</td>\n",
       "      <td>0.695786</td>\n",
       "      <td>0.969231</td>\n",
       "      <td>0.542682</td>\n",
       "      <td>0.969231</td>\n",
       "      <td>0.030769</td>\n",
       "      <td>0.816770</td>\n",
       "      <td>0.183230</td>\n",
       "    </tr>\n",
       "    <tr>\n",
       "      <th>6</th>\n",
       "      <td>256.0</td>\n",
       "      <td>10.0</td>\n",
       "      <td>0.588508</td>\n",
       "      <td>0.702907</td>\n",
       "      <td>0.973568</td>\n",
       "      <td>0.550001</td>\n",
       "      <td>0.973568</td>\n",
       "      <td>0.026432</td>\n",
       "      <td>0.796552</td>\n",
       "      <td>0.203448</td>\n",
       "    </tr>\n",
       "    <tr>\n",
       "      <th>7</th>\n",
       "      <td>256.0</td>\n",
       "      <td>25.0</td>\n",
       "      <td>0.579171</td>\n",
       "      <td>0.697522</td>\n",
       "      <td>0.970443</td>\n",
       "      <td>0.544414</td>\n",
       "      <td>0.970443</td>\n",
       "      <td>0.029557</td>\n",
       "      <td>0.812102</td>\n",
       "      <td>0.187898</td>\n",
       "    </tr>\n",
       "    <tr>\n",
       "      <th>8</th>\n",
       "      <td>512.0</td>\n",
       "      <td>1.0</td>\n",
       "      <td>0.513298</td>\n",
       "      <td>0.647399</td>\n",
       "      <td>0.893617</td>\n",
       "      <td>0.507553</td>\n",
       "      <td>0.893617</td>\n",
       "      <td>0.106383</td>\n",
       "      <td>0.867021</td>\n",
       "      <td>0.132979</td>\n",
       "    </tr>\n",
       "    <tr>\n",
       "      <th>9</th>\n",
       "      <td>512.0</td>\n",
       "      <td>5.0</td>\n",
       "      <td>0.558636</td>\n",
       "      <td>0.685458</td>\n",
       "      <td>0.961832</td>\n",
       "      <td>0.532460</td>\n",
       "      <td>0.961832</td>\n",
       "      <td>0.038168</td>\n",
       "      <td>0.844560</td>\n",
       "      <td>0.155440</td>\n",
       "    </tr>\n",
       "    <tr>\n",
       "      <th>10</th>\n",
       "      <td>512.0</td>\n",
       "      <td>10.0</td>\n",
       "      <td>0.558636</td>\n",
       "      <td>0.685458</td>\n",
       "      <td>0.961832</td>\n",
       "      <td>0.532460</td>\n",
       "      <td>0.961832</td>\n",
       "      <td>0.038168</td>\n",
       "      <td>0.844560</td>\n",
       "      <td>0.155440</td>\n",
       "    </tr>\n",
       "    <tr>\n",
       "      <th>11</th>\n",
       "      <td>512.0</td>\n",
       "      <td>25.0</td>\n",
       "      <td>0.576230</td>\n",
       "      <td>0.695786</td>\n",
       "      <td>0.969231</td>\n",
       "      <td>0.542682</td>\n",
       "      <td>0.969231</td>\n",
       "      <td>0.030769</td>\n",
       "      <td>0.816770</td>\n",
       "      <td>0.183230</td>\n",
       "    </tr>\n",
       "  </tbody>\n",
       "</table>\n",
       "</div>"
      ],
      "text/plain": [
       "    emb_dim  upweight  Accuracy  F1 score  Precision    Recall   TP_rate  \\\n",
       "0   128.0    1.0       0.510688  0.645160  0.889655   0.506080  0.889655   \n",
       "1   128.0    5.0       0.583729  0.700171  0.972093   0.547125  0.972093   \n",
       "2   128.0    10.0      0.577325  0.696435  0.969697   0.543326  0.969697   \n",
       "3   128.0    25.0      0.578963  0.696697  0.967136   0.544452  0.967136   \n",
       "4   256.0    1.0       0.517739  0.651300  0.900763   0.510045  0.900763   \n",
       "5   256.0    5.0       0.576230  0.695786  0.969231   0.542682  0.969231   \n",
       "6   256.0    10.0      0.588508  0.702907  0.973568   0.550001  0.973568   \n",
       "7   256.0    25.0      0.579171  0.697522  0.970443   0.544414  0.970443   \n",
       "8   512.0    1.0       0.513298  0.647399  0.893617   0.507553  0.893617   \n",
       "9   512.0    5.0       0.558636  0.685458  0.961832   0.532460  0.961832   \n",
       "10  512.0    10.0      0.558636  0.685458  0.961832   0.532460  0.961832   \n",
       "11  512.0    25.0      0.576230  0.695786  0.969231   0.542682  0.969231   \n",
       "\n",
       "     FP_rate   FN_rate   TN_rate  \n",
       "0   0.110345  0.868280  0.131720  \n",
       "1   0.027907  0.804636  0.195364  \n",
       "2   0.030303  0.815047  0.184953  \n",
       "3   0.032864  0.809211  0.190789  \n",
       "4   0.099237  0.865285  0.134715  \n",
       "5   0.030769  0.816770  0.183230  \n",
       "6   0.026432  0.796552  0.203448  \n",
       "7   0.029557  0.812102  0.187898  \n",
       "8   0.106383  0.867021  0.132979  \n",
       "9   0.038168  0.844560  0.155440  \n",
       "10  0.038168  0.844560  0.155440  \n",
       "11  0.030769  0.816770  0.183230  "
      ]
     },
     "execution_count": 65,
     "metadata": {},
     "output_type": "execute_result"
    }
   ],
   "source": [
    "results_df"
   ]
  },
  {
   "cell_type": "code",
   "execution_count": 67,
   "metadata": {},
   "outputs": [
    {
     "data": {
      "text/html": [
       "<div>\n",
       "<style scoped>\n",
       "    .dataframe tbody tr th:only-of-type {\n",
       "        vertical-align: middle;\n",
       "    }\n",
       "\n",
       "    .dataframe tbody tr th {\n",
       "        vertical-align: top;\n",
       "    }\n",
       "\n",
       "    .dataframe thead th {\n",
       "        text-align: right;\n",
       "    }\n",
       "</style>\n",
       "<table border=\"1\" class=\"dataframe\">\n",
       "  <thead>\n",
       "    <tr style=\"text-align: right;\">\n",
       "      <th></th>\n",
       "      <th>emb_dim</th>\n",
       "      <th>upweight</th>\n",
       "      <th>Accuracy</th>\n",
       "      <th>F1 score</th>\n",
       "      <th>Precision</th>\n",
       "      <th>Recall</th>\n",
       "      <th>TP_rate</th>\n",
       "      <th>FP_rate</th>\n",
       "      <th>FN_rate</th>\n",
       "      <th>TN_rate</th>\n",
       "    </tr>\n",
       "  </thead>\n",
       "  <tbody>\n",
       "    <tr>\n",
       "      <th>6</th>\n",
       "      <td>256.0</td>\n",
       "      <td>10.0</td>\n",
       "      <td>0.588508</td>\n",
       "      <td>0.702907</td>\n",
       "      <td>0.973568</td>\n",
       "      <td>0.550001</td>\n",
       "      <td>0.973568</td>\n",
       "      <td>0.026432</td>\n",
       "      <td>0.796552</td>\n",
       "      <td>0.203448</td>\n",
       "    </tr>\n",
       "    <tr>\n",
       "      <th>1</th>\n",
       "      <td>128.0</td>\n",
       "      <td>5.0</td>\n",
       "      <td>0.583729</td>\n",
       "      <td>0.700171</td>\n",
       "      <td>0.972093</td>\n",
       "      <td>0.547125</td>\n",
       "      <td>0.972093</td>\n",
       "      <td>0.027907</td>\n",
       "      <td>0.804636</td>\n",
       "      <td>0.195364</td>\n",
       "    </tr>\n",
       "    <tr>\n",
       "      <th>7</th>\n",
       "      <td>256.0</td>\n",
       "      <td>25.0</td>\n",
       "      <td>0.579171</td>\n",
       "      <td>0.697522</td>\n",
       "      <td>0.970443</td>\n",
       "      <td>0.544414</td>\n",
       "      <td>0.970443</td>\n",
       "      <td>0.029557</td>\n",
       "      <td>0.812102</td>\n",
       "      <td>0.187898</td>\n",
       "    </tr>\n",
       "    <tr>\n",
       "      <th>3</th>\n",
       "      <td>128.0</td>\n",
       "      <td>25.0</td>\n",
       "      <td>0.578963</td>\n",
       "      <td>0.696697</td>\n",
       "      <td>0.967136</td>\n",
       "      <td>0.544452</td>\n",
       "      <td>0.967136</td>\n",
       "      <td>0.032864</td>\n",
       "      <td>0.809211</td>\n",
       "      <td>0.190789</td>\n",
       "    </tr>\n",
       "    <tr>\n",
       "      <th>2</th>\n",
       "      <td>128.0</td>\n",
       "      <td>10.0</td>\n",
       "      <td>0.577325</td>\n",
       "      <td>0.696435</td>\n",
       "      <td>0.969697</td>\n",
       "      <td>0.543326</td>\n",
       "      <td>0.969697</td>\n",
       "      <td>0.030303</td>\n",
       "      <td>0.815047</td>\n",
       "      <td>0.184953</td>\n",
       "    </tr>\n",
       "  </tbody>\n",
       "</table>\n",
       "</div>"
      ],
      "text/plain": [
       "   emb_dim  upweight  Accuracy  F1 score  Precision    Recall   TP_rate  \\\n",
       "6  256.0    10.0      0.588508  0.702907  0.973568   0.550001  0.973568   \n",
       "1  128.0    5.0       0.583729  0.700171  0.972093   0.547125  0.972093   \n",
       "7  256.0    25.0      0.579171  0.697522  0.970443   0.544414  0.970443   \n",
       "3  128.0    25.0      0.578963  0.696697  0.967136   0.544452  0.967136   \n",
       "2  128.0    10.0      0.577325  0.696435  0.969697   0.543326  0.969697   \n",
       "\n",
       "    FP_rate   FN_rate   TN_rate  \n",
       "6  0.026432  0.796552  0.203448  \n",
       "1  0.027907  0.804636  0.195364  \n",
       "7  0.029557  0.812102  0.187898  \n",
       "3  0.032864  0.809211  0.190789  \n",
       "2  0.030303  0.815047  0.184953  "
      ]
     },
     "execution_count": 67,
     "metadata": {},
     "output_type": "execute_result"
    }
   ],
   "source": [
    "results_df.sort_values(['F1 score'],ascending=False).head(5)"
   ]
  },
  {
   "cell_type": "markdown",
   "metadata": {},
   "source": [
    "# Save Embeddings for Plot"
   ]
  },
  {
   "cell_type": "code",
   "execution_count": null,
   "metadata": {},
   "outputs": [],
   "source": [
    "save_dir = path + '/umap/' + model_folder"
   ]
  },
  {
   "cell_type": "code",
   "execution_count": null,
   "metadata": {},
   "outputs": [],
   "source": [
    "# make an embedding on validation set including centroids\n",
    "val_embed_labelled = []\n",
    "val_labels_lst = []\n",
    "\n",
    "for i, (tokens, labels, flagged_indices) in enumerate(val_loader):\n",
    "    model.eval()\n",
    "    tokens = tokens.to(current_device)\n",
    "    labels = labels.to(current_device)\n",
    "    flagged_indices = flagged_indices.to(current_device)\n",
    "\n",
    "    # forward pass and compute loss\n",
    "    sentence_embed = model(tokens,flagged_indices)\n",
    "\n",
    "    val_embed_labelled+= sentence_embed.tolist()    \n",
    "    val_labels_lst+=labels.tolist()\n",
    "val_embed_labelled += centroids.tolist()\n",
    "val_labels_lst += [0,1]"
   ]
  },
  {
   "cell_type": "code",
   "execution_count": null,
   "metadata": {},
   "outputs": [],
   "source": [
    "# make an embedding on training set\n",
    "embed_labelled = []\n",
    "labels_lst = []\n",
    "\n",
    "for i, (tokens, labels, flagged_indices) in enumerate(train_loader_labelled):\n",
    "    model.eval()\n",
    "    tokens = tokens.to(current_device)\n",
    "    labels = labels.to(current_device)\n",
    "    flagged_indices = flagged_indices.to(current_device)\n",
    "\n",
    "    # forward pass and compute loss\n",
    "    sentence_embed = model(tokens,flagged_indices)\n",
    "\n",
    "    embed_labelled+= sentence_embed.tolist()    \n",
    "    labels_lst+=labels.tolist()"
   ]
  },
  {
   "cell_type": "code",
   "execution_count": null,
   "metadata": {},
   "outputs": [],
   "source": [
    "pickle_out1 = open(save_dir + \"val_embed_labelled.pickle\",\"wb\")\n",
    "pickle.dump(val_embed_labelled, pickle_out1)\n",
    "pickle_out1.close()\n",
    "\n",
    "pickle_out2 = open(save_dir + \"val_labels_lst.pickle\",\"wb\")\n",
    "pickle.dump(val_labels_lst, pickle_out2)\n",
    "pickle_out2.close()\n",
    "\n",
    "pickle_out3 = open(save_dir + \"embed_labelled.pickle\",\"wb\")\n",
    "pickle.dump(embed_labelled, pickle_out3)\n",
    "pickle_out3.close()\n",
    "\n",
    "pickle_out4 = open(save_dir + \"labels.pickle\",\"wb\")\n",
    "pickle.dump(labels_lst, pickle_out4)\n",
    "pickle_out4.close()"
   ]
  }
 ],
 "metadata": {
  "accelerator": "GPU",
  "colab": {
   "name": "model_tuning.ipynb",
   "provenance": []
  },
  "kernelspec": {
   "display_name": "Python 3",
   "language": "python",
   "name": "python3"
  },
  "language_info": {
   "codemirror_mode": {
    "name": "ipython",
    "version": 3
   },
   "file_extension": ".py",
   "mimetype": "text/x-python",
   "name": "python",
   "nbconvert_exporter": "python",
   "pygments_lexer": "ipython3",
   "version": "3.7.3"
  }
 },
 "nbformat": 4,
 "nbformat_minor": 4
}
