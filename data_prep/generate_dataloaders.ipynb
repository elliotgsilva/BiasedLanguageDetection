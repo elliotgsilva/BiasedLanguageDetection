{
 "cells": [
  {
   "cell_type": "markdown",
   "metadata": {},
   "source": [
    "# Create Dictionary and Dataloader\n",
    "This notebook creates the dictionary and dataloader for the baseline model, its three variations, and the LSTM model. It makes use of our custom functions found in `generate_dataloaders.py`. "
   ]
  },
  {
   "cell_type": "code",
   "execution_count": 1,
   "metadata": {},
   "outputs": [],
   "source": [
    "import sys\n",
    "from tqdm import tqdm\n",
    "import os\n",
    "import torch\n",
    "import torch.nn as nn\n",
    "from torch.utils.data import DataLoader, random_split, Dataset, RandomSampler, SequentialSampler\n",
    "import pickle\n",
    "import random\n",
    "import numpy as np\n",
    "import pandas as pd\n",
    "from generate_dataloaders import *\n",
    "from sklearn.model_selection import train_test_split\n",
    "from ast import literal_eval\n",
    "\n",
    "import nltk\n",
    "import re\n",
    "from nltk.stem import WordNetLemmatizer\n",
    "wordnet_lemmatizer = WordNetLemmatizer()"
   ]
  },
  {
   "cell_type": "markdown",
   "metadata": {},
   "source": [
    "## Filter out Sentences with lengths greater than 30"
   ]
  },
  {
   "cell_type": "code",
   "execution_count": 2,
   "metadata": {},
   "outputs": [],
   "source": [
    "datasets = pd.read_excel(\"./data/master_df_labeled.xlsx\",index_col=0)"
   ]
  },
  {
   "cell_type": "code",
   "execution_count": 3,
   "metadata": {},
   "outputs": [],
   "source": [
    "datasets.review = datasets.review.apply(literal_eval)"
   ]
  },
  {
   "cell_type": "code",
   "execution_count": 4,
   "metadata": {},
   "outputs": [
    {
     "data": {
      "text/plain": [
       "111029"
      ]
     },
     "execution_count": 4,
     "metadata": {},
     "output_type": "execute_result"
    }
   ],
   "source": [
    "len(datasets)"
   ]
  },
  {
   "cell_type": "code",
   "execution_count": 6,
   "metadata": {},
   "outputs": [],
   "source": [
    "datasets = datasets[datasets['review'].apply(lambda x: len(x)<=30)]"
   ]
  },
  {
   "cell_type": "code",
   "execution_count": 8,
   "metadata": {},
   "outputs": [
    {
     "data": {
      "text/plain": [
       "107271"
      ]
     },
     "execution_count": 8,
     "metadata": {},
     "output_type": "execute_result"
    }
   ],
   "source": [
    "len(datasets)"
   ]
  },
  {
   "cell_type": "markdown",
   "metadata": {},
   "source": [
    "## Train-Test split and Upsample Minority Class"
   ]
  },
  {
   "cell_type": "code",
   "execution_count": 9,
   "metadata": {},
   "outputs": [],
   "source": [
    "# Divide ground_truth(test) and train/val dataset\n",
    "labeled = datasets.loc[datasets['true_pos'].isin([1,0])]\n",
    "unlabeled = datasets[datasets.true_pos==-1]"
   ]
  },
  {
   "cell_type": "code",
   "execution_count": 10,
   "metadata": {},
   "outputs": [],
   "source": [
    "train_labeled_dataset, remains_label_dataset = train_test_split(labeled, test_size=0.2, stratify=labeled['true_pos'])"
   ]
  },
  {
   "cell_type": "code",
   "execution_count": 11,
   "metadata": {},
   "outputs": [],
   "source": [
    "class1 = train_labeled_dataset[train_labeled_dataset.true_pos == 1]\n",
    "class0 = train_labeled_dataset[train_labeled_dataset.true_pos == 0]"
   ]
  },
  {
   "cell_type": "code",
   "execution_count": 12,
   "metadata": {},
   "outputs": [],
   "source": [
    "from sklearn.utils import resample\n",
    "\n",
    "df_0_upsampled = resample(class0, replace=True, n_samples=len(class1), random_state=1029)\n",
    "\n",
    "# Combine majority class with upsampled minority class\n",
    "upsampled_train_labeled = pd.concat([class1, df_0_upsampled])"
   ]
  },
  {
   "cell_type": "code",
   "execution_count": 13,
   "metadata": {},
   "outputs": [
    {
     "name": "stdout",
     "output_type": "stream",
     "text": [
      "3613 3613\n"
     ]
    }
   ],
   "source": [
    "print(len(upsampled_train_labeled[upsampled_train_labeled['true_pos']==0]),\n",
    "len(upsampled_train_labeled[upsampled_train_labeled['true_pos']==1]))"
   ]
  },
  {
   "cell_type": "code",
   "execution_count": 14,
   "metadata": {},
   "outputs": [],
   "source": [
    "val_dataset, test_dataset = train_test_split(remains_label_dataset, test_size=0.5, stratify=remains_label_dataset['true_pos'])"
   ]
  },
  {
   "cell_type": "code",
   "execution_count": 15,
   "metadata": {},
   "outputs": [
    {
     "data": {
      "text/plain": [
       "True"
      ]
     },
     "execution_count": 15,
     "metadata": {},
     "output_type": "execute_result"
    }
   ],
   "source": [
    "len(labeled) == len(train_labeled_dataset) + len(val_dataset) + len(test_dataset)"
   ]
  },
  {
   "cell_type": "code",
   "execution_count": 16,
   "metadata": {},
   "outputs": [],
   "source": [
    "val_idx = val_dataset.index.tolist()\n",
    "test_idx = test_dataset.index.tolist()\n",
    "\n",
    "remove_idx = val_idx + test_idx"
   ]
  },
  {
   "cell_type": "code",
   "execution_count": 17,
   "metadata": {},
   "outputs": [],
   "source": [
    "train_dataset = datasets.drop(remove_idx, axis=0)"
   ]
  },
  {
   "cell_type": "code",
   "execution_count": 18,
   "metadata": {},
   "outputs": [],
   "source": [
    "train_label_idx = train_labeled_dataset.index.tolist()\n",
    "train_unlabeled_dataset = train_dataset.drop(train_label_idx,axis=0)"
   ]
  },
  {
   "cell_type": "code",
   "execution_count": 20,
   "metadata": {},
   "outputs": [
    {
     "data": {
      "text/plain": [
       "True"
      ]
     },
     "execution_count": 20,
     "metadata": {},
     "output_type": "execute_result"
    }
   ],
   "source": [
    "len(train_dataset) == len(train_labeled_dataset) + len(train_unlabeled_dataset)"
   ]
  },
  {
   "cell_type": "code",
   "execution_count": 21,
   "metadata": {},
   "outputs": [
    {
     "data": {
      "text/plain": [
       "True"
      ]
     },
     "execution_count": 21,
     "metadata": {},
     "output_type": "execute_result"
    }
   ],
   "source": [
    "len(datasets) == len(train_dataset) + len(val_dataset) + len(test_dataset)"
   ]
  },
  {
   "cell_type": "markdown",
   "metadata": {},
   "source": [
    "## Create Dictionary, Indexized, Tensored Datasets, and Dataloaders"
   ]
  },
  {
   "cell_type": "code",
   "execution_count": 22,
   "metadata": {},
   "outputs": [
    {
     "name": "stderr",
     "output_type": "stream",
     "text": [
      "100%|██████████| 107271/107271 [00:27<00:00, 3836.54it/s]\n"
     ]
    }
   ],
   "source": [
    "# Make a dictionary\n",
    "review_dict = Dictionary(datasets, include_valid=False)"
   ]
  },
  {
   "cell_type": "code",
   "execution_count": 23,
   "metadata": {},
   "outputs": [],
   "source": [
    "path = os.getcwd()\n",
    "data_dir = path + '/data/'\n",
    "\n",
    "pickle_dict = open(data_dir + \"dictionary.p\",\"wb\")\n",
    "pickle.dump(review_dict, pickle_dict)\n",
    "pickle_dict.close()"
   ]
  },
  {
   "cell_type": "code",
   "execution_count": 24,
   "metadata": {},
   "outputs": [
    {
     "data": {
      "text/plain": [
       "34"
      ]
     },
     "execution_count": 24,
     "metadata": {},
     "output_type": "execute_result"
    }
   ],
   "source": [
    "review_dict.get_id(\"great\")"
   ]
  },
  {
   "cell_type": "code",
   "execution_count": 25,
   "metadata": {},
   "outputs": [
    {
     "data": {
      "text/plain": [
       "[2, 3, 4, 5, 6, 7, 8, 9]"
      ]
     },
     "execution_count": 25,
     "metadata": {},
     "output_type": "execute_result"
    }
   ],
   "source": [
    "review_dict.encode_token_seq(datasets.iloc[0,0])"
   ]
  },
  {
   "cell_type": "code",
   "execution_count": 26,
   "metadata": {},
   "outputs": [
    {
     "name": "stderr",
     "output_type": "stream",
     "text": [
      "100%|██████████| 7226/7226 [00:00<00:00, 102622.93it/s]\n",
      "100%|██████████| 102097/102097 [00:00<00:00, 214529.22it/s]\n",
      "100%|██████████| 517/517 [00:00<00:00, 127443.74it/s]\n",
      "100%|██████████| 518/518 [00:00<00:00, 159215.12it/s]\n",
      "100%|██████████| 106236/106236 [00:00<00:00, 150504.47it/s]\n"
     ]
    }
   ],
   "source": [
    "indexized_train_dataset_labeled = indexize_dataset(upsampled_train_labeled, review_dict)\n",
    "indexized_train_dataset_unlabeled = indexize_dataset(train_unlabeled_dataset, review_dict)\n",
    "indexized_val_datasets = indexize_dataset(val_dataset, review_dict)\n",
    "indexized_test_datasets = indexize_dataset(test_dataset, review_dict)\n",
    "indexized_train_datasets = indexize_dataset(train_dataset, review_dict)"
   ]
  },
  {
   "cell_type": "code",
   "execution_count": 27,
   "metadata": {},
   "outputs": [],
   "source": [
    "tensor_train_dataset_labeled = TensoredDataset(indexized_train_dataset_labeled,upsampled_train_labeled[\"true_pos\"].to_list(), upsampled_train_labeled[\"flagged_index\"].to_list())\n",
    "tensor_train_dataset_unlabeled = TensoredDataset(indexized_train_dataset_unlabeled,train_unlabeled_dataset[\"true_pos\"].to_list(), train_unlabeled_dataset[\"flagged_index\"].to_list())\n",
    "tensor_val_dataset = TensoredDataset(indexized_val_datasets,val_dataset[\"true_pos\"].to_list(), val_dataset[\"flagged_index\"].to_list())\n",
    "tensor_test_dataset = TensoredDataset(indexized_test_datasets,test_dataset[\"true_pos\"].to_list(), test_dataset[\"flagged_index\"].to_list())\n",
    "tensor_train_dataset = TensoredDataset(indexized_train_datasets,train_dataset[\"true_pos\"].to_list(), train_dataset[\"flagged_index\"].to_list())"
   ]
  },
  {
   "cell_type": "code",
   "execution_count": 28,
   "metadata": {},
   "outputs": [
    {
     "data": {
      "text/plain": [
       "(tensor([[311,  77, 312,  20, 313,  41, 225,   3, 249,  20,   7, 314, 239,  89,\n",
       "            9,   3, 315, 316, 317,   9]]), tensor(-1), tensor(18))"
      ]
     },
     "execution_count": 28,
     "metadata": {},
     "output_type": "execute_result"
    }
   ],
   "source": [
    "# check the first example\n",
    "tensor_train_dataset_unlabeled[100]"
   ]
  },
  {
   "cell_type": "code",
   "execution_count": 29,
   "metadata": {},
   "outputs": [],
   "source": [
    "# Random seed\n",
    "seed = 1029\n",
    "\n",
    "torch.manual_seed(seed)\n",
    "torch.cuda.manual_seed(seed)\n",
    "torch.cuda.manual_seed_all(seed)  # if you are using multi-GPU.\n",
    "np.random.seed(seed)  # Numpy module.\n",
    "random.seed(seed)  # Python random module.\n",
    "torch.manual_seed(seed)\n",
    "torch.backends.cudnn.enabled = False \n",
    "torch.backends.cudnn.benchmark = False\n",
    "torch.backends.cudnn.deterministic = True\n",
    "\n",
    "if torch.cuda.is_available(): torch.cuda.manual_seed_all(seed)\n",
    "\n",
    "def _init_fn(worker_id):\n",
    "    np.random.seed(int(seed))\n",
    "\n",
    "\n",
    "# Divide into train(95%), valid(5%) dataset\n",
    "batch_size = 32\n",
    "\n",
    "train_labeled_dataloader = DataLoader(tensor_train_dataset_labeled, batch_size=batch_size, shuffle=True, num_workers=0, collate_fn=pad_collate_fn, worker_init_fn=_init_fn)\n",
    "train_unlabeld_dataloader = DataLoader(tensor_train_dataset_unlabeled, batch_size=batch_size, shuffle=True, num_workers=0, collate_fn=pad_collate_fn, worker_init_fn=_init_fn)\n",
    "val_dataloader = DataLoader(tensor_val_dataset, batch_size=batch_size, shuffle=True, num_workers=0, collate_fn=pad_collate_fn, worker_init_fn=_init_fn)\n",
    "test_dataloader = DataLoader(tensor_test_dataset, batch_size=batch_size, shuffle=True, num_workers=0, collate_fn=pad_collate_fn, worker_init_fn=_init_fn)\n",
    "train_dataloader = DataLoader(tensor_train_dataset, batch_size=batch_size, shuffle=True, collate_fn=pad_collate_fn, worker_init_fn=_init_fn)"
   ]
  },
  {
   "cell_type": "markdown",
   "metadata": {},
   "source": [
    "## Save Dataloaders"
   ]
  },
  {
   "cell_type": "code",
   "execution_count": 31,
   "metadata": {},
   "outputs": [],
   "source": [
    "path = os.getcwd()\n",
    "data_dir = path + '../data/'\n",
    "\n",
    "pickle_train_labeled_dataloader = open(data_dir + \"train_labeled_dataloader.p\",\"wb\")\n",
    "pickle.dump(train_labeled_dataloader, pickle_train_labeled_dataloader)\n",
    "pickle_train_labeled_dataloader.close()\n",
    "\n",
    "pickle_train_unlabeled_dataloader = open(data_dir + \"train_unlabeled_dataloader.p\",\"wb\")\n",
    "pickle.dump(train_unlabeled_dataloader, pickle_train_unlabeled_dataloader)\n",
    "pickle_train_unlabeled_dataloader.close()\n",
    "\n",
    "pickle_val_dataloader = open(data_dir + \"val_dataloader.p\",\"wb\")\n",
    "pickle.dump(val_dataloader, pickle_val_dataloader)\n",
    "pickle_val_dataloader.close()\n",
    "\n",
    "pickle_test_dataloader = open(data_dir + \"test_dataloader.p\",\"wb\")\n",
    "pickle.dump(test_dataloader, pickle_test_dataloader)\n",
    "pickle_test_dataloader.close()\n",
    "\n",
    "pickle_train_dataloader = open(data_dir + \"train_dataloader.p\",\"wb\")\n",
    "pickle.dump(train_dataloader, pickle_train_dataloader)\n",
    "pickle_train_dataloader.close()"
   ]
  }
 ],
 "metadata": {
  "kernelspec": {
   "display_name": "Python 3",
   "language": "python",
   "name": "python3"
  },
  "language_info": {
   "codemirror_mode": {
    "name": "ipython",
    "version": 3
   },
   "file_extension": ".py",
   "mimetype": "text/x-python",
   "name": "python",
   "nbconvert_exporter": "python",
   "pygments_lexer": "ipython3",
   "version": "3.6.7"
  }
 },
 "nbformat": 4,
 "nbformat_minor": 4
}
