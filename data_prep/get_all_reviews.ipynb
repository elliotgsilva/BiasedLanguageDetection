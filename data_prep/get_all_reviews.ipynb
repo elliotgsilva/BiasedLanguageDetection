{
 "cells": [
  {
   "cell_type": "markdown",
   "metadata": {},
   "source": [
    "# Forming Initial Raw Dataset\n",
    "\n",
    "This notebook loads all the raw data found from FairFrame's scraped data and creates the initial dataset for further processing, and removes any exact duplicate reviews. The final output is in `all_reviews.p`"
   ]
  },
  {
   "cell_type": "code",
   "execution_count": 1,
   "metadata": {},
   "outputs": [],
   "source": [
    "import pickle\n",
    "import pandas as pd\n",
    "import numpy as np\n",
    "import os"
   ]
  },
  {
   "cell_type": "markdown",
   "metadata": {},
   "source": [
    "## Loading PeoplePerHour files\n"
   ]
  },
  {
   "cell_type": "code",
   "execution_count": 23,
   "metadata": {},
   "outputs": [],
   "source": [
    "# Points to data directory\n",
    "path = '../data/'"
   ]
  },
  {
   "cell_type": "code",
   "execution_count": 33,
   "metadata": {},
   "outputs": [],
   "source": [
    "directory = os.path.join(path, 'PeoplePerHour') \n",
    "all_reviews = []\n",
    "for filename in os.listdir(directory):\n",
    "    pickle_in = open(os.path.join(directory, filename), \"rb\")\n",
    "    reviews = pickle.load(pickle_in)\n",
    "    all_reviews += reviews"
   ]
  },
  {
   "cell_type": "code",
   "execution_count": 4,
   "metadata": {},
   "outputs": [
    {
     "data": {
      "text/plain": [
       "4983"
      ]
     },
     "execution_count": 4,
     "metadata": {},
     "output_type": "execute_result"
    }
   ],
   "source": [
    "len(all_reviews)"
   ]
  },
  {
   "cell_type": "code",
   "execution_count": 5,
   "metadata": {},
   "outputs": [],
   "source": [
    "new_review_dict = {\"user_no\":[], \"user_url\":[], \"reviews\":[]}"
   ]
  },
  {
   "cell_type": "code",
   "execution_count": 6,
   "metadata": {},
   "outputs": [],
   "source": [
    "for i in range(len(all_reviews)):\n",
    "    row = all_reviews[i]\n",
    "    for review in row[\"reviews\"]:\n",
    "        new_review_dict[\"user_no\"].append(row[\"user_no\"])\n",
    "        new_review_dict[\"user_url\"].append(row[\"user_url\"])\n",
    "        new_review_dict[\"reviews\"].append(review)"
   ]
  },
  {
   "cell_type": "code",
   "execution_count": 7,
   "metadata": {},
   "outputs": [],
   "source": [
    "PeoplePerHour_df = pd.DataFrame.from_dict(new_review_dict)\n",
    "PeoplePerHour_df['gender'] = 'U'\n",
    "PeoplePerHour_df = PeoplePerHour_df[['gender', 'reviews']]"
   ]
  },
  {
   "cell_type": "markdown",
   "metadata": {},
   "source": [
    "## Loading 99Designs files"
   ]
  },
  {
   "cell_type": "code",
   "execution_count": 35,
   "metadata": {},
   "outputs": [],
   "source": [
    "directory = os.path.join(path, '99Designs') \n",
    "all_reviews = []\n",
    "for filename in os.listdir(directory):\n",
    "    pickle_in = open(os.path.join(directory, filename), \"rb\")\n",
    "    reviews = pickle.load(pickle_in)\n",
    "    all_reviews += reviews"
   ]
  },
  {
   "cell_type": "code",
   "execution_count": 9,
   "metadata": {},
   "outputs": [
    {
     "data": {
      "text/plain": [
       "1500"
      ]
     },
     "execution_count": 9,
     "metadata": {},
     "output_type": "execute_result"
    }
   ],
   "source": [
    "len(all_reviews)"
   ]
  },
  {
   "cell_type": "code",
   "execution_count": 10,
   "metadata": {},
   "outputs": [],
   "source": [
    "new_review_dict = {\"user_no\":[], \"user_url\":[], \"reviews\":[]}"
   ]
  },
  {
   "cell_type": "code",
   "execution_count": 11,
   "metadata": {},
   "outputs": [],
   "source": [
    "for i in range(len(all_reviews)):\n",
    "    row = all_reviews[i]\n",
    "    for review in row[\"reviews\"]:\n",
    "        new_review_dict[\"user_no\"].append(row[\"user_no\"])\n",
    "        new_review_dict[\"user_url\"].append(row[\"user_url\"])\n",
    "        new_review_dict[\"reviews\"].append(review[0][1:-1])"
   ]
  },
  {
   "cell_type": "code",
   "execution_count": 12,
   "metadata": {},
   "outputs": [],
   "source": [
    "design_99_df = pd.DataFrame.from_dict(new_review_dict)\n",
    "design_99_df['gender'] = 'U'\n",
    "design_99_df = design_99_df[['gender', 'reviews']]"
   ]
  },
  {
   "cell_type": "markdown",
   "metadata": {},
   "source": [
    "## Loading freelancer files"
   ]
  },
  {
   "cell_type": "code",
   "execution_count": 36,
   "metadata": {},
   "outputs": [],
   "source": [
    "directory = os.path.join(path, 'Freelancer')\n",
    "freelancer_df = pd.read_csv(os.path.join(directory, 'freelancer_gendered.csv'), index_col= 0, names=[\"gender\", \"reviews\", \"rating\"], header = 0)"
   ]
  },
  {
   "cell_type": "code",
   "execution_count": 14,
   "metadata": {},
   "outputs": [],
   "source": [
    "freelancer_df = freelancer_df[['gender', 'reviews']]"
   ]
  },
  {
   "cell_type": "markdown",
   "metadata": {},
   "source": [
    "### Combining all the above reviews as a single list"
   ]
  },
  {
   "cell_type": "code",
   "execution_count": 15,
   "metadata": {},
   "outputs": [],
   "source": [
    "PeoplePerHour_list = PeoplePerHour_df[\"reviews\"].tolist()\n",
    "design_99_list = design_99_df[\"reviews\"].tolist()\n",
    "freelancer_list = freelancer_df[\"reviews\"].tolist()"
   ]
  },
  {
   "cell_type": "code",
   "execution_count": 16,
   "metadata": {},
   "outputs": [],
   "source": [
    "all_combined = []\n",
    "all_combined += PeoplePerHour_list\n",
    "all_combined += design_99_list\n",
    "all_combined += (freelancer_list)"
   ]
  },
  {
   "cell_type": "code",
   "execution_count": 17,
   "metadata": {},
   "outputs": [
    {
     "data": {
      "text/plain": [
       "118340"
      ]
     },
     "execution_count": 17,
     "metadata": {},
     "output_type": "execute_result"
    }
   ],
   "source": [
    "len(all_combined)"
   ]
  },
  {
   "cell_type": "code",
   "execution_count": 18,
   "metadata": {},
   "outputs": [],
   "source": [
    "#Getting rid of all duplicates\n",
    "filtered = list(set(all_combined))"
   ]
  },
  {
   "cell_type": "code",
   "execution_count": 19,
   "metadata": {},
   "outputs": [
    {
     "data": {
      "text/plain": [
       "102868"
      ]
     },
     "execution_count": 19,
     "metadata": {},
     "output_type": "execute_result"
    }
   ],
   "source": [
    "len(filtered)"
   ]
  },
  {
   "cell_type": "markdown",
   "metadata": {},
   "source": [
    "## Loading concatenated file"
   ]
  },
  {
   "cell_type": "code",
   "execution_count": 24,
   "metadata": {},
   "outputs": [],
   "source": [
    "reviews = pd.read_csv(os.path.join(path, 'concatenated.csv'), names = [\"gender\", \"reviews\"])"
   ]
  },
  {
   "cell_type": "code",
   "execution_count": 25,
   "metadata": {},
   "outputs": [
    {
     "data": {
      "text/plain": [
       "(20010, 2)"
      ]
     },
     "execution_count": 25,
     "metadata": {},
     "output_type": "execute_result"
    }
   ],
   "source": [
    "reviews = reviews.iloc[1:]\n",
    "reviews = reviews.drop_duplicates(subset = 'reviews', keep = 'first')\n",
    "reviews.shape"
   ]
  },
  {
   "cell_type": "code",
   "execution_count": 26,
   "metadata": {},
   "outputs": [],
   "source": [
    "concatenated_list = reviews[\"reviews\"].tolist()"
   ]
  },
  {
   "cell_type": "code",
   "execution_count": 27,
   "metadata": {},
   "outputs": [
    {
     "data": {
      "text/plain": [
       "102868"
      ]
     },
     "execution_count": 27,
     "metadata": {},
     "output_type": "execute_result"
    }
   ],
   "source": [
    "len(filtered)"
   ]
  },
  {
   "cell_type": "code",
   "execution_count": 28,
   "metadata": {},
   "outputs": [
    {
     "data": {
      "text/plain": [
       "20010"
      ]
     },
     "execution_count": 28,
     "metadata": {},
     "output_type": "execute_result"
    }
   ],
   "source": [
    "len(concatenated_list)"
   ]
  },
  {
   "cell_type": "code",
   "execution_count": 29,
   "metadata": {},
   "outputs": [],
   "source": [
    "filtered += concatenated_list\n",
    "filtered = list(set(filtered))"
   ]
  },
  {
   "cell_type": "code",
   "execution_count": 30,
   "metadata": {},
   "outputs": [
    {
     "data": {
      "text/plain": [
       "111093"
      ]
     },
     "execution_count": 30,
     "metadata": {},
     "output_type": "execute_result"
    }
   ],
   "source": [
    "len(filtered)"
   ]
  },
  {
   "cell_type": "code",
   "execution_count": 90,
   "metadata": {},
   "outputs": [],
   "source": [
    "pickle.dump(filtered, open(os.path.join(path, 'all_reviews.p'),'wb'))"
   ]
  }
 ],
 "metadata": {
  "kernelspec": {
   "display_name": "Python 3",
   "language": "python",
   "name": "python3"
  },
  "language_info": {
   "codemirror_mode": {
    "name": "ipython",
    "version": 3
   },
   "file_extension": ".py",
   "mimetype": "text/x-python",
   "name": "python",
   "nbconvert_exporter": "python",
   "pygments_lexer": "ipython3",
   "version": "3.6.7"
  }
 },
 "nbformat": 4,
 "nbformat_minor": 4
}
