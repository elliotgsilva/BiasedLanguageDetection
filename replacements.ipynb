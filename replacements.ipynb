{
 "cells": [
  {
   "cell_type": "code",
   "execution_count": 2,
   "metadata": {},
   "outputs": [],
   "source": [
    "import pandas as pd\n",
    "import os\n",
    "import re\n",
    "import csv"
   ]
  },
  {
   "cell_type": "code",
   "execution_count": 3,
   "metadata": {},
   "outputs": [],
   "source": [
    "#Read in data, rename columns for ease\n",
    "raw = pd.read_excel(\"./data/replacement.xlsx\")\n",
    "raw.columns = ['Flagged','Replacement']"
   ]
  },
  {
   "cell_type": "code",
   "execution_count": 14,
   "metadata": {},
   "outputs": [
    {
     "name": "stdout",
     "output_type": "stream",
     "text": [
      "Number of replacement phrases: 488\n"
     ]
    }
   ],
   "source": [
    "#Use regex to parse out the replacement phrases\n",
    "replacements_p = set()\n",
    "for row in raw['Replacement']:\n",
    "  split = re.findall(r\"\\[([^[\\]]*)\\]\",str(row).lower())\n",
    "  if split != None:\n",
    "    replacements_p.update(split)\n",
    "\n",
    "print(f\"Number of replacement phrases: {len(replacements_p)}\")\n",
    "\n",
    "#don't git add replacement words files!\n",
    "pd.DataFrame(replacements_p,columns=[\"rep_phrase\"]).to_csv(\"./data/all_replacements.csv\")\n"
   ]
  },
  {
   "cell_type": "code",
   "execution_count": 15,
   "metadata": {},
   "outputs": [
    {
     "name": "stdout",
     "output_type": "stream",
     "text": [
      "Number of one word replacements: 162\n",
      "Number of one word flagged: 574\n",
      "Number of non overlapping replacement words: 98\n"
     ]
    }
   ],
   "source": [
    "rep_singles=[p for p in replacements_p if len(p.split())==1]\n",
    "flag_singles=[p.lower() for p in set(raw['Flagged']) if len(p.split())==1]\n",
    "rep_words = pd.DataFrame([w for w in rep_singles if w not in flag_singles],columns=['rep_minus_flag'])\n",
    "print(f\"Number of one word replacements: {len(rep_singles)}\")\n",
    "print(f\"Number of one word flagged: {len(flag_singles)}\")\n",
    "print(f\"Number of non overlapping replacement words: {rep_words.size}\")\n",
    "\n",
    "#don't git add replacement words files!\n",
    "pd.DataFrame(rep_singles,columns=[\"rep_singles\"]).to_csv(\"./data/replacements_singles.csv\")\n",
    "pd.DataFrame(rep_words,columns=[\"rep_minus_flag\"]).to_csv(\"./data/replacements_minus_flag.csv\")"
   ]
  }
 ],
 "metadata": {
  "kernelspec": {
   "display_name": "Python 3",
   "language": "python",
   "name": "python3"
  },
  "language_info": {
   "codemirror_mode": {
    "name": "ipython",
    "version": 3
   },
   "file_extension": ".py",
   "mimetype": "text/x-python",
   "name": "python",
   "nbconvert_exporter": "python",
   "pygments_lexer": "ipython3",
   "version": "3.6.7"
  }
 },
 "nbformat": 4,
 "nbformat_minor": 4
}
