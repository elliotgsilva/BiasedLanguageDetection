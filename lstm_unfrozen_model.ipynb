{
  "nbformat": 4,
  "nbformat_minor": 0,
  "metadata": {
    "accelerator": "GPU",
    "colab": {
      "name": "lstm_unfrozen_model.ipynb",
      "provenance": [],
      "collapsed_sections": [
        "RFIzlhkeadVw"
      ],
      "machine_shape": "hm"
    },
    "kernelspec": {
      "display_name": "Python 3",
      "language": "python",
      "name": "python3"
    },
    "language_info": {
      "codemirror_mode": {
        "name": "ipython",
        "version": 3
      },
      "file_extension": ".py",
      "mimetype": "text/x-python",
      "name": "python",
      "nbconvert_exporter": "python",
      "pygments_lexer": "ipython3",
      "version": "3.6.9"
    },
    "widgets": {
      "application/vnd.jupyter.widget-state+json": {
        "017063e2c1424c7ca0a086ce109da7da": {
          "model_module": "@jupyter-widgets/controls",
          "model_name": "HBoxModel",
          "state": {
            "_view_name": "HBoxView",
            "_dom_classes": [],
            "_model_name": "HBoxModel",
            "_view_module": "@jupyter-widgets/controls",
            "_model_module_version": "1.5.0",
            "_view_count": null,
            "_view_module_version": "1.5.0",
            "box_style": "",
            "layout": "IPY_MODEL_64a644437a284d29a5466e4c4987c532",
            "_model_module": "@jupyter-widgets/controls",
            "children": [
              "IPY_MODEL_3f8f144e2c3a4cde89f7f9fc66ac961e",
              "IPY_MODEL_6d96f222eb494c38b57ef7c69a9827fe"
            ]
          }
        },
        "64a644437a284d29a5466e4c4987c532": {
          "model_module": "@jupyter-widgets/base",
          "model_name": "LayoutModel",
          "state": {
            "_view_name": "LayoutView",
            "grid_template_rows": null,
            "right": null,
            "justify_content": null,
            "_view_module": "@jupyter-widgets/base",
            "overflow": null,
            "_model_module_version": "1.2.0",
            "_view_count": null,
            "flex_flow": null,
            "width": null,
            "min_width": null,
            "border": null,
            "align_items": null,
            "bottom": null,
            "_model_module": "@jupyter-widgets/base",
            "top": null,
            "grid_column": null,
            "overflow_y": null,
            "overflow_x": null,
            "grid_auto_flow": null,
            "grid_area": null,
            "grid_template_columns": null,
            "flex": null,
            "_model_name": "LayoutModel",
            "justify_items": null,
            "grid_row": null,
            "max_height": null,
            "align_content": null,
            "visibility": null,
            "align_self": null,
            "height": null,
            "min_height": null,
            "padding": null,
            "grid_auto_rows": null,
            "grid_gap": null,
            "max_width": null,
            "order": null,
            "_view_module_version": "1.2.0",
            "grid_template_areas": null,
            "object_position": null,
            "object_fit": null,
            "grid_auto_columns": null,
            "margin": null,
            "display": null,
            "left": null
          }
        },
        "3f8f144e2c3a4cde89f7f9fc66ac961e": {
          "model_module": "@jupyter-widgets/controls",
          "model_name": "IntProgressModel",
          "state": {
            "_view_name": "ProgressView",
            "style": "IPY_MODEL_bb65cfc0edad4d0ba5b0d7c23f67dbba",
            "_dom_classes": [],
            "description": "",
            "_model_name": "IntProgressModel",
            "bar_style": "success",
            "max": 1,
            "_view_module": "@jupyter-widgets/controls",
            "_model_module_version": "1.5.0",
            "value": 1,
            "_view_count": null,
            "_view_module_version": "1.5.0",
            "orientation": "horizontal",
            "min": 0,
            "description_tooltip": null,
            "_model_module": "@jupyter-widgets/controls",
            "layout": "IPY_MODEL_844211438218424a81d7903c763ba15a"
          }
        },
        "6d96f222eb494c38b57ef7c69a9827fe": {
          "model_module": "@jupyter-widgets/controls",
          "model_name": "HTMLModel",
          "state": {
            "_view_name": "HTMLView",
            "style": "IPY_MODEL_f22fcc6189264de7a707fe1ca330cae9",
            "_dom_classes": [],
            "description": "",
            "_model_name": "HTMLModel",
            "placeholder": "​",
            "_view_module": "@jupyter-widgets/controls",
            "_model_module_version": "1.5.0",
            "value": "226it [00:14, 15.39it/s]",
            "_view_count": null,
            "_view_module_version": "1.5.0",
            "description_tooltip": null,
            "_model_module": "@jupyter-widgets/controls",
            "layout": "IPY_MODEL_dc60914eb4284c4a912e64cab09c7184"
          }
        },
        "bb65cfc0edad4d0ba5b0d7c23f67dbba": {
          "model_module": "@jupyter-widgets/controls",
          "model_name": "ProgressStyleModel",
          "state": {
            "_view_name": "StyleView",
            "_model_name": "ProgressStyleModel",
            "description_width": "",
            "_view_module": "@jupyter-widgets/base",
            "_model_module_version": "1.5.0",
            "_view_count": null,
            "_view_module_version": "1.2.0",
            "bar_color": null,
            "_model_module": "@jupyter-widgets/controls"
          }
        },
        "844211438218424a81d7903c763ba15a": {
          "model_module": "@jupyter-widgets/base",
          "model_name": "LayoutModel",
          "state": {
            "_view_name": "LayoutView",
            "grid_template_rows": null,
            "right": null,
            "justify_content": null,
            "_view_module": "@jupyter-widgets/base",
            "overflow": null,
            "_model_module_version": "1.2.0",
            "_view_count": null,
            "flex_flow": null,
            "width": null,
            "min_width": null,
            "border": null,
            "align_items": null,
            "bottom": null,
            "_model_module": "@jupyter-widgets/base",
            "top": null,
            "grid_column": null,
            "overflow_y": null,
            "overflow_x": null,
            "grid_auto_flow": null,
            "grid_area": null,
            "grid_template_columns": null,
            "flex": null,
            "_model_name": "LayoutModel",
            "justify_items": null,
            "grid_row": null,
            "max_height": null,
            "align_content": null,
            "visibility": null,
            "align_self": null,
            "height": null,
            "min_height": null,
            "padding": null,
            "grid_auto_rows": null,
            "grid_gap": null,
            "max_width": null,
            "order": null,
            "_view_module_version": "1.2.0",
            "grid_template_areas": null,
            "object_position": null,
            "object_fit": null,
            "grid_auto_columns": null,
            "margin": null,
            "display": null,
            "left": null
          }
        },
        "f22fcc6189264de7a707fe1ca330cae9": {
          "model_module": "@jupyter-widgets/controls",
          "model_name": "DescriptionStyleModel",
          "state": {
            "_view_name": "StyleView",
            "_model_name": "DescriptionStyleModel",
            "description_width": "",
            "_view_module": "@jupyter-widgets/base",
            "_model_module_version": "1.5.0",
            "_view_count": null,
            "_view_module_version": "1.2.0",
            "_model_module": "@jupyter-widgets/controls"
          }
        },
        "dc60914eb4284c4a912e64cab09c7184": {
          "model_module": "@jupyter-widgets/base",
          "model_name": "LayoutModel",
          "state": {
            "_view_name": "LayoutView",
            "grid_template_rows": null,
            "right": null,
            "justify_content": null,
            "_view_module": "@jupyter-widgets/base",
            "overflow": null,
            "_model_module_version": "1.2.0",
            "_view_count": null,
            "flex_flow": null,
            "width": null,
            "min_width": null,
            "border": null,
            "align_items": null,
            "bottom": null,
            "_model_module": "@jupyter-widgets/base",
            "top": null,
            "grid_column": null,
            "overflow_y": null,
            "overflow_x": null,
            "grid_auto_flow": null,
            "grid_area": null,
            "grid_template_columns": null,
            "flex": null,
            "_model_name": "LayoutModel",
            "justify_items": null,
            "grid_row": null,
            "max_height": null,
            "align_content": null,
            "visibility": null,
            "align_self": null,
            "height": null,
            "min_height": null,
            "padding": null,
            "grid_auto_rows": null,
            "grid_gap": null,
            "max_width": null,
            "order": null,
            "_view_module_version": "1.2.0",
            "grid_template_areas": null,
            "object_position": null,
            "object_fit": null,
            "grid_auto_columns": null,
            "margin": null,
            "display": null,
            "left": null
          }
        },
        "e93644d7cf1548edb777f5774b19f8ee": {
          "model_module": "@jupyter-widgets/controls",
          "model_name": "HBoxModel",
          "state": {
            "_view_name": "HBoxView",
            "_dom_classes": [],
            "_model_name": "HBoxModel",
            "_view_module": "@jupyter-widgets/controls",
            "_model_module_version": "1.5.0",
            "_view_count": null,
            "_view_module_version": "1.5.0",
            "box_style": "",
            "layout": "IPY_MODEL_ef75976328dc4d7ea560361efc77b92d",
            "_model_module": "@jupyter-widgets/controls",
            "children": [
              "IPY_MODEL_3ada672502ba40ae97aed57a3fe1948a",
              "IPY_MODEL_fe53eacfe5b64de58d5b5655ff385188"
            ]
          }
        },
        "ef75976328dc4d7ea560361efc77b92d": {
          "model_module": "@jupyter-widgets/base",
          "model_name": "LayoutModel",
          "state": {
            "_view_name": "LayoutView",
            "grid_template_rows": null,
            "right": null,
            "justify_content": null,
            "_view_module": "@jupyter-widgets/base",
            "overflow": null,
            "_model_module_version": "1.2.0",
            "_view_count": null,
            "flex_flow": null,
            "width": null,
            "min_width": null,
            "border": null,
            "align_items": null,
            "bottom": null,
            "_model_module": "@jupyter-widgets/base",
            "top": null,
            "grid_column": null,
            "overflow_y": null,
            "overflow_x": null,
            "grid_auto_flow": null,
            "grid_area": null,
            "grid_template_columns": null,
            "flex": null,
            "_model_name": "LayoutModel",
            "justify_items": null,
            "grid_row": null,
            "max_height": null,
            "align_content": null,
            "visibility": null,
            "align_self": null,
            "height": null,
            "min_height": null,
            "padding": null,
            "grid_auto_rows": null,
            "grid_gap": null,
            "max_width": null,
            "order": null,
            "_view_module_version": "1.2.0",
            "grid_template_areas": null,
            "object_position": null,
            "object_fit": null,
            "grid_auto_columns": null,
            "margin": null,
            "display": null,
            "left": null
          }
        },
        "3ada672502ba40ae97aed57a3fe1948a": {
          "model_module": "@jupyter-widgets/controls",
          "model_name": "IntProgressModel",
          "state": {
            "_view_name": "ProgressView",
            "style": "IPY_MODEL_6665df745dd64b6783bf9b9ce585b114",
            "_dom_classes": [],
            "description": "",
            "_model_name": "IntProgressModel",
            "bar_style": "success",
            "max": 1,
            "_view_module": "@jupyter-widgets/controls",
            "_model_module_version": "1.5.0",
            "value": 1,
            "_view_count": null,
            "_view_module_version": "1.5.0",
            "orientation": "horizontal",
            "min": 0,
            "description_tooltip": null,
            "_model_module": "@jupyter-widgets/controls",
            "layout": "IPY_MODEL_d3c05c41ca41468b81352a164ec29a92"
          }
        },
        "fe53eacfe5b64de58d5b5655ff385188": {
          "model_module": "@jupyter-widgets/controls",
          "model_name": "HTMLModel",
          "state": {
            "_view_name": "HTMLView",
            "style": "IPY_MODEL_b3265a5cceb847e8a3777e427bd4aa35",
            "_dom_classes": [],
            "description": "",
            "_model_name": "HTMLModel",
            "placeholder": "​",
            "_view_module": "@jupyter-widgets/controls",
            "_model_module_version": "1.5.0",
            "value": "226it [00:15, 14.95it/s]",
            "_view_count": null,
            "_view_module_version": "1.5.0",
            "description_tooltip": null,
            "_model_module": "@jupyter-widgets/controls",
            "layout": "IPY_MODEL_73584ec6668a4c5fa608a0a9d03e0303"
          }
        },
        "6665df745dd64b6783bf9b9ce585b114": {
          "model_module": "@jupyter-widgets/controls",
          "model_name": "ProgressStyleModel",
          "state": {
            "_view_name": "StyleView",
            "_model_name": "ProgressStyleModel",
            "description_width": "",
            "_view_module": "@jupyter-widgets/base",
            "_model_module_version": "1.5.0",
            "_view_count": null,
            "_view_module_version": "1.2.0",
            "bar_color": null,
            "_model_module": "@jupyter-widgets/controls"
          }
        },
        "d3c05c41ca41468b81352a164ec29a92": {
          "model_module": "@jupyter-widgets/base",
          "model_name": "LayoutModel",
          "state": {
            "_view_name": "LayoutView",
            "grid_template_rows": null,
            "right": null,
            "justify_content": null,
            "_view_module": "@jupyter-widgets/base",
            "overflow": null,
            "_model_module_version": "1.2.0",
            "_view_count": null,
            "flex_flow": null,
            "width": null,
            "min_width": null,
            "border": null,
            "align_items": null,
            "bottom": null,
            "_model_module": "@jupyter-widgets/base",
            "top": null,
            "grid_column": null,
            "overflow_y": null,
            "overflow_x": null,
            "grid_auto_flow": null,
            "grid_area": null,
            "grid_template_columns": null,
            "flex": null,
            "_model_name": "LayoutModel",
            "justify_items": null,
            "grid_row": null,
            "max_height": null,
            "align_content": null,
            "visibility": null,
            "align_self": null,
            "height": null,
            "min_height": null,
            "padding": null,
            "grid_auto_rows": null,
            "grid_gap": null,
            "max_width": null,
            "order": null,
            "_view_module_version": "1.2.0",
            "grid_template_areas": null,
            "object_position": null,
            "object_fit": null,
            "grid_auto_columns": null,
            "margin": null,
            "display": null,
            "left": null
          }
        },
        "b3265a5cceb847e8a3777e427bd4aa35": {
          "model_module": "@jupyter-widgets/controls",
          "model_name": "DescriptionStyleModel",
          "state": {
            "_view_name": "StyleView",
            "_model_name": "DescriptionStyleModel",
            "description_width": "",
            "_view_module": "@jupyter-widgets/base",
            "_model_module_version": "1.5.0",
            "_view_count": null,
            "_view_module_version": "1.2.0",
            "_model_module": "@jupyter-widgets/controls"
          }
        },
        "73584ec6668a4c5fa608a0a9d03e0303": {
          "model_module": "@jupyter-widgets/base",
          "model_name": "LayoutModel",
          "state": {
            "_view_name": "LayoutView",
            "grid_template_rows": null,
            "right": null,
            "justify_content": null,
            "_view_module": "@jupyter-widgets/base",
            "overflow": null,
            "_model_module_version": "1.2.0",
            "_view_count": null,
            "flex_flow": null,
            "width": null,
            "min_width": null,
            "border": null,
            "align_items": null,
            "bottom": null,
            "_model_module": "@jupyter-widgets/base",
            "top": null,
            "grid_column": null,
            "overflow_y": null,
            "overflow_x": null,
            "grid_auto_flow": null,
            "grid_area": null,
            "grid_template_columns": null,
            "flex": null,
            "_model_name": "LayoutModel",
            "justify_items": null,
            "grid_row": null,
            "max_height": null,
            "align_content": null,
            "visibility": null,
            "align_self": null,
            "height": null,
            "min_height": null,
            "padding": null,
            "grid_auto_rows": null,
            "grid_gap": null,
            "max_width": null,
            "order": null,
            "_view_module_version": "1.2.0",
            "grid_template_areas": null,
            "object_position": null,
            "object_fit": null,
            "grid_auto_columns": null,
            "margin": null,
            "display": null,
            "left": null
          }
        },
        "9f16a5c6f5e1456e90bc6e609fa6f98e": {
          "model_module": "@jupyter-widgets/controls",
          "model_name": "HBoxModel",
          "state": {
            "_view_name": "HBoxView",
            "_dom_classes": [],
            "_model_name": "HBoxModel",
            "_view_module": "@jupyter-widgets/controls",
            "_model_module_version": "1.5.0",
            "_view_count": null,
            "_view_module_version": "1.5.0",
            "box_style": "",
            "layout": "IPY_MODEL_91bf04477d244335a62b6a33e3a1cca9",
            "_model_module": "@jupyter-widgets/controls",
            "children": [
              "IPY_MODEL_e744014eaa64473eb1b59f8d5348c370",
              "IPY_MODEL_d52fb1a830b3423f8e6ddbcdcdba9cbc"
            ]
          }
        },
        "91bf04477d244335a62b6a33e3a1cca9": {
          "model_module": "@jupyter-widgets/base",
          "model_name": "LayoutModel",
          "state": {
            "_view_name": "LayoutView",
            "grid_template_rows": null,
            "right": null,
            "justify_content": null,
            "_view_module": "@jupyter-widgets/base",
            "overflow": null,
            "_model_module_version": "1.2.0",
            "_view_count": null,
            "flex_flow": null,
            "width": null,
            "min_width": null,
            "border": null,
            "align_items": null,
            "bottom": null,
            "_model_module": "@jupyter-widgets/base",
            "top": null,
            "grid_column": null,
            "overflow_y": null,
            "overflow_x": null,
            "grid_auto_flow": null,
            "grid_area": null,
            "grid_template_columns": null,
            "flex": null,
            "_model_name": "LayoutModel",
            "justify_items": null,
            "grid_row": null,
            "max_height": null,
            "align_content": null,
            "visibility": null,
            "align_self": null,
            "height": null,
            "min_height": null,
            "padding": null,
            "grid_auto_rows": null,
            "grid_gap": null,
            "max_width": null,
            "order": null,
            "_view_module_version": "1.2.0",
            "grid_template_areas": null,
            "object_position": null,
            "object_fit": null,
            "grid_auto_columns": null,
            "margin": null,
            "display": null,
            "left": null
          }
        },
        "e744014eaa64473eb1b59f8d5348c370": {
          "model_module": "@jupyter-widgets/controls",
          "model_name": "IntProgressModel",
          "state": {
            "_view_name": "ProgressView",
            "style": "IPY_MODEL_8e9a45b94ebd49d5b311a7e18a8a7036",
            "_dom_classes": [],
            "description": "",
            "_model_name": "IntProgressModel",
            "bar_style": "success",
            "max": 1,
            "_view_module": "@jupyter-widgets/controls",
            "_model_module_version": "1.5.0",
            "value": 1,
            "_view_count": null,
            "_view_module_version": "1.5.0",
            "orientation": "horizontal",
            "min": 0,
            "description_tooltip": null,
            "_model_module": "@jupyter-widgets/controls",
            "layout": "IPY_MODEL_210450f0f06c487dbde617a909891dfa"
          }
        },
        "d52fb1a830b3423f8e6ddbcdcdba9cbc": {
          "model_module": "@jupyter-widgets/controls",
          "model_name": "HTMLModel",
          "state": {
            "_view_name": "HTMLView",
            "style": "IPY_MODEL_8fa2193f190045f3b4b6a7c34cf8aafd",
            "_dom_classes": [],
            "description": "",
            "_model_name": "HTMLModel",
            "placeholder": "​",
            "_view_module": "@jupyter-widgets/controls",
            "_model_module_version": "1.5.0",
            "value": "226it [00:14, 15.30it/s]",
            "_view_count": null,
            "_view_module_version": "1.5.0",
            "description_tooltip": null,
            "_model_module": "@jupyter-widgets/controls",
            "layout": "IPY_MODEL_d537fa88287c487e941c53f9a598d072"
          }
        },
        "8e9a45b94ebd49d5b311a7e18a8a7036": {
          "model_module": "@jupyter-widgets/controls",
          "model_name": "ProgressStyleModel",
          "state": {
            "_view_name": "StyleView",
            "_model_name": "ProgressStyleModel",
            "description_width": "",
            "_view_module": "@jupyter-widgets/base",
            "_model_module_version": "1.5.0",
            "_view_count": null,
            "_view_module_version": "1.2.0",
            "bar_color": null,
            "_model_module": "@jupyter-widgets/controls"
          }
        },
        "210450f0f06c487dbde617a909891dfa": {
          "model_module": "@jupyter-widgets/base",
          "model_name": "LayoutModel",
          "state": {
            "_view_name": "LayoutView",
            "grid_template_rows": null,
            "right": null,
            "justify_content": null,
            "_view_module": "@jupyter-widgets/base",
            "overflow": null,
            "_model_module_version": "1.2.0",
            "_view_count": null,
            "flex_flow": null,
            "width": null,
            "min_width": null,
            "border": null,
            "align_items": null,
            "bottom": null,
            "_model_module": "@jupyter-widgets/base",
            "top": null,
            "grid_column": null,
            "overflow_y": null,
            "overflow_x": null,
            "grid_auto_flow": null,
            "grid_area": null,
            "grid_template_columns": null,
            "flex": null,
            "_model_name": "LayoutModel",
            "justify_items": null,
            "grid_row": null,
            "max_height": null,
            "align_content": null,
            "visibility": null,
            "align_self": null,
            "height": null,
            "min_height": null,
            "padding": null,
            "grid_auto_rows": null,
            "grid_gap": null,
            "max_width": null,
            "order": null,
            "_view_module_version": "1.2.0",
            "grid_template_areas": null,
            "object_position": null,
            "object_fit": null,
            "grid_auto_columns": null,
            "margin": null,
            "display": null,
            "left": null
          }
        },
        "8fa2193f190045f3b4b6a7c34cf8aafd": {
          "model_module": "@jupyter-widgets/controls",
          "model_name": "DescriptionStyleModel",
          "state": {
            "_view_name": "StyleView",
            "_model_name": "DescriptionStyleModel",
            "description_width": "",
            "_view_module": "@jupyter-widgets/base",
            "_model_module_version": "1.5.0",
            "_view_count": null,
            "_view_module_version": "1.2.0",
            "_model_module": "@jupyter-widgets/controls"
          }
        },
        "d537fa88287c487e941c53f9a598d072": {
          "model_module": "@jupyter-widgets/base",
          "model_name": "LayoutModel",
          "state": {
            "_view_name": "LayoutView",
            "grid_template_rows": null,
            "right": null,
            "justify_content": null,
            "_view_module": "@jupyter-widgets/base",
            "overflow": null,
            "_model_module_version": "1.2.0",
            "_view_count": null,
            "flex_flow": null,
            "width": null,
            "min_width": null,
            "border": null,
            "align_items": null,
            "bottom": null,
            "_model_module": "@jupyter-widgets/base",
            "top": null,
            "grid_column": null,
            "overflow_y": null,
            "overflow_x": null,
            "grid_auto_flow": null,
            "grid_area": null,
            "grid_template_columns": null,
            "flex": null,
            "_model_name": "LayoutModel",
            "justify_items": null,
            "grid_row": null,
            "max_height": null,
            "align_content": null,
            "visibility": null,
            "align_self": null,
            "height": null,
            "min_height": null,
            "padding": null,
            "grid_auto_rows": null,
            "grid_gap": null,
            "max_width": null,
            "order": null,
            "_view_module_version": "1.2.0",
            "grid_template_areas": null,
            "object_position": null,
            "object_fit": null,
            "grid_auto_columns": null,
            "margin": null,
            "display": null,
            "left": null
          }
        },
        "39810d93ed53404aa4f3e15d7418d378": {
          "model_module": "@jupyter-widgets/controls",
          "model_name": "HBoxModel",
          "state": {
            "_view_name": "HBoxView",
            "_dom_classes": [],
            "_model_name": "HBoxModel",
            "_view_module": "@jupyter-widgets/controls",
            "_model_module_version": "1.5.0",
            "_view_count": null,
            "_view_module_version": "1.5.0",
            "box_style": "",
            "layout": "IPY_MODEL_15d612940b154a20b97eda489c87fe06",
            "_model_module": "@jupyter-widgets/controls",
            "children": [
              "IPY_MODEL_16395aba63874b61aad926403658016e",
              "IPY_MODEL_622e638286ca44ff881de325059a40d7"
            ]
          }
        },
        "15d612940b154a20b97eda489c87fe06": {
          "model_module": "@jupyter-widgets/base",
          "model_name": "LayoutModel",
          "state": {
            "_view_name": "LayoutView",
            "grid_template_rows": null,
            "right": null,
            "justify_content": null,
            "_view_module": "@jupyter-widgets/base",
            "overflow": null,
            "_model_module_version": "1.2.0",
            "_view_count": null,
            "flex_flow": null,
            "width": null,
            "min_width": null,
            "border": null,
            "align_items": null,
            "bottom": null,
            "_model_module": "@jupyter-widgets/base",
            "top": null,
            "grid_column": null,
            "overflow_y": null,
            "overflow_x": null,
            "grid_auto_flow": null,
            "grid_area": null,
            "grid_template_columns": null,
            "flex": null,
            "_model_name": "LayoutModel",
            "justify_items": null,
            "grid_row": null,
            "max_height": null,
            "align_content": null,
            "visibility": null,
            "align_self": null,
            "height": null,
            "min_height": null,
            "padding": null,
            "grid_auto_rows": null,
            "grid_gap": null,
            "max_width": null,
            "order": null,
            "_view_module_version": "1.2.0",
            "grid_template_areas": null,
            "object_position": null,
            "object_fit": null,
            "grid_auto_columns": null,
            "margin": null,
            "display": null,
            "left": null
          }
        },
        "16395aba63874b61aad926403658016e": {
          "model_module": "@jupyter-widgets/controls",
          "model_name": "IntProgressModel",
          "state": {
            "_view_name": "ProgressView",
            "style": "IPY_MODEL_efff0ac192eb4fdaac26d9574bc596d7",
            "_dom_classes": [],
            "description": "",
            "_model_name": "IntProgressModel",
            "bar_style": "success",
            "max": 1,
            "_view_module": "@jupyter-widgets/controls",
            "_model_module_version": "1.5.0",
            "value": 1,
            "_view_count": null,
            "_view_module_version": "1.5.0",
            "orientation": "horizontal",
            "min": 0,
            "description_tooltip": null,
            "_model_module": "@jupyter-widgets/controls",
            "layout": "IPY_MODEL_1906ae903c86469ca87cd2c7423f6097"
          }
        },
        "622e638286ca44ff881de325059a40d7": {
          "model_module": "@jupyter-widgets/controls",
          "model_name": "HTMLModel",
          "state": {
            "_view_name": "HTMLView",
            "style": "IPY_MODEL_0cac464c98ea4fadb6d4d6e2bea19474",
            "_dom_classes": [],
            "description": "",
            "_model_name": "HTMLModel",
            "placeholder": "​",
            "_view_module": "@jupyter-widgets/controls",
            "_model_module_version": "1.5.0",
            "value": "226it [00:15, 15.04it/s]",
            "_view_count": null,
            "_view_module_version": "1.5.0",
            "description_tooltip": null,
            "_model_module": "@jupyter-widgets/controls",
            "layout": "IPY_MODEL_990a7aa3cd604771a88ea01a38b08c47"
          }
        },
        "efff0ac192eb4fdaac26d9574bc596d7": {
          "model_module": "@jupyter-widgets/controls",
          "model_name": "ProgressStyleModel",
          "state": {
            "_view_name": "StyleView",
            "_model_name": "ProgressStyleModel",
            "description_width": "",
            "_view_module": "@jupyter-widgets/base",
            "_model_module_version": "1.5.0",
            "_view_count": null,
            "_view_module_version": "1.2.0",
            "bar_color": null,
            "_model_module": "@jupyter-widgets/controls"
          }
        },
        "1906ae903c86469ca87cd2c7423f6097": {
          "model_module": "@jupyter-widgets/base",
          "model_name": "LayoutModel",
          "state": {
            "_view_name": "LayoutView",
            "grid_template_rows": null,
            "right": null,
            "justify_content": null,
            "_view_module": "@jupyter-widgets/base",
            "overflow": null,
            "_model_module_version": "1.2.0",
            "_view_count": null,
            "flex_flow": null,
            "width": null,
            "min_width": null,
            "border": null,
            "align_items": null,
            "bottom": null,
            "_model_module": "@jupyter-widgets/base",
            "top": null,
            "grid_column": null,
            "overflow_y": null,
            "overflow_x": null,
            "grid_auto_flow": null,
            "grid_area": null,
            "grid_template_columns": null,
            "flex": null,
            "_model_name": "LayoutModel",
            "justify_items": null,
            "grid_row": null,
            "max_height": null,
            "align_content": null,
            "visibility": null,
            "align_self": null,
            "height": null,
            "min_height": null,
            "padding": null,
            "grid_auto_rows": null,
            "grid_gap": null,
            "max_width": null,
            "order": null,
            "_view_module_version": "1.2.0",
            "grid_template_areas": null,
            "object_position": null,
            "object_fit": null,
            "grid_auto_columns": null,
            "margin": null,
            "display": null,
            "left": null
          }
        },
        "0cac464c98ea4fadb6d4d6e2bea19474": {
          "model_module": "@jupyter-widgets/controls",
          "model_name": "DescriptionStyleModel",
          "state": {
            "_view_name": "StyleView",
            "_model_name": "DescriptionStyleModel",
            "description_width": "",
            "_view_module": "@jupyter-widgets/base",
            "_model_module_version": "1.5.0",
            "_view_count": null,
            "_view_module_version": "1.2.0",
            "_model_module": "@jupyter-widgets/controls"
          }
        },
        "990a7aa3cd604771a88ea01a38b08c47": {
          "model_module": "@jupyter-widgets/base",
          "model_name": "LayoutModel",
          "state": {
            "_view_name": "LayoutView",
            "grid_template_rows": null,
            "right": null,
            "justify_content": null,
            "_view_module": "@jupyter-widgets/base",
            "overflow": null,
            "_model_module_version": "1.2.0",
            "_view_count": null,
            "flex_flow": null,
            "width": null,
            "min_width": null,
            "border": null,
            "align_items": null,
            "bottom": null,
            "_model_module": "@jupyter-widgets/base",
            "top": null,
            "grid_column": null,
            "overflow_y": null,
            "overflow_x": null,
            "grid_auto_flow": null,
            "grid_area": null,
            "grid_template_columns": null,
            "flex": null,
            "_model_name": "LayoutModel",
            "justify_items": null,
            "grid_row": null,
            "max_height": null,
            "align_content": null,
            "visibility": null,
            "align_self": null,
            "height": null,
            "min_height": null,
            "padding": null,
            "grid_auto_rows": null,
            "grid_gap": null,
            "max_width": null,
            "order": null,
            "_view_module_version": "1.2.0",
            "grid_template_areas": null,
            "object_position": null,
            "object_fit": null,
            "grid_auto_columns": null,
            "margin": null,
            "display": null,
            "left": null
          }
        },
        "0ac73c1ef8da4159993fe172cf6a163e": {
          "model_module": "@jupyter-widgets/controls",
          "model_name": "HBoxModel",
          "state": {
            "_view_name": "HBoxView",
            "_dom_classes": [],
            "_model_name": "HBoxModel",
            "_view_module": "@jupyter-widgets/controls",
            "_model_module_version": "1.5.0",
            "_view_count": null,
            "_view_module_version": "1.5.0",
            "box_style": "",
            "layout": "IPY_MODEL_870c289989584d188dc56dd087cb55b0",
            "_model_module": "@jupyter-widgets/controls",
            "children": [
              "IPY_MODEL_69bda514a42e496ab3c35f7e91f0735f",
              "IPY_MODEL_69a69099c7b9428890dbac55a89595a4"
            ]
          }
        },
        "870c289989584d188dc56dd087cb55b0": {
          "model_module": "@jupyter-widgets/base",
          "model_name": "LayoutModel",
          "state": {
            "_view_name": "LayoutView",
            "grid_template_rows": null,
            "right": null,
            "justify_content": null,
            "_view_module": "@jupyter-widgets/base",
            "overflow": null,
            "_model_module_version": "1.2.0",
            "_view_count": null,
            "flex_flow": null,
            "width": null,
            "min_width": null,
            "border": null,
            "align_items": null,
            "bottom": null,
            "_model_module": "@jupyter-widgets/base",
            "top": null,
            "grid_column": null,
            "overflow_y": null,
            "overflow_x": null,
            "grid_auto_flow": null,
            "grid_area": null,
            "grid_template_columns": null,
            "flex": null,
            "_model_name": "LayoutModel",
            "justify_items": null,
            "grid_row": null,
            "max_height": null,
            "align_content": null,
            "visibility": null,
            "align_self": null,
            "height": null,
            "min_height": null,
            "padding": null,
            "grid_auto_rows": null,
            "grid_gap": null,
            "max_width": null,
            "order": null,
            "_view_module_version": "1.2.0",
            "grid_template_areas": null,
            "object_position": null,
            "object_fit": null,
            "grid_auto_columns": null,
            "margin": null,
            "display": null,
            "left": null
          }
        },
        "69bda514a42e496ab3c35f7e91f0735f": {
          "model_module": "@jupyter-widgets/controls",
          "model_name": "IntProgressModel",
          "state": {
            "_view_name": "ProgressView",
            "style": "IPY_MODEL_e2d8c8ff4598453ca74a8f4cd1a7dd2d",
            "_dom_classes": [],
            "description": "",
            "_model_name": "IntProgressModel",
            "bar_style": "success",
            "max": 1,
            "_view_module": "@jupyter-widgets/controls",
            "_model_module_version": "1.5.0",
            "value": 1,
            "_view_count": null,
            "_view_module_version": "1.5.0",
            "orientation": "horizontal",
            "min": 0,
            "description_tooltip": null,
            "_model_module": "@jupyter-widgets/controls",
            "layout": "IPY_MODEL_a752132d5e1b43c8bd90eb387414c29f"
          }
        },
        "69a69099c7b9428890dbac55a89595a4": {
          "model_module": "@jupyter-widgets/controls",
          "model_name": "HTMLModel",
          "state": {
            "_view_name": "HTMLView",
            "style": "IPY_MODEL_5aeb53b83bad425184a911681b2dad0a",
            "_dom_classes": [],
            "description": "",
            "_model_name": "HTMLModel",
            "placeholder": "​",
            "_view_module": "@jupyter-widgets/controls",
            "_model_module_version": "1.5.0",
            "value": "226it [00:15, 14.96it/s]",
            "_view_count": null,
            "_view_module_version": "1.5.0",
            "description_tooltip": null,
            "_model_module": "@jupyter-widgets/controls",
            "layout": "IPY_MODEL_e84b76a347874992b06671c9f8548c60"
          }
        },
        "e2d8c8ff4598453ca74a8f4cd1a7dd2d": {
          "model_module": "@jupyter-widgets/controls",
          "model_name": "ProgressStyleModel",
          "state": {
            "_view_name": "StyleView",
            "_model_name": "ProgressStyleModel",
            "description_width": "",
            "_view_module": "@jupyter-widgets/base",
            "_model_module_version": "1.5.0",
            "_view_count": null,
            "_view_module_version": "1.2.0",
            "bar_color": null,
            "_model_module": "@jupyter-widgets/controls"
          }
        },
        "a752132d5e1b43c8bd90eb387414c29f": {
          "model_module": "@jupyter-widgets/base",
          "model_name": "LayoutModel",
          "state": {
            "_view_name": "LayoutView",
            "grid_template_rows": null,
            "right": null,
            "justify_content": null,
            "_view_module": "@jupyter-widgets/base",
            "overflow": null,
            "_model_module_version": "1.2.0",
            "_view_count": null,
            "flex_flow": null,
            "width": null,
            "min_width": null,
            "border": null,
            "align_items": null,
            "bottom": null,
            "_model_module": "@jupyter-widgets/base",
            "top": null,
            "grid_column": null,
            "overflow_y": null,
            "overflow_x": null,
            "grid_auto_flow": null,
            "grid_area": null,
            "grid_template_columns": null,
            "flex": null,
            "_model_name": "LayoutModel",
            "justify_items": null,
            "grid_row": null,
            "max_height": null,
            "align_content": null,
            "visibility": null,
            "align_self": null,
            "height": null,
            "min_height": null,
            "padding": null,
            "grid_auto_rows": null,
            "grid_gap": null,
            "max_width": null,
            "order": null,
            "_view_module_version": "1.2.0",
            "grid_template_areas": null,
            "object_position": null,
            "object_fit": null,
            "grid_auto_columns": null,
            "margin": null,
            "display": null,
            "left": null
          }
        },
        "5aeb53b83bad425184a911681b2dad0a": {
          "model_module": "@jupyter-widgets/controls",
          "model_name": "DescriptionStyleModel",
          "state": {
            "_view_name": "StyleView",
            "_model_name": "DescriptionStyleModel",
            "description_width": "",
            "_view_module": "@jupyter-widgets/base",
            "_model_module_version": "1.5.0",
            "_view_count": null,
            "_view_module_version": "1.2.0",
            "_model_module": "@jupyter-widgets/controls"
          }
        },
        "e84b76a347874992b06671c9f8548c60": {
          "model_module": "@jupyter-widgets/base",
          "model_name": "LayoutModel",
          "state": {
            "_view_name": "LayoutView",
            "grid_template_rows": null,
            "right": null,
            "justify_content": null,
            "_view_module": "@jupyter-widgets/base",
            "overflow": null,
            "_model_module_version": "1.2.0",
            "_view_count": null,
            "flex_flow": null,
            "width": null,
            "min_width": null,
            "border": null,
            "align_items": null,
            "bottom": null,
            "_model_module": "@jupyter-widgets/base",
            "top": null,
            "grid_column": null,
            "overflow_y": null,
            "overflow_x": null,
            "grid_auto_flow": null,
            "grid_area": null,
            "grid_template_columns": null,
            "flex": null,
            "_model_name": "LayoutModel",
            "justify_items": null,
            "grid_row": null,
            "max_height": null,
            "align_content": null,
            "visibility": null,
            "align_self": null,
            "height": null,
            "min_height": null,
            "padding": null,
            "grid_auto_rows": null,
            "grid_gap": null,
            "max_width": null,
            "order": null,
            "_view_module_version": "1.2.0",
            "grid_template_areas": null,
            "object_position": null,
            "object_fit": null,
            "grid_auto_columns": null,
            "margin": null,
            "display": null,
            "left": null
          }
        },
        "c1b712dd10454830b7518a13f4c38e39": {
          "model_module": "@jupyter-widgets/controls",
          "model_name": "HBoxModel",
          "state": {
            "_view_name": "HBoxView",
            "_dom_classes": [],
            "_model_name": "HBoxModel",
            "_view_module": "@jupyter-widgets/controls",
            "_model_module_version": "1.5.0",
            "_view_count": null,
            "_view_module_version": "1.5.0",
            "box_style": "",
            "layout": "IPY_MODEL_9a13175fcec64aa589b412a1aed0843f",
            "_model_module": "@jupyter-widgets/controls",
            "children": [
              "IPY_MODEL_4abe82fbb725498291b098d6e1a8c553",
              "IPY_MODEL_7af0cf9c5f44403faaa236fc12e45aed"
            ]
          }
        },
        "9a13175fcec64aa589b412a1aed0843f": {
          "model_module": "@jupyter-widgets/base",
          "model_name": "LayoutModel",
          "state": {
            "_view_name": "LayoutView",
            "grid_template_rows": null,
            "right": null,
            "justify_content": null,
            "_view_module": "@jupyter-widgets/base",
            "overflow": null,
            "_model_module_version": "1.2.0",
            "_view_count": null,
            "flex_flow": null,
            "width": null,
            "min_width": null,
            "border": null,
            "align_items": null,
            "bottom": null,
            "_model_module": "@jupyter-widgets/base",
            "top": null,
            "grid_column": null,
            "overflow_y": null,
            "overflow_x": null,
            "grid_auto_flow": null,
            "grid_area": null,
            "grid_template_columns": null,
            "flex": null,
            "_model_name": "LayoutModel",
            "justify_items": null,
            "grid_row": null,
            "max_height": null,
            "align_content": null,
            "visibility": null,
            "align_self": null,
            "height": null,
            "min_height": null,
            "padding": null,
            "grid_auto_rows": null,
            "grid_gap": null,
            "max_width": null,
            "order": null,
            "_view_module_version": "1.2.0",
            "grid_template_areas": null,
            "object_position": null,
            "object_fit": null,
            "grid_auto_columns": null,
            "margin": null,
            "display": null,
            "left": null
          }
        },
        "4abe82fbb725498291b098d6e1a8c553": {
          "model_module": "@jupyter-widgets/controls",
          "model_name": "IntProgressModel",
          "state": {
            "_view_name": "ProgressView",
            "style": "IPY_MODEL_93f8bf1cd19b4732b6c98bf5f34481f4",
            "_dom_classes": [],
            "description": "",
            "_model_name": "IntProgressModel",
            "bar_style": "success",
            "max": 1,
            "_view_module": "@jupyter-widgets/controls",
            "_model_module_version": "1.5.0",
            "value": 1,
            "_view_count": null,
            "_view_module_version": "1.5.0",
            "orientation": "horizontal",
            "min": 0,
            "description_tooltip": null,
            "_model_module": "@jupyter-widgets/controls",
            "layout": "IPY_MODEL_4437f7d61ac44226883fe878f8a5e460"
          }
        },
        "7af0cf9c5f44403faaa236fc12e45aed": {
          "model_module": "@jupyter-widgets/controls",
          "model_name": "HTMLModel",
          "state": {
            "_view_name": "HTMLView",
            "style": "IPY_MODEL_c1daecadc4f84027b66a2eb67eabd43f",
            "_dom_classes": [],
            "description": "",
            "_model_name": "HTMLModel",
            "placeholder": "​",
            "_view_module": "@jupyter-widgets/controls",
            "_model_module_version": "1.5.0",
            "value": "226it [00:14, 15.38it/s]",
            "_view_count": null,
            "_view_module_version": "1.5.0",
            "description_tooltip": null,
            "_model_module": "@jupyter-widgets/controls",
            "layout": "IPY_MODEL_5cdd2078fc814d1dbbc575695d825ce8"
          }
        },
        "93f8bf1cd19b4732b6c98bf5f34481f4": {
          "model_module": "@jupyter-widgets/controls",
          "model_name": "ProgressStyleModel",
          "state": {
            "_view_name": "StyleView",
            "_model_name": "ProgressStyleModel",
            "description_width": "",
            "_view_module": "@jupyter-widgets/base",
            "_model_module_version": "1.5.0",
            "_view_count": null,
            "_view_module_version": "1.2.0",
            "bar_color": null,
            "_model_module": "@jupyter-widgets/controls"
          }
        },
        "4437f7d61ac44226883fe878f8a5e460": {
          "model_module": "@jupyter-widgets/base",
          "model_name": "LayoutModel",
          "state": {
            "_view_name": "LayoutView",
            "grid_template_rows": null,
            "right": null,
            "justify_content": null,
            "_view_module": "@jupyter-widgets/base",
            "overflow": null,
            "_model_module_version": "1.2.0",
            "_view_count": null,
            "flex_flow": null,
            "width": null,
            "min_width": null,
            "border": null,
            "align_items": null,
            "bottom": null,
            "_model_module": "@jupyter-widgets/base",
            "top": null,
            "grid_column": null,
            "overflow_y": null,
            "overflow_x": null,
            "grid_auto_flow": null,
            "grid_area": null,
            "grid_template_columns": null,
            "flex": null,
            "_model_name": "LayoutModel",
            "justify_items": null,
            "grid_row": null,
            "max_height": null,
            "align_content": null,
            "visibility": null,
            "align_self": null,
            "height": null,
            "min_height": null,
            "padding": null,
            "grid_auto_rows": null,
            "grid_gap": null,
            "max_width": null,
            "order": null,
            "_view_module_version": "1.2.0",
            "grid_template_areas": null,
            "object_position": null,
            "object_fit": null,
            "grid_auto_columns": null,
            "margin": null,
            "display": null,
            "left": null
          }
        },
        "c1daecadc4f84027b66a2eb67eabd43f": {
          "model_module": "@jupyter-widgets/controls",
          "model_name": "DescriptionStyleModel",
          "state": {
            "_view_name": "StyleView",
            "_model_name": "DescriptionStyleModel",
            "description_width": "",
            "_view_module": "@jupyter-widgets/base",
            "_model_module_version": "1.5.0",
            "_view_count": null,
            "_view_module_version": "1.2.0",
            "_model_module": "@jupyter-widgets/controls"
          }
        },
        "5cdd2078fc814d1dbbc575695d825ce8": {
          "model_module": "@jupyter-widgets/base",
          "model_name": "LayoutModel",
          "state": {
            "_view_name": "LayoutView",
            "grid_template_rows": null,
            "right": null,
            "justify_content": null,
            "_view_module": "@jupyter-widgets/base",
            "overflow": null,
            "_model_module_version": "1.2.0",
            "_view_count": null,
            "flex_flow": null,
            "width": null,
            "min_width": null,
            "border": null,
            "align_items": null,
            "bottom": null,
            "_model_module": "@jupyter-widgets/base",
            "top": null,
            "grid_column": null,
            "overflow_y": null,
            "overflow_x": null,
            "grid_auto_flow": null,
            "grid_area": null,
            "grid_template_columns": null,
            "flex": null,
            "_model_name": "LayoutModel",
            "justify_items": null,
            "grid_row": null,
            "max_height": null,
            "align_content": null,
            "visibility": null,
            "align_self": null,
            "height": null,
            "min_height": null,
            "padding": null,
            "grid_auto_rows": null,
            "grid_gap": null,
            "max_width": null,
            "order": null,
            "_view_module_version": "1.2.0",
            "grid_template_areas": null,
            "object_position": null,
            "object_fit": null,
            "grid_auto_columns": null,
            "margin": null,
            "display": null,
            "left": null
          }
        },
        "05d3330442994dba811f28c72e1815a8": {
          "model_module": "@jupyter-widgets/controls",
          "model_name": "HBoxModel",
          "state": {
            "_view_name": "HBoxView",
            "_dom_classes": [],
            "_model_name": "HBoxModel",
            "_view_module": "@jupyter-widgets/controls",
            "_model_module_version": "1.5.0",
            "_view_count": null,
            "_view_module_version": "1.5.0",
            "box_style": "",
            "layout": "IPY_MODEL_4bd11fbe9c844614b730431d1d5a1f8c",
            "_model_module": "@jupyter-widgets/controls",
            "children": [
              "IPY_MODEL_aee154168e0242069fb95296fa29385a",
              "IPY_MODEL_0491f8528cf54892a488c3815b93bf98"
            ]
          }
        },
        "4bd11fbe9c844614b730431d1d5a1f8c": {
          "model_module": "@jupyter-widgets/base",
          "model_name": "LayoutModel",
          "state": {
            "_view_name": "LayoutView",
            "grid_template_rows": null,
            "right": null,
            "justify_content": null,
            "_view_module": "@jupyter-widgets/base",
            "overflow": null,
            "_model_module_version": "1.2.0",
            "_view_count": null,
            "flex_flow": null,
            "width": null,
            "min_width": null,
            "border": null,
            "align_items": null,
            "bottom": null,
            "_model_module": "@jupyter-widgets/base",
            "top": null,
            "grid_column": null,
            "overflow_y": null,
            "overflow_x": null,
            "grid_auto_flow": null,
            "grid_area": null,
            "grid_template_columns": null,
            "flex": null,
            "_model_name": "LayoutModel",
            "justify_items": null,
            "grid_row": null,
            "max_height": null,
            "align_content": null,
            "visibility": null,
            "align_self": null,
            "height": null,
            "min_height": null,
            "padding": null,
            "grid_auto_rows": null,
            "grid_gap": null,
            "max_width": null,
            "order": null,
            "_view_module_version": "1.2.0",
            "grid_template_areas": null,
            "object_position": null,
            "object_fit": null,
            "grid_auto_columns": null,
            "margin": null,
            "display": null,
            "left": null
          }
        },
        "aee154168e0242069fb95296fa29385a": {
          "model_module": "@jupyter-widgets/controls",
          "model_name": "IntProgressModel",
          "state": {
            "_view_name": "ProgressView",
            "style": "IPY_MODEL_0fd10fdefda54c1d99f706f6fd939e27",
            "_dom_classes": [],
            "description": "",
            "_model_name": "IntProgressModel",
            "bar_style": "success",
            "max": 1,
            "_view_module": "@jupyter-widgets/controls",
            "_model_module_version": "1.5.0",
            "value": 1,
            "_view_count": null,
            "_view_module_version": "1.5.0",
            "orientation": "horizontal",
            "min": 0,
            "description_tooltip": null,
            "_model_module": "@jupyter-widgets/controls",
            "layout": "IPY_MODEL_6fea48c1ceea410388e3c3ccc46bd989"
          }
        },
        "0491f8528cf54892a488c3815b93bf98": {
          "model_module": "@jupyter-widgets/controls",
          "model_name": "HTMLModel",
          "state": {
            "_view_name": "HTMLView",
            "style": "IPY_MODEL_8d811c39525a46f899492954e6d25739",
            "_dom_classes": [],
            "description": "",
            "_model_name": "HTMLModel",
            "placeholder": "​",
            "_view_module": "@jupyter-widgets/controls",
            "_model_module_version": "1.5.0",
            "value": "226it [00:14, 15.17it/s]",
            "_view_count": null,
            "_view_module_version": "1.5.0",
            "description_tooltip": null,
            "_model_module": "@jupyter-widgets/controls",
            "layout": "IPY_MODEL_1bed2013d32f4a9ea566ad0870fec0d1"
          }
        },
        "0fd10fdefda54c1d99f706f6fd939e27": {
          "model_module": "@jupyter-widgets/controls",
          "model_name": "ProgressStyleModel",
          "state": {
            "_view_name": "StyleView",
            "_model_name": "ProgressStyleModel",
            "description_width": "",
            "_view_module": "@jupyter-widgets/base",
            "_model_module_version": "1.5.0",
            "_view_count": null,
            "_view_module_version": "1.2.0",
            "bar_color": null,
            "_model_module": "@jupyter-widgets/controls"
          }
        },
        "6fea48c1ceea410388e3c3ccc46bd989": {
          "model_module": "@jupyter-widgets/base",
          "model_name": "LayoutModel",
          "state": {
            "_view_name": "LayoutView",
            "grid_template_rows": null,
            "right": null,
            "justify_content": null,
            "_view_module": "@jupyter-widgets/base",
            "overflow": null,
            "_model_module_version": "1.2.0",
            "_view_count": null,
            "flex_flow": null,
            "width": null,
            "min_width": null,
            "border": null,
            "align_items": null,
            "bottom": null,
            "_model_module": "@jupyter-widgets/base",
            "top": null,
            "grid_column": null,
            "overflow_y": null,
            "overflow_x": null,
            "grid_auto_flow": null,
            "grid_area": null,
            "grid_template_columns": null,
            "flex": null,
            "_model_name": "LayoutModel",
            "justify_items": null,
            "grid_row": null,
            "max_height": null,
            "align_content": null,
            "visibility": null,
            "align_self": null,
            "height": null,
            "min_height": null,
            "padding": null,
            "grid_auto_rows": null,
            "grid_gap": null,
            "max_width": null,
            "order": null,
            "_view_module_version": "1.2.0",
            "grid_template_areas": null,
            "object_position": null,
            "object_fit": null,
            "grid_auto_columns": null,
            "margin": null,
            "display": null,
            "left": null
          }
        },
        "8d811c39525a46f899492954e6d25739": {
          "model_module": "@jupyter-widgets/controls",
          "model_name": "DescriptionStyleModel",
          "state": {
            "_view_name": "StyleView",
            "_model_name": "DescriptionStyleModel",
            "description_width": "",
            "_view_module": "@jupyter-widgets/base",
            "_model_module_version": "1.5.0",
            "_view_count": null,
            "_view_module_version": "1.2.0",
            "_model_module": "@jupyter-widgets/controls"
          }
        },
        "1bed2013d32f4a9ea566ad0870fec0d1": {
          "model_module": "@jupyter-widgets/base",
          "model_name": "LayoutModel",
          "state": {
            "_view_name": "LayoutView",
            "grid_template_rows": null,
            "right": null,
            "justify_content": null,
            "_view_module": "@jupyter-widgets/base",
            "overflow": null,
            "_model_module_version": "1.2.0",
            "_view_count": null,
            "flex_flow": null,
            "width": null,
            "min_width": null,
            "border": null,
            "align_items": null,
            "bottom": null,
            "_model_module": "@jupyter-widgets/base",
            "top": null,
            "grid_column": null,
            "overflow_y": null,
            "overflow_x": null,
            "grid_auto_flow": null,
            "grid_area": null,
            "grid_template_columns": null,
            "flex": null,
            "_model_name": "LayoutModel",
            "justify_items": null,
            "grid_row": null,
            "max_height": null,
            "align_content": null,
            "visibility": null,
            "align_self": null,
            "height": null,
            "min_height": null,
            "padding": null,
            "grid_auto_rows": null,
            "grid_gap": null,
            "max_width": null,
            "order": null,
            "_view_module_version": "1.2.0",
            "grid_template_areas": null,
            "object_position": null,
            "object_fit": null,
            "grid_auto_columns": null,
            "margin": null,
            "display": null,
            "left": null
          }
        },
        "70451aedacf943bb8c0e364ab93904fa": {
          "model_module": "@jupyter-widgets/controls",
          "model_name": "HBoxModel",
          "state": {
            "_view_name": "HBoxView",
            "_dom_classes": [],
            "_model_name": "HBoxModel",
            "_view_module": "@jupyter-widgets/controls",
            "_model_module_version": "1.5.0",
            "_view_count": null,
            "_view_module_version": "1.5.0",
            "box_style": "",
            "layout": "IPY_MODEL_e0e82e71b0d549c993798662aa2c50c7",
            "_model_module": "@jupyter-widgets/controls",
            "children": [
              "IPY_MODEL_ee757cec97ae4326b899d7613efd6c96",
              "IPY_MODEL_2f3e0686b87e4f21af15586f1dc080e5"
            ]
          }
        },
        "e0e82e71b0d549c993798662aa2c50c7": {
          "model_module": "@jupyter-widgets/base",
          "model_name": "LayoutModel",
          "state": {
            "_view_name": "LayoutView",
            "grid_template_rows": null,
            "right": null,
            "justify_content": null,
            "_view_module": "@jupyter-widgets/base",
            "overflow": null,
            "_model_module_version": "1.2.0",
            "_view_count": null,
            "flex_flow": null,
            "width": null,
            "min_width": null,
            "border": null,
            "align_items": null,
            "bottom": null,
            "_model_module": "@jupyter-widgets/base",
            "top": null,
            "grid_column": null,
            "overflow_y": null,
            "overflow_x": null,
            "grid_auto_flow": null,
            "grid_area": null,
            "grid_template_columns": null,
            "flex": null,
            "_model_name": "LayoutModel",
            "justify_items": null,
            "grid_row": null,
            "max_height": null,
            "align_content": null,
            "visibility": null,
            "align_self": null,
            "height": null,
            "min_height": null,
            "padding": null,
            "grid_auto_rows": null,
            "grid_gap": null,
            "max_width": null,
            "order": null,
            "_view_module_version": "1.2.0",
            "grid_template_areas": null,
            "object_position": null,
            "object_fit": null,
            "grid_auto_columns": null,
            "margin": null,
            "display": null,
            "left": null
          }
        },
        "ee757cec97ae4326b899d7613efd6c96": {
          "model_module": "@jupyter-widgets/controls",
          "model_name": "IntProgressModel",
          "state": {
            "_view_name": "ProgressView",
            "style": "IPY_MODEL_5246404faf974b0eb944466b13c08670",
            "_dom_classes": [],
            "description": "",
            "_model_name": "IntProgressModel",
            "bar_style": "success",
            "max": 1,
            "_view_module": "@jupyter-widgets/controls",
            "_model_module_version": "1.5.0",
            "value": 1,
            "_view_count": null,
            "_view_module_version": "1.5.0",
            "orientation": "horizontal",
            "min": 0,
            "description_tooltip": null,
            "_model_module": "@jupyter-widgets/controls",
            "layout": "IPY_MODEL_5ce069aaa07948618791faa0349d1231"
          }
        },
        "2f3e0686b87e4f21af15586f1dc080e5": {
          "model_module": "@jupyter-widgets/controls",
          "model_name": "HTMLModel",
          "state": {
            "_view_name": "HTMLView",
            "style": "IPY_MODEL_fb1b1b28ad1343779314bc9ba3ba620d",
            "_dom_classes": [],
            "description": "",
            "_model_name": "HTMLModel",
            "placeholder": "​",
            "_view_module": "@jupyter-widgets/controls",
            "_model_module_version": "1.5.0",
            "value": "226it [00:15, 14.91it/s]",
            "_view_count": null,
            "_view_module_version": "1.5.0",
            "description_tooltip": null,
            "_model_module": "@jupyter-widgets/controls",
            "layout": "IPY_MODEL_80e0f4f7b8434f4d9e654c24cdacf7f8"
          }
        },
        "5246404faf974b0eb944466b13c08670": {
          "model_module": "@jupyter-widgets/controls",
          "model_name": "ProgressStyleModel",
          "state": {
            "_view_name": "StyleView",
            "_model_name": "ProgressStyleModel",
            "description_width": "",
            "_view_module": "@jupyter-widgets/base",
            "_model_module_version": "1.5.0",
            "_view_count": null,
            "_view_module_version": "1.2.0",
            "bar_color": null,
            "_model_module": "@jupyter-widgets/controls"
          }
        },
        "5ce069aaa07948618791faa0349d1231": {
          "model_module": "@jupyter-widgets/base",
          "model_name": "LayoutModel",
          "state": {
            "_view_name": "LayoutView",
            "grid_template_rows": null,
            "right": null,
            "justify_content": null,
            "_view_module": "@jupyter-widgets/base",
            "overflow": null,
            "_model_module_version": "1.2.0",
            "_view_count": null,
            "flex_flow": null,
            "width": null,
            "min_width": null,
            "border": null,
            "align_items": null,
            "bottom": null,
            "_model_module": "@jupyter-widgets/base",
            "top": null,
            "grid_column": null,
            "overflow_y": null,
            "overflow_x": null,
            "grid_auto_flow": null,
            "grid_area": null,
            "grid_template_columns": null,
            "flex": null,
            "_model_name": "LayoutModel",
            "justify_items": null,
            "grid_row": null,
            "max_height": null,
            "align_content": null,
            "visibility": null,
            "align_self": null,
            "height": null,
            "min_height": null,
            "padding": null,
            "grid_auto_rows": null,
            "grid_gap": null,
            "max_width": null,
            "order": null,
            "_view_module_version": "1.2.0",
            "grid_template_areas": null,
            "object_position": null,
            "object_fit": null,
            "grid_auto_columns": null,
            "margin": null,
            "display": null,
            "left": null
          }
        },
        "fb1b1b28ad1343779314bc9ba3ba620d": {
          "model_module": "@jupyter-widgets/controls",
          "model_name": "DescriptionStyleModel",
          "state": {
            "_view_name": "StyleView",
            "_model_name": "DescriptionStyleModel",
            "description_width": "",
            "_view_module": "@jupyter-widgets/base",
            "_model_module_version": "1.5.0",
            "_view_count": null,
            "_view_module_version": "1.2.0",
            "_model_module": "@jupyter-widgets/controls"
          }
        },
        "80e0f4f7b8434f4d9e654c24cdacf7f8": {
          "model_module": "@jupyter-widgets/base",
          "model_name": "LayoutModel",
          "state": {
            "_view_name": "LayoutView",
            "grid_template_rows": null,
            "right": null,
            "justify_content": null,
            "_view_module": "@jupyter-widgets/base",
            "overflow": null,
            "_model_module_version": "1.2.0",
            "_view_count": null,
            "flex_flow": null,
            "width": null,
            "min_width": null,
            "border": null,
            "align_items": null,
            "bottom": null,
            "_model_module": "@jupyter-widgets/base",
            "top": null,
            "grid_column": null,
            "overflow_y": null,
            "overflow_x": null,
            "grid_auto_flow": null,
            "grid_area": null,
            "grid_template_columns": null,
            "flex": null,
            "_model_name": "LayoutModel",
            "justify_items": null,
            "grid_row": null,
            "max_height": null,
            "align_content": null,
            "visibility": null,
            "align_self": null,
            "height": null,
            "min_height": null,
            "padding": null,
            "grid_auto_rows": null,
            "grid_gap": null,
            "max_width": null,
            "order": null,
            "_view_module_version": "1.2.0",
            "grid_template_areas": null,
            "object_position": null,
            "object_fit": null,
            "grid_auto_columns": null,
            "margin": null,
            "display": null,
            "left": null
          }
        },
        "fc6410c96a4c45318171a3e043bb316f": {
          "model_module": "@jupyter-widgets/controls",
          "model_name": "HBoxModel",
          "state": {
            "_view_name": "HBoxView",
            "_dom_classes": [],
            "_model_name": "HBoxModel",
            "_view_module": "@jupyter-widgets/controls",
            "_model_module_version": "1.5.0",
            "_view_count": null,
            "_view_module_version": "1.5.0",
            "box_style": "",
            "layout": "IPY_MODEL_46c219a042f64beb8540c294f24a0a78",
            "_model_module": "@jupyter-widgets/controls",
            "children": [
              "IPY_MODEL_2801c7ca833743c398cdbc573b9e3110",
              "IPY_MODEL_c99c0f78b5ee4668831392cee7dba02d"
            ]
          }
        },
        "46c219a042f64beb8540c294f24a0a78": {
          "model_module": "@jupyter-widgets/base",
          "model_name": "LayoutModel",
          "state": {
            "_view_name": "LayoutView",
            "grid_template_rows": null,
            "right": null,
            "justify_content": null,
            "_view_module": "@jupyter-widgets/base",
            "overflow": null,
            "_model_module_version": "1.2.0",
            "_view_count": null,
            "flex_flow": null,
            "width": null,
            "min_width": null,
            "border": null,
            "align_items": null,
            "bottom": null,
            "_model_module": "@jupyter-widgets/base",
            "top": null,
            "grid_column": null,
            "overflow_y": null,
            "overflow_x": null,
            "grid_auto_flow": null,
            "grid_area": null,
            "grid_template_columns": null,
            "flex": null,
            "_model_name": "LayoutModel",
            "justify_items": null,
            "grid_row": null,
            "max_height": null,
            "align_content": null,
            "visibility": null,
            "align_self": null,
            "height": null,
            "min_height": null,
            "padding": null,
            "grid_auto_rows": null,
            "grid_gap": null,
            "max_width": null,
            "order": null,
            "_view_module_version": "1.2.0",
            "grid_template_areas": null,
            "object_position": null,
            "object_fit": null,
            "grid_auto_columns": null,
            "margin": null,
            "display": null,
            "left": null
          }
        },
        "2801c7ca833743c398cdbc573b9e3110": {
          "model_module": "@jupyter-widgets/controls",
          "model_name": "IntProgressModel",
          "state": {
            "_view_name": "ProgressView",
            "style": "IPY_MODEL_f2ce3fcdc8384ac8b22b69ca4e6504c2",
            "_dom_classes": [],
            "description": "",
            "_model_name": "IntProgressModel",
            "bar_style": "success",
            "max": 1,
            "_view_module": "@jupyter-widgets/controls",
            "_model_module_version": "1.5.0",
            "value": 1,
            "_view_count": null,
            "_view_module_version": "1.5.0",
            "orientation": "horizontal",
            "min": 0,
            "description_tooltip": null,
            "_model_module": "@jupyter-widgets/controls",
            "layout": "IPY_MODEL_70c53401c3c3447089ec9b39a6a3d503"
          }
        },
        "c99c0f78b5ee4668831392cee7dba02d": {
          "model_module": "@jupyter-widgets/controls",
          "model_name": "HTMLModel",
          "state": {
            "_view_name": "HTMLView",
            "style": "IPY_MODEL_23b04876d50d4feba461dbb6c96c109d",
            "_dom_classes": [],
            "description": "",
            "_model_name": "HTMLModel",
            "placeholder": "​",
            "_view_module": "@jupyter-widgets/controls",
            "_model_module_version": "1.5.0",
            "value": "226it [00:15, 14.99it/s]",
            "_view_count": null,
            "_view_module_version": "1.5.0",
            "description_tooltip": null,
            "_model_module": "@jupyter-widgets/controls",
            "layout": "IPY_MODEL_c67c33d5c6db49c888e375dc283ff54b"
          }
        },
        "f2ce3fcdc8384ac8b22b69ca4e6504c2": {
          "model_module": "@jupyter-widgets/controls",
          "model_name": "ProgressStyleModel",
          "state": {
            "_view_name": "StyleView",
            "_model_name": "ProgressStyleModel",
            "description_width": "",
            "_view_module": "@jupyter-widgets/base",
            "_model_module_version": "1.5.0",
            "_view_count": null,
            "_view_module_version": "1.2.0",
            "bar_color": null,
            "_model_module": "@jupyter-widgets/controls"
          }
        },
        "70c53401c3c3447089ec9b39a6a3d503": {
          "model_module": "@jupyter-widgets/base",
          "model_name": "LayoutModel",
          "state": {
            "_view_name": "LayoutView",
            "grid_template_rows": null,
            "right": null,
            "justify_content": null,
            "_view_module": "@jupyter-widgets/base",
            "overflow": null,
            "_model_module_version": "1.2.0",
            "_view_count": null,
            "flex_flow": null,
            "width": null,
            "min_width": null,
            "border": null,
            "align_items": null,
            "bottom": null,
            "_model_module": "@jupyter-widgets/base",
            "top": null,
            "grid_column": null,
            "overflow_y": null,
            "overflow_x": null,
            "grid_auto_flow": null,
            "grid_area": null,
            "grid_template_columns": null,
            "flex": null,
            "_model_name": "LayoutModel",
            "justify_items": null,
            "grid_row": null,
            "max_height": null,
            "align_content": null,
            "visibility": null,
            "align_self": null,
            "height": null,
            "min_height": null,
            "padding": null,
            "grid_auto_rows": null,
            "grid_gap": null,
            "max_width": null,
            "order": null,
            "_view_module_version": "1.2.0",
            "grid_template_areas": null,
            "object_position": null,
            "object_fit": null,
            "grid_auto_columns": null,
            "margin": null,
            "display": null,
            "left": null
          }
        },
        "23b04876d50d4feba461dbb6c96c109d": {
          "model_module": "@jupyter-widgets/controls",
          "model_name": "DescriptionStyleModel",
          "state": {
            "_view_name": "StyleView",
            "_model_name": "DescriptionStyleModel",
            "description_width": "",
            "_view_module": "@jupyter-widgets/base",
            "_model_module_version": "1.5.0",
            "_view_count": null,
            "_view_module_version": "1.2.0",
            "_model_module": "@jupyter-widgets/controls"
          }
        },
        "c67c33d5c6db49c888e375dc283ff54b": {
          "model_module": "@jupyter-widgets/base",
          "model_name": "LayoutModel",
          "state": {
            "_view_name": "LayoutView",
            "grid_template_rows": null,
            "right": null,
            "justify_content": null,
            "_view_module": "@jupyter-widgets/base",
            "overflow": null,
            "_model_module_version": "1.2.0",
            "_view_count": null,
            "flex_flow": null,
            "width": null,
            "min_width": null,
            "border": null,
            "align_items": null,
            "bottom": null,
            "_model_module": "@jupyter-widgets/base",
            "top": null,
            "grid_column": null,
            "overflow_y": null,
            "overflow_x": null,
            "grid_auto_flow": null,
            "grid_area": null,
            "grid_template_columns": null,
            "flex": null,
            "_model_name": "LayoutModel",
            "justify_items": null,
            "grid_row": null,
            "max_height": null,
            "align_content": null,
            "visibility": null,
            "align_self": null,
            "height": null,
            "min_height": null,
            "padding": null,
            "grid_auto_rows": null,
            "grid_gap": null,
            "max_width": null,
            "order": null,
            "_view_module_version": "1.2.0",
            "grid_template_areas": null,
            "object_position": null,
            "object_fit": null,
            "grid_auto_columns": null,
            "margin": null,
            "display": null,
            "left": null
          }
        },
        "ee90dd2e023a4ab7b32284e748855610": {
          "model_module": "@jupyter-widgets/controls",
          "model_name": "HBoxModel",
          "state": {
            "_view_name": "HBoxView",
            "_dom_classes": [],
            "_model_name": "HBoxModel",
            "_view_module": "@jupyter-widgets/controls",
            "_model_module_version": "1.5.0",
            "_view_count": null,
            "_view_module_version": "1.5.0",
            "box_style": "",
            "layout": "IPY_MODEL_fccb7679a6c44f29a59559773312e6ef",
            "_model_module": "@jupyter-widgets/controls",
            "children": [
              "IPY_MODEL_cba9c2a503544889942ccd64c346b5bb",
              "IPY_MODEL_36d4c7f9e2004b8a9a9d4b77090a29a7"
            ]
          }
        },
        "fccb7679a6c44f29a59559773312e6ef": {
          "model_module": "@jupyter-widgets/base",
          "model_name": "LayoutModel",
          "state": {
            "_view_name": "LayoutView",
            "grid_template_rows": null,
            "right": null,
            "justify_content": null,
            "_view_module": "@jupyter-widgets/base",
            "overflow": null,
            "_model_module_version": "1.2.0",
            "_view_count": null,
            "flex_flow": null,
            "width": null,
            "min_width": null,
            "border": null,
            "align_items": null,
            "bottom": null,
            "_model_module": "@jupyter-widgets/base",
            "top": null,
            "grid_column": null,
            "overflow_y": null,
            "overflow_x": null,
            "grid_auto_flow": null,
            "grid_area": null,
            "grid_template_columns": null,
            "flex": null,
            "_model_name": "LayoutModel",
            "justify_items": null,
            "grid_row": null,
            "max_height": null,
            "align_content": null,
            "visibility": null,
            "align_self": null,
            "height": null,
            "min_height": null,
            "padding": null,
            "grid_auto_rows": null,
            "grid_gap": null,
            "max_width": null,
            "order": null,
            "_view_module_version": "1.2.0",
            "grid_template_areas": null,
            "object_position": null,
            "object_fit": null,
            "grid_auto_columns": null,
            "margin": null,
            "display": null,
            "left": null
          }
        },
        "cba9c2a503544889942ccd64c346b5bb": {
          "model_module": "@jupyter-widgets/controls",
          "model_name": "IntProgressModel",
          "state": {
            "_view_name": "ProgressView",
            "style": "IPY_MODEL_f4d56af8439e45418b6154809c1dcd7a",
            "_dom_classes": [],
            "description": "",
            "_model_name": "IntProgressModel",
            "bar_style": "success",
            "max": 1,
            "_view_module": "@jupyter-widgets/controls",
            "_model_module_version": "1.5.0",
            "value": 1,
            "_view_count": null,
            "_view_module_version": "1.5.0",
            "orientation": "horizontal",
            "min": 0,
            "description_tooltip": null,
            "_model_module": "@jupyter-widgets/controls",
            "layout": "IPY_MODEL_84751f8bafa04456b9cb445fa0f5edde"
          }
        },
        "36d4c7f9e2004b8a9a9d4b77090a29a7": {
          "model_module": "@jupyter-widgets/controls",
          "model_name": "HTMLModel",
          "state": {
            "_view_name": "HTMLView",
            "style": "IPY_MODEL_a3fc12c47bfa45b4a5a561eba85ae237",
            "_dom_classes": [],
            "description": "",
            "_model_name": "HTMLModel",
            "placeholder": "​",
            "_view_module": "@jupyter-widgets/controls",
            "_model_module_version": "1.5.0",
            "value": "226it [00:15, 15.03it/s]",
            "_view_count": null,
            "_view_module_version": "1.5.0",
            "description_tooltip": null,
            "_model_module": "@jupyter-widgets/controls",
            "layout": "IPY_MODEL_13d7987903074cbfa065636904326caf"
          }
        },
        "f4d56af8439e45418b6154809c1dcd7a": {
          "model_module": "@jupyter-widgets/controls",
          "model_name": "ProgressStyleModel",
          "state": {
            "_view_name": "StyleView",
            "_model_name": "ProgressStyleModel",
            "description_width": "",
            "_view_module": "@jupyter-widgets/base",
            "_model_module_version": "1.5.0",
            "_view_count": null,
            "_view_module_version": "1.2.0",
            "bar_color": null,
            "_model_module": "@jupyter-widgets/controls"
          }
        },
        "84751f8bafa04456b9cb445fa0f5edde": {
          "model_module": "@jupyter-widgets/base",
          "model_name": "LayoutModel",
          "state": {
            "_view_name": "LayoutView",
            "grid_template_rows": null,
            "right": null,
            "justify_content": null,
            "_view_module": "@jupyter-widgets/base",
            "overflow": null,
            "_model_module_version": "1.2.0",
            "_view_count": null,
            "flex_flow": null,
            "width": null,
            "min_width": null,
            "border": null,
            "align_items": null,
            "bottom": null,
            "_model_module": "@jupyter-widgets/base",
            "top": null,
            "grid_column": null,
            "overflow_y": null,
            "overflow_x": null,
            "grid_auto_flow": null,
            "grid_area": null,
            "grid_template_columns": null,
            "flex": null,
            "_model_name": "LayoutModel",
            "justify_items": null,
            "grid_row": null,
            "max_height": null,
            "align_content": null,
            "visibility": null,
            "align_self": null,
            "height": null,
            "min_height": null,
            "padding": null,
            "grid_auto_rows": null,
            "grid_gap": null,
            "max_width": null,
            "order": null,
            "_view_module_version": "1.2.0",
            "grid_template_areas": null,
            "object_position": null,
            "object_fit": null,
            "grid_auto_columns": null,
            "margin": null,
            "display": null,
            "left": null
          }
        },
        "a3fc12c47bfa45b4a5a561eba85ae237": {
          "model_module": "@jupyter-widgets/controls",
          "model_name": "DescriptionStyleModel",
          "state": {
            "_view_name": "StyleView",
            "_model_name": "DescriptionStyleModel",
            "description_width": "",
            "_view_module": "@jupyter-widgets/base",
            "_model_module_version": "1.5.0",
            "_view_count": null,
            "_view_module_version": "1.2.0",
            "_model_module": "@jupyter-widgets/controls"
          }
        },
        "13d7987903074cbfa065636904326caf": {
          "model_module": "@jupyter-widgets/base",
          "model_name": "LayoutModel",
          "state": {
            "_view_name": "LayoutView",
            "grid_template_rows": null,
            "right": null,
            "justify_content": null,
            "_view_module": "@jupyter-widgets/base",
            "overflow": null,
            "_model_module_version": "1.2.0",
            "_view_count": null,
            "flex_flow": null,
            "width": null,
            "min_width": null,
            "border": null,
            "align_items": null,
            "bottom": null,
            "_model_module": "@jupyter-widgets/base",
            "top": null,
            "grid_column": null,
            "overflow_y": null,
            "overflow_x": null,
            "grid_auto_flow": null,
            "grid_area": null,
            "grid_template_columns": null,
            "flex": null,
            "_model_name": "LayoutModel",
            "justify_items": null,
            "grid_row": null,
            "max_height": null,
            "align_content": null,
            "visibility": null,
            "align_self": null,
            "height": null,
            "min_height": null,
            "padding": null,
            "grid_auto_rows": null,
            "grid_gap": null,
            "max_width": null,
            "order": null,
            "_view_module_version": "1.2.0",
            "grid_template_areas": null,
            "object_position": null,
            "object_fit": null,
            "grid_auto_columns": null,
            "margin": null,
            "display": null,
            "left": null
          }
        },
        "5980e42af4b14f60b31bc4dfa172da31": {
          "model_module": "@jupyter-widgets/controls",
          "model_name": "HBoxModel",
          "state": {
            "_view_name": "HBoxView",
            "_dom_classes": [],
            "_model_name": "HBoxModel",
            "_view_module": "@jupyter-widgets/controls",
            "_model_module_version": "1.5.0",
            "_view_count": null,
            "_view_module_version": "1.5.0",
            "box_style": "",
            "layout": "IPY_MODEL_60a365d855c04cf2829942f6d5b5ed70",
            "_model_module": "@jupyter-widgets/controls",
            "children": [
              "IPY_MODEL_db886231ec504268bd4653b1cfc26ebe",
              "IPY_MODEL_f14babec7c8440a3a748988bdb080d2e"
            ]
          }
        },
        "60a365d855c04cf2829942f6d5b5ed70": {
          "model_module": "@jupyter-widgets/base",
          "model_name": "LayoutModel",
          "state": {
            "_view_name": "LayoutView",
            "grid_template_rows": null,
            "right": null,
            "justify_content": null,
            "_view_module": "@jupyter-widgets/base",
            "overflow": null,
            "_model_module_version": "1.2.0",
            "_view_count": null,
            "flex_flow": null,
            "width": null,
            "min_width": null,
            "border": null,
            "align_items": null,
            "bottom": null,
            "_model_module": "@jupyter-widgets/base",
            "top": null,
            "grid_column": null,
            "overflow_y": null,
            "overflow_x": null,
            "grid_auto_flow": null,
            "grid_area": null,
            "grid_template_columns": null,
            "flex": null,
            "_model_name": "LayoutModel",
            "justify_items": null,
            "grid_row": null,
            "max_height": null,
            "align_content": null,
            "visibility": null,
            "align_self": null,
            "height": null,
            "min_height": null,
            "padding": null,
            "grid_auto_rows": null,
            "grid_gap": null,
            "max_width": null,
            "order": null,
            "_view_module_version": "1.2.0",
            "grid_template_areas": null,
            "object_position": null,
            "object_fit": null,
            "grid_auto_columns": null,
            "margin": null,
            "display": null,
            "left": null
          }
        },
        "db886231ec504268bd4653b1cfc26ebe": {
          "model_module": "@jupyter-widgets/controls",
          "model_name": "IntProgressModel",
          "state": {
            "_view_name": "ProgressView",
            "style": "IPY_MODEL_88dfd18a93c8494c868911d1db1ebf29",
            "_dom_classes": [],
            "description": "",
            "_model_name": "IntProgressModel",
            "bar_style": "success",
            "max": 1,
            "_view_module": "@jupyter-widgets/controls",
            "_model_module_version": "1.5.0",
            "value": 1,
            "_view_count": null,
            "_view_module_version": "1.5.0",
            "orientation": "horizontal",
            "min": 0,
            "description_tooltip": null,
            "_model_module": "@jupyter-widgets/controls",
            "layout": "IPY_MODEL_74397f52f651403c8f16c434476c40f7"
          }
        },
        "f14babec7c8440a3a748988bdb080d2e": {
          "model_module": "@jupyter-widgets/controls",
          "model_name": "HTMLModel",
          "state": {
            "_view_name": "HTMLView",
            "style": "IPY_MODEL_1727b950ade946a5a4f55d952231ce71",
            "_dom_classes": [],
            "description": "",
            "_model_name": "HTMLModel",
            "placeholder": "​",
            "_view_module": "@jupyter-widgets/controls",
            "_model_module_version": "1.5.0",
            "value": "226it [00:15, 14.47it/s]",
            "_view_count": null,
            "_view_module_version": "1.5.0",
            "description_tooltip": null,
            "_model_module": "@jupyter-widgets/controls",
            "layout": "IPY_MODEL_6a9ec1557e1a44abb4539d037a93a616"
          }
        },
        "88dfd18a93c8494c868911d1db1ebf29": {
          "model_module": "@jupyter-widgets/controls",
          "model_name": "ProgressStyleModel",
          "state": {
            "_view_name": "StyleView",
            "_model_name": "ProgressStyleModel",
            "description_width": "",
            "_view_module": "@jupyter-widgets/base",
            "_model_module_version": "1.5.0",
            "_view_count": null,
            "_view_module_version": "1.2.0",
            "bar_color": null,
            "_model_module": "@jupyter-widgets/controls"
          }
        },
        "74397f52f651403c8f16c434476c40f7": {
          "model_module": "@jupyter-widgets/base",
          "model_name": "LayoutModel",
          "state": {
            "_view_name": "LayoutView",
            "grid_template_rows": null,
            "right": null,
            "justify_content": null,
            "_view_module": "@jupyter-widgets/base",
            "overflow": null,
            "_model_module_version": "1.2.0",
            "_view_count": null,
            "flex_flow": null,
            "width": null,
            "min_width": null,
            "border": null,
            "align_items": null,
            "bottom": null,
            "_model_module": "@jupyter-widgets/base",
            "top": null,
            "grid_column": null,
            "overflow_y": null,
            "overflow_x": null,
            "grid_auto_flow": null,
            "grid_area": null,
            "grid_template_columns": null,
            "flex": null,
            "_model_name": "LayoutModel",
            "justify_items": null,
            "grid_row": null,
            "max_height": null,
            "align_content": null,
            "visibility": null,
            "align_self": null,
            "height": null,
            "min_height": null,
            "padding": null,
            "grid_auto_rows": null,
            "grid_gap": null,
            "max_width": null,
            "order": null,
            "_view_module_version": "1.2.0",
            "grid_template_areas": null,
            "object_position": null,
            "object_fit": null,
            "grid_auto_columns": null,
            "margin": null,
            "display": null,
            "left": null
          }
        },
        "1727b950ade946a5a4f55d952231ce71": {
          "model_module": "@jupyter-widgets/controls",
          "model_name": "DescriptionStyleModel",
          "state": {
            "_view_name": "StyleView",
            "_model_name": "DescriptionStyleModel",
            "description_width": "",
            "_view_module": "@jupyter-widgets/base",
            "_model_module_version": "1.5.0",
            "_view_count": null,
            "_view_module_version": "1.2.0",
            "_model_module": "@jupyter-widgets/controls"
          }
        },
        "6a9ec1557e1a44abb4539d037a93a616": {
          "model_module": "@jupyter-widgets/base",
          "model_name": "LayoutModel",
          "state": {
            "_view_name": "LayoutView",
            "grid_template_rows": null,
            "right": null,
            "justify_content": null,
            "_view_module": "@jupyter-widgets/base",
            "overflow": null,
            "_model_module_version": "1.2.0",
            "_view_count": null,
            "flex_flow": null,
            "width": null,
            "min_width": null,
            "border": null,
            "align_items": null,
            "bottom": null,
            "_model_module": "@jupyter-widgets/base",
            "top": null,
            "grid_column": null,
            "overflow_y": null,
            "overflow_x": null,
            "grid_auto_flow": null,
            "grid_area": null,
            "grid_template_columns": null,
            "flex": null,
            "_model_name": "LayoutModel",
            "justify_items": null,
            "grid_row": null,
            "max_height": null,
            "align_content": null,
            "visibility": null,
            "align_self": null,
            "height": null,
            "min_height": null,
            "padding": null,
            "grid_auto_rows": null,
            "grid_gap": null,
            "max_width": null,
            "order": null,
            "_view_module_version": "1.2.0",
            "grid_template_areas": null,
            "object_position": null,
            "object_fit": null,
            "grid_auto_columns": null,
            "margin": null,
            "display": null,
            "left": null
          }
        },
        "c8d2a25413e448b08c84bd8bdd6feb37": {
          "model_module": "@jupyter-widgets/controls",
          "model_name": "HBoxModel",
          "state": {
            "_view_name": "HBoxView",
            "_dom_classes": [],
            "_model_name": "HBoxModel",
            "_view_module": "@jupyter-widgets/controls",
            "_model_module_version": "1.5.0",
            "_view_count": null,
            "_view_module_version": "1.5.0",
            "box_style": "",
            "layout": "IPY_MODEL_8d6a4cd3150340acb56ea15769096d15",
            "_model_module": "@jupyter-widgets/controls",
            "children": [
              "IPY_MODEL_4a253c3f30f44e75979f632e0ebf2b9b",
              "IPY_MODEL_7910f093768b492ebce2359e91ecd395"
            ]
          }
        },
        "8d6a4cd3150340acb56ea15769096d15": {
          "model_module": "@jupyter-widgets/base",
          "model_name": "LayoutModel",
          "state": {
            "_view_name": "LayoutView",
            "grid_template_rows": null,
            "right": null,
            "justify_content": null,
            "_view_module": "@jupyter-widgets/base",
            "overflow": null,
            "_model_module_version": "1.2.0",
            "_view_count": null,
            "flex_flow": null,
            "width": null,
            "min_width": null,
            "border": null,
            "align_items": null,
            "bottom": null,
            "_model_module": "@jupyter-widgets/base",
            "top": null,
            "grid_column": null,
            "overflow_y": null,
            "overflow_x": null,
            "grid_auto_flow": null,
            "grid_area": null,
            "grid_template_columns": null,
            "flex": null,
            "_model_name": "LayoutModel",
            "justify_items": null,
            "grid_row": null,
            "max_height": null,
            "align_content": null,
            "visibility": null,
            "align_self": null,
            "height": null,
            "min_height": null,
            "padding": null,
            "grid_auto_rows": null,
            "grid_gap": null,
            "max_width": null,
            "order": null,
            "_view_module_version": "1.2.0",
            "grid_template_areas": null,
            "object_position": null,
            "object_fit": null,
            "grid_auto_columns": null,
            "margin": null,
            "display": null,
            "left": null
          }
        },
        "4a253c3f30f44e75979f632e0ebf2b9b": {
          "model_module": "@jupyter-widgets/controls",
          "model_name": "IntProgressModel",
          "state": {
            "_view_name": "ProgressView",
            "style": "IPY_MODEL_2954e8d559cf41b2aa9592d6fbb56a53",
            "_dom_classes": [],
            "description": "",
            "_model_name": "IntProgressModel",
            "bar_style": "success",
            "max": 1,
            "_view_module": "@jupyter-widgets/controls",
            "_model_module_version": "1.5.0",
            "value": 1,
            "_view_count": null,
            "_view_module_version": "1.5.0",
            "orientation": "horizontal",
            "min": 0,
            "description_tooltip": null,
            "_model_module": "@jupyter-widgets/controls",
            "layout": "IPY_MODEL_462be857e22046e0a61bb5eec0342a64"
          }
        },
        "7910f093768b492ebce2359e91ecd395": {
          "model_module": "@jupyter-widgets/controls",
          "model_name": "HTMLModel",
          "state": {
            "_view_name": "HTMLView",
            "style": "IPY_MODEL_73402d080efb40818bc7d2fcce7e1680",
            "_dom_classes": [],
            "description": "",
            "_model_name": "HTMLModel",
            "placeholder": "​",
            "_view_module": "@jupyter-widgets/controls",
            "_model_module_version": "1.5.0",
            "value": "226it [00:15, 14.53it/s]",
            "_view_count": null,
            "_view_module_version": "1.5.0",
            "description_tooltip": null,
            "_model_module": "@jupyter-widgets/controls",
            "layout": "IPY_MODEL_427e30593eed457eaf67f639d574098b"
          }
        },
        "2954e8d559cf41b2aa9592d6fbb56a53": {
          "model_module": "@jupyter-widgets/controls",
          "model_name": "ProgressStyleModel",
          "state": {
            "_view_name": "StyleView",
            "_model_name": "ProgressStyleModel",
            "description_width": "",
            "_view_module": "@jupyter-widgets/base",
            "_model_module_version": "1.5.0",
            "_view_count": null,
            "_view_module_version": "1.2.0",
            "bar_color": null,
            "_model_module": "@jupyter-widgets/controls"
          }
        },
        "462be857e22046e0a61bb5eec0342a64": {
          "model_module": "@jupyter-widgets/base",
          "model_name": "LayoutModel",
          "state": {
            "_view_name": "LayoutView",
            "grid_template_rows": null,
            "right": null,
            "justify_content": null,
            "_view_module": "@jupyter-widgets/base",
            "overflow": null,
            "_model_module_version": "1.2.0",
            "_view_count": null,
            "flex_flow": null,
            "width": null,
            "min_width": null,
            "border": null,
            "align_items": null,
            "bottom": null,
            "_model_module": "@jupyter-widgets/base",
            "top": null,
            "grid_column": null,
            "overflow_y": null,
            "overflow_x": null,
            "grid_auto_flow": null,
            "grid_area": null,
            "grid_template_columns": null,
            "flex": null,
            "_model_name": "LayoutModel",
            "justify_items": null,
            "grid_row": null,
            "max_height": null,
            "align_content": null,
            "visibility": null,
            "align_self": null,
            "height": null,
            "min_height": null,
            "padding": null,
            "grid_auto_rows": null,
            "grid_gap": null,
            "max_width": null,
            "order": null,
            "_view_module_version": "1.2.0",
            "grid_template_areas": null,
            "object_position": null,
            "object_fit": null,
            "grid_auto_columns": null,
            "margin": null,
            "display": null,
            "left": null
          }
        },
        "73402d080efb40818bc7d2fcce7e1680": {
          "model_module": "@jupyter-widgets/controls",
          "model_name": "DescriptionStyleModel",
          "state": {
            "_view_name": "StyleView",
            "_model_name": "DescriptionStyleModel",
            "description_width": "",
            "_view_module": "@jupyter-widgets/base",
            "_model_module_version": "1.5.0",
            "_view_count": null,
            "_view_module_version": "1.2.0",
            "_model_module": "@jupyter-widgets/controls"
          }
        },
        "427e30593eed457eaf67f639d574098b": {
          "model_module": "@jupyter-widgets/base",
          "model_name": "LayoutModel",
          "state": {
            "_view_name": "LayoutView",
            "grid_template_rows": null,
            "right": null,
            "justify_content": null,
            "_view_module": "@jupyter-widgets/base",
            "overflow": null,
            "_model_module_version": "1.2.0",
            "_view_count": null,
            "flex_flow": null,
            "width": null,
            "min_width": null,
            "border": null,
            "align_items": null,
            "bottom": null,
            "_model_module": "@jupyter-widgets/base",
            "top": null,
            "grid_column": null,
            "overflow_y": null,
            "overflow_x": null,
            "grid_auto_flow": null,
            "grid_area": null,
            "grid_template_columns": null,
            "flex": null,
            "_model_name": "LayoutModel",
            "justify_items": null,
            "grid_row": null,
            "max_height": null,
            "align_content": null,
            "visibility": null,
            "align_self": null,
            "height": null,
            "min_height": null,
            "padding": null,
            "grid_auto_rows": null,
            "grid_gap": null,
            "max_width": null,
            "order": null,
            "_view_module_version": "1.2.0",
            "grid_template_areas": null,
            "object_position": null,
            "object_fit": null,
            "grid_auto_columns": null,
            "margin": null,
            "display": null,
            "left": null
          }
        }
      }
    }
  },
  "cells": [
    {
      "cell_type": "code",
      "metadata": {
        "id": "wp_pRx7NadU1",
        "colab_type": "code",
        "colab": {}
      },
      "source": [
        "# ## KAGGLE ONLY\n",
        "# from shutil import copyfile\n",
        "# copyfile(src=\"../input/scriptandpickle/generate_dataloaders.py\", dst=\"../working/generate_dataloaders.py\")\n",
        "# copyfile(src=\"../input/scriptssss/model.py\", dst=\"../working/model.py\")\n",
        "# copyfile(src=\"../input/newevaluation/evaluation.py\", dst=\"../working/evaluation.py\")\n",
        "\n",
        "# copyfile(src=\"../input/newfiles/train_dataloader_lstm.p\", dst=\"../working/train_dataloader_lstm.p\")\n",
        "# copyfile(src=\"../input/newfiles/val_dataloader_lstm.p\", dst=\"../working/val_dataloader_lstm.p\")\n",
        "# copyfile(src=\"../input/newfiles/dictionary_lstm.p\", dst=\"../working/dictionary.p\")\n",
        "# copyfile(src=\"../input/newfiles/train_unlabeled_dataloader_lstm.p\", dst=\"../working/train_unlabelled_dataloader_lstm.p\")\n",
        "# copyfile(src=\"../input/newfiles/train_labeled_dataloader_lstm.p\", dst=\"../working/train_labelled_dataloader_lstm.p\")"
      ],
      "execution_count": 0,
      "outputs": []
    },
    {
      "cell_type": "code",
      "metadata": {
        "id": "f_EDF3_xiU_O",
        "colab_type": "code",
        "colab": {}
      },
      "source": [
        "x = [0]*10\n",
        "while True:\n",
        "  x += x"
      ],
      "execution_count": 0,
      "outputs": []
    },
    {
      "cell_type": "code",
      "metadata": {
        "id": "QNz0phRlau1Y",
        "colab_type": "code",
        "outputId": "1a3159dc-8f0e-434f-bb57-f58a987eaad7",
        "colab": {
          "base_uri": "https://localhost:8080/",
          "height": 122
        }
      },
      "source": [
        "from google.colab import drive\n",
        "drive.mount('/content/drive')"
      ],
      "execution_count": 1,
      "outputs": [
        {
          "output_type": "stream",
          "text": [
            "Go to this URL in a browser: https://accounts.google.com/o/oauth2/auth?client_id=947318989803-6bn6qk8qdgf4n4g3pfee6491hc0brc4i.apps.googleusercontent.com&redirect_uri=urn%3aietf%3awg%3aoauth%3a2.0%3aoob&response_type=code&scope=email%20https%3a%2f%2fwww.googleapis.com%2fauth%2fdocs.test%20https%3a%2f%2fwww.googleapis.com%2fauth%2fdrive%20https%3a%2f%2fwww.googleapis.com%2fauth%2fdrive.photos.readonly%20https%3a%2f%2fwww.googleapis.com%2fauth%2fpeopleapi.readonly\n",
            "\n",
            "Enter your authorization code:\n",
            "··········\n",
            "Mounted at /content/drive\n"
          ],
          "name": "stdout"
        }
      ]
    },
    {
      "cell_type": "code",
      "metadata": {
        "id": "HdjZuQrWbL8w",
        "colab_type": "code",
        "outputId": "3237c908-459d-45ee-c4fb-474888276707",
        "colab": {
          "base_uri": "https://localhost:8080/",
          "height": 34
        }
      },
      "source": [
        "%cd drive/My\\ Drive/Capstone_Hyperparam_Tuning"
      ],
      "execution_count": 2,
      "outputs": [
        {
          "output_type": "stream",
          "text": [
            "/content/drive/My Drive/Capstone_Hyperparam_Tuning\n"
          ],
          "name": "stdout"
        }
      ]
    },
    {
      "cell_type": "code",
      "metadata": {
        "id": "5Ndkoo97rLmM",
        "colab_type": "code",
        "colab": {
          "base_uri": "https://localhost:8080/",
          "height": 663
        },
        "outputId": "cafcde34-9376-4b34-9809-aa85fa23d121"
      },
      "source": [
        "# Re-run every time you open the notebook in Collab\n",
        "!pip install transformers"
      ],
      "execution_count": 3,
      "outputs": [
        {
          "output_type": "stream",
          "text": [
            "Collecting transformers\n",
            "\u001b[?25l  Downloading https://files.pythonhosted.org/packages/70/1a/364556102943cacde1ee00fdcae3b1615b39e52649eddbf54953e5b144c9/transformers-2.2.1-py3-none-any.whl (364kB)\n",
            "\u001b[K     |████████████████████████████████| 368kB 2.7MB/s \n",
            "\u001b[?25hRequirement already satisfied: tqdm in /usr/local/lib/python3.6/dist-packages (from transformers) (4.28.1)\n",
            "Requirement already satisfied: boto3 in /usr/local/lib/python3.6/dist-packages (from transformers) (1.10.32)\n",
            "Requirement already satisfied: numpy in /usr/local/lib/python3.6/dist-packages (from transformers) (1.17.4)\n",
            "Collecting sentencepiece\n",
            "\u001b[?25l  Downloading https://files.pythonhosted.org/packages/14/3d/efb655a670b98f62ec32d66954e1109f403db4d937c50d779a75b9763a29/sentencepiece-0.1.83-cp36-cp36m-manylinux1_x86_64.whl (1.0MB)\n",
            "\u001b[K     |████████████████████████████████| 1.0MB 41.5MB/s \n",
            "\u001b[?25hRequirement already satisfied: requests in /usr/local/lib/python3.6/dist-packages (from transformers) (2.21.0)\n",
            "Collecting sacremoses\n",
            "\u001b[?25l  Downloading https://files.pythonhosted.org/packages/1f/8e/ed5364a06a9ba720fddd9820155cc57300d28f5f43a6fd7b7e817177e642/sacremoses-0.0.35.tar.gz (859kB)\n",
            "\u001b[K     |████████████████████████████████| 860kB 56.6MB/s \n",
            "\u001b[?25hCollecting regex\n",
            "\u001b[?25l  Downloading https://files.pythonhosted.org/packages/8c/db/4b29a0adec5881542cd81cb5d1929b5c0787003c5740b3c921e627d9c2e5/regex-2019.12.9.tar.gz (669kB)\n",
            "\u001b[K     |████████████████████████████████| 675kB 56.6MB/s \n",
            "\u001b[?25hRequirement already satisfied: jmespath<1.0.0,>=0.7.1 in /usr/local/lib/python3.6/dist-packages (from boto3->transformers) (0.9.4)\n",
            "Requirement already satisfied: s3transfer<0.3.0,>=0.2.0 in /usr/local/lib/python3.6/dist-packages (from boto3->transformers) (0.2.1)\n",
            "Requirement already satisfied: botocore<1.14.0,>=1.13.32 in /usr/local/lib/python3.6/dist-packages (from boto3->transformers) (1.13.32)\n",
            "Requirement already satisfied: idna<2.9,>=2.5 in /usr/local/lib/python3.6/dist-packages (from requests->transformers) (2.8)\n",
            "Requirement already satisfied: certifi>=2017.4.17 in /usr/local/lib/python3.6/dist-packages (from requests->transformers) (2019.11.28)\n",
            "Requirement already satisfied: chardet<3.1.0,>=3.0.2 in /usr/local/lib/python3.6/dist-packages (from requests->transformers) (3.0.4)\n",
            "Requirement already satisfied: urllib3<1.25,>=1.21.1 in /usr/local/lib/python3.6/dist-packages (from requests->transformers) (1.24.3)\n",
            "Requirement already satisfied: six in /usr/local/lib/python3.6/dist-packages (from sacremoses->transformers) (1.12.0)\n",
            "Requirement already satisfied: click in /usr/local/lib/python3.6/dist-packages (from sacremoses->transformers) (7.0)\n",
            "Requirement already satisfied: joblib in /usr/local/lib/python3.6/dist-packages (from sacremoses->transformers) (0.14.0)\n",
            "Requirement already satisfied: docutils<0.16,>=0.10 in /usr/local/lib/python3.6/dist-packages (from botocore<1.14.0,>=1.13.32->boto3->transformers) (0.15.2)\n",
            "Requirement already satisfied: python-dateutil<2.8.1,>=2.1; python_version >= \"2.7\" in /usr/local/lib/python3.6/dist-packages (from botocore<1.14.0,>=1.13.32->boto3->transformers) (2.6.1)\n",
            "Building wheels for collected packages: sacremoses, regex\n",
            "  Building wheel for sacremoses (setup.py) ... \u001b[?25l\u001b[?25hdone\n",
            "  Created wheel for sacremoses: filename=sacremoses-0.0.35-cp36-none-any.whl size=883999 sha256=a2365a17587db18603034396a7936b752319064d95fa7bb884e1949df1b39111\n",
            "  Stored in directory: /root/.cache/pip/wheels/63/2a/db/63e2909042c634ef551d0d9ac825b2b0b32dede4a6d87ddc94\n",
            "  Building wheel for regex (setup.py) ... \u001b[?25l\u001b[?25hdone\n",
            "  Created wheel for regex: filename=regex-2019.12.9-cp36-cp36m-linux_x86_64.whl size=609181 sha256=a58265abc75d9082d22286209711fa96539d0f20403f07be2953cd98c65ada72\n",
            "  Stored in directory: /root/.cache/pip/wheels/0d/fb/b3/a89169557229468c49ca64f6839418f22461f6ee0a74f342b1\n",
            "Successfully built sacremoses regex\n",
            "Installing collected packages: sentencepiece, sacremoses, regex, transformers\n",
            "Successfully installed regex-2019.12.9 sacremoses-0.0.35 sentencepiece-0.1.83 transformers-2.2.1\n"
          ],
          "name": "stdout"
        }
      ]
    },
    {
      "cell_type": "code",
      "metadata": {
        "colab_type": "code",
        "id": "zno22FtJPX9z",
        "outputId": "3fe5434c-1590-4d44-f5f8-a66331e96baf",
        "colab": {
          "base_uri": "https://localhost:8080/",
          "height": 80
        }
      },
      "source": [
        "import numpy as np\n",
        "import matplotlib.pyplot as plt\n",
        "\n",
        "import torch\n",
        "from torch import nn\n",
        "from torch import optim\n",
        "from torch.utils.data import DataLoader\n",
        "import torch.nn.functional as F\n",
        "\n",
        "#from datasets import get_mnist_dataset, get_data_loader\n",
        "#from utils import *\n",
        "#from models import *\n",
        "\n",
        "import pickle as pkl\n",
        "import os\n",
        "import datetime as dt\n",
        "import pandas as pd\n",
        "import random\n",
        "\n",
        "from generate_dataloaders import *\n",
        "\n",
        "from tqdm import tqdm_notebook as tqdm\n",
        "\n",
        "import evaluation\n",
        "import importlib\n",
        "importlib.reload(evaluation)"
      ],
      "execution_count": 4,
      "outputs": [
        {
          "output_type": "display_data",
          "data": {
            "text/html": [
              "<p style=\"color: red;\">\n",
              "The default version of TensorFlow in Colab will soon switch to TensorFlow 2.x.<br>\n",
              "We recommend you <a href=\"https://www.tensorflow.org/guide/migrate\" target=\"_blank\">upgrade</a> now \n",
              "or ensure your notebook will continue to use TensorFlow 1.x via the <code>%tensorflow_version 1.x</code> magic:\n",
              "<a href=\"https://colab.research.google.com/notebooks/tensorflow_version.ipynb\" target=\"_blank\">more info</a>.</p>\n"
            ],
            "text/plain": [
              "<IPython.core.display.HTML object>"
            ]
          },
          "metadata": {
            "tags": []
          }
        },
        {
          "output_type": "execute_result",
          "data": {
            "text/plain": [
              "<module 'evaluation' from '/content/drive/My Drive/Capstone_Hyperparam_Tuning/evaluation.py'>"
            ]
          },
          "metadata": {
            "tags": []
          },
          "execution_count": 4
        }
      ]
    },
    {
      "cell_type": "markdown",
      "metadata": {
        "colab_type": "text",
        "id": "oaJEVd0wPX94"
      },
      "source": [
        "## Get Dataloaders"
      ]
    },
    {
      "cell_type": "code",
      "metadata": {
        "id": "HCiYQV5LadU9",
        "colab_type": "code",
        "colab": {}
      },
      "source": [
        "seed = 1029\n",
        "torch.manual_seed(seed)\n",
        "torch.cuda.manual_seed(seed)\n",
        "torch.cuda.manual_seed_all(seed)  # if you are using multi-GPU.\n",
        "np.random.seed(seed)  # Numpy module.\n",
        "random.seed(seed)  # Python random module.\n",
        "torch.manual_seed(seed)\n",
        "torch.backends.cudnn.enabled = False \n",
        "torch.backends.cudnn.benchmark = False\n",
        "torch.backends.cudnn.deterministic = True\n",
        "\n",
        "if torch.cuda.is_available(): torch.cuda.manual_seed_all(seed)\n",
        "\n",
        "def _init_fn(worker_id):\n",
        "    np.random.seed(int(seed))"
      ],
      "execution_count": 0,
      "outputs": []
    },
    {
      "cell_type": "code",
      "metadata": {
        "colab_type": "code",
        "id": "6nLzh007PX98",
        "colab": {}
      },
      "source": [
        "path = os.getcwd()\n",
        "data_dir = path + '/'\n",
        "data_dir = path +'/data/' #Uncomment for local system"
      ],
      "execution_count": 0,
      "outputs": []
    },
    {
      "cell_type": "markdown",
      "metadata": {
        "id": "NI9GG_ZFadVA",
        "colab_type": "text"
      },
      "source": [
        "#### *Verify filenames are consistent*"
      ]
    },
    {
      "cell_type": "code",
      "metadata": {
        "colab_type": "code",
        "id": "yq-jDGFIPX99",
        "colab": {}
      },
      "source": [
        "train_loader_labelled = pkl.load(open(data_dir + 'train_labeled_dataloader_lstm.p','rb'))\n",
        "train_loader_unlabelled = pkl.load(open(data_dir + 'train_unlabeled_dataloader_lstm.p','rb'))\n",
        "val_loader = pkl.load(open(data_dir + 'val_dataloader_lstm.p','rb'))"
      ],
      "execution_count": 0,
      "outputs": []
    },
    {
      "cell_type": "code",
      "metadata": {
        "id": "cKHZX-wiadVC",
        "colab_type": "code",
        "colab": {}
      },
      "source": [
        "review_dict = pkl.load(open(data_dir + 'dictionary.p','rb'))"
      ],
      "execution_count": 0,
      "outputs": []
    },
    {
      "cell_type": "code",
      "metadata": {
        "id": "bmjLxYHUadVE",
        "colab_type": "code",
        "colab": {}
      },
      "source": [
        "#%conda install pytorch torchvision -c pytorch\n",
        "## if torch.__version__ is not 1.3.1, run this cell then restart kernel"
      ],
      "execution_count": 0,
      "outputs": []
    },
    {
      "cell_type": "code",
      "metadata": {
        "colab_type": "code",
        "id": "Lzz8lwNQPX-B",
        "outputId": "db4e4f9c-6612-48fc-e859-521366620995",
        "colab": {
          "base_uri": "https://localhost:8080/",
          "height": 34
        }
      },
      "source": [
        "print(torch.__version__)"
      ],
      "execution_count": 10,
      "outputs": [
        {
          "output_type": "stream",
          "text": [
            "1.3.1\n"
          ],
          "name": "stdout"
        }
      ]
    },
    {
      "cell_type": "markdown",
      "metadata": {
        "id": "Ds2JUcGPadVH",
        "colab_type": "text"
      },
      "source": [
        "## PRE TRAINED WORD EMBEDDINGS "
      ]
    },
    {
      "cell_type": "code",
      "metadata": {
        "id": "p0kdeRLxadVI",
        "colab_type": "code",
        "colab": {}
      },
      "source": [
        "def get_coefs(word, *arr):\n",
        "    return word, np.asarray(arr, dtype='float16')"
      ],
      "execution_count": 0,
      "outputs": []
    },
    {
      "cell_type": "code",
      "metadata": {
        "id": "e8JhPoX-adVJ",
        "colab_type": "code",
        "colab": {}
      },
      "source": [
        "def load_embeddings(path):\n",
        "    with open(path) as f:\n",
        "        return dict(get_coefs(*line.strip().split(' ')) for line in f)"
      ],
      "execution_count": 0,
      "outputs": []
    },
    {
      "cell_type": "code",
      "metadata": {
        "id": "G53Q80ppadVL",
        "colab_type": "code",
        "colab": {}
      },
      "source": [
        "def build_matrix(review_dict, embedding_index ,dim = 200):\n",
        "#     embedding_index = load_embeddings(path)\n",
        "    embedding_matrix = np.zeros((len(review_dict.tokens), dim))\n",
        "    unknown_words = []\n",
        "    \n",
        "    for word, i in review_dict.ids.items():\n",
        "        try:\n",
        "            embedding_matrix[i] = embedding_index[word]\n",
        "        except KeyError:\n",
        "            unknown_words.append(word)\n",
        "    return embedding_matrix, unknown_words"
      ],
      "execution_count": 0,
      "outputs": []
    },
    {
      "cell_type": "code",
      "metadata": {
        "id": "whAVouJfadVN",
        "colab_type": "code",
        "colab": {}
      },
      "source": [
        "## LOCAL - 2nd line // KAGGLE -- 1st line\n",
        "#glove_twitter = '../input/glove-global-vectors-for-word-representation/glove.twitter.27B.200d.txt' #Change loc for local system\n",
        "glove_twitter = data_dir + 'glove.twitter.27B.200d.txt'"
      ],
      "execution_count": 0,
      "outputs": []
    },
    {
      "cell_type": "code",
      "metadata": {
        "id": "yDNQ0letfRZC",
        "colab_type": "code",
        "colab": {}
      },
      "source": [
        "#os.listdir(data_dir)"
      ],
      "execution_count": 0,
      "outputs": []
    },
    {
      "cell_type": "code",
      "metadata": {
        "id": "3jXDUOKNadVO",
        "colab_type": "code",
        "colab": {}
      },
      "source": [
        "glove_embedding_index = pkl.load(open(data_dir + 'glove_embedding_index.p','rb'))\n",
        "#embedding_index = load_embeddings(glove_twitter)"
      ],
      "execution_count": 0,
      "outputs": []
    },
    {
      "cell_type": "code",
      "metadata": {
        "id": "BXoVh6VsadVQ",
        "colab_type": "code",
        "colab": {}
      },
      "source": [
        "#glove_embedding_index,unknown_words = build_matrix(review_dict, embedding_index)\n",
        "#del embedding_index"
      ],
      "execution_count": 0,
      "outputs": []
    },
    {
      "cell_type": "code",
      "metadata": {
        "id": "iGVgqoh6adVR",
        "colab_type": "code",
        "outputId": "07191091-baa9-4e23-b795-d4382fd5a2ea",
        "colab": {
          "base_uri": "https://localhost:8080/",
          "height": 34
        }
      },
      "source": [
        "len(review_dict.tokens)"
      ],
      "execution_count": 18,
      "outputs": [
        {
          "output_type": "execute_result",
          "data": {
            "text/plain": [
              "16256"
            ]
          },
          "metadata": {
            "tags": []
          },
          "execution_count": 18
        }
      ]
    },
    {
      "cell_type": "code",
      "metadata": {
        "id": "u6H6dwuiadVT",
        "colab_type": "code",
        "colab": {}
      },
      "source": [
        "#len(unknown_words)"
      ],
      "execution_count": 0,
      "outputs": []
    },
    {
      "cell_type": "code",
      "metadata": {
        "id": "w98MA-NRadVU",
        "colab_type": "code",
        "colab": {}
      },
      "source": [
        "# for word in unknown_words:\n",
        "#     print(word)"
      ],
      "execution_count": 0,
      "outputs": []
    },
    {
      "cell_type": "code",
      "metadata": {
        "id": "-s0sbu2iadVW",
        "colab_type": "code",
        "outputId": "22772dbc-6a0b-4aac-aeda-9e7a30c5b21b",
        "colab": {
          "base_uri": "https://localhost:8080/",
          "height": 34
        }
      },
      "source": [
        "review_dict.get_id('great')"
      ],
      "execution_count": 21,
      "outputs": [
        {
          "output_type": "execute_result",
          "data": {
            "text/plain": [
              "34"
            ]
          },
          "metadata": {
            "tags": []
          },
          "execution_count": 21
        }
      ]
    },
    {
      "cell_type": "markdown",
      "metadata": {
        "colab_type": "text",
        "id": "Cvt6N9QCPX-X"
      },
      "source": [
        "## Neural Network LSTM Class"
      ]
    },
    {
      "cell_type": "markdown",
      "metadata": {
        "colab_type": "text",
        "id": "puweJhdxPX-Y"
      },
      "source": [
        "NOTE: Data loader is defined as:\n",
        "- tuple: (tokens, flagged_index, problematic)"
      ]
    },
    {
      "cell_type": "code",
      "metadata": {
        "id": "Hdty4ox4adVZ",
        "colab_type": "code",
        "colab": {}
      },
      "source": [
        "def freeze_model(model):\n",
        "    for param in model.parameters():\n",
        "        param.requires_grad = False\n",
        "        \n",
        "def unfreeze_model(model):\n",
        "    for param in model.parameters():\n",
        "        param.requires_grad = True"
      ],
      "execution_count": 0,
      "outputs": []
    },
    {
      "cell_type": "code",
      "metadata": {
        "colab_type": "code",
        "id": "W8BZ-QhNPX-Z",
        "colab": {}
      },
      "source": [
        "class LSTM_model(nn.Module):\n",
        "    \"\"\"\n",
        "    LSTM classification model using pretrained glove embeddings\n",
        "    \"\"\"\n",
        "    # NOTE: we can't use linear layer until we take weighted average, otherwise it will\n",
        "    # remember certain positions incorrectly (ie, 4th word has bigger weights vs 7th word)\n",
        "    def __init__(self, opts):\n",
        "        super(LSTM_model, self).__init__()\n",
        "        self.embedding_matrix = opts['embedding_matrix']\n",
        "        self.vocab_size = self.embedding_matrix.shape[0]\n",
        "        self.embed_size = self.embedding_matrix.shape[1]\n",
        "\n",
        "        self.num_hidden_layers = opts['num_hidden_layers']\n",
        "        self.hidden_size = opts['hidden_size']\n",
        "        self.dropout = opts['dropout']\n",
        "        self.num_classes = 2\n",
        "        self.lambda_loss = opts['lambda_loss']\n",
        "        \n",
        "        self.embed = nn.Embedding(self.vocab_size, self.embed_size, padding_idx=0)    \n",
        "        self.embed.weight = nn.Parameter(torch.tensor(self.embedding_matrix, dtype=torch.float32))\n",
        "        self.embed.weight.requires_grad = False\n",
        "\n",
        "        self.lstm = nn.LSTM(self.embed_size, self.hidden_size, self.num_hidden_layers, batch_first=True, dropout=self.dropout, bidirectional=True, bias=True)\n",
        "        \n",
        "        self.projection = nn.Linear(2*self.hidden_size, self.num_classes, bias=True)\n",
        "\n",
        "    \n",
        "    def forward(self, tokens, flagged_index):\n",
        "        batch_size, num_tokens = tokens.shape\n",
        "        embedding = self.embed(tokens)\n",
        "#         print(embedding.shape) # below assumes \"batch_size x num_tokens x Emb_dim\" (VERIFY)\n",
        "        \n",
        "        lstm_output = self.lstm(embedding)\n",
        "        # lstm_output is a tuple containing lstm output and (hidden_state, lstm_cell). \n",
        "        # lstm_output[0] would be of shape \"batch_size x num_tokens x hidden_size\" (VERIFY)\n",
        "        \n",
        "        logits = self.projection(lstm_output[0])\n",
        "        # logits would be of shape \"batch_size x num_tokens x num_classes (2)\" (VERIFY)\n",
        "        \n",
        "        batch_size, _, __ = logits.shape\n",
        "        \n",
        "        #selecting the logit at the flagged index\n",
        "        relevant_logits = logits[list(range(batch_size)),flagged_index]\n",
        "        # relevant_logits would be of shape \"batch_size x num_classes (2)\" (VERIFY)\n",
        "        \n",
        "        return relevant_logits"
      ],
      "execution_count": 0,
      "outputs": []
    },
    {
      "cell_type": "markdown",
      "metadata": {
        "id": "EPjQgwcHadVi",
        "colab_type": "text"
      },
      "source": [
        "## Supervised model training"
      ]
    },
    {
      "cell_type": "code",
      "metadata": {
        "id": "NObZAGBYadVi",
        "colab_type": "code",
        "colab": {}
      },
      "source": [
        "def train_supervised_model(model, criterion, train_loader_labelled, valid_loader, num_frozen_epochs=10, num_unfrozen_epochs=0, path_to_save=None, print_every=1000, debug_mode=False):\n",
        "\n",
        "    train_losses=[]\n",
        "    val_losses=[]\n",
        "    num_gpus = torch.cuda.device_count()\n",
        "    if num_gpus > 0:\n",
        "        current_device = 'cuda'\n",
        "    else:\n",
        "        current_device = 'cpu'\n",
        "    \n",
        "    empty_centroids = torch.tensor([])\n",
        "    # freeze part    \n",
        "    optimizer = torch.optim.Adam(model.parameters(), 0.01, amsgrad=True)\n",
        "    \n",
        "    for epoch in range(num_frozen_epochs):\n",
        "        print('{} | Epoch {}'.format(dt.datetime.now(), epoch))\n",
        "        model.train()\n",
        "        total_epoch_loss = 0\n",
        "        \n",
        "        for i,(tokens_labelled, labels, flagged_indices_labelled) in tqdm(enumerate(train_loader_labelled)):\n",
        "            \n",
        "            tokens_labelled = tokens_labelled.to(current_device)\n",
        "            flagged_indices_labelled = flagged_indices_labelled.to(current_device)\n",
        "            labels = labels.to(current_device)\n",
        "\n",
        "            # forward pass and compute loss\n",
        "            logits = model(tokens_labelled,flagged_indices_labelled)\n",
        "            \n",
        "            loss = criterion(logits, labels)\n",
        "        \n",
        "            # run update step\n",
        "            optimizer.zero_grad()\n",
        "            loss.backward()\n",
        "            optimizer.step()\n",
        "            \n",
        "            #Add loss to the epoch loss\n",
        "            total_epoch_loss += loss.detach()\n",
        "\n",
        "            if i % print_every == 0:\n",
        "                losses = loss/len(tokens_labelled)\n",
        "                print('Average training loss at batch ',i,': %.3f' % losses)\n",
        "            \n",
        "        total_epoch_loss /= len(train_loader_labelled.dataset)\n",
        "        total_epoch_loss = total_epoch_loss.detach()\n",
        "        train_losses.append(total_epoch_loss)\n",
        "        print('Average training loss after epoch ',epoch,': %.3f' % total_epoch_loss)\n",
        "        \n",
        "        # calculate validation loss after every epoch\n",
        "        total_validation_loss = 0\n",
        "        for i, (tokens, labels, flagged_indices) in enumerate(valid_loader):\n",
        "            model.eval()\n",
        "            tokens = tokens.to(current_device)\n",
        "            labels = labels.to(current_device)\n",
        "            flagged_indices = flagged_indices.to(current_device)\n",
        "            \n",
        "            # forward pass and compute loss\n",
        "            logits = model(tokens,flagged_indices)\n",
        "            \n",
        "            loss = criterion(logits, labels)\n",
        "            \n",
        "            #Add loss to the validation loss\n",
        "            total_validation_loss += loss\n",
        "\n",
        "        total_validation_loss /= len(valid_loader.dataset)\n",
        "        val_losses.append(total_validation_loss)\n",
        "        print('Average validation loss after epoch ',epoch,': %.3f' % total_validation_loss)\n",
        "        if debug_mode:\n",
        "            print('Train result:')\n",
        "            TP_cluster, FP_cluster, _ =evaluation.main(model, empty_centroids, train_loader_labelled, criterion, data_dir, current_device)\n",
        "            print()\n",
        "            print('Validation result:')\n",
        "            TP_cluster, FP_cluster, _ =evaluation.main(model, empty_centroids, valid_loader, criterion, data_dir, current_device)\n",
        "        \n",
        "        if path_to_save == None:\n",
        "            pass\n",
        "        else:\n",
        "            opts = {\"embedding_matrix\":model.embedding_matrix,\\\n",
        "                    \"num_hidden_layers\":model.num_hidden_layers,\\\n",
        "                    \"hidden_size\":model.hidden_size,\\\n",
        "                    \"num_classes\":model.num_classes}\n",
        "            torch.save(model.state_dict(), path_to_save + 'model_dict_labelled.pt')\n",
        "            torch.save(train_losses, path_to_save + 'train_losses_labelled')\n",
        "            torch.save(val_losses, path_to_save + 'val_losses_labelled')\n",
        "            torch.save(opts, path_to_save + 'opts_labelled')\n",
        "\n",
        "    # unfreeze part\n",
        "    unfreeze_model(model)\n",
        "    print(\"*** UNFREEZING ***\")    \n",
        "\n",
        "    optimizer = torch.optim.Adam(model.parameters(), 0.01, amsgrad=True)\n",
        "    \n",
        "    for epoch in range(num_unfrozen_epochs):\n",
        "        print('{} | Epoch {}'.format(dt.datetime.now(), epoch))\n",
        "        model.train()\n",
        "        total_epoch_loss = 0\n",
        "\n",
        "        for i,(tokens_labelled, labels, flagged_indices_labelled) in tqdm(enumerate(train_loader_labelled)):\n",
        "            \n",
        "            tokens_labelled = tokens_labelled.to(current_device)\n",
        "            flagged_indices_labelled = flagged_indices_labelled.to(current_device)\n",
        "            labels = labels.to(current_device)\n",
        "\n",
        "            # forward pass and compute loss\n",
        "            logits = model(tokens_labelled,flagged_indices_labelled)\n",
        "            \n",
        "            loss = criterion(logits, labels)\n",
        "        \n",
        "            # run update step\n",
        "            optimizer.zero_grad()\n",
        "            loss.backward()\n",
        "            optimizer.step()\n",
        "            \n",
        "            #Add loss to the epoch loss\n",
        "            total_epoch_loss += loss.detach()\n",
        "\n",
        "            if i % print_every == 0:\n",
        "                losses = loss/len(tokens_labelled)\n",
        "                print('Average training loss at batch ',i,': %.3f' % losses)\n",
        "            \n",
        "        total_epoch_loss /= len(train_loader_labelled.dataset)\n",
        "        total_epoch_loss = total_epoch_loss.detach()\n",
        "        train_losses.append(total_epoch_loss)\n",
        "        print('Average training loss after epoch ',epoch,': %.3f' % total_epoch_loss)\n",
        "        \n",
        "        # calculate validation loss after every epoch\n",
        "        total_validation_loss = 0\n",
        "        for i, (tokens, labels, flagged_indices) in enumerate(valid_loader):\n",
        "            model.eval()\n",
        "            tokens = tokens.to(current_device)\n",
        "            labels = labels.to(current_device)\n",
        "            flagged_indices = flagged_indices.to(current_device)\n",
        "            \n",
        "            # forward pass and compute loss\n",
        "            logits = model(tokens,flagged_indices)\n",
        "            \n",
        "            loss = criterion(logits, labels)\n",
        "            \n",
        "            #Add loss to the validation loss\n",
        "            total_validation_loss += loss\n",
        "\n",
        "        total_validation_loss /= len(valid_loader.dataset)\n",
        "        val_losses.append(total_validation_loss)\n",
        "        print('Average validation loss after epoch ',epoch,': %.3f' % total_validation_loss)\n",
        "        if debug_mode:\n",
        "            print('Train result:')\n",
        "            TP_cluster, FP_cluster, _ =evaluation.main(model, empty_centroids, train_loader_labelled, criterion, data_dir, current_device)\n",
        "            print()\n",
        "            print('Validation result:')\n",
        "            TP_cluster, FP_cluster, _ =evaluation.main(model, empty_centroids, valid_loader, criterion, data_dir, current_device)\n",
        "        \n",
        "        \n",
        "        if path_to_save == None:\n",
        "            pass\n",
        "        else:\n",
        "            opts = {\"embedding_matrix\":model.embedding_matrix,\\\n",
        "                    \"num_hidden_layers\":model.num_hidden_layers,\\\n",
        "                    \"hidden_size\":model.hidden_size,\\\n",
        "                    \"num_classes\":model.num_classes}\n",
        "            torch.save(model.state_dict(), path_to_save + 'model_dict_labelled.pt')\n",
        "            torch.save(train_losses, path_to_save + 'train_losses_labelled')\n",
        "            torch.save(val_losses, path_to_save + 'val_losses_labelled')\n",
        "            torch.save(opts, path_to_save + 'opts_labelled')\n",
        "\n",
        "    return model, train_losses, val_losses"
      ],
      "execution_count": 0,
      "outputs": []
    },
    {
      "cell_type": "markdown",
      "metadata": {
        "colab_type": "text",
        "id": "SGsqcnEtPX-a"
      },
      "source": [
        "## Clustering Stuff"
      ]
    },
    {
      "cell_type": "code",
      "metadata": {
        "colab_type": "code",
        "id": "MrgIYm8JPX-b",
        "colab": {}
      },
      "source": [
        "class KMeansCriterion(nn.Module):\n",
        "    \n",
        "    def __init__(self):\n",
        "        super().__init__()\n",
        "    \n",
        "    def forward(self, embeddings, centroids, labelled = False,  cluster_assignments = None):\n",
        "        if labelled:\n",
        "            num_reviews = len(cluster_assignments)\n",
        "            distances = torch.sum((embeddings[:, None, :] - centroids)**2, 2)\n",
        "            cluster_distances = distances[list(range(num_reviews)),cluster_assignments]\n",
        "            loss = cluster_distances.sum()\n",
        "        else:\n",
        "            distances = torch.sum((embeddings[:, None, :] - centroids)**2, 2)\n",
        "            cluster_distances, cluster_assignments = distances.min(1)\n",
        "            loss = cluster_distances.sum()\n",
        "        return loss, cluster_assignments"
      ],
      "execution_count": 0,
      "outputs": []
    },
    {
      "cell_type": "code",
      "metadata": {
        "colab_type": "code",
        "id": "-TJohK2aPX-d",
        "colab": {}
      },
      "source": [
        "def centroid_init(k, d, dataloader, model, current_device):\n",
        "    ## Here we ideally don't want to do randomized/zero initialization\n",
        "    centroid_sums = torch.zeros(k, d).to(current_device)\n",
        "    centroid_counts = torch.zeros(k).to(current_device)\n",
        "    for (tokens, labels, flagged_indices) in dataloader:\n",
        "        # cluster_assignments = torch.LongTensor(tokens.size(0)).random_(k)\n",
        "        cluster_assignments = labels.to(current_device)\n",
        "        \n",
        "        model.eval()\n",
        "        sentence_embed = model(tokens.to(current_device),flagged_indices.to(current_device))\n",
        "    \n",
        "        update_clusters(centroid_sums.detach(), centroid_counts.detach(),\n",
        "                        cluster_assignments.detach(), sentence_embed.to(current_device).detach())\n",
        "    \n",
        "    centroid_means = centroid_sums / centroid_counts[:, None].to(current_device)\n",
        "    return centroid_means.clone()\n",
        "\n",
        "def update_clusters(centroid_sums, centroid_counts,\n",
        "                    cluster_assignments, embeddings):\n",
        "    k = centroid_sums.size(0)\n",
        "\n",
        "    centroid_sums.index_add_(0, cluster_assignments, embeddings)\n",
        "    bin_counts = torch.bincount(cluster_assignments,minlength=k).type(torch.FloatTensor).to(current_device)\n",
        "    centroid_counts.add_(bin_counts)"
      ],
      "execution_count": 0,
      "outputs": []
    },
    {
      "cell_type": "markdown",
      "metadata": {
        "id": "2KTFf81jadVo",
        "colab_type": "text"
      },
      "source": [
        "## Dataloader stuff"
      ]
    },
    {
      "cell_type": "code",
      "metadata": {
        "id": "b8WXsLyKadVp",
        "colab_type": "code",
        "colab": {}
      },
      "source": [
        "def loadLabelledBatch(train_loader_labelled_iter, train_loader_labelled):\n",
        "    try:\n",
        "        tokens, labels, flagged_indices = next(train_loader_labelled_iter)\n",
        "    except StopIteration:\n",
        "        train_loader_labelled_iter = iter(train_loader_labelled)\n",
        "        tokens, labels, flagged_indices = next(train_loader_labelled_iter)\n",
        "\n",
        "    return tokens, labels, flagged_indices, train_loader_labelled_iter\n",
        "\n",
        "\n",
        "def loadUnlabelledBatch(train_loader_unlabelled_iter, train_loader_unlabelled):\n",
        "    try:\n",
        "        tokens, labels, flagged_indices = next(train_loader_unlabelled_iter)\n",
        "    except StopIteration:\n",
        "        train_loader_unlabelled_iter = iter(train_loader_unlabelled)\n",
        "        tokens, labels, flagged_indices = next(train_loader_unlabelled_iter)\n",
        "\n",
        "    return tokens, labels, flagged_indices, train_loader_unlabelled_iter"
      ],
      "execution_count": 0,
      "outputs": []
    },
    {
      "cell_type": "markdown",
      "metadata": {
        "colab_type": "text",
        "id": "u3wynM7fPX-h"
      },
      "source": [
        "## Unsupervised Training"
      ]
    },
    {
      "cell_type": "code",
      "metadata": {
        "id": "6qFfcMaeadVr",
        "colab_type": "code",
        "colab": {}
      },
      "source": [
        "def train_clusters(model, centroids, criterion, train_loader_labelled, train_loader_unlabelled, valid_loader, num_epochs=15, num_batches = 1000, path_to_save=None, print_every = 1000):\n",
        "\n",
        "    train_loader_labelled_iter = iter(train_loader_labelled)\n",
        "    train_loader_unlabelled_iter = iter(train_loader_unlabelled)\n",
        "    lambda_loss = model.lambda_loss\n",
        "\n",
        "    train_losses=[]\n",
        "    val_losses=[]\n",
        "    num_gpus = torch.cuda.device_count()\n",
        "    if num_gpus > 0:\n",
        "        current_device = 'cuda'\n",
        "    else:\n",
        "        current_device = 'cpu'\n",
        "    \n",
        "    optimizer = torch.optim.Adam(model.parameters(), 0.01, amsgrad=True)\n",
        "    \n",
        "    for epoch in range(num_epochs):\n",
        "        print('{} | Epoch {}'.format(dt.datetime.now(), epoch))\n",
        "        model.eval() # we're only clustering, not training model\n",
        "        k, d = centroids.size()\n",
        "        centroid_sums = torch.zeros_like(centroids).to(current_device)\n",
        "        centroid_counts = torch.zeros(k).to(current_device)\n",
        "        total_epoch_loss = 0\n",
        "        \n",
        "        for i in tqdm(range(int(num_batches))):\n",
        "            tokens_labelled, labels, flagged_indices_labelled, train_loader_labelled_iter = loadLabelledBatch(train_loader_labelled_iter, train_loader_labelled)\n",
        "            tokens_unlabelled, _, flagged_indices_unlabelled, train_loader_unlabelled_iter = loadUnlabelledBatch(train_loader_unlabelled_iter, train_loader_unlabelled)\n",
        "\n",
        "            tokens_labelled = tokens_labelled.to(current_device)\n",
        "            labels = labels.to(current_device)\n",
        "            flagged_indices_labelled = flagged_indices_labelled.to(current_device)\n",
        "            \n",
        "            tokens_unlabelled = tokens_unlabelled.to(current_device)\n",
        "            flagged_indices_unlabelled = flagged_indices_unlabelled.to(current_device)\n",
        "\n",
        "            # forward pass and compute loss\n",
        "            sentence_embed_labelled = model(tokens_labelled,flagged_indices_labelled)\n",
        "            sentence_embed_unlabelled = model(tokens_unlabelled,flagged_indices_unlabelled)\n",
        "            \n",
        "            cluster_loss_unlabelled, cluster_assignments_unlabelled = criterion(sentence_embed_unlabelled, centroids.detach())\n",
        "            cluster_loss_labelled, cluster_assignments_labelled = criterion(sentence_embed_labelled, centroids.detach(), labelled = True, cluster_assignments = labels)\n",
        "    \n",
        "            ### DEBUGGING!! ###\n",
        "            if i % print_every == 0:\n",
        "              print(lambda_loss)\n",
        "            lambda_loss = 10000\n",
        "            ###################\n",
        "            total_batch_loss = cluster_loss_unlabelled.data + lambda_loss * cluster_loss_labelled.data\n",
        "            \n",
        "#             #Add loss to the epoch loss\n",
        "            total_epoch_loss += total_batch_loss.data\n",
        "\n",
        "#             # store centroid sums and counts in memory for later centering\n",
        "            update_clusters(centroid_sums.detach(), centroid_counts.detach(),\n",
        "                            cluster_assignments_labelled.detach(), sentence_embed_labelled.detach())\n",
        "    \n",
        "            update_clusters(centroid_sums.detach(), centroid_counts.detach(),\n",
        "                            cluster_assignments_unlabelled.detach(), sentence_embed_unlabelled.detach())\n",
        "\n",
        "            if i % print_every == 0:\n",
        "                losses = total_batch_loss/(len(tokens_labelled)+ len(tokens_unlabelled))\n",
        "                print('Average training loss at batch ',i,': %.3f' % losses)\n",
        "            \n",
        "        total_epoch_loss /= (len(train_loader_labelled.dataset)+len(train_loader_unlabelled.dataset))\n",
        "        train_losses.append(total_epoch_loss)\n",
        "        print('Average training loss after epoch ',epoch,': %.3f' % total_epoch_loss)\n",
        "        \n",
        "        # update centroids based on assignments from autoencoders\n",
        "        centroids = centroid_sums / (centroid_counts[:, None] + 1).to(current_device)\n",
        "        \n",
        "        # calculate validation loss after every epoch\n",
        "        total_validation_loss = 0\n",
        "        for i, (tokens, labels, flagged_indices) in enumerate(valid_loader):\n",
        "            model.eval()\n",
        "            tokens = tokens.to(current_device)\n",
        "            labels = labels.to(current_device)\n",
        "            flagged_indices = flagged_indices.to(current_device)\n",
        "            \n",
        "            # forward pass and compute loss\n",
        "            sentence_embed = model(tokens,flagged_indices)\n",
        "            cluster_loss, cluster_assignments = criterion(sentence_embed, centroids)\n",
        "            \n",
        "            #Add loss to the validation loss\n",
        "            total_validation_loss += cluster_loss.data\n",
        "\n",
        "        total_validation_loss /= len(valid_loader.dataset)\n",
        "        val_losses.append(total_validation_loss)\n",
        "        print('Average validation loss after epoch ',epoch,': %.3f' % total_validation_loss)\n",
        "        \n",
        "        if path_to_save == None:\n",
        "            pass\n",
        "        else:\n",
        "            opts = {\"embedding_matrix\":model.embedding_matrix,\\\n",
        "                    \"num_hidden_layers\":model.num_hidden_layers,\\\n",
        "                    \"hidden_size\":model.hidden_size,\\\n",
        "                    \"num_classes\":model.num_classes}\n",
        "            torch.save(model.state_dict(), path_to_save+'model_dict_unlabelled.pt')\n",
        "            torch.save(centroids, path_to_save+'centroids_unlabelled')\n",
        "            torch.save(train_losses, path_to_save+'train_losses_unlabelled')\n",
        "            torch.save(val_losses, path_to_save+'val_losses_unlabelled')\n",
        "            torch.save(opts, path_to_save+'opts_unlabelled')\n",
        "        \n",
        "    return model, centroids, train_losses, val_losses"
      ],
      "execution_count": 0,
      "outputs": []
    },
    {
      "cell_type": "markdown",
      "metadata": {
        "id": "Z8EqbEHDadVt",
        "colab_type": "text"
      },
      "source": [
        "# Hyperparameter Tuning"
      ]
    },
    {
      "cell_type": "code",
      "metadata": {
        "id": "8449gX9Gk_cj",
        "colab_type": "code",
        "colab": {}
      },
      "source": [
        "num_gpus = torch.cuda.device_count()\n",
        "if num_gpus > 0:\n",
        "    current_device = 'cuda'\n",
        "else:\n",
        "    current_device = 'cpu'"
      ],
      "execution_count": 0,
      "outputs": []
    },
    {
      "cell_type": "code",
      "metadata": {
        "id": "ECqRnXtSadVu",
        "colab_type": "code",
        "colab": {}
      },
      "source": [
        "def get_save_directory(opts):\n",
        "    path = os.getcwd()\n",
        "    model_folder = 'lstm_unfrozen_model/'\n",
        "    model_dir = path + '/models/' + model_folder\n",
        "    \n",
        "    # subfolder for each hyperparam config\n",
        "    num_unfrozen_epochs = opts['num_unfrozen_epochs']\n",
        "    num_hidden_layers = opts['num_hidden_layers']\n",
        "    hidden_size = opts['hidden_size']\n",
        "    dropout = opts['dropout']\n",
        "    lambda_loss = opts['lambda_loss']\n",
        "    subfolder = \"num_unfrozen_epochs=\"+str(num_unfrozen_epochs) \\\n",
        "                + \",num_hidden_layers=\"+str(num_hidden_layers) \\\n",
        "                + \",hidden_size=\"+str(hidden_size) \\\n",
        "                + \",dropout=\"+str(dropout) \\\n",
        "                + \",lambda=\"+str(lambda_loss) + '/'\n",
        "    \n",
        "    # need to actually create these subfolders lol\n",
        "    try:\n",
        "        os.makedirs(model_dir + subfolder) # will throw error if subfolder already exists\n",
        "    except:\n",
        "        pass\n",
        "    \n",
        "    return model_dir + subfolder"
      ],
      "execution_count": 0,
      "outputs": []
    },
    {
      "cell_type": "markdown",
      "metadata": {
        "id": "RFIzlhkeadVw",
        "colab_type": "text"
      },
      "source": [
        "## Phase 1: Supervised Model"
      ]
    },
    {
      "cell_type": "code",
      "metadata": {
        "id": "c0uh7ln_adVx",
        "colab_type": "code",
        "colab": {}
      },
      "source": [
        "def train_config_supervised(opts):\n",
        "    path_to_save = get_save_directory(opts)\n",
        "    print(path_to_save)\n",
        "    \n",
        "    # supervised part -- embeddings\n",
        "    model = LSTM_model(opts).to(current_device)\n",
        "    criterion = nn.CrossEntropyLoss(reduction='sum')\n",
        "    num_unfrozen_epochs = opts['num_unfrozen_epochs']\n",
        "    train_supervised_model(model, criterion, train_loader_labelled, val_loader, num_unfrozen_epochs=num_unfrozen_epochs, path_to_save=path_to_save)"
      ],
      "execution_count": 0,
      "outputs": []
    },
    {
      "cell_type": "code",
      "metadata": {
        "id": "vC3Ik8SYadV0",
        "colab_type": "code",
        "outputId": "b2079fda-00b5-4ad6-f693-e09acd9ff313",
        "colab": {
          "base_uri": "https://localhost:8080/",
          "height": 1000,
          "referenced_widgets": [
            "017063e2c1424c7ca0a086ce109da7da",
            "64a644437a284d29a5466e4c4987c532",
            "3f8f144e2c3a4cde89f7f9fc66ac961e",
            "6d96f222eb494c38b57ef7c69a9827fe",
            "bb65cfc0edad4d0ba5b0d7c23f67dbba",
            "844211438218424a81d7903c763ba15a",
            "f22fcc6189264de7a707fe1ca330cae9",
            "dc60914eb4284c4a912e64cab09c7184",
            "e93644d7cf1548edb777f5774b19f8ee",
            "ef75976328dc4d7ea560361efc77b92d",
            "3ada672502ba40ae97aed57a3fe1948a",
            "fe53eacfe5b64de58d5b5655ff385188",
            "6665df745dd64b6783bf9b9ce585b114",
            "d3c05c41ca41468b81352a164ec29a92",
            "b3265a5cceb847e8a3777e427bd4aa35",
            "73584ec6668a4c5fa608a0a9d03e0303",
            "9f16a5c6f5e1456e90bc6e609fa6f98e",
            "91bf04477d244335a62b6a33e3a1cca9",
            "e744014eaa64473eb1b59f8d5348c370",
            "d52fb1a830b3423f8e6ddbcdcdba9cbc",
            "8e9a45b94ebd49d5b311a7e18a8a7036",
            "210450f0f06c487dbde617a909891dfa",
            "8fa2193f190045f3b4b6a7c34cf8aafd",
            "d537fa88287c487e941c53f9a598d072",
            "39810d93ed53404aa4f3e15d7418d378",
            "15d612940b154a20b97eda489c87fe06",
            "16395aba63874b61aad926403658016e",
            "622e638286ca44ff881de325059a40d7",
            "efff0ac192eb4fdaac26d9574bc596d7",
            "1906ae903c86469ca87cd2c7423f6097",
            "0cac464c98ea4fadb6d4d6e2bea19474",
            "990a7aa3cd604771a88ea01a38b08c47",
            "0ac73c1ef8da4159993fe172cf6a163e",
            "870c289989584d188dc56dd087cb55b0",
            "69bda514a42e496ab3c35f7e91f0735f",
            "69a69099c7b9428890dbac55a89595a4",
            "e2d8c8ff4598453ca74a8f4cd1a7dd2d",
            "a752132d5e1b43c8bd90eb387414c29f",
            "5aeb53b83bad425184a911681b2dad0a",
            "e84b76a347874992b06671c9f8548c60",
            "c1b712dd10454830b7518a13f4c38e39",
            "9a13175fcec64aa589b412a1aed0843f",
            "4abe82fbb725498291b098d6e1a8c553",
            "7af0cf9c5f44403faaa236fc12e45aed",
            "93f8bf1cd19b4732b6c98bf5f34481f4",
            "4437f7d61ac44226883fe878f8a5e460",
            "c1daecadc4f84027b66a2eb67eabd43f",
            "5cdd2078fc814d1dbbc575695d825ce8",
            "05d3330442994dba811f28c72e1815a8",
            "4bd11fbe9c844614b730431d1d5a1f8c",
            "aee154168e0242069fb95296fa29385a",
            "0491f8528cf54892a488c3815b93bf98",
            "0fd10fdefda54c1d99f706f6fd939e27",
            "6fea48c1ceea410388e3c3ccc46bd989",
            "8d811c39525a46f899492954e6d25739",
            "1bed2013d32f4a9ea566ad0870fec0d1",
            "70451aedacf943bb8c0e364ab93904fa",
            "e0e82e71b0d549c993798662aa2c50c7",
            "ee757cec97ae4326b899d7613efd6c96",
            "2f3e0686b87e4f21af15586f1dc080e5",
            "5246404faf974b0eb944466b13c08670",
            "5ce069aaa07948618791faa0349d1231",
            "fb1b1b28ad1343779314bc9ba3ba620d",
            "80e0f4f7b8434f4d9e654c24cdacf7f8",
            "fc6410c96a4c45318171a3e043bb316f",
            "46c219a042f64beb8540c294f24a0a78",
            "2801c7ca833743c398cdbc573b9e3110",
            "c99c0f78b5ee4668831392cee7dba02d",
            "f2ce3fcdc8384ac8b22b69ca4e6504c2",
            "70c53401c3c3447089ec9b39a6a3d503",
            "23b04876d50d4feba461dbb6c96c109d",
            "c67c33d5c6db49c888e375dc283ff54b",
            "ee90dd2e023a4ab7b32284e748855610",
            "fccb7679a6c44f29a59559773312e6ef",
            "cba9c2a503544889942ccd64c346b5bb",
            "36d4c7f9e2004b8a9a9d4b77090a29a7",
            "f4d56af8439e45418b6154809c1dcd7a",
            "84751f8bafa04456b9cb445fa0f5edde",
            "a3fc12c47bfa45b4a5a561eba85ae237",
            "13d7987903074cbfa065636904326caf",
            "5980e42af4b14f60b31bc4dfa172da31",
            "60a365d855c04cf2829942f6d5b5ed70",
            "db886231ec504268bd4653b1cfc26ebe",
            "f14babec7c8440a3a748988bdb080d2e",
            "88dfd18a93c8494c868911d1db1ebf29",
            "74397f52f651403c8f16c434476c40f7",
            "1727b950ade946a5a4f55d952231ce71",
            "6a9ec1557e1a44abb4539d037a93a616",
            "c8d2a25413e448b08c84bd8bdd6feb37",
            "8d6a4cd3150340acb56ea15769096d15",
            "4a253c3f30f44e75979f632e0ebf2b9b",
            "7910f093768b492ebce2359e91ecd395",
            "2954e8d559cf41b2aa9592d6fbb56a53",
            "462be857e22046e0a61bb5eec0342a64",
            "73402d080efb40818bc7d2fcce7e1680",
            "427e30593eed457eaf67f639d574098b"
          ]
        }
      },
      "source": [
        "num_hidden_layers_list = [3]\n",
        "hidden_sizes = [256]\n",
        "dropouts = [0]\n",
        "num_unfrozen_epochs_list = [2]\n",
        "lambda_loss = None  # NOT TRAINING THIS YET\n",
        "\n",
        "## NEXT: 3 hidden layers of 256 w/ 2 unfrozen epochs... dropouts = [.25, .5]\n",
        "\n",
        "for num_hidden_layers in num_hidden_layers_list:\n",
        "    for hidden_size in hidden_sizes:\n",
        "        for dropout in dropouts:\n",
        "            for num_unfrozen_epochs in num_unfrozen_epochs_list:\n",
        "                opts = {\n",
        "                    'embedding_matrix': glove_embedding_index,\n",
        "                    'num_hidden_layers': num_hidden_layers,\n",
        "                    'hidden_size': hidden_size,\n",
        "                    'dropout': dropout,\n",
        "                    'num_unfrozen_epochs': num_unfrozen_epochs,\n",
        "                    'lambda_loss': lambda_loss\n",
        "                }\n",
        "                train_config_supervised(opts)"
      ],
      "execution_count": 33,
      "outputs": [
        {
          "output_type": "stream",
          "text": [
            "/content/drive/My Drive/Capstone_Hyperparam_Tuning/models/lstm_unfrozen_model/num_unfrozen_epochs=2,num_hidden_layers=3,hidden_size=256,dropout=0,lambda=None/\n",
            "2019-12-10 04:44:52.842209 | Epoch 0\n"
          ],
          "name": "stdout"
        },
        {
          "output_type": "display_data",
          "data": {
            "application/vnd.jupyter.widget-view+json": {
              "model_id": "017063e2c1424c7ca0a086ce109da7da",
              "version_minor": 0,
              "version_major": 2
            },
            "text/plain": [
              "HBox(children=(IntProgress(value=1, bar_style='info', max=1), HTML(value='')))"
            ]
          },
          "metadata": {
            "tags": []
          }
        },
        {
          "output_type": "stream",
          "text": [
            "Average training loss at batch  0 : 0.691\n",
            "\n",
            "Average training loss after epoch  0 : 0.454\n",
            "Average validation loss after epoch  0 : 0.349\n",
            "2019-12-10 04:45:10.401473 | Epoch 1\n"
          ],
          "name": "stdout"
        },
        {
          "output_type": "display_data",
          "data": {
            "application/vnd.jupyter.widget-view+json": {
              "model_id": "e93644d7cf1548edb777f5774b19f8ee",
              "version_minor": 0,
              "version_major": 2
            },
            "text/plain": [
              "HBox(children=(IntProgress(value=1, bar_style='info', max=1), HTML(value='')))"
            ]
          },
          "metadata": {
            "tags": []
          }
        },
        {
          "output_type": "stream",
          "text": [
            "Average training loss at batch  0 : 0.325\n",
            "\n",
            "Average training loss after epoch  1 : 0.263\n",
            "Average validation loss after epoch  1 : 0.408\n",
            "2019-12-10 04:45:26.189199 | Epoch 2\n"
          ],
          "name": "stdout"
        },
        {
          "output_type": "display_data",
          "data": {
            "application/vnd.jupyter.widget-view+json": {
              "model_id": "9f16a5c6f5e1456e90bc6e609fa6f98e",
              "version_minor": 0,
              "version_major": 2
            },
            "text/plain": [
              "HBox(children=(IntProgress(value=1, bar_style='info', max=1), HTML(value='')))"
            ]
          },
          "metadata": {
            "tags": []
          }
        },
        {
          "output_type": "stream",
          "text": [
            "Average training loss at batch  0 : 0.089\n",
            "\n",
            "Average training loss after epoch  2 : 0.214\n",
            "Average validation loss after epoch  2 : 0.316\n",
            "2019-12-10 04:45:41.655765 | Epoch 3\n"
          ],
          "name": "stdout"
        },
        {
          "output_type": "display_data",
          "data": {
            "application/vnd.jupyter.widget-view+json": {
              "model_id": "39810d93ed53404aa4f3e15d7418d378",
              "version_minor": 0,
              "version_major": 2
            },
            "text/plain": [
              "HBox(children=(IntProgress(value=1, bar_style='info', max=1), HTML(value='')))"
            ]
          },
          "metadata": {
            "tags": []
          }
        },
        {
          "output_type": "stream",
          "text": [
            "Average training loss at batch  0 : 0.226\n",
            "\n",
            "Average training loss after epoch  3 : 0.163\n",
            "Average validation loss after epoch  3 : 0.299\n",
            "2019-12-10 04:45:57.382531 | Epoch 4\n"
          ],
          "name": "stdout"
        },
        {
          "output_type": "display_data",
          "data": {
            "application/vnd.jupyter.widget-view+json": {
              "model_id": "0ac73c1ef8da4159993fe172cf6a163e",
              "version_minor": 0,
              "version_major": 2
            },
            "text/plain": [
              "HBox(children=(IntProgress(value=1, bar_style='info', max=1), HTML(value='')))"
            ]
          },
          "metadata": {
            "tags": []
          }
        },
        {
          "output_type": "stream",
          "text": [
            "Average training loss at batch  0 : 0.174\n",
            "\n",
            "Average training loss after epoch  4 : 0.128\n",
            "Average validation loss after epoch  4 : 0.373\n",
            "2019-12-10 04:46:13.180964 | Epoch 5\n"
          ],
          "name": "stdout"
        },
        {
          "output_type": "display_data",
          "data": {
            "application/vnd.jupyter.widget-view+json": {
              "model_id": "c1b712dd10454830b7518a13f4c38e39",
              "version_minor": 0,
              "version_major": 2
            },
            "text/plain": [
              "HBox(children=(IntProgress(value=1, bar_style='info', max=1), HTML(value='')))"
            ]
          },
          "metadata": {
            "tags": []
          }
        },
        {
          "output_type": "stream",
          "text": [
            "Average training loss at batch  0 : 0.201\n",
            "\n",
            "Average training loss after epoch  5 : 0.100\n",
            "Average validation loss after epoch  5 : 0.431\n",
            "2019-12-10 04:46:28.590347 | Epoch 6\n"
          ],
          "name": "stdout"
        },
        {
          "output_type": "display_data",
          "data": {
            "application/vnd.jupyter.widget-view+json": {
              "model_id": "05d3330442994dba811f28c72e1815a8",
              "version_minor": 0,
              "version_major": 2
            },
            "text/plain": [
              "HBox(children=(IntProgress(value=1, bar_style='info', max=1), HTML(value='')))"
            ]
          },
          "metadata": {
            "tags": []
          }
        },
        {
          "output_type": "stream",
          "text": [
            "Average training loss at batch  0 : 0.152\n",
            "\n",
            "Average training loss after epoch  6 : 0.111\n",
            "Average validation loss after epoch  6 : 0.586\n",
            "2019-12-10 04:46:44.236803 | Epoch 7\n"
          ],
          "name": "stdout"
        },
        {
          "output_type": "display_data",
          "data": {
            "application/vnd.jupyter.widget-view+json": {
              "model_id": "70451aedacf943bb8c0e364ab93904fa",
              "version_minor": 0,
              "version_major": 2
            },
            "text/plain": [
              "HBox(children=(IntProgress(value=1, bar_style='info', max=1), HTML(value='')))"
            ]
          },
          "metadata": {
            "tags": []
          }
        },
        {
          "output_type": "stream",
          "text": [
            "Average training loss at batch  0 : 0.007\n",
            "\n",
            "Average training loss after epoch  7 : 0.109\n",
            "Average validation loss after epoch  7 : 0.398\n",
            "2019-12-10 04:47:00.133263 | Epoch 8\n"
          ],
          "name": "stdout"
        },
        {
          "output_type": "display_data",
          "data": {
            "application/vnd.jupyter.widget-view+json": {
              "model_id": "fc6410c96a4c45318171a3e043bb316f",
              "version_minor": 0,
              "version_major": 2
            },
            "text/plain": [
              "HBox(children=(IntProgress(value=1, bar_style='info', max=1), HTML(value='')))"
            ]
          },
          "metadata": {
            "tags": []
          }
        },
        {
          "output_type": "stream",
          "text": [
            "Average training loss at batch  0 : 0.176\n",
            "\n",
            "Average training loss after epoch  8 : 0.089\n",
            "Average validation loss after epoch  8 : 0.403\n",
            "2019-12-10 04:47:15.978988 | Epoch 9\n"
          ],
          "name": "stdout"
        },
        {
          "output_type": "display_data",
          "data": {
            "application/vnd.jupyter.widget-view+json": {
              "model_id": "ee90dd2e023a4ab7b32284e748855610",
              "version_minor": 0,
              "version_major": 2
            },
            "text/plain": [
              "HBox(children=(IntProgress(value=1, bar_style='info', max=1), HTML(value='')))"
            ]
          },
          "metadata": {
            "tags": []
          }
        },
        {
          "output_type": "stream",
          "text": [
            "Average training loss at batch  0 : 0.010\n",
            "\n",
            "Average training loss after epoch  9 : 0.076\n",
            "Average validation loss after epoch  9 : 0.367\n",
            "*** UNFREEZING ***\n",
            "2019-12-10 04:47:32.010351 | Epoch 0\n"
          ],
          "name": "stdout"
        },
        {
          "output_type": "display_data",
          "data": {
            "application/vnd.jupyter.widget-view+json": {
              "model_id": "5980e42af4b14f60b31bc4dfa172da31",
              "version_minor": 0,
              "version_major": 2
            },
            "text/plain": [
              "HBox(children=(IntProgress(value=1, bar_style='info', max=1), HTML(value='')))"
            ]
          },
          "metadata": {
            "tags": []
          }
        },
        {
          "output_type": "stream",
          "text": [
            "Average training loss at batch  0 : 0.045\n",
            "\n",
            "Average training loss after epoch  0 : 0.097\n",
            "Average validation loss after epoch  0 : 0.403\n",
            "2019-12-10 04:47:48.407328 | Epoch 1\n"
          ],
          "name": "stdout"
        },
        {
          "output_type": "display_data",
          "data": {
            "application/vnd.jupyter.widget-view+json": {
              "model_id": "c8d2a25413e448b08c84bd8bdd6feb37",
              "version_minor": 0,
              "version_major": 2
            },
            "text/plain": [
              "HBox(children=(IntProgress(value=1, bar_style='info', max=1), HTML(value='')))"
            ]
          },
          "metadata": {
            "tags": []
          }
        },
        {
          "output_type": "stream",
          "text": [
            "Average training loss at batch  0 : 0.020\n",
            "\n",
            "Average training loss after epoch  1 : 0.080\n"
          ],
          "name": "stdout"
        },
        {
          "output_type": "error",
          "ename": "RuntimeError",
          "evalue": "ignored",
          "traceback": [
            "\u001b[0;31m---------------------------------------------------------------------------\u001b[0m",
            "\u001b[0;31mRuntimeError\u001b[0m                              Traceback (most recent call last)",
            "\u001b[0;32m<ipython-input-33-0939783e036b>\u001b[0m in \u001b[0;36m<module>\u001b[0;34m()\u001b[0m\n\u001b[1;32m     19\u001b[0m                     \u001b[0;34m'lambda_loss'\u001b[0m\u001b[0;34m:\u001b[0m \u001b[0mlambda_loss\u001b[0m\u001b[0;34m\u001b[0m\u001b[0;34m\u001b[0m\u001b[0m\n\u001b[1;32m     20\u001b[0m                 }\n\u001b[0;32m---> 21\u001b[0;31m                 \u001b[0mtrain_config_supervised\u001b[0m\u001b[0;34m(\u001b[0m\u001b[0mopts\u001b[0m\u001b[0;34m)\u001b[0m\u001b[0;34m\u001b[0m\u001b[0;34m\u001b[0m\u001b[0m\n\u001b[0m",
            "\u001b[0;32m<ipython-input-31-cf09e019605e>\u001b[0m in \u001b[0;36mtrain_config_supervised\u001b[0;34m(opts)\u001b[0m\n\u001b[1;32m      7\u001b[0m     \u001b[0mcriterion\u001b[0m \u001b[0;34m=\u001b[0m \u001b[0mnn\u001b[0m\u001b[0;34m.\u001b[0m\u001b[0mCrossEntropyLoss\u001b[0m\u001b[0;34m(\u001b[0m\u001b[0mreduction\u001b[0m\u001b[0;34m=\u001b[0m\u001b[0;34m'sum'\u001b[0m\u001b[0;34m)\u001b[0m\u001b[0;34m\u001b[0m\u001b[0;34m\u001b[0m\u001b[0m\n\u001b[1;32m      8\u001b[0m     \u001b[0mnum_unfrozen_epochs\u001b[0m \u001b[0;34m=\u001b[0m \u001b[0mopts\u001b[0m\u001b[0;34m[\u001b[0m\u001b[0;34m'num_unfrozen_epochs'\u001b[0m\u001b[0;34m]\u001b[0m\u001b[0;34m\u001b[0m\u001b[0;34m\u001b[0m\u001b[0m\n\u001b[0;32m----> 9\u001b[0;31m     \u001b[0mtrain_supervised_model\u001b[0m\u001b[0;34m(\u001b[0m\u001b[0mmodel\u001b[0m\u001b[0;34m,\u001b[0m \u001b[0mcriterion\u001b[0m\u001b[0;34m,\u001b[0m \u001b[0mtrain_loader_labelled\u001b[0m\u001b[0;34m,\u001b[0m \u001b[0mval_loader\u001b[0m\u001b[0;34m,\u001b[0m \u001b[0mnum_unfrozen_epochs\u001b[0m\u001b[0;34m=\u001b[0m\u001b[0mnum_unfrozen_epochs\u001b[0m\u001b[0;34m,\u001b[0m \u001b[0mpath_to_save\u001b[0m\u001b[0;34m=\u001b[0m\u001b[0mpath_to_save\u001b[0m\u001b[0;34m)\u001b[0m\u001b[0;34m\u001b[0m\u001b[0;34m\u001b[0m\u001b[0m\n\u001b[0m",
            "\u001b[0;32m<ipython-input-24-56d77ce76265>\u001b[0m in \u001b[0;36mtrain_supervised_model\u001b[0;34m(model, criterion, train_loader_labelled, valid_loader, num_frozen_epochs, num_unfrozen_epochs, path_to_save, print_every, debug_mode)\u001b[0m\n\u001b[1;32m    129\u001b[0m \u001b[0;34m\u001b[0m\u001b[0m\n\u001b[1;32m    130\u001b[0m             \u001b[0;31m# forward pass and compute loss\u001b[0m\u001b[0;34m\u001b[0m\u001b[0;34m\u001b[0m\u001b[0;34m\u001b[0m\u001b[0m\n\u001b[0;32m--> 131\u001b[0;31m             \u001b[0mlogits\u001b[0m \u001b[0;34m=\u001b[0m \u001b[0mmodel\u001b[0m\u001b[0;34m(\u001b[0m\u001b[0mtokens\u001b[0m\u001b[0;34m,\u001b[0m\u001b[0mflagged_indices\u001b[0m\u001b[0;34m)\u001b[0m\u001b[0;34m\u001b[0m\u001b[0;34m\u001b[0m\u001b[0m\n\u001b[0m\u001b[1;32m    132\u001b[0m \u001b[0;34m\u001b[0m\u001b[0m\n\u001b[1;32m    133\u001b[0m             \u001b[0mloss\u001b[0m \u001b[0;34m=\u001b[0m \u001b[0mcriterion\u001b[0m\u001b[0;34m(\u001b[0m\u001b[0mlogits\u001b[0m\u001b[0;34m,\u001b[0m \u001b[0mlabels\u001b[0m\u001b[0;34m)\u001b[0m\u001b[0;34m\u001b[0m\u001b[0;34m\u001b[0m\u001b[0m\n",
            "\u001b[0;32m/usr/local/lib/python3.6/dist-packages/torch/nn/modules/module.py\u001b[0m in \u001b[0;36m__call__\u001b[0;34m(self, *input, **kwargs)\u001b[0m\n\u001b[1;32m    539\u001b[0m             \u001b[0mresult\u001b[0m \u001b[0;34m=\u001b[0m \u001b[0mself\u001b[0m\u001b[0;34m.\u001b[0m\u001b[0m_slow_forward\u001b[0m\u001b[0;34m(\u001b[0m\u001b[0;34m*\u001b[0m\u001b[0minput\u001b[0m\u001b[0;34m,\u001b[0m \u001b[0;34m**\u001b[0m\u001b[0mkwargs\u001b[0m\u001b[0;34m)\u001b[0m\u001b[0;34m\u001b[0m\u001b[0;34m\u001b[0m\u001b[0m\n\u001b[1;32m    540\u001b[0m         \u001b[0;32melse\u001b[0m\u001b[0;34m:\u001b[0m\u001b[0;34m\u001b[0m\u001b[0;34m\u001b[0m\u001b[0m\n\u001b[0;32m--> 541\u001b[0;31m             \u001b[0mresult\u001b[0m \u001b[0;34m=\u001b[0m \u001b[0mself\u001b[0m\u001b[0;34m.\u001b[0m\u001b[0mforward\u001b[0m\u001b[0;34m(\u001b[0m\u001b[0;34m*\u001b[0m\u001b[0minput\u001b[0m\u001b[0;34m,\u001b[0m \u001b[0;34m**\u001b[0m\u001b[0mkwargs\u001b[0m\u001b[0;34m)\u001b[0m\u001b[0;34m\u001b[0m\u001b[0;34m\u001b[0m\u001b[0m\n\u001b[0m\u001b[1;32m    542\u001b[0m         \u001b[0;32mfor\u001b[0m \u001b[0mhook\u001b[0m \u001b[0;32min\u001b[0m \u001b[0mself\u001b[0m\u001b[0;34m.\u001b[0m\u001b[0m_forward_hooks\u001b[0m\u001b[0;34m.\u001b[0m\u001b[0mvalues\u001b[0m\u001b[0;34m(\u001b[0m\u001b[0;34m)\u001b[0m\u001b[0;34m:\u001b[0m\u001b[0;34m\u001b[0m\u001b[0;34m\u001b[0m\u001b[0m\n\u001b[1;32m    543\u001b[0m             \u001b[0mhook_result\u001b[0m \u001b[0;34m=\u001b[0m \u001b[0mhook\u001b[0m\u001b[0;34m(\u001b[0m\u001b[0mself\u001b[0m\u001b[0;34m,\u001b[0m \u001b[0minput\u001b[0m\u001b[0;34m,\u001b[0m \u001b[0mresult\u001b[0m\u001b[0;34m)\u001b[0m\u001b[0;34m\u001b[0m\u001b[0;34m\u001b[0m\u001b[0m\n",
            "\u001b[0;32m<ipython-input-23-9fac448ba240>\u001b[0m in \u001b[0;36mforward\u001b[0;34m(self, tokens, flagged_index)\u001b[0m\n\u001b[1;32m     31\u001b[0m \u001b[0;31m#         print(embedding.shape) # below assumes \"batch_size x num_tokens x Emb_dim\" (VERIFY)\u001b[0m\u001b[0;34m\u001b[0m\u001b[0;34m\u001b[0m\u001b[0;34m\u001b[0m\u001b[0m\n\u001b[1;32m     32\u001b[0m \u001b[0;34m\u001b[0m\u001b[0m\n\u001b[0;32m---> 33\u001b[0;31m         \u001b[0mlstm_output\u001b[0m \u001b[0;34m=\u001b[0m \u001b[0mself\u001b[0m\u001b[0;34m.\u001b[0m\u001b[0mlstm\u001b[0m\u001b[0;34m(\u001b[0m\u001b[0membedding\u001b[0m\u001b[0;34m)\u001b[0m\u001b[0;34m\u001b[0m\u001b[0;34m\u001b[0m\u001b[0m\n\u001b[0m\u001b[1;32m     34\u001b[0m         \u001b[0;31m# lstm_output is a tuple containing lstm output and (hidden_state, lstm_cell).\u001b[0m\u001b[0;34m\u001b[0m\u001b[0;34m\u001b[0m\u001b[0;34m\u001b[0m\u001b[0m\n\u001b[1;32m     35\u001b[0m         \u001b[0;31m# lstm_output[0] would be of shape \"batch_size x num_tokens x hidden_size\" (VERIFY)\u001b[0m\u001b[0;34m\u001b[0m\u001b[0;34m\u001b[0m\u001b[0;34m\u001b[0m\u001b[0m\n",
            "\u001b[0;32m/usr/local/lib/python3.6/dist-packages/torch/nn/modules/module.py\u001b[0m in \u001b[0;36m__call__\u001b[0;34m(self, *input, **kwargs)\u001b[0m\n\u001b[1;32m    539\u001b[0m             \u001b[0mresult\u001b[0m \u001b[0;34m=\u001b[0m \u001b[0mself\u001b[0m\u001b[0;34m.\u001b[0m\u001b[0m_slow_forward\u001b[0m\u001b[0;34m(\u001b[0m\u001b[0;34m*\u001b[0m\u001b[0minput\u001b[0m\u001b[0;34m,\u001b[0m \u001b[0;34m**\u001b[0m\u001b[0mkwargs\u001b[0m\u001b[0;34m)\u001b[0m\u001b[0;34m\u001b[0m\u001b[0;34m\u001b[0m\u001b[0m\n\u001b[1;32m    540\u001b[0m         \u001b[0;32melse\u001b[0m\u001b[0;34m:\u001b[0m\u001b[0;34m\u001b[0m\u001b[0;34m\u001b[0m\u001b[0m\n\u001b[0;32m--> 541\u001b[0;31m             \u001b[0mresult\u001b[0m \u001b[0;34m=\u001b[0m \u001b[0mself\u001b[0m\u001b[0;34m.\u001b[0m\u001b[0mforward\u001b[0m\u001b[0;34m(\u001b[0m\u001b[0;34m*\u001b[0m\u001b[0minput\u001b[0m\u001b[0;34m,\u001b[0m \u001b[0;34m**\u001b[0m\u001b[0mkwargs\u001b[0m\u001b[0;34m)\u001b[0m\u001b[0;34m\u001b[0m\u001b[0;34m\u001b[0m\u001b[0m\n\u001b[0m\u001b[1;32m    542\u001b[0m         \u001b[0;32mfor\u001b[0m \u001b[0mhook\u001b[0m \u001b[0;32min\u001b[0m \u001b[0mself\u001b[0m\u001b[0;34m.\u001b[0m\u001b[0m_forward_hooks\u001b[0m\u001b[0;34m.\u001b[0m\u001b[0mvalues\u001b[0m\u001b[0;34m(\u001b[0m\u001b[0;34m)\u001b[0m\u001b[0;34m:\u001b[0m\u001b[0;34m\u001b[0m\u001b[0;34m\u001b[0m\u001b[0m\n\u001b[1;32m    543\u001b[0m             \u001b[0mhook_result\u001b[0m \u001b[0;34m=\u001b[0m \u001b[0mhook\u001b[0m\u001b[0;34m(\u001b[0m\u001b[0mself\u001b[0m\u001b[0;34m,\u001b[0m \u001b[0minput\u001b[0m\u001b[0;34m,\u001b[0m \u001b[0mresult\u001b[0m\u001b[0;34m)\u001b[0m\u001b[0;34m\u001b[0m\u001b[0;34m\u001b[0m\u001b[0m\n",
            "\u001b[0;32m/usr/local/lib/python3.6/dist-packages/torch/nn/modules/rnn.py\u001b[0m in \u001b[0;36mforward\u001b[0;34m(self, input, hx)\u001b[0m\n\u001b[1;32m    562\u001b[0m             \u001b[0;32mreturn\u001b[0m \u001b[0mself\u001b[0m\u001b[0;34m.\u001b[0m\u001b[0mforward_packed\u001b[0m\u001b[0;34m(\u001b[0m\u001b[0minput\u001b[0m\u001b[0;34m,\u001b[0m \u001b[0mhx\u001b[0m\u001b[0;34m)\u001b[0m\u001b[0;34m\u001b[0m\u001b[0;34m\u001b[0m\u001b[0m\n\u001b[1;32m    563\u001b[0m         \u001b[0;32melse\u001b[0m\u001b[0;34m:\u001b[0m\u001b[0;34m\u001b[0m\u001b[0;34m\u001b[0m\u001b[0m\n\u001b[0;32m--> 564\u001b[0;31m             \u001b[0;32mreturn\u001b[0m \u001b[0mself\u001b[0m\u001b[0;34m.\u001b[0m\u001b[0mforward_tensor\u001b[0m\u001b[0;34m(\u001b[0m\u001b[0minput\u001b[0m\u001b[0;34m,\u001b[0m \u001b[0mhx\u001b[0m\u001b[0;34m)\u001b[0m\u001b[0;34m\u001b[0m\u001b[0;34m\u001b[0m\u001b[0m\n\u001b[0m\u001b[1;32m    565\u001b[0m \u001b[0;34m\u001b[0m\u001b[0m\n\u001b[1;32m    566\u001b[0m \u001b[0;34m\u001b[0m\u001b[0m\n",
            "\u001b[0;32m/usr/local/lib/python3.6/dist-packages/torch/nn/modules/rnn.py\u001b[0m in \u001b[0;36mforward_tensor\u001b[0;34m(self, input, hx)\u001b[0m\n\u001b[1;32m    541\u001b[0m         \u001b[0munsorted_indices\u001b[0m \u001b[0;34m=\u001b[0m \u001b[0;32mNone\u001b[0m\u001b[0;34m\u001b[0m\u001b[0;34m\u001b[0m\u001b[0m\n\u001b[1;32m    542\u001b[0m \u001b[0;34m\u001b[0m\u001b[0m\n\u001b[0;32m--> 543\u001b[0;31m         \u001b[0moutput\u001b[0m\u001b[0;34m,\u001b[0m \u001b[0mhidden\u001b[0m \u001b[0;34m=\u001b[0m \u001b[0mself\u001b[0m\u001b[0;34m.\u001b[0m\u001b[0mforward_impl\u001b[0m\u001b[0;34m(\u001b[0m\u001b[0minput\u001b[0m\u001b[0;34m,\u001b[0m \u001b[0mhx\u001b[0m\u001b[0;34m,\u001b[0m \u001b[0mbatch_sizes\u001b[0m\u001b[0;34m,\u001b[0m \u001b[0mmax_batch_size\u001b[0m\u001b[0;34m,\u001b[0m \u001b[0msorted_indices\u001b[0m\u001b[0;34m)\u001b[0m\u001b[0;34m\u001b[0m\u001b[0;34m\u001b[0m\u001b[0m\n\u001b[0m\u001b[1;32m    544\u001b[0m \u001b[0;34m\u001b[0m\u001b[0m\n\u001b[1;32m    545\u001b[0m         \u001b[0;32mreturn\u001b[0m \u001b[0moutput\u001b[0m\u001b[0;34m,\u001b[0m \u001b[0mself\u001b[0m\u001b[0;34m.\u001b[0m\u001b[0mpermute_hidden\u001b[0m\u001b[0;34m(\u001b[0m\u001b[0mhidden\u001b[0m\u001b[0;34m,\u001b[0m \u001b[0munsorted_indices\u001b[0m\u001b[0;34m)\u001b[0m\u001b[0;34m\u001b[0m\u001b[0;34m\u001b[0m\u001b[0m\n",
            "\u001b[0;32m/usr/local/lib/python3.6/dist-packages/torch/nn/modules/rnn.py\u001b[0m in \u001b[0;36mforward_impl\u001b[0;34m(self, input, hx, batch_sizes, max_batch_size, sorted_indices)\u001b[0m\n\u001b[1;32m    524\u001b[0m         \u001b[0;32mif\u001b[0m \u001b[0mbatch_sizes\u001b[0m \u001b[0;32mis\u001b[0m \u001b[0;32mNone\u001b[0m\u001b[0;34m:\u001b[0m\u001b[0;34m\u001b[0m\u001b[0;34m\u001b[0m\u001b[0m\n\u001b[1;32m    525\u001b[0m             result = _VF.lstm(input, hx, self._get_flat_weights(), self.bias, self.num_layers,\n\u001b[0;32m--> 526\u001b[0;31m                               self.dropout, self.training, self.bidirectional, self.batch_first)\n\u001b[0m\u001b[1;32m    527\u001b[0m         \u001b[0;32melse\u001b[0m\u001b[0;34m:\u001b[0m\u001b[0;34m\u001b[0m\u001b[0;34m\u001b[0m\u001b[0m\n\u001b[1;32m    528\u001b[0m             result = _VF.lstm(input, batch_sizes, hx, self._get_flat_weights(), self.bias,\n",
            "\u001b[0;31mRuntimeError\u001b[0m: CUDA out of memory. Tried to allocate 2.00 MiB (GPU 0; 15.90 GiB total capacity; 15.11 GiB already allocated; 1.88 MiB free; 90.07 MiB cached)"
          ]
        }
      ]
    },
    {
      "cell_type": "code",
      "metadata": {
        "id": "lZLs4YBzBva5",
        "colab_type": "code",
        "colab": {}
      },
      "source": [
        "#sorted(os.listdir('models/lstm_unfrozen_model/'))"
      ],
      "execution_count": 0,
      "outputs": []
    },
    {
      "cell_type": "markdown",
      "metadata": {
        "id": "fGCOqV8JadV1",
        "colab_type": "text"
      },
      "source": [
        "## Phase 2: Unsupervised / Clustering Model"
      ]
    },
    {
      "cell_type": "code",
      "metadata": {
        "id": "U2XXM2IkadV2",
        "colab_type": "code",
        "colab": {}
      },
      "source": [
        "def train_config_unsupervised(opts):    \n",
        "    # get load directory\n",
        "    opts_load = opts.copy()\n",
        "    opts_load['lambda_loss'] = None\n",
        "    path_to_load = get_save_directory(opts_load)\n",
        "    print(path_to_load)\n",
        "    \n",
        "    # load \n",
        "    model = LSTM_model(opts)\n",
        "    print(model.lambda_loss)\n",
        "    model.load_state_dict(torch.load(path_to_load+'model_dict_labelled.pt',map_location=lambda storage, loc: storage))\n",
        "    print(model.lambda_loss)\n",
        "    model.lambda_loss = opts['lambda_loss']\n",
        "    print(model.lambda_loss)\n",
        "    model = model.to(current_device)\n",
        "    \n",
        "    # get save directory\n",
        "    path_to_save = get_save_directory(opts)\n",
        "    print(path_to_save)\n",
        "    \n",
        "    # unsupervised part -- assign clusters to unlabelled data\n",
        "    model.projection = nn.Identity()\n",
        "    centroids = centroid_init(2, 2*model.hidden_size, train_loader_labelled, model, current_device)\n",
        "    criterion = KMeansCriterion().to(current_device)    \n",
        "    num_batches = int(len(train_loader_unlabelled.dataset)/train_loader_unlabelled.batch_size)+1\n",
        "    train_clusters(model, centroids, criterion, train_loader_labelled, train_loader_unlabelled, val_loader, num_epochs=4, num_batches=num_batches, path_to_save=path_to_save)"
      ],
      "execution_count": 0,
      "outputs": []
    },
    {
      "cell_type": "code",
      "metadata": {
        "id": "YPCXDqhKadV3",
        "colab_type": "code",
        "colab": {}
      },
      "source": [
        "num_hidden_layers = 3  # BEST PARAM\n",
        "hidden_size = 128  # BEST PARAM\n",
        "dropout = 0  # BEST PARAM\n",
        "num_unfrozen_epochs = 1 # BEST PARAM\n",
        "lambda_losses = [.1, .5, 1, 5, 10, 25]\n",
        "\n",
        "for lambda_loss in lambda_losses:\n",
        "  opts = {\n",
        "      'embedding_matrix': glove_embedding_index,\n",
        "      'num_hidden_layers': num_hidden_layers,\n",
        "      'hidden_size': hidden_size,\n",
        "      'dropout': dropout,\n",
        "      'num_unfrozen_epochs': num_unfrozen_epochs,\n",
        "      'lambda_loss': lambda_loss\n",
        "  }  \n",
        "  train_config_unsupervised(opts)"
      ],
      "execution_count": 0,
      "outputs": []
    },
    {
      "cell_type": "markdown",
      "metadata": {
        "id": "U8Rsynr-adV4",
        "colab_type": "text"
      },
      "source": [
        "# Evaluate Model"
      ]
    },
    {
      "cell_type": "code",
      "metadata": {
        "id": "rr7kJzg9adV5",
        "colab_type": "code",
        "colab": {}
      },
      "source": [
        "num_gpus = torch.cuda.device_count()\n",
        "if num_gpus > 0:\n",
        "    current_device = 'cuda'\n",
        "else:\n",
        "    current_device = 'cpu'"
      ],
      "execution_count": 0,
      "outputs": []
    },
    {
      "cell_type": "markdown",
      "metadata": {
        "id": "z_Pj0vh3adV6",
        "colab_type": "text"
      },
      "source": [
        "## Phase 1: Supervised Model"
      ]
    },
    {
      "cell_type": "code",
      "metadata": {
        "id": "QXYQgLqeadV6",
        "colab_type": "code",
        "colab": {}
      },
      "source": [
        "def evaluate_config_supervised(opts,verbose=True):\n",
        "    path_to_save = get_save_directory(opts)\n",
        "    #print(path_to_save)\n",
        "    \n",
        "    model = LSTM_model(opts) #change here depending on model\n",
        "    model.load_state_dict(torch.load(path_to_save+'model_dict_labelled.pt',map_location=lambda storage, loc: storage))\n",
        "    model = model.to(current_device)\n",
        "    criterion = nn.CrossEntropyLoss(reduction='sum')\n",
        "    criterion = criterion.to(current_device)\n",
        "    \n",
        "    empty_centroids = torch.tensor([])\n",
        "    TP_cluster, FP_cluster, results_dict = evaluation.main(model, empty_centroids, val_loader, criterion, data_dir, current_device, verbose)\n",
        "    results_dict.update(opts)\n",
        "    return TP_cluster, FP_cluster, results_dict\n"
      ],
      "execution_count": 0,
      "outputs": []
    },
    {
      "cell_type": "code",
      "metadata": {
        "id": "GNuZWeLSadV9",
        "colab_type": "code",
        "colab": {}
      },
      "source": [
        "num_hidden_layers_list = [1, 2, 3]\n",
        "hidden_sizes = [128, 256]\n",
        "dropouts = [0, .25, .5]\n",
        "num_unfrozen_epochs_list = [0, 1, 2]\n",
        "lambda_loss = None  # NOT TRAINING THIS YET\n",
        "\n",
        "results_df = pd.DataFrame()\n",
        "for num_hidden_layers in num_hidden_layers_list:\n",
        "    for hidden_size in hidden_sizes:\n",
        "        for dropout in dropouts:\n",
        "            for num_unfrozen_epochs in num_unfrozen_epochs_list:\n",
        "                if num_hidden_layers == 1 and dropout > 0:\n",
        "                  continue\n",
        "                if num_hidden_layers == 3 and num_unfrozen_epochs == 2:\n",
        "                  continue\n",
        "                opts = {\n",
        "                    'embedding_matrix': glove_embedding_index,\n",
        "                    'num_hidden_layers': num_hidden_layers,\n",
        "                    'hidden_size': hidden_size,\n",
        "                    'dropout': dropout,\n",
        "                    'num_unfrozen_epochs': num_unfrozen_epochs,\n",
        "                    'lambda_loss': lambda_loss\n",
        "                }\n",
        "                _, _, results_dict = evaluate_config_supervised(opts,False)\n",
        "                results_df = results_df.append(results_dict,ignore_index=True)\n",
        "                \n",
        "results_df = results_df[['num_unfrozen_epochs','num_hidden_layers','hidden_size','dropout','Accuracy','F1 score','Precision','Recall',\n",
        "                        'TP_rate','FP_rate','FN_rate','TN_rate']].sort_values(['num_unfrozen_epochs','num_hidden_layers'])"
      ],
      "execution_count": 0,
      "outputs": []
    },
    {
      "cell_type": "code",
      "metadata": {
        "id": "GeBbyEZeadV-",
        "colab_type": "code",
        "colab": {}
      },
      "source": [
        "#results_df"
      ],
      "execution_count": 0,
      "outputs": []
    },
    {
      "cell_type": "code",
      "metadata": {
        "id": "cjfGv8BsSA6n",
        "colab_type": "code",
        "colab": {
          "base_uri": "https://localhost:8080/",
          "height": 359
        },
        "outputId": "ef27d837-450a-4be7-c71b-bef423dc2069"
      },
      "source": [
        "results_df.sort_values(['F1 score'],ascending=False).head(10)"
      ],
      "execution_count": 40,
      "outputs": [
        {
          "output_type": "execute_result",
          "data": {
            "text/html": [
              "<div>\n",
              "<style scoped>\n",
              "    .dataframe tbody tr th:only-of-type {\n",
              "        vertical-align: middle;\n",
              "    }\n",
              "\n",
              "    .dataframe tbody tr th {\n",
              "        vertical-align: top;\n",
              "    }\n",
              "\n",
              "    .dataframe thead th {\n",
              "        text-align: right;\n",
              "    }\n",
              "</style>\n",
              "<table border=\"1\" class=\"dataframe\">\n",
              "  <thead>\n",
              "    <tr style=\"text-align: right;\">\n",
              "      <th></th>\n",
              "      <th>num_unfrozen_epochs</th>\n",
              "      <th>num_hidden_layers</th>\n",
              "      <th>hidden_size</th>\n",
              "      <th>dropout</th>\n",
              "      <th>Accuracy</th>\n",
              "      <th>F1 score</th>\n",
              "      <th>Precision</th>\n",
              "      <th>Recall</th>\n",
              "      <th>TP_rate</th>\n",
              "      <th>FP_rate</th>\n",
              "      <th>FN_rate</th>\n",
              "      <th>TN_rate</th>\n",
              "    </tr>\n",
              "  </thead>\n",
              "  <tbody>\n",
              "    <tr>\n",
              "      <th>25</th>\n",
              "      <td>1.0</td>\n",
              "      <td>3.0</td>\n",
              "      <td>128.0</td>\n",
              "      <td>0.0</td>\n",
              "      <td>0.802124</td>\n",
              "      <td>0.826593</td>\n",
              "      <td>0.943231</td>\n",
              "      <td>0.735627</td>\n",
              "      <td>0.943231</td>\n",
              "      <td>0.056769</td>\n",
              "      <td>0.338983</td>\n",
              "      <td>0.661017</td>\n",
              "    </tr>\n",
              "    <tr>\n",
              "      <th>29</th>\n",
              "      <td>1.0</td>\n",
              "      <td>3.0</td>\n",
              "      <td>128.0</td>\n",
              "      <td>0.5</td>\n",
              "      <td>0.798174</td>\n",
              "      <td>0.823425</td>\n",
              "      <td>0.941176</td>\n",
              "      <td>0.731861</td>\n",
              "      <td>0.941176</td>\n",
              "      <td>0.058824</td>\n",
              "      <td>0.344828</td>\n",
              "      <td>0.655172</td>\n",
              "    </tr>\n",
              "    <tr>\n",
              "      <th>21</th>\n",
              "      <td>0.0</td>\n",
              "      <td>2.0</td>\n",
              "      <td>256.0</td>\n",
              "      <td>0.5</td>\n",
              "      <td>0.788836</td>\n",
              "      <td>0.817658</td>\n",
              "      <td>0.946903</td>\n",
              "      <td>0.719458</td>\n",
              "      <td>0.946903</td>\n",
              "      <td>0.053097</td>\n",
              "      <td>0.369231</td>\n",
              "      <td>0.630769</td>\n",
              "    </tr>\n",
              "    <tr>\n",
              "      <th>12</th>\n",
              "      <td>0.0</td>\n",
              "      <td>2.0</td>\n",
              "      <td>128.0</td>\n",
              "      <td>0.5</td>\n",
              "      <td>0.787126</td>\n",
              "      <td>0.815501</td>\n",
              "      <td>0.940919</td>\n",
              "      <td>0.719585</td>\n",
              "      <td>0.940919</td>\n",
              "      <td>0.059081</td>\n",
              "      <td>0.366667</td>\n",
              "      <td>0.633333</td>\n",
              "    </tr>\n",
              "    <tr>\n",
              "      <th>7</th>\n",
              "      <td>1.0</td>\n",
              "      <td>2.0</td>\n",
              "      <td>128.0</td>\n",
              "      <td>0.0</td>\n",
              "      <td>0.788932</td>\n",
              "      <td>0.814325</td>\n",
              "      <td>0.925690</td>\n",
              "      <td>0.726877</td>\n",
              "      <td>0.925690</td>\n",
              "      <td>0.074310</td>\n",
              "      <td>0.347826</td>\n",
              "      <td>0.652174</td>\n",
              "    </tr>\n",
              "    <tr>\n",
              "      <th>6</th>\n",
              "      <td>0.0</td>\n",
              "      <td>2.0</td>\n",
              "      <td>128.0</td>\n",
              "      <td>0.0</td>\n",
              "      <td>0.783999</td>\n",
              "      <td>0.814238</td>\n",
              "      <td>0.946785</td>\n",
              "      <td>0.714246</td>\n",
              "      <td>0.946785</td>\n",
              "      <td>0.053215</td>\n",
              "      <td>0.378788</td>\n",
              "      <td>0.621212</td>\n",
              "    </tr>\n",
              "    <tr>\n",
              "      <th>2</th>\n",
              "      <td>2.0</td>\n",
              "      <td>1.0</td>\n",
              "      <td>128.0</td>\n",
              "      <td>0.0</td>\n",
              "      <td>0.786552</td>\n",
              "      <td>0.812004</td>\n",
              "      <td>0.921941</td>\n",
              "      <td>0.725493</td>\n",
              "      <td>0.921941</td>\n",
              "      <td>0.078059</td>\n",
              "      <td>0.348837</td>\n",
              "      <td>0.651163</td>\n",
              "    </tr>\n",
              "    <tr>\n",
              "      <th>8</th>\n",
              "      <td>2.0</td>\n",
              "      <td>2.0</td>\n",
              "      <td>128.0</td>\n",
              "      <td>0.0</td>\n",
              "      <td>0.784668</td>\n",
              "      <td>0.811883</td>\n",
              "      <td>0.929336</td>\n",
              "      <td>0.720787</td>\n",
              "      <td>0.929336</td>\n",
              "      <td>0.070664</td>\n",
              "      <td>0.360000</td>\n",
              "      <td>0.640000</td>\n",
              "    </tr>\n",
              "    <tr>\n",
              "      <th>16</th>\n",
              "      <td>1.0</td>\n",
              "      <td>2.0</td>\n",
              "      <td>256.0</td>\n",
              "      <td>0.0</td>\n",
              "      <td>0.781870</td>\n",
              "      <td>0.811782</td>\n",
              "      <td>0.940789</td>\n",
              "      <td>0.713888</td>\n",
              "      <td>0.940789</td>\n",
              "      <td>0.059211</td>\n",
              "      <td>0.377049</td>\n",
              "      <td>0.622951</td>\n",
              "    </tr>\n",
              "    <tr>\n",
              "      <th>14</th>\n",
              "      <td>2.0</td>\n",
              "      <td>2.0</td>\n",
              "      <td>128.0</td>\n",
              "      <td>0.5</td>\n",
              "      <td>0.780889</td>\n",
              "      <td>0.811411</td>\n",
              "      <td>0.942731</td>\n",
              "      <td>0.712203</td>\n",
              "      <td>0.942731</td>\n",
              "      <td>0.057269</td>\n",
              "      <td>0.380952</td>\n",
              "      <td>0.619048</td>\n",
              "    </tr>\n",
              "  </tbody>\n",
              "</table>\n",
              "</div>"
            ],
            "text/plain": [
              "    num_unfrozen_epochs  num_hidden_layers  ...   FN_rate   TN_rate\n",
              "25  1.0                  3.0                ...  0.338983  0.661017\n",
              "29  1.0                  3.0                ...  0.344828  0.655172\n",
              "21  0.0                  2.0                ...  0.369231  0.630769\n",
              "12  0.0                  2.0                ...  0.366667  0.633333\n",
              "7   1.0                  2.0                ...  0.347826  0.652174\n",
              "6   0.0                  2.0                ...  0.378788  0.621212\n",
              "2   2.0                  1.0                ...  0.348837  0.651163\n",
              "8   2.0                  2.0                ...  0.360000  0.640000\n",
              "16  1.0                  2.0                ...  0.377049  0.622951\n",
              "14  2.0                  2.0                ...  0.380952  0.619048\n",
              "\n",
              "[10 rows x 12 columns]"
            ]
          },
          "metadata": {
            "tags": []
          },
          "execution_count": 40
        }
      ]
    },
    {
      "cell_type": "markdown",
      "metadata": {
        "id": "9uo8yURkadV_",
        "colab_type": "text"
      },
      "source": [
        "## Phase 2: Clustering / Unsupervised"
      ]
    },
    {
      "cell_type": "code",
      "metadata": {
        "id": "FSYSjpcxadWA",
        "colab_type": "code",
        "colab": {}
      },
      "source": [
        "def evaluate_config_supervised(opts,verbose=True):\n",
        "    path_to_save = get_save_directory(opts)\n",
        "    #print(path_to_save)\n",
        "    \n",
        "    model = LSTM_model(opts) #change here depending on model\n",
        "    model.projection = nn.Identity()\n",
        "    model.load_state_dict(torch.load(path_to_save+'model_dict_unlabelled.pt',map_location=lambda storage, loc: storage))\n",
        "    model = model.to(current_device)\n",
        "    criterion = KMeansCriterion()\n",
        "    criterion = criterion.to(current_device)\n",
        "    centroids = torch.load(path_to_save+'centroids_unlabelled',map_location=lambda storage, loc: storage).to(current_device)\n",
        "    \n",
        "    TP_cluster, FP_cluster, results_dict = evaluation.main(model, centroids, val_loader, criterion, data_dir, current_device, verbose)\n",
        "    results_dict.update(opts)\n",
        "    return TP_cluster, FP_cluster, results_dict\n"
      ],
      "execution_count": 0,
      "outputs": []
    },
    {
      "cell_type": "code",
      "metadata": {
        "id": "rFAF3odvadWB",
        "colab_type": "code",
        "colab": {}
      },
      "source": [
        "num_hidden_layers = 3  # BEST PARAM\n",
        "hidden_size = 128  # BEST PARAM\n",
        "dropout = 0  # BEST PARAM\n",
        "num_unfrozen_epochs = 1 # BEST PARAM\n",
        "lambda_losses = [.1, .5, 1, 5, 10, 25]\n",
        "\n",
        "#results_df2 = results_df.copy()\n",
        "results_df = pd.DataFrame()\n",
        "for lambda_loss in lambda_losses:\n",
        "    opts = {\n",
        "        'embedding_matrix': glove_embedding_index,\n",
        "        'num_hidden_layers': num_hidden_layers,\n",
        "        'hidden_size': hidden_size,\n",
        "        'dropout': dropout,\n",
        "        'num_unfrozen_epochs': num_unfrozen_epochs,\n",
        "        'lambda_loss': lambda_loss\n",
        "    }\n",
        "    _, _, results_dict = evaluate_config_supervised(opts,False)\n",
        "    results_df = results_df.append(results_dict,ignore_index=True)\n",
        "                \n",
        "results_df = results_df[['lambda_loss','num_hidden_layers','hidden_size','dropout','num_unfrozen_epochs','Accuracy','F1 score','Precision','Recall',\n",
        "                        'TP_rate','FP_rate','FN_rate','TN_rate']]"
      ],
      "execution_count": 0,
      "outputs": []
    },
    {
      "cell_type": "code",
      "metadata": {
        "id": "qW_hlCHxadWC",
        "colab_type": "code",
        "outputId": "a4e10f8f-4b2a-4f05-e88c-fa154f8b4073",
        "colab": {
          "base_uri": "https://localhost:8080/",
          "height": 235
        }
      },
      "source": [
        "results_df"
      ],
      "execution_count": 64,
      "outputs": [
        {
          "output_type": "execute_result",
          "data": {
            "text/html": [
              "<div>\n",
              "<style scoped>\n",
              "    .dataframe tbody tr th:only-of-type {\n",
              "        vertical-align: middle;\n",
              "    }\n",
              "\n",
              "    .dataframe tbody tr th {\n",
              "        vertical-align: top;\n",
              "    }\n",
              "\n",
              "    .dataframe thead th {\n",
              "        text-align: right;\n",
              "    }\n",
              "</style>\n",
              "<table border=\"1\" class=\"dataframe\">\n",
              "  <thead>\n",
              "    <tr style=\"text-align: right;\">\n",
              "      <th></th>\n",
              "      <th>lambda_loss</th>\n",
              "      <th>num_hidden_layers</th>\n",
              "      <th>hidden_size</th>\n",
              "      <th>dropout</th>\n",
              "      <th>num_unfrozen_epochs</th>\n",
              "      <th>Accuracy</th>\n",
              "      <th>F1 score</th>\n",
              "      <th>Precision</th>\n",
              "      <th>Recall</th>\n",
              "      <th>TP_rate</th>\n",
              "      <th>FP_rate</th>\n",
              "      <th>FN_rate</th>\n",
              "      <th>TN_rate</th>\n",
              "    </tr>\n",
              "  </thead>\n",
              "  <tbody>\n",
              "    <tr>\n",
              "      <th>0</th>\n",
              "      <td>0.1</td>\n",
              "      <td>3.0</td>\n",
              "      <td>128.0</td>\n",
              "      <td>0.0</td>\n",
              "      <td>1.0</td>\n",
              "      <td>0.774745</td>\n",
              "      <td>0.80777</td>\n",
              "      <td>0.946548</td>\n",
              "      <td>0.704483</td>\n",
              "      <td>0.946548</td>\n",
              "      <td>0.053452</td>\n",
              "      <td>0.397059</td>\n",
              "      <td>0.602941</td>\n",
              "    </tr>\n",
              "    <tr>\n",
              "      <th>1</th>\n",
              "      <td>0.5</td>\n",
              "      <td>3.0</td>\n",
              "      <td>128.0</td>\n",
              "      <td>0.0</td>\n",
              "      <td>1.0</td>\n",
              "      <td>0.774745</td>\n",
              "      <td>0.80777</td>\n",
              "      <td>0.946548</td>\n",
              "      <td>0.704483</td>\n",
              "      <td>0.946548</td>\n",
              "      <td>0.053452</td>\n",
              "      <td>0.397059</td>\n",
              "      <td>0.602941</td>\n",
              "    </tr>\n",
              "    <tr>\n",
              "      <th>2</th>\n",
              "      <td>1.0</td>\n",
              "      <td>3.0</td>\n",
              "      <td>128.0</td>\n",
              "      <td>0.0</td>\n",
              "      <td>1.0</td>\n",
              "      <td>0.774745</td>\n",
              "      <td>0.80777</td>\n",
              "      <td>0.946548</td>\n",
              "      <td>0.704483</td>\n",
              "      <td>0.946548</td>\n",
              "      <td>0.053452</td>\n",
              "      <td>0.397059</td>\n",
              "      <td>0.602941</td>\n",
              "    </tr>\n",
              "    <tr>\n",
              "      <th>3</th>\n",
              "      <td>5.0</td>\n",
              "      <td>3.0</td>\n",
              "      <td>128.0</td>\n",
              "      <td>0.0</td>\n",
              "      <td>1.0</td>\n",
              "      <td>0.774745</td>\n",
              "      <td>0.80777</td>\n",
              "      <td>0.946548</td>\n",
              "      <td>0.704483</td>\n",
              "      <td>0.946548</td>\n",
              "      <td>0.053452</td>\n",
              "      <td>0.397059</td>\n",
              "      <td>0.602941</td>\n",
              "    </tr>\n",
              "    <tr>\n",
              "      <th>4</th>\n",
              "      <td>10.0</td>\n",
              "      <td>3.0</td>\n",
              "      <td>128.0</td>\n",
              "      <td>0.0</td>\n",
              "      <td>1.0</td>\n",
              "      <td>0.774745</td>\n",
              "      <td>0.80777</td>\n",
              "      <td>0.946548</td>\n",
              "      <td>0.704483</td>\n",
              "      <td>0.946548</td>\n",
              "      <td>0.053452</td>\n",
              "      <td>0.397059</td>\n",
              "      <td>0.602941</td>\n",
              "    </tr>\n",
              "    <tr>\n",
              "      <th>5</th>\n",
              "      <td>25.0</td>\n",
              "      <td>3.0</td>\n",
              "      <td>128.0</td>\n",
              "      <td>0.0</td>\n",
              "      <td>1.0</td>\n",
              "      <td>0.774745</td>\n",
              "      <td>0.80777</td>\n",
              "      <td>0.946548</td>\n",
              "      <td>0.704483</td>\n",
              "      <td>0.946548</td>\n",
              "      <td>0.053452</td>\n",
              "      <td>0.397059</td>\n",
              "      <td>0.602941</td>\n",
              "    </tr>\n",
              "  </tbody>\n",
              "</table>\n",
              "</div>"
            ],
            "text/plain": [
              "   lambda_loss  num_hidden_layers  hidden_size  ...   FP_rate   FN_rate   TN_rate\n",
              "0  0.1          3.0                128.0        ...  0.053452  0.397059  0.602941\n",
              "1  0.5          3.0                128.0        ...  0.053452  0.397059  0.602941\n",
              "2  1.0          3.0                128.0        ...  0.053452  0.397059  0.602941\n",
              "3  5.0          3.0                128.0        ...  0.053452  0.397059  0.602941\n",
              "4  10.0         3.0                128.0        ...  0.053452  0.397059  0.602941\n",
              "5  25.0         3.0                128.0        ...  0.053452  0.397059  0.602941\n",
              "\n",
              "[6 rows x 13 columns]"
            ]
          },
          "metadata": {
            "tags": []
          },
          "execution_count": 64
        }
      ]
    },
    {
      "cell_type": "code",
      "metadata": {
        "id": "ydjjfjdCadWE",
        "colab_type": "code",
        "colab": {}
      },
      "source": [
        ""
      ],
      "execution_count": 0,
      "outputs": []
    }
  ]
}