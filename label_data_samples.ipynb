{
 "cells": [
  {
   "cell_type": "code",
   "execution_count": 2,
   "metadata": {},
   "outputs": [],
   "source": [
    "import pandas as pd\n",
    "import pickle\n",
    "import os"
   ]
  },
  {
   "cell_type": "code",
   "execution_count": 5,
   "metadata": {},
   "outputs": [
    {
     "data": {
      "text/html": [
       "<div>\n",
       "<style scoped>\n",
       "    .dataframe tbody tr th:only-of-type {\n",
       "        vertical-align: middle;\n",
       "    }\n",
       "\n",
       "    .dataframe tbody tr th {\n",
       "        vertical-align: top;\n",
       "    }\n",
       "\n",
       "    .dataframe thead th {\n",
       "        text-align: right;\n",
       "    }\n",
       "</style>\n",
       "<table border=\"1\" class=\"dataframe\">\n",
       "  <thead>\n",
       "    <tr style=\"text-align: right;\">\n",
       "      <th></th>\n",
       "      <th>review</th>\n",
       "      <th>flagged_word</th>\n",
       "      <th>flagged_index</th>\n",
       "      <th>problematic</th>\n",
       "    </tr>\n",
       "  </thead>\n",
       "  <tbody>\n",
       "    <tr>\n",
       "      <td>0</td>\n",
       "      <td>[thank, you, for, your, help, and, support, !]</td>\n",
       "      <td>support</td>\n",
       "      <td>6</td>\n",
       "      <td>1</td>\n",
       "    </tr>\n",
       "    <tr>\n",
       "      <td>1</td>\n",
       "      <td>[excellent, and, professional, -, highly, reco...</td>\n",
       "      <td>excellent</td>\n",
       "      <td>0</td>\n",
       "      <td>1</td>\n",
       "    </tr>\n",
       "    <tr>\n",
       "      <td>2</td>\n",
       "      <td>[excellent, and, professional, -, highly, reco...</td>\n",
       "      <td>professional</td>\n",
       "      <td>2</td>\n",
       "      <td>0</td>\n",
       "    </tr>\n",
       "    <tr>\n",
       "      <td>3</td>\n",
       "      <td>[superb, quality, .]</td>\n",
       "      <td>superb</td>\n",
       "      <td>0</td>\n",
       "      <td>1</td>\n",
       "    </tr>\n",
       "    <tr>\n",
       "      <td>4</td>\n",
       "      <td>[outstanding, work, ,, will, definitely, use, ...</td>\n",
       "      <td>outstanding</td>\n",
       "      <td>0</td>\n",
       "      <td>1</td>\n",
       "    </tr>\n",
       "    <tr>\n",
       "      <td>...</td>\n",
       "      <td>...</td>\n",
       "      <td>...</td>\n",
       "      <td>...</td>\n",
       "      <td>...</td>\n",
       "    </tr>\n",
       "    <tr>\n",
       "      <td>139357</td>\n",
       "      <td>[great, guy, to, deal, with, .]</td>\n",
       "      <td>great</td>\n",
       "      <td>0</td>\n",
       "      <td>1</td>\n",
       "    </tr>\n",
       "    <tr>\n",
       "      <td>139358</td>\n",
       "      <td>[great, adjustments, and, feedback, along, the...</td>\n",
       "      <td>great</td>\n",
       "      <td>0</td>\n",
       "      <td>1</td>\n",
       "    </tr>\n",
       "    <tr>\n",
       "      <td>139359</td>\n",
       "      <td>[great, adjustments, and, feedback, along, the...</td>\n",
       "      <td>feedback</td>\n",
       "      <td>3</td>\n",
       "      <td>0</td>\n",
       "    </tr>\n",
       "    <tr>\n",
       "      <td>139360</td>\n",
       "      <td>[his, visual, and, graphic, design, skills, ar...</td>\n",
       "      <td>skills</td>\n",
       "      <td>5</td>\n",
       "      <td>1</td>\n",
       "    </tr>\n",
       "    <tr>\n",
       "      <td>139361</td>\n",
       "      <td>[he, can, do, every, thing, and, understanding...</td>\n",
       "      <td>understanding</td>\n",
       "      <td>6</td>\n",
       "      <td>1</td>\n",
       "    </tr>\n",
       "  </tbody>\n",
       "</table>\n",
       "<p>139362 rows × 4 columns</p>\n",
       "</div>"
      ],
      "text/plain": [
       "                                                   review   flagged_word  \\\n",
       "0          [thank, you, for, your, help, and, support, !]        support   \n",
       "1       [excellent, and, professional, -, highly, reco...      excellent   \n",
       "2       [excellent, and, professional, -, highly, reco...   professional   \n",
       "3                                    [superb, quality, .]         superb   \n",
       "4       [outstanding, work, ,, will, definitely, use, ...    outstanding   \n",
       "...                                                   ...            ...   \n",
       "139357                    [great, guy, to, deal, with, .]          great   \n",
       "139358  [great, adjustments, and, feedback, along, the...          great   \n",
       "139359  [great, adjustments, and, feedback, along, the...       feedback   \n",
       "139360  [his, visual, and, graphic, design, skills, ar...         skills   \n",
       "139361  [he, can, do, every, thing, and, understanding...  understanding   \n",
       "\n",
       "       flagged_index problematic  \n",
       "0                  6           1  \n",
       "1                  0           1  \n",
       "2                  2           0  \n",
       "3                  0           1  \n",
       "4                  0           1  \n",
       "...              ...         ...  \n",
       "139357             0           1  \n",
       "139358             0           1  \n",
       "139359             3           0  \n",
       "139360             5           1  \n",
       "139361             6           1  \n",
       "\n",
       "[139362 rows x 4 columns]"
      ]
     },
     "execution_count": 5,
     "metadata": {},
     "output_type": "execute_result"
    }
   ],
   "source": [
    "master_df = pickle.load(open(\"./data/master_df.p\", \"rb\"))\n",
    "master_df"
   ]
  },
  {
   "cell_type": "code",
   "execution_count": 8,
   "metadata": {},
   "outputs": [],
   "source": [
    "#creating random sample from master_df to label\n",
    "sampled = master_df[master_df.problematic==1].sample(500)\n",
    "sampled.to_excel(\"./data/fptp.xlsx\")"
   ]
  },
  {
   "cell_type": "code",
   "execution_count": 10,
   "metadata": {},
   "outputs": [],
   "source": [
    "#merge by row index\n",
    "labeled = pd.read_excel(\"./data/fptp_labeled.xlsx\",index_col=0)\n",
    "master_df_labeled = master_df.join(labeled.true_pos).fillna(-1)\n",
    "master_df_labeled = master_df_labeled[master_df_labeled.problematic==1]\n"
   ]
  },
  {
   "cell_type": "code",
   "execution_count": 12,
   "metadata": {},
   "outputs": [
    {
     "data": {
      "text/plain": [
       "(40, 5)"
      ]
     },
     "execution_count": 12,
     "metadata": {},
     "output_type": "execute_result"
    }
   ],
   "source": [
    "master_df_labeled[master_df_labeled.true_pos==0].shape"
   ]
  },
  {
   "cell_type": "code",
   "execution_count": 13,
   "metadata": {},
   "outputs": [
    {
     "data": {
      "text/plain": [
       "(42, 5)"
      ]
     },
     "execution_count": 13,
     "metadata": {},
     "output_type": "execute_result"
    }
   ],
   "source": [
    "master_df_labeled[master_df_labeled.true_pos==1].shape"
   ]
  },
  {
   "cell_type": "code",
   "execution_count": 6,
   "metadata": {},
   "outputs": [],
   "source": [
    "pickle.dump(master_df_labeled,open(\"./data/master_df_labeled.p\",\"wb\"))"
   ]
  },
  {
   "cell_type": "code",
   "execution_count": null,
   "metadata": {},
   "outputs": [],
   "source": []
  }
 ],
 "metadata": {
  "kernelspec": {
   "display_name": "Python 3",
   "language": "python",
   "name": "python3"
  },
  "language_info": {
   "codemirror_mode": {
    "name": "ipython",
    "version": 3
   },
   "file_extension": ".py",
   "mimetype": "text/x-python",
   "name": "python",
   "nbconvert_exporter": "python",
   "pygments_lexer": "ipython3",
   "version": "3.6.7"
  }
 },
 "nbformat": 4,
 "nbformat_minor": 4
}
