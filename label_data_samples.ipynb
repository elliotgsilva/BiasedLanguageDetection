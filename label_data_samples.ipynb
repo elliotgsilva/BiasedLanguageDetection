{
 "cells": [
  {
   "cell_type": "code",
   "execution_count": 39,
   "metadata": {},
   "outputs": [],
   "source": [
    "import pandas as pd\n",
    "import pickle\n",
    "import os\n",
    "import nltk\n",
    "import re\n",
    "#nltk.download('wordnet')\n",
    "import random\n",
    "from nltk.stem import WordNetLemmatizer\n",
    "wordnet_lemmatizer = WordNetLemmatizer()\n",
    "from tqdm import tqdm_notebook as tqdm"
   ]
  },
  {
   "cell_type": "code",
   "execution_count": 44,
   "metadata": {},
   "outputs": [],
   "source": [
    "#Update our running master_df_labeled with multiple new files\n",
    "def batch_merge_into_master(master_file, batch_folder):\n",
    "  batch_files = os.listdir(batch_folder)\n",
    "  print(batch_files)\n",
    "  master_df_labeled = pd.read_excel(master_file,index_col=0)\n",
    "  for new_file in batch_files:\n",
    "    print(new_file)\n",
    "    if re.match('batch_[0-9]*\\.xlsx',new_file):\n",
    "      new_df = pd.read_excel(batch_folder+new_file,index_col=0)\n",
    "      master_df_labeled.update(new_df.true_pos)\n",
    "      print_tf_pos(master_df_labeled)\n",
    "  #master_df_labeled.to_excel(master_file)\n",
    "  print(\"please save master_df_labeled!\")\n",
    "  return master_df_labeled\n",
    "\n",
    "#Print out how many examples are labeled as True or False Positives\n",
    "def print_tf_pos(master_df_labeled):\n",
    "  print(f\"Count of true positives: {master_df_labeled[master_df_labeled.true_pos==1].shape[0]}\")\n",
    "  print(f\"Count of false positives: {master_df_labeled[master_df_labeled.true_pos==0].shape[0]}\")\n",
    "  assert master_df_labeled[master_df_labeled.problematic==0].shape[0]==0"
   ]
  },
  {
   "cell_type": "code",
   "execution_count": 9,
   "metadata": {},
   "outputs": [],
   "source": [
    "#All excel file paths here, pickle paths are used by other scripts so hardcoded\n",
    "master_file = \"./data/master_df_labeled.xlsx\"\n",
    "\n",
    "batch_folder = \"./data/please_label_batch/100/\"\n",
    "\n",
    "batch_labeled = \"/Users/echo/Google Drive File Stream/My Drive/2019 Fall/Capstone group/FairFrame Annotations/labeled/\""
   ]
  },
  {
   "cell_type": "markdown",
   "metadata": {},
   "source": [
    "# Example Workflow\n",
    "1. Print current true and false positive counts\n",
    "2. After labeling, update our running master file (merge_into_master)\n",
    "3. Print new true and false positive counts to check, also select specific example to check"
   ]
  },
  {
   "cell_type": "code",
   "execution_count": 52,
   "metadata": {},
   "outputs": [
    {
     "name": "stdout",
     "output_type": "stream",
     "text": [
      "Count of true positives: 4047\n",
      "Count of false positives: 647\n",
      "(111029, 6)\n"
     ]
    }
   ],
   "source": [
    "#Print current true and false positive counts\n",
    "#master_df_labeled.to_excel(\"./data/master_df_labeled.xlsx\")\n",
    "master_df_labeled = pd.read_excel(\"./data/master_df_labeled.xlsx\",index_col=0)\n",
    "\n",
    "print_tf_pos(master_df_labeled)\n",
    "print(master_df_labeled.shape)"
   ]
  },
  {
   "cell_type": "code",
   "execution_count": 53,
   "metadata": {},
   "outputs": [
    {
     "data": {
      "text/html": [
       "<div>\n",
       "<style scoped>\n",
       "    .dataframe tbody tr th:only-of-type {\n",
       "        vertical-align: middle;\n",
       "    }\n",
       "\n",
       "    .dataframe tbody tr th {\n",
       "        vertical-align: top;\n",
       "    }\n",
       "\n",
       "    .dataframe thead th {\n",
       "        text-align: right;\n",
       "    }\n",
       "</style>\n",
       "<table border=\"1\" class=\"dataframe\">\n",
       "  <thead>\n",
       "    <tr style=\"text-align: right;\">\n",
       "      <th></th>\n",
       "      <th>review</th>\n",
       "      <th>flagged_word</th>\n",
       "      <th>flagged_index</th>\n",
       "      <th>problematic</th>\n",
       "      <th>lemmatized</th>\n",
       "      <th>true_pos</th>\n",
       "    </tr>\n",
       "  </thead>\n",
       "  <tbody>\n",
       "  </tbody>\n",
       "</table>\n",
       "</div>"
      ],
      "text/plain": [
       "Empty DataFrame\n",
       "Columns: [review, flagged_word, flagged_index, problematic, lemmatized, true_pos]\n",
       "Index: []"
      ]
     },
     "execution_count": 53,
     "metadata": {},
     "output_type": "execute_result"
    }
   ],
   "source": [
    "master_df_labeled[master_df_labeled.true_pos.isin([1,0,-1])==False]"
   ]
  },
  {
   "cell_type": "code",
   "execution_count": 51,
   "metadata": {},
   "outputs": [],
   "source": [
    "master_df_labeled.to_excel(\"./data/master_df_labeled.xlsx\")"
   ]
  },
  {
   "cell_type": "code",
   "execution_count": 43,
   "metadata": {},
   "outputs": [
    {
     "name": "stdout",
     "output_type": "stream",
     "text": [
      "['batch_2.xlsx', 'batch_3.xlsx', 'batch_7.xlsx', 'batch_1.xlsx', 'batch_0.xlsx', 'batch_9.xlsx', 'batch_10.xlsx', 'batch_11.xlsx', 'batch_5.xlsx', 'batch_6.xlsx', 'batch_12.xlsx', 'batch_13.xlsx', 'batch_14.xlsx', 'batch_72.xlsx', 'batch_34.xlsx', 'batch_48.xlsx', 'batch_60.xlsx', 'batch_32.xlsx', 'batch_51.xlsx', 'batch_33.xlsx', 'batch_59.xlsx', 'batch_31.xlsx', 'batch_22.xlsx', 'batch_23.xlsx', 'batch_24.xlsx', 'batch_47.xlsx', 'batch_52.xlsx', 'batch_53.xlsx', 'batch_58.xlsx', 'batch_61.xlsx', 'batch_62.xlsx', 'batch_20.xlsx', 'batch_19.xlsx', 'batch_18.xlsx', 'batch_17.xlsx', 'batch_16.xlsx', 'batch_26.xlsx', 'batch_29.xlsx', 'batch_30.xlsx', 'batch_40.xlsx', 'batch_49.xlsx', 'batch_50.xlsx', 'batch_56.xlsx', 'batch_8.xlsx', 'batch_70.xlsx', 'batch_54.xlsx', 'Icon\\r']\n",
      "batch_2.xlsx\n",
      "Count of true positives: 173\n",
      "Count of false positives: 42\n",
      "batch_3.xlsx\n",
      "Count of true positives: 257\n",
      "Count of false positives: 58\n",
      "batch_7.xlsx\n",
      "Count of true positives: 342\n",
      "Count of false positives: 73\n",
      "batch_1.xlsx\n",
      "Count of true positives: 435\n",
      "Count of false positives: 80\n",
      "batch_0.xlsx\n",
      "Count of true positives: 524\n",
      "Count of false positives: 89\n",
      "batch_9.xlsx\n",
      "Count of true positives: 611\n",
      "Count of false positives: 102\n",
      "batch_10.xlsx\n",
      "Count of true positives: 695\n",
      "Count of false positives: 116\n",
      "batch_11.xlsx\n",
      "Count of true positives: 781\n",
      "Count of false positives: 128\n",
      "batch_5.xlsx\n",
      "Count of true positives: 868\n",
      "Count of false positives: 141\n",
      "batch_6.xlsx\n",
      "Count of true positives: 958\n",
      "Count of false positives: 151\n",
      "batch_12.xlsx\n",
      "Count of true positives: 995\n",
      "Count of false positives: 205\n",
      "batch_13.xlsx\n",
      "Count of true positives: 1079\n",
      "Count of false positives: 221\n",
      "batch_14.xlsx\n",
      "Count of true positives: 1160\n",
      "Count of false positives: 240\n",
      "batch_72.xlsx\n",
      "Count of true positives: 1248\n",
      "Count of false positives: 251\n",
      "batch_34.xlsx\n",
      "Count of true positives: 1329\n",
      "Count of false positives: 270\n",
      "batch_48.xlsx\n",
      "Count of true positives: 1406\n",
      "Count of false positives: 293\n",
      "batch_60.xlsx\n",
      "Count of true positives: 1485\n",
      "Count of false positives: 314\n",
      "batch_32.xlsx\n",
      "Count of true positives: 1576\n",
      "Count of false positives: 323\n",
      "batch_51.xlsx\n",
      "Count of true positives: 1656\n",
      "Count of false positives: 343\n",
      "batch_33.xlsx\n",
      "Count of true positives: 1746\n",
      "Count of false positives: 353\n",
      "batch_59.xlsx\n",
      "Count of true positives: 1836\n",
      "Count of false positives: 363\n",
      "batch_31.xlsx\n",
      "Count of true positives: 1925\n",
      "Count of false positives: 373\n",
      "batch_22.xlsx\n",
      "Count of true positives: 2011\n",
      "Count of false positives: 387\n",
      "batch_23.xlsx\n",
      "Count of true positives: 2101\n",
      "Count of false positives: 397\n",
      "batch_24.xlsx\n",
      "Count of true positives: 2186\n",
      "Count of false positives: 412\n",
      "batch_47.xlsx\n",
      "Count of true positives: 2276\n",
      "Count of false positives: 421\n",
      "batch_52.xlsx\n",
      "Count of true positives: 2360\n",
      "Count of false positives: 437\n",
      "batch_53.xlsx\n",
      "Count of true positives: 2445\n",
      "Count of false positives: 452\n",
      "batch_58.xlsx\n",
      "Count of true positives: 2534\n",
      "Count of false positives: 463\n",
      "batch_61.xlsx\n",
      "Count of true positives: 2614\n",
      "Count of false positives: 483\n",
      "batch_62.xlsx\n",
      "Count of true positives: 2707\n",
      "Count of false positives: 490\n",
      "batch_20.xlsx\n",
      "Count of true positives: 2799\n",
      "Count of false positives: 498\n",
      "batch_19.xlsx\n",
      "Count of true positives: 2887\n",
      "Count of false positives: 510\n",
      "batch_18.xlsx\n",
      "Count of true positives: 2979\n",
      "Count of false positives: 517\n",
      "batch_17.xlsx\n",
      "Count of true positives: 3070\n",
      "Count of false positives: 526\n",
      "batch_16.xlsx\n",
      "Count of true positives: 3156\n",
      "Count of false positives: 540\n",
      "batch_26.xlsx\n",
      "Count of true positives: 3241\n",
      "Count of false positives: 555\n",
      "batch_29.xlsx\n",
      "Count of true positives: 3336\n",
      "Count of false positives: 559\n",
      "batch_30.xlsx\n",
      "Count of true positives: 3431\n",
      "Count of false positives: 563\n",
      "batch_40.xlsx\n",
      "Count of true positives: 3523\n",
      "Count of false positives: 571\n",
      "batch_49.xlsx\n",
      "Count of true positives: 3609\n",
      "Count of false positives: 585\n",
      "batch_50.xlsx\n",
      "Count of true positives: 3698\n",
      "Count of false positives: 596\n",
      "batch_56.xlsx\n",
      "Count of true positives: 3786\n",
      "Count of false positives: 608\n",
      "batch_8.xlsx\n",
      "Count of true positives: 3866\n",
      "Count of false positives: 626\n",
      "batch_70.xlsx\n",
      "Count of true positives: 3956\n",
      "Count of false positives: 636\n",
      "batch_54.xlsx\n",
      "Count of true positives: 4045\n",
      "Count of false positives: 647\n",
      "Icon\n",
      "please save master_df_labeled!\n",
      "Count of true positives: 4045\n",
      "Count of false positives: 647\n",
      "(111029, 6)\n"
     ]
    }
   ],
   "source": [
    "master_df_labeled = batch_merge_into_master(\"./data/master_df_labeled.xlsx\", batch_labeled)\n",
    "print_tf_pos(master_df_labeled)\n",
    "print(master_df_labeled.shape)"
   ]
  },
  {
   "cell_type": "code",
   "execution_count": 45,
   "metadata": {},
   "outputs": [],
   "source": [
    "master_df_labeled.to_excel(\"./data/master_df_labeled.xlsx\")\n",
    "#pickle.dump(master_df_labeled,open(master_file,\"wb\"))"
   ]
  },
  {
   "cell_type": "markdown",
   "metadata": {},
   "source": [
    "# Initial Labeling Process"
   ]
  },
  {
   "cell_type": "code",
   "execution_count": 33,
   "metadata": {},
   "outputs": [
    {
     "name": "stdout",
     "output_type": "stream",
     "text": [
      "524\n",
      "448\n"
     ]
    }
   ],
   "source": [
    "master_df = pickle.load(open(\"./data/master_df.p\", \"rb\"))\n",
    "master_df[\"lemmatized\"] = [wordnet_lemmatizer.lemmatize(w) for w in master_df.flagged_word]\n",
    "#\n",
    "print(len(set(master_df.flagged_word)))\n",
    "print(len(set(master_df.lemmatized)))\n",
    "#print(set(master_df.flagged_word)-set(master_df.lemmatized))\n",
    "# print(sorted(list(set(master_df.lemmatized)),key=str.lower))\n",
    "# master_df.shape"
   ]
  },
  {
   "cell_type": "code",
   "execution_count": 8,
   "metadata": {},
   "outputs": [],
   "source": [
    "# #creating random sample from master_df to label\n",
    "# sampled = master_df[master_df.problematic==1].sample(500)\n",
    "# sampled.to_excel(\"./data/fptp.xlsx\")"
   ]
  },
  {
   "cell_type": "code",
   "execution_count": 34,
   "metadata": {},
   "outputs": [
    {
     "name": "stdout",
     "output_type": "stream",
     "text": [
      "Count of true positives: 84\n",
      "Count of false positives: 31\n"
     ]
    }
   ],
   "source": [
    "#merge by row index\n",
    "labeled = pd.read_excel(\"./data/fptp_labeled.xlsx\",index_col=0)\n",
    "master_df_labeled = master_df.join(labeled.true_pos).fillna(-1)\n",
    "master_df_labeled = master_df_labeled[master_df_labeled.problematic==1]\n",
    "#master_df_labeled\n",
    "print_tf_pos(master_df_labeled)\n",
    "\n"
   ]
  },
  {
   "cell_type": "code",
   "execution_count": 35,
   "metadata": {},
   "outputs": [],
   "source": [
    "#master file to continuously update\n",
    "master_df_labeled.to_excel(\"./data/master_df_labeled.xlsx\")\n",
    "pickle.dump(master_df_labeled,open(\"./data/master_df_labeled.p\",\"wb\"))"
   ]
  },
  {
   "cell_type": "code",
   "execution_count": null,
   "metadata": {},
   "outputs": [],
   "source": [
    "#Generates new sample of data to be labeled\n",
    "def please_label(master_file, new_file, sample_num=100):\n",
    "  master_df = pd.read_excel(master_file,index_col=0)\n",
    "  to_label_df = master_df[master_df.true_pos==-1]\n",
    "  output_df = to_label_df.sample(sample_num)\n",
    "  output_df.to_excel(new_file)\n",
    "  return output_df\n",
    "\n",
    "#Create fixed chunks of shuffled data for people to label\n",
    "def batch_please_label(master_file, batch_folder, sample_num=100):\n",
    "  master_df = pd.read_excel(master_file,index_col=0).drop(labels=[\"lemmatized\",\"problematic\"],axis=1)\n",
    "  to_label_df = master_df[master_df.true_pos==-1].sample(frac=1,random_state=0)\n",
    "  row_num = to_label_df.shape[0]\n",
    "  batches = row_num//sample_num\n",
    "  print(batches)\n",
    "  #assert 1==0\n",
    "  \n",
    "  for start_bin in range(batches):\n",
    "    end_bin = start_bin+1\n",
    "    temp = to_label_df.iloc[start_bin*sample_num:end_bin*sample_num,:]\n",
    "    if end_bin == batches and row_num%sample_num>0:#we have leftover rows to deal with\n",
    "      extra = to_label_df.iloc[end_bin*sample_num:,:]\n",
    "      extra.to_excel(batch_folder+\"batch_\"+str(end_bin)+\".xlsx\")\n",
    "    temp.to_excel(batch_folder+\"batch_\"+str(start_bin)+\".xlsx\")\n",
    "  print(f\"Full Batches: {batches}\")\n",
    "  print(f\"Partial Batch?: {row_num%sample_num>0}\")\n",
    "  print(f\"Go check {batch_folder}\")"
   ]
  },
  {
   "cell_type": "code",
   "execution_count": null,
   "metadata": {},
   "outputs": [],
   "source": [
    "#Update our running master_df_labeled, main function to produce files for dataloaders\n",
    "def merge_into_master(master_file, new_file, grounds_file, batch=False):\n",
    "  master_df_labeled = pd.read_excel(master_file,index_col=0)\n",
    "  new_df = pd.read_excel(new_file,index_col=0)\n",
    "\n",
    "  master_df_labeled.update(new_df.true_pos)\n",
    "  master_df_labeled.to_excel(master_file)\n",
    "  \n",
    "  pickle.dump(master_df_labeled,open(\"./data/master_df_labeled.p\",\"wb\"))\n",
    "  return master_df_labeled\n",
    "  \n",
    "\n",
    "#Produces ground_truths_df\n",
    "def produce_ground_truths(master_df_labeled, grounds_file):\n",
    "  ground_truths_df = master_df_labeled[master_df_labeled.true_pos!=-1]\n",
    "  ground_truths_df.to_excel(grounds_file)\n",
    "  pickle.dump(ground_truths_df,open(\"./data/ground_truths_df.p\",\"wb\"))\n",
    "  return ground_truths_df"
   ]
  }
 ],
 "metadata": {
  "kernelspec": {
   "display_name": "Python 3",
   "language": "python",
   "name": "python3"
  },
  "language_info": {
   "codemirror_mode": {
    "name": "ipython",
    "version": 3
   },
   "file_extension": ".py",
   "mimetype": "text/x-python",
   "name": "python",
   "nbconvert_exporter": "python",
   "pygments_lexer": "ipython3",
   "version": "3.6.7"
  }
 },
 "nbformat": 4,
 "nbformat_minor": 4
}
