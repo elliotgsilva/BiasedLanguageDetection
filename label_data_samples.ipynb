{
 "cells": [
  {
   "cell_type": "code",
   "execution_count": 78,
   "metadata": {},
   "outputs": [],
   "source": [
    "import pandas as pd\n",
    "import pickle\n",
    "import os\n",
    "import nltk\n",
    "#nltk.download('wordnet')\n",
    "import random\n",
    "from nltk.stem import WordNetLemmatizer\n",
    "wordnet_lemmatizer = WordNetLemmatizer()"
   ]
  },
  {
   "cell_type": "code",
   "execution_count": 90,
   "metadata": {},
   "outputs": [],
   "source": [
    "#All excel file paths here, pickle paths are used by other scripts so hardcoded\n",
    "master_file = \"./data/master_df_labeled.xlsx\"\n",
    "#new sampled data to be labeled\n",
    "new_file = \"./data/please_label.xlsx\"\n",
    "grounds_file = \"./data/ground_truths.xlsx\""
   ]
  },
  {
   "cell_type": "code",
   "execution_count": 108,
   "metadata": {},
   "outputs": [],
   "source": [
    "#Generates new sample of data to be labeled\n",
    "def please_label(master_file, new_file, sample_num=100):\n",
    "  master_df = pd.read_excel(master_file,index_col=0)\n",
    "  to_label_df = master_df[master_df.true_pos==-1]\n",
    "  output_df = to_label_df.sample(sample_num)\n",
    "  output_df.to_excel(new_file)\n",
    "  return output_df\n",
    "\n",
    "#Update our running master_df_labeled, main function to produce files for dataloaders\n",
    "def merge_into_master(master_file,new_file, grounds_file):\n",
    "  master_df_labeled = pd.read_excel(master_file,index_col=0)\n",
    "  new_df = pd.read_excel(new_file,index_col=0)\n",
    "  master_df_labeled.update(new_df.true_pos)\n",
    "  ground_truths_df = produce_ground_truths(master_df_labeled, grounds_file)\n",
    "  master_df_labeled.to_excel(master_file)\n",
    "  pickle.dump(master_df_labeled,open(\"./data/master_df_labeled.p\",\"wb\"))\n",
    "  return master_df_labeled, ground_truths_df\n",
    "\n",
    "#Produces ground_truths_df\n",
    "def produce_ground_truths(master_df_labeled, grounds_file):\n",
    "  ground_truths_df = master_df_labeled[master_df_labeled.true_pos!=-1]\n",
    "  ground_truths_df.to_excel(grounds_file)\n",
    "  pickle.dump(ground_truths_df,open(\"./data/ground_truths_df.p\",\"wb\"))\n",
    "  return ground_truths_df\n",
    "\n",
    "#Print out how many examples are labeled as True or False Positives\n",
    "def print_tf_pos(master_df_labeled):\n",
    "  print(f\"Count of true positives: {master_df_labeled[master_df_labeled.true_pos==1].shape[0]}\")\n",
    "  print(f\"Count of false positives: {master_df_labeled[master_df_labeled.true_pos==0].shape[0]}\")\n",
    "  assert master_df_labeled[master_df_labeled.problematic==0].shape[0]==0"
   ]
  },
  {
   "cell_type": "markdown",
   "metadata": {},
   "source": [
    "# Example Workflow\n",
    "1. Print current true and false positive counts \n",
    "2. Create new file of reviews to be labeled (please_label)\n",
    "3. After labeling, update our running master file (merge_into_master)\n",
    "4. Print new true and false positive counts to check, also select specific example to check"
   ]
  },
  {
   "cell_type": "code",
   "execution_count": 95,
   "metadata": {},
   "outputs": [
    {
     "name": "stdout",
     "output_type": "stream",
     "text": [
      "Count of true positives: 52\n",
      "Count of false positives: 44\n"
     ]
    }
   ],
   "source": [
    "#Print current true and false positive counts\n",
    "print_tf_pos(master_df_labeled)"
   ]
  },
  {
   "cell_type": "code",
   "execution_count": 94,
   "metadata": {},
   "outputs": [
    {
     "data": {
      "text/html": [
       "<div>\n",
       "<style scoped>\n",
       "    .dataframe tbody tr th:only-of-type {\n",
       "        vertical-align: middle;\n",
       "    }\n",
       "\n",
       "    .dataframe tbody tr th {\n",
       "        vertical-align: top;\n",
       "    }\n",
       "\n",
       "    .dataframe thead th {\n",
       "        text-align: right;\n",
       "    }\n",
       "</style>\n",
       "<table border=\"1\" class=\"dataframe\">\n",
       "  <thead>\n",
       "    <tr style=\"text-align: right;\">\n",
       "      <th></th>\n",
       "      <th>review</th>\n",
       "      <th>flagged_word</th>\n",
       "      <th>flagged_index</th>\n",
       "      <th>problematic</th>\n",
       "      <th>lemmatized</th>\n",
       "      <th>true_pos</th>\n",
       "    </tr>\n",
       "  </thead>\n",
       "  <tbody>\n",
       "    <tr>\n",
       "      <td>108730</td>\n",
       "      <td>['she', 'nailed', 'our', 'design', 'from', 'th...</td>\n",
       "      <td>communicating</td>\n",
       "      <td>13</td>\n",
       "      <td>1</td>\n",
       "      <td>communicating</td>\n",
       "      <td>-1</td>\n",
       "    </tr>\n",
       "    <tr>\n",
       "      <td>119724</td>\n",
       "      <td>['from', 'quick', 'response', 'times', ',', 't...</td>\n",
       "      <td>excellent</td>\n",
       "      <td>24</td>\n",
       "      <td>1</td>\n",
       "      <td>excellent</td>\n",
       "      <td>-1</td>\n",
       "    </tr>\n",
       "    <tr>\n",
       "      <td>98209</td>\n",
       "      <td>['did', 'a', 'great', 'job', 'on', 'our', 'tea...</td>\n",
       "      <td>great</td>\n",
       "      <td>2</td>\n",
       "      <td>1</td>\n",
       "      <td>great</td>\n",
       "      <td>-1</td>\n",
       "    </tr>\n",
       "    <tr>\n",
       "      <td>83321</td>\n",
       "      <td>['extremely', 'professional', ',', 'flexible',...</td>\n",
       "      <td>technical</td>\n",
       "      <td>19</td>\n",
       "      <td>1</td>\n",
       "      <td>technical</td>\n",
       "      <td>-1</td>\n",
       "    </tr>\n",
       "    <tr>\n",
       "      <td>100821</td>\n",
       "      <td>['excellent', 'work', ',', 'quick', 'responses...</td>\n",
       "      <td>excellent</td>\n",
       "      <td>0</td>\n",
       "      <td>1</td>\n",
       "      <td>excellent</td>\n",
       "      <td>-1</td>\n",
       "    </tr>\n",
       "  </tbody>\n",
       "</table>\n",
       "</div>"
      ],
      "text/plain": [
       "                                                   review   flagged_word  \\\n",
       "108730  ['she', 'nailed', 'our', 'design', 'from', 'th...  communicating   \n",
       "119724  ['from', 'quick', 'response', 'times', ',', 't...      excellent   \n",
       "98209   ['did', 'a', 'great', 'job', 'on', 'our', 'tea...          great   \n",
       "83321   ['extremely', 'professional', ',', 'flexible',...      technical   \n",
       "100821  ['excellent', 'work', ',', 'quick', 'responses...      excellent   \n",
       "\n",
       "        flagged_index  problematic     lemmatized  true_pos  \n",
       "108730             13            1  communicating        -1  \n",
       "119724             24            1      excellent        -1  \n",
       "98209               2            1          great        -1  \n",
       "83321              19            1      technical        -1  \n",
       "100821              0            1      excellent        -1  "
      ]
     },
     "execution_count": 94,
     "metadata": {},
     "output_type": "execute_result"
    }
   ],
   "source": [
    "#Generate new sample of data to label\n",
    "out = please_label(master_file, new_file, sample_num=5)\n",
    "out"
   ]
  },
  {
   "cell_type": "code",
   "execution_count": 109,
   "metadata": {},
   "outputs": [
    {
     "name": "stdout",
     "output_type": "stream",
     "text": [
      "Count of true positives: 52\n",
      "Count of false positives: 47\n"
     ]
    },
    {
     "data": {
      "text/plain": [
       "review           ['did', 'a', 'great', 'job', 'on', 'our', 'tea...\n",
       "flagged_word                                                 great\n",
       "flagged_index                                                    2\n",
       "problematic                                                      1\n",
       "lemmatized                                                   great\n",
       "true_pos                                                         0\n",
       "Name: 98209, dtype: object"
      ]
     },
     "execution_count": 109,
     "metadata": {},
     "output_type": "execute_result"
    }
   ],
   "source": [
    "#Update running master_df_labeled and ground_truths_df,\n",
    "#Print new counts and an example to check\n",
    "master_df_labeled , ground_truths_df = merge_into_master(master_file, new_file, grounds_file)\n",
    "print_tf_pos(master_df_labeled)\n",
    "master_df_labeled.loc[98209,:]"
   ]
  },
  {
   "cell_type": "markdown",
   "metadata": {},
   "source": [
    "# Initial Labeling Process"
   ]
  },
  {
   "cell_type": "code",
   "execution_count": 81,
   "metadata": {},
   "outputs": [
    {
     "name": "stdout",
     "output_type": "stream",
     "text": [
      "524\n",
      "448\n"
     ]
    }
   ],
   "source": [
    "master_df = pickle.load(open(\"./data/master_df.p\", \"rb\"))\n",
    "master_df[\"lemmatized\"] = [wordnet_lemmatizer.lemmatize(w) for w in master_df.flagged_word]\n",
    "#\n",
    "print(len(set(master_df.flagged_word)))\n",
    "print(len(set(master_df.lemmatized)))\n",
    "#print(set(master_df.flagged_word)-set(master_df.lemmatized))\n",
    "# print(sorted(list(set(master_df.lemmatized)),key=str.lower))\n",
    "# master_df.shape"
   ]
  },
  {
   "cell_type": "code",
   "execution_count": 82,
   "metadata": {},
   "outputs": [],
   "source": [
    "#Get counts of reviews for each word\n",
    "grouped = master_df.groupby(master_df.lemmatized)['review']\n",
    "counts = pd.DataFrame(grouped.count())\n"
   ]
  },
  {
   "cell_type": "code",
   "execution_count": 75,
   "metadata": {},
   "outputs": [],
   "source": [
    "#Store into excel file\n",
    "counts.sort_values('review',ascending=False).to_excel(\"./data/counts.xlsx\")"
   ]
  },
  {
   "cell_type": "code",
   "execution_count": 8,
   "metadata": {},
   "outputs": [],
   "source": [
    "# #creating random sample from master_df to label\n",
    "# sampled = master_df[master_df.problematic==1].sample(500)\n",
    "# sampled.to_excel(\"./data/fptp.xlsx\")"
   ]
  },
  {
   "cell_type": "code",
   "execution_count": 76,
   "metadata": {},
   "outputs": [],
   "source": [
    "#merge by row index\n",
    "labeled = pd.read_excel(\"./data/fptp_labeled.xlsx\",index_col=0)\n",
    "master_df_labeled = master_df.join(labeled.true_pos).fillna(-1)\n",
    "master_df_labeled = master_df_labeled[master_df_labeled.problematic==1]\n"
   ]
  },
  {
   "cell_type": "code",
   "execution_count": 11,
   "metadata": {},
   "outputs": [],
   "source": [
    "ground_truths_df = master_df_labeled[master_df_labeled.true_pos!=-1]\n",
    "pickle.dump(ground_truths_df,open(\"./data/ground_truths_df.p\",\"wb\"))"
   ]
  },
  {
   "cell_type": "code",
   "execution_count": 15,
   "metadata": {},
   "outputs": [
    {
     "data": {
      "text/html": [
       "<div>\n",
       "<style scoped>\n",
       "    .dataframe tbody tr th:only-of-type {\n",
       "        vertical-align: middle;\n",
       "    }\n",
       "\n",
       "    .dataframe tbody tr th {\n",
       "        vertical-align: top;\n",
       "    }\n",
       "\n",
       "    .dataframe thead th {\n",
       "        text-align: right;\n",
       "    }\n",
       "</style>\n",
       "<table border=\"1\" class=\"dataframe\">\n",
       "  <thead>\n",
       "    <tr style=\"text-align: right;\">\n",
       "      <th></th>\n",
       "      <th>review</th>\n",
       "      <th>flagged_word</th>\n",
       "      <th>flagged_index</th>\n",
       "      <th>problematic</th>\n",
       "      <th>true_pos</th>\n",
       "    </tr>\n",
       "  </thead>\n",
       "  <tbody>\n",
       "    <tr>\n",
       "      <td>9133</td>\n",
       "      <td>[great, job, as, usual-above, and, beyond, cal...</td>\n",
       "      <td>great</td>\n",
       "      <td>0</td>\n",
       "      <td>1</td>\n",
       "      <td>0.0</td>\n",
       "    </tr>\n",
       "    <tr>\n",
       "      <td>14637</td>\n",
       "      <td>[he, is, intelligent, ,, dedicated, ,, passion...</td>\n",
       "      <td>intelligent</td>\n",
       "      <td>2</td>\n",
       "      <td>1</td>\n",
       "      <td>1.0</td>\n",
       "    </tr>\n",
       "    <tr>\n",
       "      <td>15243</td>\n",
       "      <td>[great, work, hire, him, again]</td>\n",
       "      <td>great</td>\n",
       "      <td>0</td>\n",
       "      <td>1</td>\n",
       "      <td>0.0</td>\n",
       "    </tr>\n",
       "    <tr>\n",
       "      <td>15541</td>\n",
       "      <td>[strong, ability, to, execute, feedback, with,...</td>\n",
       "      <td>great</td>\n",
       "      <td>6</td>\n",
       "      <td>1</td>\n",
       "      <td>0.0</td>\n",
       "    </tr>\n",
       "    <tr>\n",
       "      <td>16159</td>\n",
       "      <td>[awesome, +, dependable, designer, !]</td>\n",
       "      <td>dependable</td>\n",
       "      <td>2</td>\n",
       "      <td>1</td>\n",
       "      <td>1.0</td>\n",
       "    </tr>\n",
       "    <tr>\n",
       "      <td>...</td>\n",
       "      <td>...</td>\n",
       "      <td>...</td>\n",
       "      <td>...</td>\n",
       "      <td>...</td>\n",
       "      <td>...</td>\n",
       "    </tr>\n",
       "    <tr>\n",
       "      <td>135248</td>\n",
       "      <td>[very, understanding, and, flexible, with, som...</td>\n",
       "      <td>understanding</td>\n",
       "      <td>1</td>\n",
       "      <td>1</td>\n",
       "      <td>1.0</td>\n",
       "    </tr>\n",
       "    <tr>\n",
       "      <td>136587</td>\n",
       "      <td>[the, designer, is, very, intuitive, .]</td>\n",
       "      <td>intuitive</td>\n",
       "      <td>4</td>\n",
       "      <td>1</td>\n",
       "      <td>1.0</td>\n",
       "    </tr>\n",
       "    <tr>\n",
       "      <td>137606</td>\n",
       "      <td>[great, designs, .]</td>\n",
       "      <td>great</td>\n",
       "      <td>0</td>\n",
       "      <td>1</td>\n",
       "      <td>0.0</td>\n",
       "    </tr>\n",
       "    <tr>\n",
       "      <td>138055</td>\n",
       "      <td>[incredibly, detailed, oriented, ,, efficient,...</td>\n",
       "      <td>efficient</td>\n",
       "      <td>4</td>\n",
       "      <td>1</td>\n",
       "      <td>1.0</td>\n",
       "    </tr>\n",
       "    <tr>\n",
       "      <td>139029</td>\n",
       "      <td>[very, nice, quick, reply, accepts, all, modif...</td>\n",
       "      <td>nice</td>\n",
       "      <td>1</td>\n",
       "      <td>1</td>\n",
       "      <td>1.0</td>\n",
       "    </tr>\n",
       "  </tbody>\n",
       "</table>\n",
       "<p>96 rows × 5 columns</p>\n",
       "</div>"
      ],
      "text/plain": [
       "                                                   review   flagged_word  \\\n",
       "9133    [great, job, as, usual-above, and, beyond, cal...          great   \n",
       "14637   [he, is, intelligent, ,, dedicated, ,, passion...    intelligent   \n",
       "15243                     [great, work, hire, him, again]          great   \n",
       "15541   [strong, ability, to, execute, feedback, with,...          great   \n",
       "16159               [awesome, +, dependable, designer, !]     dependable   \n",
       "...                                                   ...            ...   \n",
       "135248  [very, understanding, and, flexible, with, som...  understanding   \n",
       "136587            [the, designer, is, very, intuitive, .]      intuitive   \n",
       "137606                                [great, designs, .]          great   \n",
       "138055  [incredibly, detailed, oriented, ,, efficient,...      efficient   \n",
       "139029  [very, nice, quick, reply, accepts, all, modif...           nice   \n",
       "\n",
       "        flagged_index  problematic  true_pos  \n",
       "9133                0            1       0.0  \n",
       "14637               2            1       1.0  \n",
       "15243               0            1       0.0  \n",
       "15541               6            1       0.0  \n",
       "16159               2            1       1.0  \n",
       "...               ...          ...       ...  \n",
       "135248              1            1       1.0  \n",
       "136587              4            1       1.0  \n",
       "137606              0            1       0.0  \n",
       "138055              4            1       1.0  \n",
       "139029              1            1       1.0  \n",
       "\n",
       "[96 rows x 5 columns]"
      ]
     },
     "execution_count": 15,
     "metadata": {},
     "output_type": "execute_result"
    }
   ],
   "source": [
    "ground_truths_df"
   ]
  },
  {
   "cell_type": "code",
   "execution_count": 84,
   "metadata": {},
   "outputs": [],
   "source": [
    "#master file to continuously update\n",
    "master_df_labeled.to_excel(\"./data/master_df_labeled.xlsx\")\n",
    "pickle.dump(master_df_labeled,open(\"./data/master_df_labeled.p\",\"wb\"))"
   ]
  },
  {
   "cell_type": "code",
   "execution_count": null,
   "metadata": {},
   "outputs": [],
   "source": []
  }
 ],
 "metadata": {
  "kernelspec": {
   "display_name": "Python 3",
   "language": "python",
   "name": "python3"
  },
  "language_info": {
   "codemirror_mode": {
    "name": "ipython",
    "version": 3
   },
   "file_extension": ".py",
   "mimetype": "text/x-python",
   "name": "python",
   "nbconvert_exporter": "python",
   "pygments_lexer": "ipython3",
   "version": "3.6.7"
  }
 },
 "nbformat": 4,
 "nbformat_minor": 4
}
